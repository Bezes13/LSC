{
 "cells": [
  {
   "cell_type": "markdown",
   "id": "36a3fb92",
   "metadata": {},
   "source": [
    "# Network Intrusion Detection mit modernem Machine Learning"
   ]
  },
  {
   "cell_type": "markdown",
   "id": "781ebe6f",
   "metadata": {},
   "source": [
    "# Fach: Learning & Softcomputing\n",
    "\n",
    "Geschreiben von:  \n",
    "Alexander Belzer (Matr.Nr. inf104862)  \n",
    "Maximilian Wendt (Matr.Nr. its105814)\n",
    "    \n",
    "Betreut von:  \n",
    "Prof. Dr. Ulrich Hoffmann"
   ]
  },
  {
   "cell_type": "markdown",
   "id": "0dd55104",
   "metadata": {},
   "source": [
    "## Inhaltsverzeichnis\n",
    "1. [Einfuehrung](#einfuehrung)\n",
    "2. [Datensatz NSL-KDD und Alternativen](#datensatz-nsl-kdd-und-alternativen)\n",
    "3. [Einbinden der benoetigten Bibiliotheken mit Versionsangabe](#einbinden-der-benoetigten-bibiliotheken-mit-versionsangabe)\n",
    "4. [Lesen und kennenlernen der Daten](#lesen-und-kennenlernen-der-daten)\n",
    "5. [Daten Aufbereitung](#daten-aufbereitung)"
   ]
  },
  {
   "cell_type": "markdown",
   "id": "307414b8",
   "metadata": {},
   "source": [
    "## Einfuehrung"
   ]
  },
  {
   "cell_type": "markdown",
   "id": "dd508d42",
   "metadata": {},
   "source": [
    "Durch die stätig wachsende Nutzung und Weiterentwicklung von IT-Systemen, werden auch Angreifer immer mehr aufmerksam auf diese Systeme. Netzwerk-Sicherheit ist ein fundamentales Konzept geworden, um wichtige Daten und System zu schützen. Zur implementierung von Netzwerk-Sicherheit werden verschiedene Technologien wie Firewalls, VPNs, Antivirus-Software und Netwrok Intrusion Detection Systeme (NIDS) genutzt. Letzteres ist eine Möglichkeit den Datenfluss einen Netzwerkes konstanst zu beobachten und [dabei potientielle sicherheitsrelevante Vorfälle zu detektieren](https://www.juniper.net/de/de/research-topics/what-is-ids-ips.html). Die Idee von IDS wurde 1980 von Jim Anderson vorgestellt. Seither wurde die IDS Technologie immer weiter entwickelt und angepasst.  \n",
    "Durch immer stätig wachsende komplexität der genuzten Netzwerke müssen auch NIDS Technologien immer besser werden. Bisherige NIDS implementierungen wurden größtenteils auf [basis von Signaturen entwickelt](https://www.researchgate.net/profile/Miguel-Correia-13/publication/338301657_Big_Data_Analytics_for_Intrusion_Detection/links/6058818f299bf173675cacbe/Big-Data-Analytics-for-Intrusion-Detection.pdf), die Angriffe durch einfaches vergleichen erkennen sollten. Signatur basierte NIDS sind [beschränkt auf bekannte Angriffstechniken](https://www.cse.wustl.edu/%7Ejain/cse571-07/ftp/ids/) und damit machtlos gegen Zero-Day exploits. Weiterhin können Signatur basierte NIDS durch die wachsende Anzahl von möglichen Angriffen [ineffizient werden](https://www.cse.wustl.edu/%7Ejain/cse571-07/ftp/ids/), da für jedes beobachtete Datenpaket alle möglichen Angriffsignaturen überprüft werden muss.  \n",
    "Um diese Umstände zu verbessen können moderne Machine Learning Modelle genutzt werden. Die Modelle werden genutzt, um auf Anomalien im Datenverkehr hinzuweisen. Durch die schnelle Entwicklung von Machine Learning setzen immer mehr [NIDS Produkte auf diese Technologie](https://www.cse.wustl.edu/%7Ejain/cse571-07/ftp/ids/#sec4).  \n",
    "In dieser Arbeit werden wir verschiedene Machine Learning Modelle trainieren und zeigen wie gut diese Modelle darin sind Anomalien zu entdecken.  \n",
    "Als Basis dieser Arbeit wurde das Paper \"[Herve Nkiama, Syed Zainudeen Mohd Said, Muhammad Saidu: A Subset Feature Elimination Mechanism for Intrusion Detection System](https://thesai.org/Downloads/Volume7No4/Paper_19-A_Subset_Feature_Elimination_Mechanism_for_Intrusion_Detection_System.pdf)\" genutzt"
   ]
  },
  {
   "cell_type": "markdown",
   "id": "20d904ae",
   "metadata": {},
   "source": [
    "## Datensatz NSL-KDD und Alternativen"
   ]
  },
  {
   "cell_type": "markdown",
   "id": "a129cca4",
   "metadata": {},
   "source": [
    "In diesem Kapitel stellen wir den in dieser Arbeit genutzten Datensatz vor. Außerdem präsentieren wir noch einige zusätzliche Datensätze die als alternative für andere Projekte ich betracht gezogen werden können."
   ]
  },
  {
   "cell_type": "markdown",
   "id": "bdc9a84f",
   "metadata": {},
   "source": [
    "### NSL-KDD"
   ]
  },
  {
   "cell_type": "markdown",
   "id": "19228e7d",
   "metadata": {},
   "source": [
    "Das MIT Lincoln Lab entwickelte den [KDD 1999 Datensatz](http://kdd.ics.uci.edu/databases/kddcup99), der bis in das letzte Jahrzenht von Forschen genutzt wurde. Der Datensatz hält eine große Anzahl von Einträgen und Attributen, was ihn besonders nützlich für die Arbeit mit Machine Learning macht. Allerdings, weist der Datensatz [siginifikante Mängel](https://dl.acm.org/doi/10.1145/382912.382923) auf. Zu diesen Mängeln gehören eine nicht triviale Menge an Redundanten einträgen, was die Performance von Maschine Learning beeinträchtigen kann. Außerdem befinden sich doppelte Einträge innerhalb des Test Datensatzes, was zu [Voreingenommenheit bei der Detektion von Anomalien führen kann](https://thesai.org/Downloads/Volume7No4/Paper_19-A_Subset_Feature_Elimination_Mechanism_for_Intrusion_Detection_System.pdf).  \n",
    "Aus diesen Gründen wurde der [NSL-KDD Datensatz](https://www.kaggle.com/hassan06/nslkdd) entwickelt. Dieser Datensatz soll  gegenüber seinem Vörgänger folgende Verbesserungen aufweisen:"
   ]
  },
  {
   "cell_type": "markdown",
   "id": "14276514",
   "metadata": {},
   "source": [
    "+ Es werden keine redundanten Datensätze in die Trainingsmenge aufgenommen, so dass die Klassifikatoren nicht auf häufigere Datensätze ausgerichtet sind.\n",
    "+ In den vorgeschlagenen Testsätzen gibt es keine doppelten Datensätze; daher wird die Performanz der Modelle nicht durch die Methoden verzerrt, die bessere Erkennungsraten bei den häufigen Datensätzen haben.\n",
    "+ Die Anzahl der ausgewählten Datensätze aus jedem Schwiergkeitalevel ist umgekehrt proportional zu dem Prozentsatz der Datensätze im ursprünglichen KDD-Datensatz. Infolgedessen variieren die Klassifizierungsraten verschiedener maschineller Lernmethoden in einem größeren Bereich, was eine genaue Bewertung der verschiedenen Lerntechniken effizienter macht.\n",
    "+ Die Anzahl der Datensätze in den Trainings- und Testdatensätzen ist überschaubarer, so dass es erschwinglich ist, die Experimente mit dem gesamten Satz durchzuführen, ohne dass ein kleiner Teil zufällig ausgewählt werden muss. Infolgedessen werden die Bewertungsergebnisse verschiedener Forschungsarbeiten konsistent und vergleichbar sein.  "
   ]
  },
  {
   "cell_type": "markdown",
   "id": "1f364a35",
   "metadata": {},
   "source": [
    "Wir haben uns für diesen Datensatz entschieden, da es eine große Anzahl bestehender Arbeiten zu diesem Datensatz und seinem Vorgänger gibt."
   ]
  },
  {
   "cell_type": "markdown",
   "id": "4668e170",
   "metadata": {},
   "source": [
    "### Alternative Datensätze"
   ]
  },
  {
   "cell_type": "markdown",
   "id": "30222a04",
   "metadata": {},
   "source": [
    "Bei der Recherche zu möglchen Datensätzen sind wir auf weitere Datensätze gestoßen, die für zukünfige Arbeiten ebenfalls Potential haben. Hier eine kurze Vorstellungen dieser Datensätze:"
   ]
  },
  {
   "cell_type": "markdown",
   "id": "e4eb00e2",
   "metadata": {},
   "source": [
    "+ **Kyoto2006\\+**: Dieser Datensatz wurde aus den Aufzeichnungen des Netzwerkverkehrs erstellt, die durch den Einsatz von Honeypots, Darknet-Sensoren, E-Mail-Servern, Web-Crawlern und anderen Netzwerksicherheitsmaßnahmen der Universität Kyoto gewonnen wurden. Der aktuellste Datensatz umfasst die Verkehrsaufzeichnungen von 2006 bis 2015. Jeder Datensatz hat 24 statistische Merkmale, von denen 14 aus dem KDD 1999-Datensatz stammen, während die restlichen 10 zusätzliche Merkmale sind  \n",
    "+ **UNSW-NB15**: Dieser Datensatz wurde vom Australian Center für Cyber Security erstellt. Er enthält etwa zwei Millionen Datensätze mit insgesamt 49 Attributen, die mit Bro-IDS, Argus-Tools und einigen neu entwickelten Algorithmen extrahiert wurden. Dieser Datensatz enthält die folgenden Angriffsarten: Würmer, Shellcode, Aufklärungsangriffe, Port-Scans, generische Angriffe, Backdoor, DoS, Exploits und Fuzzers.  \n",
    "+ **CIC-IDS2017**: Dieser Datensatz wurde 2017 vom Canadian Institute of Cyber Security (CIC) erstellt. Er enthält die normalen Datenströme und Angriffe. Der Netzwerkverkehr wird von CICFlowMeter anhand von Zeitstempeln, Quell- und Ziel-IP-Adressen, Protokollen und Angriffen analysiert. Darüber hinaus enthält CICIDS2017 gängige Angriffsszenarien wie Brute-Force-Angriffe, Heartbleed-Angriffe, Botnets, Denial-of-Service-Angriffe (DoS), verteilte DoS-Angriffe (DDoS), Web-Angriffe und Infiltrationsangriffe."
   ]
  },
  {
   "cell_type": "markdown",
   "id": "30cd1e4b",
   "metadata": {},
   "source": [
    "## Einbinden der benoetigten Bibiliotheken mit Versionsangabe"
   ]
  },
  {
   "cell_type": "code",
   "execution_count": 1,
   "id": "0a35e473",
   "metadata": {},
   "outputs": [
    {
     "name": "stdout",
     "output_type": "stream",
     "text": [
      "General Info:       3.10.4 (main, Apr  2 2022, 09:04:19) [GCC 11.2.0]\n",
      "Pandas Version:     1.4.2\n",
      "Numpy Version:      1.21.5\n",
      "SkLearn Version:    1.1.0\n",
      "matplotlib Version: 3.5.1\n"
     ]
    }
   ],
   "source": [
    "import pandas as pd\n",
    "import numpy as np\n",
    "import sys\n",
    "import os\n",
    "import sklearn\n",
    "import matplotlib\n",
    "import time\n",
    "import matplotlib.pyplot as plt\n",
    "import seaborn as sns\n",
    "\n",
    "from sklearn import preprocessing\n",
    "from sklearn.preprocessing import LabelEncoder,OneHotEncoder\n",
    "from sklearn.feature_selection import SelectPercentile, f_classif\n",
    "from sklearn.metrics import accuracy_score, confusion_matrix, classification_report\n",
    "\n",
    "print(f\"General Info:       {sys.version}\")\n",
    "print(f\"Pandas Version:     {pd.__version__}\")\n",
    "print(f\"Numpy Version:      {np.__version__}\")\n",
    "print(f\"SkLearn Version:    {sklearn.__version__}\")\n",
    "print(f\"matplotlib Version: {matplotlib.__version__}\")"
   ]
  },
  {
   "cell_type": "markdown",
   "id": "a2091ea3",
   "metadata": {},
   "source": [
    "## Lesen und kennenlernen der Daten"
   ]
  },
  {
   "cell_type": "markdown",
   "id": "987cfbd2",
   "metadata": {},
   "source": [
    "In diesem Kapitel werden die Trainingsdaten und Testdaten eingelesen. Gleichzeitig beschriften wir die Daten richtig und bekommen eine erste übersicht über die Daten. Wir lassen uns ebenfalls verschiedenste statistische Werde der Daten ausgeben."
   ]
  },
  {
   "cell_type": "markdown",
   "id": "1f3669a2",
   "metadata": {},
   "source": [
    "### Erstes Lesen der Daten und hinzufügen von Spaltenbezeichnungen"
   ]
  },
  {
   "cell_type": "markdown",
   "id": "90ec783d",
   "metadata": {},
   "source": [
    "Bevor die Daten im NSL-KDD Datensatz für verschiede ML Modelle genutzt\n",
    "werden können, müssen diese erstmal eingelesen werden. Hierbei werden die\n",
    "einzelnen Spalten auch mit den richtigen Bezeichnungen versehen."
   ]
  },
  {
   "cell_type": "code",
   "execution_count": 2,
   "id": "0358f3b5",
   "metadata": {},
   "outputs": [],
   "source": [
    "# OS Pfad der Daten aufbauen\n",
    "kdd_train_set_path = os.path.join(\"nsl-kdd\", \"KDDTrain+.txt\")\n",
    "kdd_test_set_path  = os.path.join(\"nsl-kdd\", \"KDDTest+.txt\")\n",
    "\n",
    "# Array mit Spaltennamen\n",
    "col_names = [\"duration\",\"protocol_type\",\"service\",\"flag\",\"src_bytes\",\n",
    "    \"dst_bytes\",\"land\",\"wrong_fragment\",\"urgent\",\"hot\",\"num_failed_logins\",\n",
    "    \"logged_in\",\"num_compromised\",\"root_shell\",\"su_attempted\",\"num_root\",\n",
    "    \"num_file_creations\",\"num_shells\",\"num_access_files\",\"num_outbound_cmds\",\n",
    "    \"is_host_login\",\"is_guest_login\",\"count\",\"srv_count\",\"serror_rate\",\n",
    "    \"srv_serror_rate\",\"rerror_rate\",\"srv_rerror_rate\",\"same_srv_rate\",\n",
    "    \"diff_srv_rate\",\"srv_diff_host_rate\",\"dst_host_count\",\"dst_host_srv_count\",\n",
    "    \"dst_host_same_srv_rate\",\"dst_host_diff_srv_rate\",\"dst_host_same_src_port_rate\",\n",
    "    \"dst_host_srv_diff_host_rate\",\"dst_host_serror_rate\",\"dst_host_srv_serror_rate\",\n",
    "    \"dst_host_rerror_rate\",\"dst_host_srv_rerror_rate\",\"label\", \"difficulty_level\"]\n",
    "\n",
    "# Lesen der Daten und gleichzeitges zuordnen der Spaltennamen\n",
    "kdd_train_set = pd.read_csv(kdd_train_set_path, header=None, names = col_names)\n",
    "kdd_test_set  = pd.read_csv(kdd_test_set_path, header=None, names = col_names)"
   ]
  },
  {
   "cell_type": "markdown",
   "id": "a445f9eb",
   "metadata": {},
   "source": [
    "### Erste Sicht auf die Daten"
   ]
  },
  {
   "cell_type": "code",
   "execution_count": 3,
   "id": "03f1f28f",
   "metadata": {},
   "outputs": [
    {
     "data": {
      "text/html": [
       "<div>\n",
       "<style scoped>\n",
       "    .dataframe tbody tr th:only-of-type {\n",
       "        vertical-align: middle;\n",
       "    }\n",
       "\n",
       "    .dataframe tbody tr th {\n",
       "        vertical-align: top;\n",
       "    }\n",
       "\n",
       "    .dataframe thead th {\n",
       "        text-align: right;\n",
       "    }\n",
       "</style>\n",
       "<table border=\"1\" class=\"dataframe\">\n",
       "  <thead>\n",
       "    <tr style=\"text-align: right;\">\n",
       "      <th></th>\n",
       "      <th>duration</th>\n",
       "      <th>protocol_type</th>\n",
       "      <th>service</th>\n",
       "      <th>flag</th>\n",
       "      <th>src_bytes</th>\n",
       "      <th>dst_bytes</th>\n",
       "      <th>land</th>\n",
       "      <th>wrong_fragment</th>\n",
       "      <th>urgent</th>\n",
       "      <th>hot</th>\n",
       "      <th>...</th>\n",
       "      <th>dst_host_same_srv_rate</th>\n",
       "      <th>dst_host_diff_srv_rate</th>\n",
       "      <th>dst_host_same_src_port_rate</th>\n",
       "      <th>dst_host_srv_diff_host_rate</th>\n",
       "      <th>dst_host_serror_rate</th>\n",
       "      <th>dst_host_srv_serror_rate</th>\n",
       "      <th>dst_host_rerror_rate</th>\n",
       "      <th>dst_host_srv_rerror_rate</th>\n",
       "      <th>label</th>\n",
       "      <th>difficulty_level</th>\n",
       "    </tr>\n",
       "  </thead>\n",
       "  <tbody>\n",
       "    <tr>\n",
       "      <th>0</th>\n",
       "      <td>0</td>\n",
       "      <td>tcp</td>\n",
       "      <td>ftp_data</td>\n",
       "      <td>SF</td>\n",
       "      <td>491</td>\n",
       "      <td>0</td>\n",
       "      <td>0</td>\n",
       "      <td>0</td>\n",
       "      <td>0</td>\n",
       "      <td>0</td>\n",
       "      <td>...</td>\n",
       "      <td>0.17</td>\n",
       "      <td>0.03</td>\n",
       "      <td>0.17</td>\n",
       "      <td>0.00</td>\n",
       "      <td>0.00</td>\n",
       "      <td>0.00</td>\n",
       "      <td>0.05</td>\n",
       "      <td>0.00</td>\n",
       "      <td>normal</td>\n",
       "      <td>20</td>\n",
       "    </tr>\n",
       "    <tr>\n",
       "      <th>1</th>\n",
       "      <td>0</td>\n",
       "      <td>udp</td>\n",
       "      <td>other</td>\n",
       "      <td>SF</td>\n",
       "      <td>146</td>\n",
       "      <td>0</td>\n",
       "      <td>0</td>\n",
       "      <td>0</td>\n",
       "      <td>0</td>\n",
       "      <td>0</td>\n",
       "      <td>...</td>\n",
       "      <td>0.00</td>\n",
       "      <td>0.60</td>\n",
       "      <td>0.88</td>\n",
       "      <td>0.00</td>\n",
       "      <td>0.00</td>\n",
       "      <td>0.00</td>\n",
       "      <td>0.00</td>\n",
       "      <td>0.00</td>\n",
       "      <td>normal</td>\n",
       "      <td>15</td>\n",
       "    </tr>\n",
       "    <tr>\n",
       "      <th>2</th>\n",
       "      <td>0</td>\n",
       "      <td>tcp</td>\n",
       "      <td>private</td>\n",
       "      <td>S0</td>\n",
       "      <td>0</td>\n",
       "      <td>0</td>\n",
       "      <td>0</td>\n",
       "      <td>0</td>\n",
       "      <td>0</td>\n",
       "      <td>0</td>\n",
       "      <td>...</td>\n",
       "      <td>0.10</td>\n",
       "      <td>0.05</td>\n",
       "      <td>0.00</td>\n",
       "      <td>0.00</td>\n",
       "      <td>1.00</td>\n",
       "      <td>1.00</td>\n",
       "      <td>0.00</td>\n",
       "      <td>0.00</td>\n",
       "      <td>neptune</td>\n",
       "      <td>19</td>\n",
       "    </tr>\n",
       "    <tr>\n",
       "      <th>3</th>\n",
       "      <td>0</td>\n",
       "      <td>tcp</td>\n",
       "      <td>http</td>\n",
       "      <td>SF</td>\n",
       "      <td>232</td>\n",
       "      <td>8153</td>\n",
       "      <td>0</td>\n",
       "      <td>0</td>\n",
       "      <td>0</td>\n",
       "      <td>0</td>\n",
       "      <td>...</td>\n",
       "      <td>1.00</td>\n",
       "      <td>0.00</td>\n",
       "      <td>0.03</td>\n",
       "      <td>0.04</td>\n",
       "      <td>0.03</td>\n",
       "      <td>0.01</td>\n",
       "      <td>0.00</td>\n",
       "      <td>0.01</td>\n",
       "      <td>normal</td>\n",
       "      <td>21</td>\n",
       "    </tr>\n",
       "    <tr>\n",
       "      <th>4</th>\n",
       "      <td>0</td>\n",
       "      <td>tcp</td>\n",
       "      <td>http</td>\n",
       "      <td>SF</td>\n",
       "      <td>199</td>\n",
       "      <td>420</td>\n",
       "      <td>0</td>\n",
       "      <td>0</td>\n",
       "      <td>0</td>\n",
       "      <td>0</td>\n",
       "      <td>...</td>\n",
       "      <td>1.00</td>\n",
       "      <td>0.00</td>\n",
       "      <td>0.00</td>\n",
       "      <td>0.00</td>\n",
       "      <td>0.00</td>\n",
       "      <td>0.00</td>\n",
       "      <td>0.00</td>\n",
       "      <td>0.00</td>\n",
       "      <td>normal</td>\n",
       "      <td>21</td>\n",
       "    </tr>\n",
       "  </tbody>\n",
       "</table>\n",
       "<p>5 rows × 43 columns</p>\n",
       "</div>"
      ],
      "text/plain": [
       "   duration protocol_type   service flag  src_bytes  dst_bytes  land  \\\n",
       "0         0           tcp  ftp_data   SF        491          0     0   \n",
       "1         0           udp     other   SF        146          0     0   \n",
       "2         0           tcp   private   S0          0          0     0   \n",
       "3         0           tcp      http   SF        232       8153     0   \n",
       "4         0           tcp      http   SF        199        420     0   \n",
       "\n",
       "   wrong_fragment  urgent  hot  ...  dst_host_same_srv_rate  \\\n",
       "0               0       0    0  ...                    0.17   \n",
       "1               0       0    0  ...                    0.00   \n",
       "2               0       0    0  ...                    0.10   \n",
       "3               0       0    0  ...                    1.00   \n",
       "4               0       0    0  ...                    1.00   \n",
       "\n",
       "   dst_host_diff_srv_rate  dst_host_same_src_port_rate  \\\n",
       "0                    0.03                         0.17   \n",
       "1                    0.60                         0.88   \n",
       "2                    0.05                         0.00   \n",
       "3                    0.00                         0.03   \n",
       "4                    0.00                         0.00   \n",
       "\n",
       "   dst_host_srv_diff_host_rate  dst_host_serror_rate  \\\n",
       "0                         0.00                  0.00   \n",
       "1                         0.00                  0.00   \n",
       "2                         0.00                  1.00   \n",
       "3                         0.04                  0.03   \n",
       "4                         0.00                  0.00   \n",
       "\n",
       "   dst_host_srv_serror_rate  dst_host_rerror_rate  dst_host_srv_rerror_rate  \\\n",
       "0                      0.00                  0.05                      0.00   \n",
       "1                      0.00                  0.00                      0.00   \n",
       "2                      1.00                  0.00                      0.00   \n",
       "3                      0.01                  0.00                      0.01   \n",
       "4                      0.00                  0.00                      0.00   \n",
       "\n",
       "     label  difficulty_level  \n",
       "0   normal                20  \n",
       "1   normal                15  \n",
       "2  neptune                19  \n",
       "3   normal                21  \n",
       "4   normal                21  \n",
       "\n",
       "[5 rows x 43 columns]"
      ]
     },
     "execution_count": 3,
     "metadata": {},
     "output_type": "execute_result"
    }
   ],
   "source": [
    "kdd_train_set.head()"
   ]
  },
  {
   "cell_type": "code",
   "execution_count": 4,
   "id": "a308408a",
   "metadata": {},
   "outputs": [
    {
     "data": {
      "text/html": [
       "<div>\n",
       "<style scoped>\n",
       "    .dataframe tbody tr th:only-of-type {\n",
       "        vertical-align: middle;\n",
       "    }\n",
       "\n",
       "    .dataframe tbody tr th {\n",
       "        vertical-align: top;\n",
       "    }\n",
       "\n",
       "    .dataframe thead th {\n",
       "        text-align: right;\n",
       "    }\n",
       "</style>\n",
       "<table border=\"1\" class=\"dataframe\">\n",
       "  <thead>\n",
       "    <tr style=\"text-align: right;\">\n",
       "      <th></th>\n",
       "      <th>duration</th>\n",
       "      <th>protocol_type</th>\n",
       "      <th>service</th>\n",
       "      <th>flag</th>\n",
       "      <th>src_bytes</th>\n",
       "      <th>dst_bytes</th>\n",
       "      <th>land</th>\n",
       "      <th>wrong_fragment</th>\n",
       "      <th>urgent</th>\n",
       "      <th>hot</th>\n",
       "      <th>...</th>\n",
       "      <th>dst_host_same_srv_rate</th>\n",
       "      <th>dst_host_diff_srv_rate</th>\n",
       "      <th>dst_host_same_src_port_rate</th>\n",
       "      <th>dst_host_srv_diff_host_rate</th>\n",
       "      <th>dst_host_serror_rate</th>\n",
       "      <th>dst_host_srv_serror_rate</th>\n",
       "      <th>dst_host_rerror_rate</th>\n",
       "      <th>dst_host_srv_rerror_rate</th>\n",
       "      <th>label</th>\n",
       "      <th>difficulty_level</th>\n",
       "    </tr>\n",
       "  </thead>\n",
       "  <tbody>\n",
       "    <tr>\n",
       "      <th>0</th>\n",
       "      <td>0</td>\n",
       "      <td>tcp</td>\n",
       "      <td>private</td>\n",
       "      <td>REJ</td>\n",
       "      <td>0</td>\n",
       "      <td>0</td>\n",
       "      <td>0</td>\n",
       "      <td>0</td>\n",
       "      <td>0</td>\n",
       "      <td>0</td>\n",
       "      <td>...</td>\n",
       "      <td>0.04</td>\n",
       "      <td>0.06</td>\n",
       "      <td>0.00</td>\n",
       "      <td>0.00</td>\n",
       "      <td>0.0</td>\n",
       "      <td>0.0</td>\n",
       "      <td>1.00</td>\n",
       "      <td>1.00</td>\n",
       "      <td>neptune</td>\n",
       "      <td>21</td>\n",
       "    </tr>\n",
       "    <tr>\n",
       "      <th>1</th>\n",
       "      <td>0</td>\n",
       "      <td>tcp</td>\n",
       "      <td>private</td>\n",
       "      <td>REJ</td>\n",
       "      <td>0</td>\n",
       "      <td>0</td>\n",
       "      <td>0</td>\n",
       "      <td>0</td>\n",
       "      <td>0</td>\n",
       "      <td>0</td>\n",
       "      <td>...</td>\n",
       "      <td>0.00</td>\n",
       "      <td>0.06</td>\n",
       "      <td>0.00</td>\n",
       "      <td>0.00</td>\n",
       "      <td>0.0</td>\n",
       "      <td>0.0</td>\n",
       "      <td>1.00</td>\n",
       "      <td>1.00</td>\n",
       "      <td>neptune</td>\n",
       "      <td>21</td>\n",
       "    </tr>\n",
       "    <tr>\n",
       "      <th>2</th>\n",
       "      <td>2</td>\n",
       "      <td>tcp</td>\n",
       "      <td>ftp_data</td>\n",
       "      <td>SF</td>\n",
       "      <td>12983</td>\n",
       "      <td>0</td>\n",
       "      <td>0</td>\n",
       "      <td>0</td>\n",
       "      <td>0</td>\n",
       "      <td>0</td>\n",
       "      <td>...</td>\n",
       "      <td>0.61</td>\n",
       "      <td>0.04</td>\n",
       "      <td>0.61</td>\n",
       "      <td>0.02</td>\n",
       "      <td>0.0</td>\n",
       "      <td>0.0</td>\n",
       "      <td>0.00</td>\n",
       "      <td>0.00</td>\n",
       "      <td>normal</td>\n",
       "      <td>21</td>\n",
       "    </tr>\n",
       "    <tr>\n",
       "      <th>3</th>\n",
       "      <td>0</td>\n",
       "      <td>icmp</td>\n",
       "      <td>eco_i</td>\n",
       "      <td>SF</td>\n",
       "      <td>20</td>\n",
       "      <td>0</td>\n",
       "      <td>0</td>\n",
       "      <td>0</td>\n",
       "      <td>0</td>\n",
       "      <td>0</td>\n",
       "      <td>...</td>\n",
       "      <td>1.00</td>\n",
       "      <td>0.00</td>\n",
       "      <td>1.00</td>\n",
       "      <td>0.28</td>\n",
       "      <td>0.0</td>\n",
       "      <td>0.0</td>\n",
       "      <td>0.00</td>\n",
       "      <td>0.00</td>\n",
       "      <td>saint</td>\n",
       "      <td>15</td>\n",
       "    </tr>\n",
       "    <tr>\n",
       "      <th>4</th>\n",
       "      <td>1</td>\n",
       "      <td>tcp</td>\n",
       "      <td>telnet</td>\n",
       "      <td>RSTO</td>\n",
       "      <td>0</td>\n",
       "      <td>15</td>\n",
       "      <td>0</td>\n",
       "      <td>0</td>\n",
       "      <td>0</td>\n",
       "      <td>0</td>\n",
       "      <td>...</td>\n",
       "      <td>0.31</td>\n",
       "      <td>0.17</td>\n",
       "      <td>0.03</td>\n",
       "      <td>0.02</td>\n",
       "      <td>0.0</td>\n",
       "      <td>0.0</td>\n",
       "      <td>0.83</td>\n",
       "      <td>0.71</td>\n",
       "      <td>mscan</td>\n",
       "      <td>11</td>\n",
       "    </tr>\n",
       "  </tbody>\n",
       "</table>\n",
       "<p>5 rows × 43 columns</p>\n",
       "</div>"
      ],
      "text/plain": [
       "   duration protocol_type   service  flag  src_bytes  dst_bytes  land  \\\n",
       "0         0           tcp   private   REJ          0          0     0   \n",
       "1         0           tcp   private   REJ          0          0     0   \n",
       "2         2           tcp  ftp_data    SF      12983          0     0   \n",
       "3         0          icmp     eco_i    SF         20          0     0   \n",
       "4         1           tcp    telnet  RSTO          0         15     0   \n",
       "\n",
       "   wrong_fragment  urgent  hot  ...  dst_host_same_srv_rate  \\\n",
       "0               0       0    0  ...                    0.04   \n",
       "1               0       0    0  ...                    0.00   \n",
       "2               0       0    0  ...                    0.61   \n",
       "3               0       0    0  ...                    1.00   \n",
       "4               0       0    0  ...                    0.31   \n",
       "\n",
       "   dst_host_diff_srv_rate  dst_host_same_src_port_rate  \\\n",
       "0                    0.06                         0.00   \n",
       "1                    0.06                         0.00   \n",
       "2                    0.04                         0.61   \n",
       "3                    0.00                         1.00   \n",
       "4                    0.17                         0.03   \n",
       "\n",
       "   dst_host_srv_diff_host_rate  dst_host_serror_rate  \\\n",
       "0                         0.00                   0.0   \n",
       "1                         0.00                   0.0   \n",
       "2                         0.02                   0.0   \n",
       "3                         0.28                   0.0   \n",
       "4                         0.02                   0.0   \n",
       "\n",
       "   dst_host_srv_serror_rate  dst_host_rerror_rate  dst_host_srv_rerror_rate  \\\n",
       "0                       0.0                  1.00                      1.00   \n",
       "1                       0.0                  1.00                      1.00   \n",
       "2                       0.0                  0.00                      0.00   \n",
       "3                       0.0                  0.00                      0.00   \n",
       "4                       0.0                  0.83                      0.71   \n",
       "\n",
       "     label  difficulty_level  \n",
       "0  neptune                21  \n",
       "1  neptune                21  \n",
       "2   normal                21  \n",
       "3    saint                15  \n",
       "4    mscan                11  \n",
       "\n",
       "[5 rows x 43 columns]"
      ]
     },
     "execution_count": 4,
     "metadata": {},
     "output_type": "execute_result"
    }
   ],
   "source": [
    "kdd_test_set.head()"
   ]
  },
  {
   "cell_type": "markdown",
   "id": "7c064153",
   "metadata": {},
   "source": [
    "### Dimsension der Daten"
   ]
  },
  {
   "cell_type": "code",
   "execution_count": 5,
   "id": "6ed23219",
   "metadata": {},
   "outputs": [
    {
     "name": "stdout",
     "output_type": "stream",
     "text": [
      "Dimension der Trainings Daten (125973, 43)\n",
      "Dimension der Test Daten:     (22544, 43)\n"
     ]
    }
   ],
   "source": [
    "print(f\"Dimension der Trainings Daten {kdd_train_set.shape}\")\n",
    "print(f\"Dimension der Test Daten:     {kdd_test_set.shape}\")"
   ]
  },
  {
   "cell_type": "markdown",
   "id": "98e7adb7",
   "metadata": {},
   "source": [
    "### Allgemeine statistische Werte zu den Daten"
   ]
  },
  {
   "cell_type": "code",
   "execution_count": 6,
   "id": "9ffe4448",
   "metadata": {},
   "outputs": [
    {
     "data": {
      "text/html": [
       "<div>\n",
       "<style scoped>\n",
       "    .dataframe tbody tr th:only-of-type {\n",
       "        vertical-align: middle;\n",
       "    }\n",
       "\n",
       "    .dataframe tbody tr th {\n",
       "        vertical-align: top;\n",
       "    }\n",
       "\n",
       "    .dataframe thead th {\n",
       "        text-align: right;\n",
       "    }\n",
       "</style>\n",
       "<table border=\"1\" class=\"dataframe\">\n",
       "  <thead>\n",
       "    <tr style=\"text-align: right;\">\n",
       "      <th></th>\n",
       "      <th>duration</th>\n",
       "      <th>src_bytes</th>\n",
       "      <th>dst_bytes</th>\n",
       "      <th>land</th>\n",
       "      <th>wrong_fragment</th>\n",
       "      <th>urgent</th>\n",
       "      <th>hot</th>\n",
       "      <th>num_failed_logins</th>\n",
       "      <th>logged_in</th>\n",
       "      <th>num_compromised</th>\n",
       "      <th>...</th>\n",
       "      <th>dst_host_srv_count</th>\n",
       "      <th>dst_host_same_srv_rate</th>\n",
       "      <th>dst_host_diff_srv_rate</th>\n",
       "      <th>dst_host_same_src_port_rate</th>\n",
       "      <th>dst_host_srv_diff_host_rate</th>\n",
       "      <th>dst_host_serror_rate</th>\n",
       "      <th>dst_host_srv_serror_rate</th>\n",
       "      <th>dst_host_rerror_rate</th>\n",
       "      <th>dst_host_srv_rerror_rate</th>\n",
       "      <th>difficulty_level</th>\n",
       "    </tr>\n",
       "  </thead>\n",
       "  <tbody>\n",
       "    <tr>\n",
       "      <th>count</th>\n",
       "      <td>125973.00000</td>\n",
       "      <td>1.259730e+05</td>\n",
       "      <td>1.259730e+05</td>\n",
       "      <td>125973.000000</td>\n",
       "      <td>125973.000000</td>\n",
       "      <td>125973.000000</td>\n",
       "      <td>125973.000000</td>\n",
       "      <td>125973.000000</td>\n",
       "      <td>125973.000000</td>\n",
       "      <td>125973.000000</td>\n",
       "      <td>...</td>\n",
       "      <td>125973.000000</td>\n",
       "      <td>125973.000000</td>\n",
       "      <td>125973.000000</td>\n",
       "      <td>125973.000000</td>\n",
       "      <td>125973.000000</td>\n",
       "      <td>125973.000000</td>\n",
       "      <td>125973.000000</td>\n",
       "      <td>125973.000000</td>\n",
       "      <td>125973.000000</td>\n",
       "      <td>125973.000000</td>\n",
       "    </tr>\n",
       "    <tr>\n",
       "      <th>mean</th>\n",
       "      <td>287.14465</td>\n",
       "      <td>4.556674e+04</td>\n",
       "      <td>1.977911e+04</td>\n",
       "      <td>0.000198</td>\n",
       "      <td>0.022687</td>\n",
       "      <td>0.000111</td>\n",
       "      <td>0.204409</td>\n",
       "      <td>0.001222</td>\n",
       "      <td>0.395736</td>\n",
       "      <td>0.279250</td>\n",
       "      <td>...</td>\n",
       "      <td>115.653005</td>\n",
       "      <td>0.521242</td>\n",
       "      <td>0.082951</td>\n",
       "      <td>0.148379</td>\n",
       "      <td>0.032542</td>\n",
       "      <td>0.284452</td>\n",
       "      <td>0.278485</td>\n",
       "      <td>0.118832</td>\n",
       "      <td>0.120240</td>\n",
       "      <td>19.504060</td>\n",
       "    </tr>\n",
       "    <tr>\n",
       "      <th>std</th>\n",
       "      <td>2604.51531</td>\n",
       "      <td>5.870331e+06</td>\n",
       "      <td>4.021269e+06</td>\n",
       "      <td>0.014086</td>\n",
       "      <td>0.253530</td>\n",
       "      <td>0.014366</td>\n",
       "      <td>2.149968</td>\n",
       "      <td>0.045239</td>\n",
       "      <td>0.489010</td>\n",
       "      <td>23.942042</td>\n",
       "      <td>...</td>\n",
       "      <td>110.702741</td>\n",
       "      <td>0.448949</td>\n",
       "      <td>0.188922</td>\n",
       "      <td>0.308997</td>\n",
       "      <td>0.112564</td>\n",
       "      <td>0.444784</td>\n",
       "      <td>0.445669</td>\n",
       "      <td>0.306557</td>\n",
       "      <td>0.319459</td>\n",
       "      <td>2.291503</td>\n",
       "    </tr>\n",
       "    <tr>\n",
       "      <th>min</th>\n",
       "      <td>0.00000</td>\n",
       "      <td>0.000000e+00</td>\n",
       "      <td>0.000000e+00</td>\n",
       "      <td>0.000000</td>\n",
       "      <td>0.000000</td>\n",
       "      <td>0.000000</td>\n",
       "      <td>0.000000</td>\n",
       "      <td>0.000000</td>\n",
       "      <td>0.000000</td>\n",
       "      <td>0.000000</td>\n",
       "      <td>...</td>\n",
       "      <td>0.000000</td>\n",
       "      <td>0.000000</td>\n",
       "      <td>0.000000</td>\n",
       "      <td>0.000000</td>\n",
       "      <td>0.000000</td>\n",
       "      <td>0.000000</td>\n",
       "      <td>0.000000</td>\n",
       "      <td>0.000000</td>\n",
       "      <td>0.000000</td>\n",
       "      <td>0.000000</td>\n",
       "    </tr>\n",
       "    <tr>\n",
       "      <th>25%</th>\n",
       "      <td>0.00000</td>\n",
       "      <td>0.000000e+00</td>\n",
       "      <td>0.000000e+00</td>\n",
       "      <td>0.000000</td>\n",
       "      <td>0.000000</td>\n",
       "      <td>0.000000</td>\n",
       "      <td>0.000000</td>\n",
       "      <td>0.000000</td>\n",
       "      <td>0.000000</td>\n",
       "      <td>0.000000</td>\n",
       "      <td>...</td>\n",
       "      <td>10.000000</td>\n",
       "      <td>0.050000</td>\n",
       "      <td>0.000000</td>\n",
       "      <td>0.000000</td>\n",
       "      <td>0.000000</td>\n",
       "      <td>0.000000</td>\n",
       "      <td>0.000000</td>\n",
       "      <td>0.000000</td>\n",
       "      <td>0.000000</td>\n",
       "      <td>18.000000</td>\n",
       "    </tr>\n",
       "    <tr>\n",
       "      <th>50%</th>\n",
       "      <td>0.00000</td>\n",
       "      <td>4.400000e+01</td>\n",
       "      <td>0.000000e+00</td>\n",
       "      <td>0.000000</td>\n",
       "      <td>0.000000</td>\n",
       "      <td>0.000000</td>\n",
       "      <td>0.000000</td>\n",
       "      <td>0.000000</td>\n",
       "      <td>0.000000</td>\n",
       "      <td>0.000000</td>\n",
       "      <td>...</td>\n",
       "      <td>63.000000</td>\n",
       "      <td>0.510000</td>\n",
       "      <td>0.020000</td>\n",
       "      <td>0.000000</td>\n",
       "      <td>0.000000</td>\n",
       "      <td>0.000000</td>\n",
       "      <td>0.000000</td>\n",
       "      <td>0.000000</td>\n",
       "      <td>0.000000</td>\n",
       "      <td>20.000000</td>\n",
       "    </tr>\n",
       "    <tr>\n",
       "      <th>75%</th>\n",
       "      <td>0.00000</td>\n",
       "      <td>2.760000e+02</td>\n",
       "      <td>5.160000e+02</td>\n",
       "      <td>0.000000</td>\n",
       "      <td>0.000000</td>\n",
       "      <td>0.000000</td>\n",
       "      <td>0.000000</td>\n",
       "      <td>0.000000</td>\n",
       "      <td>1.000000</td>\n",
       "      <td>0.000000</td>\n",
       "      <td>...</td>\n",
       "      <td>255.000000</td>\n",
       "      <td>1.000000</td>\n",
       "      <td>0.070000</td>\n",
       "      <td>0.060000</td>\n",
       "      <td>0.020000</td>\n",
       "      <td>1.000000</td>\n",
       "      <td>1.000000</td>\n",
       "      <td>0.000000</td>\n",
       "      <td>0.000000</td>\n",
       "      <td>21.000000</td>\n",
       "    </tr>\n",
       "    <tr>\n",
       "      <th>max</th>\n",
       "      <td>42908.00000</td>\n",
       "      <td>1.379964e+09</td>\n",
       "      <td>1.309937e+09</td>\n",
       "      <td>1.000000</td>\n",
       "      <td>3.000000</td>\n",
       "      <td>3.000000</td>\n",
       "      <td>77.000000</td>\n",
       "      <td>5.000000</td>\n",
       "      <td>1.000000</td>\n",
       "      <td>7479.000000</td>\n",
       "      <td>...</td>\n",
       "      <td>255.000000</td>\n",
       "      <td>1.000000</td>\n",
       "      <td>1.000000</td>\n",
       "      <td>1.000000</td>\n",
       "      <td>1.000000</td>\n",
       "      <td>1.000000</td>\n",
       "      <td>1.000000</td>\n",
       "      <td>1.000000</td>\n",
       "      <td>1.000000</td>\n",
       "      <td>21.000000</td>\n",
       "    </tr>\n",
       "  </tbody>\n",
       "</table>\n",
       "<p>8 rows × 39 columns</p>\n",
       "</div>"
      ],
      "text/plain": [
       "           duration     src_bytes     dst_bytes           land  \\\n",
       "count  125973.00000  1.259730e+05  1.259730e+05  125973.000000   \n",
       "mean      287.14465  4.556674e+04  1.977911e+04       0.000198   \n",
       "std      2604.51531  5.870331e+06  4.021269e+06       0.014086   \n",
       "min         0.00000  0.000000e+00  0.000000e+00       0.000000   \n",
       "25%         0.00000  0.000000e+00  0.000000e+00       0.000000   \n",
       "50%         0.00000  4.400000e+01  0.000000e+00       0.000000   \n",
       "75%         0.00000  2.760000e+02  5.160000e+02       0.000000   \n",
       "max     42908.00000  1.379964e+09  1.309937e+09       1.000000   \n",
       "\n",
       "       wrong_fragment         urgent            hot  num_failed_logins  \\\n",
       "count   125973.000000  125973.000000  125973.000000      125973.000000   \n",
       "mean         0.022687       0.000111       0.204409           0.001222   \n",
       "std          0.253530       0.014366       2.149968           0.045239   \n",
       "min          0.000000       0.000000       0.000000           0.000000   \n",
       "25%          0.000000       0.000000       0.000000           0.000000   \n",
       "50%          0.000000       0.000000       0.000000           0.000000   \n",
       "75%          0.000000       0.000000       0.000000           0.000000   \n",
       "max          3.000000       3.000000      77.000000           5.000000   \n",
       "\n",
       "           logged_in  num_compromised  ...  dst_host_srv_count  \\\n",
       "count  125973.000000    125973.000000  ...       125973.000000   \n",
       "mean        0.395736         0.279250  ...          115.653005   \n",
       "std         0.489010        23.942042  ...          110.702741   \n",
       "min         0.000000         0.000000  ...            0.000000   \n",
       "25%         0.000000         0.000000  ...           10.000000   \n",
       "50%         0.000000         0.000000  ...           63.000000   \n",
       "75%         1.000000         0.000000  ...          255.000000   \n",
       "max         1.000000      7479.000000  ...          255.000000   \n",
       "\n",
       "       dst_host_same_srv_rate  dst_host_diff_srv_rate  \\\n",
       "count           125973.000000           125973.000000   \n",
       "mean                 0.521242                0.082951   \n",
       "std                  0.448949                0.188922   \n",
       "min                  0.000000                0.000000   \n",
       "25%                  0.050000                0.000000   \n",
       "50%                  0.510000                0.020000   \n",
       "75%                  1.000000                0.070000   \n",
       "max                  1.000000                1.000000   \n",
       "\n",
       "       dst_host_same_src_port_rate  dst_host_srv_diff_host_rate  \\\n",
       "count                125973.000000                125973.000000   \n",
       "mean                      0.148379                     0.032542   \n",
       "std                       0.308997                     0.112564   \n",
       "min                       0.000000                     0.000000   \n",
       "25%                       0.000000                     0.000000   \n",
       "50%                       0.000000                     0.000000   \n",
       "75%                       0.060000                     0.020000   \n",
       "max                       1.000000                     1.000000   \n",
       "\n",
       "       dst_host_serror_rate  dst_host_srv_serror_rate  dst_host_rerror_rate  \\\n",
       "count         125973.000000             125973.000000         125973.000000   \n",
       "mean               0.284452                  0.278485              0.118832   \n",
       "std                0.444784                  0.445669              0.306557   \n",
       "min                0.000000                  0.000000              0.000000   \n",
       "25%                0.000000                  0.000000              0.000000   \n",
       "50%                0.000000                  0.000000              0.000000   \n",
       "75%                1.000000                  1.000000              0.000000   \n",
       "max                1.000000                  1.000000              1.000000   \n",
       "\n",
       "       dst_host_srv_rerror_rate  difficulty_level  \n",
       "count             125973.000000     125973.000000  \n",
       "mean                   0.120240         19.504060  \n",
       "std                    0.319459          2.291503  \n",
       "min                    0.000000          0.000000  \n",
       "25%                    0.000000         18.000000  \n",
       "50%                    0.000000         20.000000  \n",
       "75%                    0.000000         21.000000  \n",
       "max                    1.000000         21.000000  \n",
       "\n",
       "[8 rows x 39 columns]"
      ]
     },
     "execution_count": 6,
     "metadata": {},
     "output_type": "execute_result"
    }
   ],
   "source": [
    "kdd_train_set.describe()"
   ]
  },
  {
   "cell_type": "code",
   "execution_count": 7,
   "id": "26e39c7a",
   "metadata": {
    "scrolled": true
   },
   "outputs": [
    {
     "data": {
      "text/html": [
       "<div>\n",
       "<style scoped>\n",
       "    .dataframe tbody tr th:only-of-type {\n",
       "        vertical-align: middle;\n",
       "    }\n",
       "\n",
       "    .dataframe tbody tr th {\n",
       "        vertical-align: top;\n",
       "    }\n",
       "\n",
       "    .dataframe thead th {\n",
       "        text-align: right;\n",
       "    }\n",
       "</style>\n",
       "<table border=\"1\" class=\"dataframe\">\n",
       "  <thead>\n",
       "    <tr style=\"text-align: right;\">\n",
       "      <th></th>\n",
       "      <th>duration</th>\n",
       "      <th>src_bytes</th>\n",
       "      <th>dst_bytes</th>\n",
       "      <th>land</th>\n",
       "      <th>wrong_fragment</th>\n",
       "      <th>urgent</th>\n",
       "      <th>hot</th>\n",
       "      <th>num_failed_logins</th>\n",
       "      <th>logged_in</th>\n",
       "      <th>num_compromised</th>\n",
       "      <th>...</th>\n",
       "      <th>dst_host_srv_count</th>\n",
       "      <th>dst_host_same_srv_rate</th>\n",
       "      <th>dst_host_diff_srv_rate</th>\n",
       "      <th>dst_host_same_src_port_rate</th>\n",
       "      <th>dst_host_srv_diff_host_rate</th>\n",
       "      <th>dst_host_serror_rate</th>\n",
       "      <th>dst_host_srv_serror_rate</th>\n",
       "      <th>dst_host_rerror_rate</th>\n",
       "      <th>dst_host_srv_rerror_rate</th>\n",
       "      <th>difficulty_level</th>\n",
       "    </tr>\n",
       "  </thead>\n",
       "  <tbody>\n",
       "    <tr>\n",
       "      <th>count</th>\n",
       "      <td>22544.000000</td>\n",
       "      <td>2.254400e+04</td>\n",
       "      <td>2.254400e+04</td>\n",
       "      <td>22544.000000</td>\n",
       "      <td>22544.000000</td>\n",
       "      <td>22544.000000</td>\n",
       "      <td>22544.000000</td>\n",
       "      <td>22544.000000</td>\n",
       "      <td>22544.000000</td>\n",
       "      <td>22544.000000</td>\n",
       "      <td>...</td>\n",
       "      <td>22544.000000</td>\n",
       "      <td>22544.000000</td>\n",
       "      <td>22544.000000</td>\n",
       "      <td>22544.000000</td>\n",
       "      <td>22544.000000</td>\n",
       "      <td>22544.000000</td>\n",
       "      <td>22544.000000</td>\n",
       "      <td>22544.000000</td>\n",
       "      <td>22544.000000</td>\n",
       "      <td>22544.000000</td>\n",
       "    </tr>\n",
       "    <tr>\n",
       "      <th>mean</th>\n",
       "      <td>218.859076</td>\n",
       "      <td>1.039545e+04</td>\n",
       "      <td>2.056019e+03</td>\n",
       "      <td>0.000311</td>\n",
       "      <td>0.008428</td>\n",
       "      <td>0.000710</td>\n",
       "      <td>0.105394</td>\n",
       "      <td>0.021647</td>\n",
       "      <td>0.442202</td>\n",
       "      <td>0.119899</td>\n",
       "      <td>...</td>\n",
       "      <td>140.750532</td>\n",
       "      <td>0.608722</td>\n",
       "      <td>0.090540</td>\n",
       "      <td>0.132261</td>\n",
       "      <td>0.019638</td>\n",
       "      <td>0.097814</td>\n",
       "      <td>0.099426</td>\n",
       "      <td>0.233385</td>\n",
       "      <td>0.226683</td>\n",
       "      <td>18.017965</td>\n",
       "    </tr>\n",
       "    <tr>\n",
       "      <th>std</th>\n",
       "      <td>1407.176612</td>\n",
       "      <td>4.727864e+05</td>\n",
       "      <td>2.121930e+04</td>\n",
       "      <td>0.017619</td>\n",
       "      <td>0.142599</td>\n",
       "      <td>0.036473</td>\n",
       "      <td>0.928428</td>\n",
       "      <td>0.150328</td>\n",
       "      <td>0.496659</td>\n",
       "      <td>7.269597</td>\n",
       "      <td>...</td>\n",
       "      <td>111.783972</td>\n",
       "      <td>0.435688</td>\n",
       "      <td>0.220717</td>\n",
       "      <td>0.306268</td>\n",
       "      <td>0.085394</td>\n",
       "      <td>0.273139</td>\n",
       "      <td>0.281866</td>\n",
       "      <td>0.387229</td>\n",
       "      <td>0.400875</td>\n",
       "      <td>4.270361</td>\n",
       "    </tr>\n",
       "    <tr>\n",
       "      <th>min</th>\n",
       "      <td>0.000000</td>\n",
       "      <td>0.000000e+00</td>\n",
       "      <td>0.000000e+00</td>\n",
       "      <td>0.000000</td>\n",
       "      <td>0.000000</td>\n",
       "      <td>0.000000</td>\n",
       "      <td>0.000000</td>\n",
       "      <td>0.000000</td>\n",
       "      <td>0.000000</td>\n",
       "      <td>0.000000</td>\n",
       "      <td>...</td>\n",
       "      <td>0.000000</td>\n",
       "      <td>0.000000</td>\n",
       "      <td>0.000000</td>\n",
       "      <td>0.000000</td>\n",
       "      <td>0.000000</td>\n",
       "      <td>0.000000</td>\n",
       "      <td>0.000000</td>\n",
       "      <td>0.000000</td>\n",
       "      <td>0.000000</td>\n",
       "      <td>0.000000</td>\n",
       "    </tr>\n",
       "    <tr>\n",
       "      <th>25%</th>\n",
       "      <td>0.000000</td>\n",
       "      <td>0.000000e+00</td>\n",
       "      <td>0.000000e+00</td>\n",
       "      <td>0.000000</td>\n",
       "      <td>0.000000</td>\n",
       "      <td>0.000000</td>\n",
       "      <td>0.000000</td>\n",
       "      <td>0.000000</td>\n",
       "      <td>0.000000</td>\n",
       "      <td>0.000000</td>\n",
       "      <td>...</td>\n",
       "      <td>15.000000</td>\n",
       "      <td>0.070000</td>\n",
       "      <td>0.000000</td>\n",
       "      <td>0.000000</td>\n",
       "      <td>0.000000</td>\n",
       "      <td>0.000000</td>\n",
       "      <td>0.000000</td>\n",
       "      <td>0.000000</td>\n",
       "      <td>0.000000</td>\n",
       "      <td>17.000000</td>\n",
       "    </tr>\n",
       "    <tr>\n",
       "      <th>50%</th>\n",
       "      <td>0.000000</td>\n",
       "      <td>5.400000e+01</td>\n",
       "      <td>4.600000e+01</td>\n",
       "      <td>0.000000</td>\n",
       "      <td>0.000000</td>\n",
       "      <td>0.000000</td>\n",
       "      <td>0.000000</td>\n",
       "      <td>0.000000</td>\n",
       "      <td>0.000000</td>\n",
       "      <td>0.000000</td>\n",
       "      <td>...</td>\n",
       "      <td>168.000000</td>\n",
       "      <td>0.920000</td>\n",
       "      <td>0.010000</td>\n",
       "      <td>0.000000</td>\n",
       "      <td>0.000000</td>\n",
       "      <td>0.000000</td>\n",
       "      <td>0.000000</td>\n",
       "      <td>0.000000</td>\n",
       "      <td>0.000000</td>\n",
       "      <td>20.000000</td>\n",
       "    </tr>\n",
       "    <tr>\n",
       "      <th>75%</th>\n",
       "      <td>0.000000</td>\n",
       "      <td>2.870000e+02</td>\n",
       "      <td>6.010000e+02</td>\n",
       "      <td>0.000000</td>\n",
       "      <td>0.000000</td>\n",
       "      <td>0.000000</td>\n",
       "      <td>0.000000</td>\n",
       "      <td>0.000000</td>\n",
       "      <td>1.000000</td>\n",
       "      <td>0.000000</td>\n",
       "      <td>...</td>\n",
       "      <td>255.000000</td>\n",
       "      <td>1.000000</td>\n",
       "      <td>0.060000</td>\n",
       "      <td>0.030000</td>\n",
       "      <td>0.010000</td>\n",
       "      <td>0.000000</td>\n",
       "      <td>0.000000</td>\n",
       "      <td>0.360000</td>\n",
       "      <td>0.170000</td>\n",
       "      <td>21.000000</td>\n",
       "    </tr>\n",
       "    <tr>\n",
       "      <th>max</th>\n",
       "      <td>57715.000000</td>\n",
       "      <td>6.282565e+07</td>\n",
       "      <td>1.345927e+06</td>\n",
       "      <td>1.000000</td>\n",
       "      <td>3.000000</td>\n",
       "      <td>3.000000</td>\n",
       "      <td>101.000000</td>\n",
       "      <td>4.000000</td>\n",
       "      <td>1.000000</td>\n",
       "      <td>796.000000</td>\n",
       "      <td>...</td>\n",
       "      <td>255.000000</td>\n",
       "      <td>1.000000</td>\n",
       "      <td>1.000000</td>\n",
       "      <td>1.000000</td>\n",
       "      <td>1.000000</td>\n",
       "      <td>1.000000</td>\n",
       "      <td>1.000000</td>\n",
       "      <td>1.000000</td>\n",
       "      <td>1.000000</td>\n",
       "      <td>21.000000</td>\n",
       "    </tr>\n",
       "  </tbody>\n",
       "</table>\n",
       "<p>8 rows × 39 columns</p>\n",
       "</div>"
      ],
      "text/plain": [
       "           duration     src_bytes     dst_bytes          land  wrong_fragment  \\\n",
       "count  22544.000000  2.254400e+04  2.254400e+04  22544.000000    22544.000000   \n",
       "mean     218.859076  1.039545e+04  2.056019e+03      0.000311        0.008428   \n",
       "std     1407.176612  4.727864e+05  2.121930e+04      0.017619        0.142599   \n",
       "min        0.000000  0.000000e+00  0.000000e+00      0.000000        0.000000   \n",
       "25%        0.000000  0.000000e+00  0.000000e+00      0.000000        0.000000   \n",
       "50%        0.000000  5.400000e+01  4.600000e+01      0.000000        0.000000   \n",
       "75%        0.000000  2.870000e+02  6.010000e+02      0.000000        0.000000   \n",
       "max    57715.000000  6.282565e+07  1.345927e+06      1.000000        3.000000   \n",
       "\n",
       "             urgent           hot  num_failed_logins     logged_in  \\\n",
       "count  22544.000000  22544.000000       22544.000000  22544.000000   \n",
       "mean       0.000710      0.105394           0.021647      0.442202   \n",
       "std        0.036473      0.928428           0.150328      0.496659   \n",
       "min        0.000000      0.000000           0.000000      0.000000   \n",
       "25%        0.000000      0.000000           0.000000      0.000000   \n",
       "50%        0.000000      0.000000           0.000000      0.000000   \n",
       "75%        0.000000      0.000000           0.000000      1.000000   \n",
       "max        3.000000    101.000000           4.000000      1.000000   \n",
       "\n",
       "       num_compromised  ...  dst_host_srv_count  dst_host_same_srv_rate  \\\n",
       "count     22544.000000  ...        22544.000000            22544.000000   \n",
       "mean          0.119899  ...          140.750532                0.608722   \n",
       "std           7.269597  ...          111.783972                0.435688   \n",
       "min           0.000000  ...            0.000000                0.000000   \n",
       "25%           0.000000  ...           15.000000                0.070000   \n",
       "50%           0.000000  ...          168.000000                0.920000   \n",
       "75%           0.000000  ...          255.000000                1.000000   \n",
       "max         796.000000  ...          255.000000                1.000000   \n",
       "\n",
       "       dst_host_diff_srv_rate  dst_host_same_src_port_rate  \\\n",
       "count            22544.000000                 22544.000000   \n",
       "mean                 0.090540                     0.132261   \n",
       "std                  0.220717                     0.306268   \n",
       "min                  0.000000                     0.000000   \n",
       "25%                  0.000000                     0.000000   \n",
       "50%                  0.010000                     0.000000   \n",
       "75%                  0.060000                     0.030000   \n",
       "max                  1.000000                     1.000000   \n",
       "\n",
       "       dst_host_srv_diff_host_rate  dst_host_serror_rate  \\\n",
       "count                 22544.000000          22544.000000   \n",
       "mean                      0.019638              0.097814   \n",
       "std                       0.085394              0.273139   \n",
       "min                       0.000000              0.000000   \n",
       "25%                       0.000000              0.000000   \n",
       "50%                       0.000000              0.000000   \n",
       "75%                       0.010000              0.000000   \n",
       "max                       1.000000              1.000000   \n",
       "\n",
       "       dst_host_srv_serror_rate  dst_host_rerror_rate  \\\n",
       "count              22544.000000          22544.000000   \n",
       "mean                   0.099426              0.233385   \n",
       "std                    0.281866              0.387229   \n",
       "min                    0.000000              0.000000   \n",
       "25%                    0.000000              0.000000   \n",
       "50%                    0.000000              0.000000   \n",
       "75%                    0.000000              0.360000   \n",
       "max                    1.000000              1.000000   \n",
       "\n",
       "       dst_host_srv_rerror_rate  difficulty_level  \n",
       "count              22544.000000      22544.000000  \n",
       "mean                   0.226683         18.017965  \n",
       "std                    0.400875          4.270361  \n",
       "min                    0.000000          0.000000  \n",
       "25%                    0.000000         17.000000  \n",
       "50%                    0.000000         20.000000  \n",
       "75%                    0.170000         21.000000  \n",
       "max                    1.000000         21.000000  \n",
       "\n",
       "[8 rows x 39 columns]"
      ]
     },
     "execution_count": 7,
     "metadata": {},
     "output_type": "execute_result"
    }
   ],
   "source": [
    "kdd_test_set.describe()"
   ]
  },
  {
   "cell_type": "markdown",
   "id": "6e51c96d",
   "metadata": {},
   "source": [
    "### Label Verteilung"
   ]
  },
  {
   "cell_type": "markdown",
   "id": "1a8b02af",
   "metadata": {},
   "source": [
    "Hier zeigen wir welche Label im Datensatz präsent sind und wir diese Verteilt sind."
   ]
  },
  {
   "cell_type": "code",
   "execution_count": 8,
   "id": "c83cf37a",
   "metadata": {
    "scrolled": false
   },
   "outputs": [
    {
     "name": "stdout",
     "output_type": "stream",
     "text": [
      "normal             67343\n",
      "neptune            41214\n",
      "satan               3633\n",
      "ipsweep             3599\n",
      "portsweep           2931\n",
      "smurf               2646\n",
      "nmap                1493\n",
      "back                 956\n",
      "teardrop             892\n",
      "warezclient          890\n",
      "pod                  201\n",
      "guess_passwd          53\n",
      "buffer_overflow       30\n",
      "warezmaster           20\n",
      "land                  18\n",
      "imap                  11\n",
      "rootkit               10\n",
      "loadmodule             9\n",
      "ftp_write              8\n",
      "multihop               7\n",
      "phf                    4\n",
      "perl                   3\n",
      "spy                    2\n",
      "Name: label, dtype: int64\n"
     ]
    }
   ],
   "source": [
    "print(kdd_train_set['label'].value_counts())"
   ]
  },
  {
   "cell_type": "code",
   "execution_count": 9,
   "id": "c855a70c",
   "metadata": {
    "scrolled": false
   },
   "outputs": [
    {
     "name": "stdout",
     "output_type": "stream",
     "text": [
      "normal             9711\n",
      "neptune            4657\n",
      "guess_passwd       1231\n",
      "mscan               996\n",
      "warezmaster         944\n",
      "apache2             737\n",
      "satan               735\n",
      "processtable        685\n",
      "smurf               665\n",
      "back                359\n",
      "snmpguess           331\n",
      "saint               319\n",
      "mailbomb            293\n",
      "snmpgetattack       178\n",
      "portsweep           157\n",
      "ipsweep             141\n",
      "httptunnel          133\n",
      "nmap                 73\n",
      "pod                  41\n",
      "buffer_overflow      20\n",
      "multihop             18\n",
      "named                17\n",
      "ps                   15\n",
      "sendmail             14\n",
      "rootkit              13\n",
      "xterm                13\n",
      "teardrop             12\n",
      "xlock                 9\n",
      "land                  7\n",
      "xsnoop                4\n",
      "ftp_write             3\n",
      "worm                  2\n",
      "loadmodule            2\n",
      "perl                  2\n",
      "sqlattack             2\n",
      "udpstorm              2\n",
      "phf                   2\n",
      "imap                  1\n",
      "Name: label, dtype: int64\n"
     ]
    }
   ],
   "source": [
    "print(kdd_test_set['label'].value_counts())"
   ]
  },
  {
   "cell_type": "markdown",
   "id": "80150aad",
   "metadata": {},
   "source": [
    "## Daten Aufbereitung"
   ]
  },
  {
   "cell_type": "markdown",
   "id": "c58c2234",
   "metadata": {},
   "source": [
    "### Identifieziren der Features mit Kategorie"
   ]
  },
  {
   "cell_type": "markdown",
   "id": "34083355",
   "metadata": {},
   "source": [
    "Um Methoden wie One-Hot-Encoding später anwenden zu können, müssen alle label identifiziert werden, die kategorisch sind, um diese kategorien als dummy Varaiblen einzufügen."
   ]
  },
  {
   "cell_type": "code",
   "execution_count": 10,
   "id": "0d06d1da",
   "metadata": {},
   "outputs": [
    {
     "name": "stdout",
     "output_type": "stream",
     "text": [
      "Trainings Daten:\n",
      "Feature 'protocol_type' has 3 categories\n",
      "Feature 'service' has 70 categories\n",
      "Feature 'flag' has 11 categories\n",
      "Feature 'label' has 23 categories\n"
     ]
    }
   ],
   "source": [
    "print('Trainings Daten:')\n",
    "# Schleife über Spalten\n",
    "for col_name in kdd_train_set.columns:\n",
    "    # Prüfung, ob aktuelle Spalte eine Objekt ist (Kategorisches Label)\n",
    "    if kdd_train_set[col_name].dtypes == 'object':\n",
    "        # Ausgabe des Labels und Anzahl der Kategorien\n",
    "        unique_cat = len(kdd_train_set[col_name].unique())\n",
    "        print(f\"Feature '{col_name}' has {unique_cat} categories\")"
   ]
  },
  {
   "cell_type": "code",
   "execution_count": 11,
   "id": "39d8dc0d",
   "metadata": {},
   "outputs": [
    {
     "name": "stdout",
     "output_type": "stream",
     "text": [
      "Test Daten:\n",
      "Feature 'protocol_type' has 3 categories\n",
      "Feature 'service' has 64 categories\n",
      "Feature 'flag' has 11 categories\n",
      "Feature 'label' has 38 categories\n"
     ]
    }
   ],
   "source": [
    "print('Test Daten:')\n",
    "# Schleife über Spalten\n",
    "for col_name in kdd_test_set.columns:\n",
    "    # Prüfung, ob aktuelle Spalte eine Objekt ist (Kategorisches Label)\n",
    "    if kdd_test_set[col_name].dtypes == 'object':\n",
    "        # Ausgabe des Labels und Anzahl der Kategorien\n",
    "        unique_cat = len(kdd_test_set[col_name].unique())\n",
    "        print(f\"Feature '{col_name}' has {unique_cat} categories\")"
   ]
  },
  {
   "cell_type": "markdown",
   "id": "b828bbf4",
   "metadata": {},
   "source": [
    "Hieraus ist ersichtlich, dass für die labels protocol_type, service, flag dummy Variablen erstellt werden müssen. Es ergeben sich insgesamt 3 + 70 + 11 = 84 dummy Variablen."
   ]
  },
  {
   "cell_type": "markdown",
   "id": "31e54868",
   "metadata": {},
   "source": [
    "Ebenfalls ersichtlich ist das den Test Daten 6 Kategorien aus dem Bereich service fehlen. Diese müssen durch dummy Kategorien ersetzt werden. "
   ]
  },
  {
   "cell_type": "markdown",
   "id": "c145b38c",
   "metadata": {},
   "source": [
    "### Grafische Darstellung der Verteilung der Kategorien"
   ]
  },
  {
   "cell_type": "code",
   "execution_count": 12,
   "id": "c5ad50df",
   "metadata": {
    "scrolled": true
   },
   "outputs": [
    {
     "data": {
      "text/plain": [
       "<AxesSubplot:>"
      ]
     },
     "execution_count": 12,
     "metadata": {},
     "output_type": "execute_result"
    },
    {
     "data": {
      "image/png": "[encoded data removed]",
      "text/plain": [
       "<Figure size 432x288 with 1 Axes>"
      ]
     },
     "metadata": {
      "needs_background": "light"
     },
     "output_type": "display_data"
    }
   ],
   "source": [
    "kdd_train_set[\"protocol_type\"].value_counts().plot(kind=\"bar\")"
   ]
  },
  {
   "cell_type": "code",
   "execution_count": 13,
   "id": "04a0da0c",
   "metadata": {},
   "outputs": [
    {
     "data": {
      "text/plain": [
       "<AxesSubplot:>"
      ]
     },
     "execution_count": 13,
     "metadata": {},
     "output_type": "execute_result"
    },
    {
     "data": {
      "image/png": "[encoded data removed]",
      "text/plain": [
       "<Figure size 432x288 with 1 Axes>"
      ]
     },
     "metadata": {
      "needs_background": "light"
     },
     "output_type": "display_data"
    }
   ],
   "source": [
    "kdd_test_set[\"protocol_type\"].value_counts().plot(kind=\"bar\")"
   ]
  },
  {
   "cell_type": "code",
   "execution_count": 14,
   "id": "44ea6af7",
   "metadata": {},
   "outputs": [
    {
     "data": {
      "text/plain": [
       "<AxesSubplot:>"
      ]
     },
     "execution_count": 14,
     "metadata": {},
     "output_type": "execute_result"
    },
    {
     "data": {
      "image/png": "[encoded data removed]",
      "text/plain": [
       "<Figure size 1440x720 with 1 Axes>"
      ]
     },
     "metadata": {
      "needs_background": "light"
     },
     "output_type": "display_data"
    }
   ],
   "source": [
    "kdd_train_set[\"service\"].value_counts().plot(kind=\"bar\", figsize=(20,10))"
   ]
  },
  {
   "cell_type": "code",
   "execution_count": 15,
   "id": "3c4fbca5",
   "metadata": {},
   "outputs": [
    {
     "data": {
      "text/plain": [
       "<AxesSubplot:>"
      ]
     },
     "execution_count": 15,
     "metadata": {},
     "output_type": "execute_result"
    },
    {
     "data": {
      "image/png": "[encoded data removed]",
      "text/plain": [
       "<Figure size 1440x720 with 1 Axes>"
      ]
     },
     "metadata": {
      "needs_background": "light"
     },
     "output_type": "display_data"
    }
   ],
   "source": [
    "kdd_test_set[\"service\"].value_counts().plot(kind=\"bar\", figsize=(20,10))"
   ]
  },
  {
   "cell_type": "code",
   "execution_count": 16,
   "id": "d13fafde",
   "metadata": {},
   "outputs": [
    {
     "data": {
      "text/plain": [
       "<AxesSubplot:>"
      ]
     },
     "execution_count": 16,
     "metadata": {},
     "output_type": "execute_result"
    },
    {
     "data": {
      "image/png": "[encoded data removed]",
      "text/plain": [
       "<Figure size 432x288 with 1 Axes>"
      ]
     },
     "metadata": {
      "needs_background": "light"
     },
     "output_type": "display_data"
    }
   ],
   "source": [
    "kdd_train_set[\"flag\"].value_counts().plot(kind=\"bar\")"
   ]
  },
  {
   "cell_type": "code",
   "execution_count": 17,
   "id": "d0e6b337",
   "metadata": {},
   "outputs": [
    {
     "data": {
      "text/plain": [
       "<AxesSubplot:>"
      ]
     },
     "execution_count": 17,
     "metadata": {},
     "output_type": "execute_result"
    },
    {
     "data": {
      "image/png": "[encoded data removed]",
      "text/plain": [
       "<Figure size 432x288 with 1 Axes>"
      ]
     },
     "metadata": {
      "needs_background": "light"
     },
     "output_type": "display_data"
    }
   ],
   "source": [
    "kdd_test_set[\"flag\"].value_counts().plot(kind=\"bar\")"
   ]
  },
  {
   "cell_type": "markdown",
   "id": "1cdab3b7",
   "metadata": {},
   "source": [
    "### Heatmap von Label zusammenhängen"
   ]
  },
  {
   "cell_type": "code",
   "execution_count": 18,
   "id": "d70aa27a",
   "metadata": {},
   "outputs": [
    {
     "data": {
      "image/png": "[encoded data removed]",
      "text/plain": [
       "<Figure size 1080x864 with 2 Axes>"
      ]
     },
     "metadata": {
      "needs_background": "light"
     },
     "output_type": "display_data"
    }
   ],
   "source": [
    "df = kdd_train_set[[col for col in kdd_train_set if kdd_train_set[col].nunique() > 1]]\n",
    "  \n",
    "corr = df.corr()\n",
    "  \n",
    "plt.figure(figsize =(15, 12))\n",
    "  \n",
    "sns.heatmap(corr)\n",
    "  \n",
    "plt.show()"
   ]
  },
  {
   "cell_type": "code",
   "execution_count": 19,
   "id": "139ffb8a",
   "metadata": {
    "scrolled": false
   },
   "outputs": [],
   "source": [
    "drop_list = ['num_root', 'srv_serror_rate', 'srv_serror_rate', 'srv_rerror_rate', 'dst_host_srv_serror_rate', 'dst_host_serror_rate', 'dst_host_rerror_rate', 'dst_host_srv_rerror_rate', 'dst_host_same_srv_rate']\n",
    "kdd_train_set.drop(columns=drop_list, inplace=True)\n",
    "kdd_test_set.drop(columns=drop_list, inplace=True)"
   ]
  },
  {
   "cell_type": "code",
   "execution_count": 20,
   "id": "9ab7a427",
   "metadata": {},
   "outputs": [
    {
     "name": "stdout",
     "output_type": "stream",
     "text": [
      "(125973, 35)\n",
      "(22544, 35)\n"
     ]
    }
   ],
   "source": [
    "print(kdd_train_set.shape)\n",
    "print(kdd_test_set.shape)"
   ]
  },
  {
   "cell_type": "code",
   "execution_count": 21,
   "id": "c3ce2970",
   "metadata": {},
   "outputs": [
    {
     "data": {
      "image/png": "[encoded data removed]",
      "text/plain": [
       "<Figure size 1080x864 with 2 Axes>"
      ]
     },
     "metadata": {
      "needs_background": "light"
     },
     "output_type": "display_data"
    }
   ],
   "source": [
    "df = kdd_train_set[[col for col in kdd_train_set if kdd_train_set[col].nunique() > 1]]\n",
    "  \n",
    "corr = df.corr()\n",
    "  \n",
    "plt.figure(figsize =(15, 12))\n",
    "  \n",
    "sns.heatmap(corr)\n",
    "  \n",
    "plt.show()"
   ]
  },
  {
   "cell_type": "markdown",
   "id": "dabc2b32",
   "metadata": {},
   "source": [
    "### Label Encodieren"
   ]
  },
  {
   "cell_type": "code",
   "execution_count": 22,
   "id": "d439cd98",
   "metadata": {},
   "outputs": [
    {
     "data": {
      "text/html": [
       "<div>\n",
       "<style scoped>\n",
       "    .dataframe tbody tr th:only-of-type {\n",
       "        vertical-align: middle;\n",
       "    }\n",
       "\n",
       "    .dataframe tbody tr th {\n",
       "        vertical-align: top;\n",
       "    }\n",
       "\n",
       "    .dataframe thead th {\n",
       "        text-align: right;\n",
       "    }\n",
       "</style>\n",
       "<table border=\"1\" class=\"dataframe\">\n",
       "  <thead>\n",
       "    <tr style=\"text-align: right;\">\n",
       "      <th></th>\n",
       "      <th>protocol_type</th>\n",
       "      <th>service</th>\n",
       "      <th>flag</th>\n",
       "    </tr>\n",
       "  </thead>\n",
       "  <tbody>\n",
       "    <tr>\n",
       "      <th>0</th>\n",
       "      <td>tcp</td>\n",
       "      <td>ftp_data</td>\n",
       "      <td>SF</td>\n",
       "    </tr>\n",
       "    <tr>\n",
       "      <th>1</th>\n",
       "      <td>udp</td>\n",
       "      <td>other</td>\n",
       "      <td>SF</td>\n",
       "    </tr>\n",
       "    <tr>\n",
       "      <th>2</th>\n",
       "      <td>tcp</td>\n",
       "      <td>private</td>\n",
       "      <td>S0</td>\n",
       "    </tr>\n",
       "    <tr>\n",
       "      <th>3</th>\n",
       "      <td>tcp</td>\n",
       "      <td>http</td>\n",
       "      <td>SF</td>\n",
       "    </tr>\n",
       "    <tr>\n",
       "      <th>4</th>\n",
       "      <td>tcp</td>\n",
       "      <td>http</td>\n",
       "      <td>SF</td>\n",
       "    </tr>\n",
       "  </tbody>\n",
       "</table>\n",
       "</div>"
      ],
      "text/plain": [
       "  protocol_type   service flag\n",
       "0           tcp  ftp_data   SF\n",
       "1           udp     other   SF\n",
       "2           tcp   private   S0\n",
       "3           tcp      http   SF\n",
       "4           tcp      http   SF"
      ]
     },
     "execution_count": 22,
     "metadata": {},
     "output_type": "execute_result"
    }
   ],
   "source": [
    "categorical_columns = ['protocol_type', 'service', 'flag']\n",
    "train_categorical_values = kdd_train_set[categorical_columns]\n",
    "test_categorical_values = kdd_test_set[categorical_columns]\n",
    "train_categorical_values.head()"
   ]
  },
  {
   "cell_type": "markdown",
   "id": "9ba38e26",
   "metadata": {},
   "source": [
    "#### Erstellen von Spaltennamen für die Dummy Variablen"
   ]
  },
  {
   "cell_type": "code",
   "execution_count": 23,
   "id": "16a911ab",
   "metadata": {},
   "outputs": [
    {
     "name": "stdout",
     "output_type": "stream",
     "text": [
      "['protocol_type_icmp', 'protocol_type_tcp', 'protocol_type_udp', 'service_IRC', 'service_X11', 'service_Z39_50', 'service_aol', 'service_auth', 'service_bgp', 'service_courier', 'service_csnet_ns', 'service_ctf', 'service_daytime', 'service_discard', 'service_domain', 'service_domain_u', 'service_echo', 'service_eco_i', 'service_ecr_i', 'service_efs', 'service_exec', 'service_finger', 'service_ftp', 'service_ftp_data', 'service_gopher', 'service_harvest', 'service_hostnames', 'service_http', 'service_http_2784', 'service_http_443', 'service_http_8001', 'service_imap4', 'service_iso_tsap', 'service_klogin', 'service_kshell', 'service_ldap', 'service_link', 'service_login', 'service_mtp', 'service_name', 'service_netbios_dgm', 'service_netbios_ns', 'service_netbios_ssn', 'service_netstat', 'service_nnsp', 'service_nntp', 'service_ntp_u', 'service_other', 'service_pm_dump', 'service_pop_2', 'service_pop_3', 'service_printer', 'service_private', 'service_red_i', 'service_remote_job', 'service_rje', 'service_shell', 'service_smtp', 'service_sql_net', 'service_ssh', 'service_sunrpc', 'service_supdup', 'service_systat', 'service_telnet', 'service_tftp_u', 'service_tim_i', 'service_time', 'service_urh_i', 'service_urp_i', 'service_uucp', 'service_uucp_path', 'service_vmnet', 'service_whois', 'flag_OTH', 'flag_REJ', 'flag_RSTO', 'flag_RSTOS0', 'flag_RSTR', 'flag_S0', 'flag_S1', 'flag_S2', 'flag_S3', 'flag_SF', 'flag_SH']\n"
     ]
    }
   ],
   "source": [
    "# Spaltennamne für Protokoll Typ. Prefix: protocol_type_\n",
    "unique_protocol = sorted(kdd_train_set.protocol_type.unique())\n",
    "protocol_prefix = 'protocol_type_'\n",
    "unique_protocol_with_prefix = [protocol_prefix + x for x in unique_protocol]\n",
    "\n",
    "# Spaltennamne für Service Typ. Prefix: service_\n",
    "unique_service = sorted(kdd_train_set.service.unique())\n",
    "service_prefix = 'service_'\n",
    "unique_service_with_prefix = [service_prefix + x for x in unique_service]\n",
    "\n",
    "# Spaltennamne für Flag Typ. Prefix: flag_\n",
    "unique_flag = sorted(kdd_train_set.flag.unique())\n",
    "flag_prefix = 'flag_'\n",
    "unique_flag_with_prefix = [flag_prefix + x for x in unique_flag]\n",
    "\n",
    "# Konkatenieren\n",
    "dummy_cols = unique_protocol_with_prefix + unique_service_with_prefix + unique_flag_with_prefix\n",
    "print(dummy_cols)\n",
    "\n",
    "# Das gleiche fürs Testset. Hier muss nur der Servive Typt angepasst werden.\n",
    "unique_service_test = sorted(kdd_test_set.service.unique())\n",
    "unique_service_test_with_prefix = [service_prefix + x for x in unique_service_test]\n",
    "test_dummy_cols = unique_protocol_with_prefix + unique_service_test_with_prefix + unique_flag_with_prefix"
   ]
  },
  {
   "cell_type": "code",
   "execution_count": 24,
   "id": "e7548eca",
   "metadata": {},
   "outputs": [
    {
     "data": {
      "text/html": [
       "<div>\n",
       "<style scoped>\n",
       "    .dataframe tbody tr th:only-of-type {\n",
       "        vertical-align: middle;\n",
       "    }\n",
       "\n",
       "    .dataframe tbody tr th {\n",
       "        vertical-align: top;\n",
       "    }\n",
       "\n",
       "    .dataframe thead th {\n",
       "        text-align: right;\n",
       "    }\n",
       "</style>\n",
       "<table border=\"1\" class=\"dataframe\">\n",
       "  <thead>\n",
       "    <tr style=\"text-align: right;\">\n",
       "      <th></th>\n",
       "      <th>protocol_type</th>\n",
       "      <th>service</th>\n",
       "      <th>flag</th>\n",
       "    </tr>\n",
       "  </thead>\n",
       "  <tbody>\n",
       "    <tr>\n",
       "      <th>0</th>\n",
       "      <td>1</td>\n",
       "      <td>20</td>\n",
       "      <td>9</td>\n",
       "    </tr>\n",
       "    <tr>\n",
       "      <th>1</th>\n",
       "      <td>2</td>\n",
       "      <td>44</td>\n",
       "      <td>9</td>\n",
       "    </tr>\n",
       "    <tr>\n",
       "      <th>2</th>\n",
       "      <td>1</td>\n",
       "      <td>49</td>\n",
       "      <td>5</td>\n",
       "    </tr>\n",
       "    <tr>\n",
       "      <th>3</th>\n",
       "      <td>1</td>\n",
       "      <td>24</td>\n",
       "      <td>9</td>\n",
       "    </tr>\n",
       "    <tr>\n",
       "      <th>4</th>\n",
       "      <td>1</td>\n",
       "      <td>24</td>\n",
       "      <td>9</td>\n",
       "    </tr>\n",
       "  </tbody>\n",
       "</table>\n",
       "</div>"
      ],
      "text/plain": [
       "   protocol_type  service  flag\n",
       "0              1       20     9\n",
       "1              2       44     9\n",
       "2              1       49     5\n",
       "3              1       24     9\n",
       "4              1       24     9"
      ]
     },
     "execution_count": 24,
     "metadata": {},
     "output_type": "execute_result"
    }
   ],
   "source": [
    "train_categorical_values_enc = train_categorical_values.apply(LabelEncoder().fit_transform)\n",
    "test_categorical_values_enc = test_categorical_values.apply(LabelEncoder().fit_transform)\n",
    "train_categorical_values_enc.head()"
   ]
  },
  {
   "cell_type": "markdown",
   "id": "a9310627",
   "metadata": {},
   "source": [
    "### One-Hot Encoding"
   ]
  },
  {
   "cell_type": "code",
   "execution_count": 25,
   "id": "312fea19",
   "metadata": {},
   "outputs": [
    {
     "data": {
      "text/html": [
       "<div>\n",
       "<style scoped>\n",
       "    .dataframe tbody tr th:only-of-type {\n",
       "        vertical-align: middle;\n",
       "    }\n",
       "\n",
       "    .dataframe tbody tr th {\n",
       "        vertical-align: top;\n",
       "    }\n",
       "\n",
       "    .dataframe thead th {\n",
       "        text-align: right;\n",
       "    }\n",
       "</style>\n",
       "<table border=\"1\" class=\"dataframe\">\n",
       "  <thead>\n",
       "    <tr style=\"text-align: right;\">\n",
       "      <th></th>\n",
       "      <th>protocol_type_icmp</th>\n",
       "      <th>protocol_type_tcp</th>\n",
       "      <th>protocol_type_udp</th>\n",
       "      <th>service_IRC</th>\n",
       "      <th>service_X11</th>\n",
       "      <th>service_Z39_50</th>\n",
       "      <th>service_aol</th>\n",
       "      <th>service_auth</th>\n",
       "      <th>service_bgp</th>\n",
       "      <th>service_courier</th>\n",
       "      <th>...</th>\n",
       "      <th>flag_REJ</th>\n",
       "      <th>flag_RSTO</th>\n",
       "      <th>flag_RSTOS0</th>\n",
       "      <th>flag_RSTR</th>\n",
       "      <th>flag_S0</th>\n",
       "      <th>flag_S1</th>\n",
       "      <th>flag_S2</th>\n",
       "      <th>flag_S3</th>\n",
       "      <th>flag_SF</th>\n",
       "      <th>flag_SH</th>\n",
       "    </tr>\n",
       "  </thead>\n",
       "  <tbody>\n",
       "    <tr>\n",
       "      <th>0</th>\n",
       "      <td>0.0</td>\n",
       "      <td>1.0</td>\n",
       "      <td>0.0</td>\n",
       "      <td>0.0</td>\n",
       "      <td>0.0</td>\n",
       "      <td>0.0</td>\n",
       "      <td>0.0</td>\n",
       "      <td>0.0</td>\n",
       "      <td>0.0</td>\n",
       "      <td>0.0</td>\n",
       "      <td>...</td>\n",
       "      <td>0.0</td>\n",
       "      <td>0.0</td>\n",
       "      <td>0.0</td>\n",
       "      <td>0.0</td>\n",
       "      <td>0.0</td>\n",
       "      <td>0.0</td>\n",
       "      <td>0.0</td>\n",
       "      <td>0.0</td>\n",
       "      <td>1.0</td>\n",
       "      <td>0.0</td>\n",
       "    </tr>\n",
       "    <tr>\n",
       "      <th>1</th>\n",
       "      <td>0.0</td>\n",
       "      <td>0.0</td>\n",
       "      <td>1.0</td>\n",
       "      <td>0.0</td>\n",
       "      <td>0.0</td>\n",
       "      <td>0.0</td>\n",
       "      <td>0.0</td>\n",
       "      <td>0.0</td>\n",
       "      <td>0.0</td>\n",
       "      <td>0.0</td>\n",
       "      <td>...</td>\n",
       "      <td>0.0</td>\n",
       "      <td>0.0</td>\n",
       "      <td>0.0</td>\n",
       "      <td>0.0</td>\n",
       "      <td>0.0</td>\n",
       "      <td>0.0</td>\n",
       "      <td>0.0</td>\n",
       "      <td>0.0</td>\n",
       "      <td>1.0</td>\n",
       "      <td>0.0</td>\n",
       "    </tr>\n",
       "    <tr>\n",
       "      <th>2</th>\n",
       "      <td>0.0</td>\n",
       "      <td>1.0</td>\n",
       "      <td>0.0</td>\n",
       "      <td>0.0</td>\n",
       "      <td>0.0</td>\n",
       "      <td>0.0</td>\n",
       "      <td>0.0</td>\n",
       "      <td>0.0</td>\n",
       "      <td>0.0</td>\n",
       "      <td>0.0</td>\n",
       "      <td>...</td>\n",
       "      <td>0.0</td>\n",
       "      <td>0.0</td>\n",
       "      <td>0.0</td>\n",
       "      <td>0.0</td>\n",
       "      <td>1.0</td>\n",
       "      <td>0.0</td>\n",
       "      <td>0.0</td>\n",
       "      <td>0.0</td>\n",
       "      <td>0.0</td>\n",
       "      <td>0.0</td>\n",
       "    </tr>\n",
       "    <tr>\n",
       "      <th>3</th>\n",
       "      <td>0.0</td>\n",
       "      <td>1.0</td>\n",
       "      <td>0.0</td>\n",
       "      <td>0.0</td>\n",
       "      <td>0.0</td>\n",
       "      <td>0.0</td>\n",
       "      <td>0.0</td>\n",
       "      <td>0.0</td>\n",
       "      <td>0.0</td>\n",
       "      <td>0.0</td>\n",
       "      <td>...</td>\n",
       "      <td>0.0</td>\n",
       "      <td>0.0</td>\n",
       "      <td>0.0</td>\n",
       "      <td>0.0</td>\n",
       "      <td>0.0</td>\n",
       "      <td>0.0</td>\n",
       "      <td>0.0</td>\n",
       "      <td>0.0</td>\n",
       "      <td>1.0</td>\n",
       "      <td>0.0</td>\n",
       "    </tr>\n",
       "    <tr>\n",
       "      <th>4</th>\n",
       "      <td>0.0</td>\n",
       "      <td>1.0</td>\n",
       "      <td>0.0</td>\n",
       "      <td>0.0</td>\n",
       "      <td>0.0</td>\n",
       "      <td>0.0</td>\n",
       "      <td>0.0</td>\n",
       "      <td>0.0</td>\n",
       "      <td>0.0</td>\n",
       "      <td>0.0</td>\n",
       "      <td>...</td>\n",
       "      <td>0.0</td>\n",
       "      <td>0.0</td>\n",
       "      <td>0.0</td>\n",
       "      <td>0.0</td>\n",
       "      <td>0.0</td>\n",
       "      <td>0.0</td>\n",
       "      <td>0.0</td>\n",
       "      <td>0.0</td>\n",
       "      <td>1.0</td>\n",
       "      <td>0.0</td>\n",
       "    </tr>\n",
       "  </tbody>\n",
       "</table>\n",
       "<p>5 rows × 84 columns</p>\n",
       "</div>"
      ],
      "text/plain": [
       "   protocol_type_icmp  protocol_type_tcp  protocol_type_udp  service_IRC  \\\n",
       "0                 0.0                1.0                0.0          0.0   \n",
       "1                 0.0                0.0                1.0          0.0   \n",
       "2                 0.0                1.0                0.0          0.0   \n",
       "3                 0.0                1.0                0.0          0.0   \n",
       "4                 0.0                1.0                0.0          0.0   \n",
       "\n",
       "   service_X11  service_Z39_50  service_aol  service_auth  service_bgp  \\\n",
       "0          0.0             0.0          0.0           0.0          0.0   \n",
       "1          0.0             0.0          0.0           0.0          0.0   \n",
       "2          0.0             0.0          0.0           0.0          0.0   \n",
       "3          0.0             0.0          0.0           0.0          0.0   \n",
       "4          0.0             0.0          0.0           0.0          0.0   \n",
       "\n",
       "   service_courier  ...  flag_REJ  flag_RSTO  flag_RSTOS0  flag_RSTR  flag_S0  \\\n",
       "0              0.0  ...       0.0        0.0          0.0        0.0      0.0   \n",
       "1              0.0  ...       0.0        0.0          0.0        0.0      0.0   \n",
       "2              0.0  ...       0.0        0.0          0.0        0.0      1.0   \n",
       "3              0.0  ...       0.0        0.0          0.0        0.0      0.0   \n",
       "4              0.0  ...       0.0        0.0          0.0        0.0      0.0   \n",
       "\n",
       "   flag_S1  flag_S2  flag_S3  flag_SF  flag_SH  \n",
       "0      0.0      0.0      0.0      1.0      0.0  \n",
       "1      0.0      0.0      0.0      1.0      0.0  \n",
       "2      0.0      0.0      0.0      0.0      0.0  \n",
       "3      0.0      0.0      0.0      1.0      0.0  \n",
       "4      0.0      0.0      0.0      1.0      0.0  \n",
       "\n",
       "[5 rows x 84 columns]"
      ]
     },
     "execution_count": 25,
     "metadata": {},
     "output_type": "execute_result"
    }
   ],
   "source": [
    "encoder = OneHotEncoder()\n",
    "train_categorical_values_one_hot = encoder.fit_transform(train_categorical_values_enc)\n",
    "train_cat_data = pd.DataFrame(train_categorical_values_one_hot.toarray(), columns = dummy_cols)\n",
    "# test set\n",
    "test_categorical_values_one_hot = encoder.fit_transform(test_categorical_values_enc)\n",
    "test_cat_data = pd.DataFrame(test_categorical_values_one_hot.toarray(), columns = test_dummy_cols)\n",
    "\n",
    "train_cat_data.head()"
   ]
  },
  {
   "cell_type": "markdown",
   "id": "67e0ede7",
   "metadata": {},
   "source": [
    "### Die sechs fehlenden Kategorien in das Testset einfügen"
   ]
  },
  {
   "cell_type": "code",
   "execution_count": 26,
   "id": "929c791b",
   "metadata": {},
   "outputs": [
    {
     "name": "stdout",
     "output_type": "stream",
     "text": [
      "(125973, 84)\n",
      "(22544, 84)\n"
     ]
    }
   ],
   "source": [
    "trainservice = kdd_train_set['service'].tolist()\n",
    "testservice = kdd_test_set['service'].tolist()\n",
    "difference = list(set(trainservice) - set(testservice))\n",
    "\n",
    "for col in [service_prefix + x for x in difference]:\n",
    "    test_cat_data[col] = 0\n",
    "    \n",
    "print(train_cat_data.shape)\n",
    "print(test_cat_data.shape)"
   ]
  },
  {
   "cell_type": "markdown",
   "id": "5e44b45c",
   "metadata": {},
   "source": [
    "### Die Encodeten Daten mit den ursprünglich nicht kategorischen Daten vereinen"
   ]
  },
  {
   "cell_type": "code",
   "execution_count": 27,
   "id": "68231def",
   "metadata": {},
   "outputs": [
    {
     "name": "stdout",
     "output_type": "stream",
     "text": [
      "(125973, 116)\n",
      "(22544, 116)\n"
     ]
    }
   ],
   "source": [
    "kdd_train_set_new = kdd_train_set.join(train_cat_data)\n",
    "kdd_train_set_new.drop(columns='flag', inplace=True)\n",
    "kdd_train_set_new.drop(columns='protocol_type',inplace=True)\n",
    "kdd_train_set_new.drop(columns='service', inplace=True)\n",
    "\n",
    "kdd_test_set_new = kdd_test_set.join(test_cat_data)\n",
    "kdd_test_set_new.drop(columns='flag', inplace=True)\n",
    "kdd_test_set_new.drop(columns='protocol_type', inplace=True)\n",
    "kdd_test_set_new.drop(columns='service', inplace=True)\n",
    "print(kdd_train_set_new.shape)\n",
    "print(kdd_test_set_new.shape)"
   ]
  },
  {
   "cell_type": "markdown",
   "id": "fb7621b4",
   "metadata": {},
   "source": [
    "### Daten in die 4 Hauptkategorien aufsplitten"
   ]
  },
  {
   "cell_type": "code",
   "execution_count": null,
   "id": "b8085845",
   "metadata": {},
   "outputs": [],
   "source": []
  },
  {
   "cell_type": "code",
   "execution_count": 28,
   "id": "50d12b45",
   "metadata": {},
   "outputs": [
    {
     "name": "stdout",
     "output_type": "stream",
     "text": [
      "0    0\n",
      "1    0\n",
      "2    1\n",
      "3    0\n",
      "4    0\n",
      "Name: label, dtype: int64\n"
     ]
    }
   ],
   "source": [
    "# Auswählen der Label Spalte\n",
    "label = kdd_train_set_new['label']\n",
    "label_test = kdd_test_set_new['label']\n",
    "\n",
    "# Label Spalte änder\n",
    "newlabel = label.replace({ 'normal' : 0, 'neptune' : 1 ,'back': 1, 'land': 1, 'pod': 1, 'smurf': 1, 'teardrop': 1,'mailbomb': 1, 'apache2': 1, 'processtable': 1, 'udpstorm': 1, 'worm': 1,\n",
    "                           'ipsweep' : 2,'nmap' : 2,'portsweep' : 2,'satan' : 2,'mscan' : 2,'saint' : 2\n",
    "                           ,'ftp_write': 3,'guess_passwd': 3,'imap': 3,'multihop': 3,'phf': 3,'spy': 3,'warezclient': 3,'warezmaster': 3,'sendmail': 3,'named': 3,'snmpgetattack': 3,'snmpguess': 3,'xlock': 3,'xsnoop': 3,'httptunnel': 3,\n",
    "                           'buffer_overflow': 4,'loadmodule': 4,'perl': 4,'rootkit': 4,'ps': 4,'sqlattack': 4,'xterm': 4})\n",
    "newlabel_test = label_test.replace({ 'normal' : 0, 'neptune' : 1 ,'back': 1, 'land': 1, 'pod': 1, 'smurf': 1, 'teardrop': 1,'mailbomb': 1, 'apache2': 1, 'processtable': 1, 'udpstorm': 1, 'worm': 1,\n",
    "                           'ipsweep' : 2,'nmap' : 2,'portsweep' : 2,'satan' : 2,'mscan' : 2,'saint' : 2\n",
    "                           ,'ftp_write': 3,'guess_passwd': 3,'imap': 3,'multihop': 3,'phf': 3,'spy': 3,'warezclient': 3,'warezmaster': 3,'sendmail': 3,'named': 3,'snmpgetattack': 3,'snmpguess': 3,'xlock': 3,'xsnoop': 3,'httptunnel': 3,\n",
    "                           'buffer_overflow': 4,'loadmodule': 4,'perl': 4,'rootkit': 4,'ps': 4,'sqlattack': 4,'xterm': 4})\n",
    "\n",
    "# Neue Label spalte zurückschreiben\n",
    "kdd_train_set_new['label'] = newlabel\n",
    "kdd_test_set_new['label'] = newlabel_test\n",
    "print(kdd_train_set_new['label'].head())"
   ]
  },
  {
   "cell_type": "code",
   "execution_count": 29,
   "id": "66d74089",
   "metadata": {},
   "outputs": [
    {
     "name": "stdout",
     "output_type": "stream",
     "text": [
      "Trainset:\n",
      "Dimensions of DoS: (113270, 116)\n",
      "Dimensions of Probe: (78999, 116)\n",
      "Dimensions of R2L: (68338, 116)\n",
      "Dimensions of U2R: (67395, 116)\n",
      "Testset:\n",
      "Dimensions of DoS: (17171, 116)\n",
      "Dimensions of Probe: (12132, 116)\n",
      "Dimensions of R2L: (12596, 116)\n",
      "Dimensions of U2R: (9778, 116)\n"
     ]
    }
   ],
   "source": [
    "to_drop_DoS = [2,3,4]\n",
    "to_drop_Probe = [1,3,4]\n",
    "to_drop_R2L = [1,2,4]\n",
    "to_drop_U2R = [1,2,3]\n",
    "\n",
    "DoS_data = kdd_train_set_new[~kdd_train_set_new['label'].isin(to_drop_DoS)];\n",
    "Probe_data = kdd_train_set_new[~kdd_train_set_new['label'].isin(to_drop_Probe)];\n",
    "R2L_data = kdd_train_set_new[~kdd_train_set_new['label'].isin(to_drop_R2L)];\n",
    "U2R_data = kdd_train_set_new[~kdd_train_set_new['label'].isin(to_drop_U2R)];\n",
    "\n",
    "#test\n",
    "DoS_data_test = kdd_test_set_new[~kdd_test_set_new['label'].isin(to_drop_DoS)];\n",
    "Probe_data_test = kdd_test_set_new[~kdd_test_set_new['label'].isin(to_drop_Probe)];\n",
    "R2L_data_test = kdd_test_set_new[~kdd_test_set_new['label'].isin(to_drop_R2L)];\n",
    "U2R_data_test = kdd_test_set_new[~kdd_test_set_new['label'].isin(to_drop_U2R)];\n",
    "\n",
    "print('Trainset:')\n",
    "print('Dimensions of DoS:' ,DoS_data.shape)\n",
    "print('Dimensions of Probe:' ,Probe_data.shape)\n",
    "print('Dimensions of R2L:' ,R2L_data.shape)\n",
    "print('Dimensions of U2R:' ,U2R_data.shape)\n",
    "print('Testset:')\n",
    "print('Dimensions of DoS:' ,DoS_data_test.shape)\n",
    "print('Dimensions of Probe:' ,Probe_data_test.shape)\n",
    "print('Dimensions of R2L:' ,R2L_data_test.shape)\n",
    "print('Dimensions of U2R:' ,U2R_data_test.shape)"
   ]
  },
  {
   "cell_type": "markdown",
   "id": "4077ebe5",
   "metadata": {},
   "source": [
    "## Features Skalieren"
   ]
  },
  {
   "cell_type": "code",
   "execution_count": 30,
   "id": "201aefd4",
   "metadata": {
    "scrolled": false
   },
   "outputs": [
    {
     "data": {
      "text/plain": [
       "(113270, 116)"
      ]
     },
     "execution_count": 30,
     "metadata": {},
     "output_type": "execute_result"
    }
   ],
   "source": [
    "DoS_data.shape"
   ]
  },
  {
   "cell_type": "code",
   "execution_count": 31,
   "id": "ea85e1b3",
   "metadata": {},
   "outputs": [
    {
     "data": {
      "text/plain": [
       "(125973, 116)"
      ]
     },
     "execution_count": 31,
     "metadata": {},
     "output_type": "execute_result"
    }
   ],
   "source": [
    "kdd_train_set_new.shape"
   ]
  },
  {
   "cell_type": "code",
   "execution_count": 32,
   "id": "32b6a60f",
   "metadata": {},
   "outputs": [],
   "source": [
    "# Split dataframes into X & Y\n",
    "# assign X as a dataframe of feautures and Y as a series of outcome variables\n",
    "X_Complete = kdd_train_set_new.drop(columns='label')\n",
    "Y_Complete = kdd_train_set_new.label\n",
    "\n",
    "X_DoS = DoS_data.drop(columns='label')\n",
    "Y_DoS = DoS_data.label\n",
    "\n",
    "X_Probe = Probe_data.drop(columns='label')\n",
    "Y_Probe = Probe_data.label\n",
    "\n",
    "X_R2L = R2L_data.drop(columns='label')\n",
    "Y_R2L = R2L_data.label\n",
    "\n",
    "X_U2R = U2R_data.drop(columns='label')\n",
    "Y_U2R = U2R_data.label\n",
    "\n",
    "# Testset\n",
    "X_Complete_test = kdd_test_set_new.drop(columns='label')\n",
    "Y_Complete_test = kdd_test_set_new.label\n",
    "\n",
    "X_DoS_test = DoS_data_test.drop(columns='label')\n",
    "Y_DoS_test = DoS_data_test.label\n",
    "\n",
    "X_Probe_test = Probe_data_test.drop(columns='label')\n",
    "Y_Probe_test = Probe_data_test.label\n",
    "\n",
    "X_R2L_test = R2L_data_test.drop(columns='label')\n",
    "Y_R2L_test = R2L_data_test.label\n",
    "\n",
    "X_U2R_test = U2R_data_test.drop(columns='label')\n",
    "Y_U2R_test = U2R_data_test.label"
   ]
  },
  {
   "cell_type": "code",
   "execution_count": 33,
   "id": "407e8b29",
   "metadata": {},
   "outputs": [],
   "source": [
    "colNames = list(X_Complete)\n",
    "colNames_test = list(X_Complete_test)"
   ]
  },
  {
   "cell_type": "code",
   "execution_count": 34,
   "id": "9cd55367",
   "metadata": {},
   "outputs": [],
   "source": [
    "scaler_complete = preprocessing.StandardScaler().fit(X_Complete)\n",
    "X_Complete = scaler_complete.transform(X_Complete)\n",
    "\n",
    "scaler_dos = preprocessing.StandardScaler().fit(X_DoS)\n",
    "X_DoS = scaler_dos.transform(X_DoS)\n",
    "\n",
    "scaler_probe = preprocessing.StandardScaler().fit(X_Probe)\n",
    "X_Probe = scaler_probe.transform(X_Probe)\n",
    "\n",
    "scaler_r2l = preprocessing.StandardScaler().fit(X_R2L)\n",
    "X_R2L = scaler_r2l.transform(X_R2L)\n",
    "\n",
    "scaler_u2r = preprocessing.StandardScaler().fit(X_U2R)\n",
    "X_U2R = scaler_u2r.transform(X_U2R)\n",
    "\n",
    "# Testset\n",
    "scaler_complete_test = preprocessing.StandardScaler().fit(X_Complete_test)\n",
    "X_Complete_test = scaler_complete_test.transform(X_Complete_test)\n",
    "\n",
    "scaler_dos_test = preprocessing.StandardScaler().fit(X_DoS_test)\n",
    "X_DoS_test = scaler_dos_test.transform(X_DoS_test)\n",
    "\n",
    "scaler_probe_test = preprocessing.StandardScaler().fit(X_Probe_test)\n",
    "X_Probe_test = scaler_probe_test.transform(X_Probe_test)\n",
    "\n",
    "scaler_r2l_test = preprocessing.StandardScaler().fit(X_R2L_test)\n",
    "X_R2L_test = scaler_r2l_test.transform(X_R2L_test)\n",
    "\n",
    "scaler_u2r_test = preprocessing.StandardScaler().fit(X_U2R_test)\n",
    "X_U2R_test = scaler_u2r_test.transform(X_U2R_test)"
   ]
  },
  {
   "cell_type": "markdown",
   "id": "31dbae33",
   "metadata": {},
   "source": [
    "## Feature Selektion"
   ]
  },
  {
   "cell_type": "markdown",
   "id": "eafec77c",
   "metadata": {},
   "source": [
    "### Heatmap"
   ]
  },
  {
   "cell_type": "code",
   "execution_count": null,
   "id": "07308332",
   "metadata": {},
   "outputs": [],
   "source": []
  },
  {
   "cell_type": "markdown",
   "id": "3292c57b",
   "metadata": {},
   "source": [
    "### ANOVA F-test"
   ]
  },
  {
   "cell_type": "code",
   "execution_count": 35,
   "id": "4ea47f53",
   "metadata": {},
   "outputs": [],
   "source": [
    "np.seterr(divide='ignore', invalid='ignore')\n",
    "selector = SelectPercentile(percentile=10)"
   ]
  },
  {
   "cell_type": "markdown",
   "id": "381f56b7",
   "metadata": {},
   "source": [
    "#### Features Selected: DOS"
   ]
  },
  {
   "cell_type": "code",
   "execution_count": 36,
   "id": "3a39fb9c",
   "metadata": {},
   "outputs": [
    {
     "name": "stdout",
     "output_type": "stream",
     "text": [
      "['logged_in', 'count', 'serror_rate', 'same_srv_rate', 'srv_diff_host_rate', 'dst_host_count', 'dst_host_srv_count', 'difficulty_level', 'service_http', 'service_private', 'flag_S0', 'flag_SF']\n",
      "(113270, 12)\n",
      "(17171, 12)\n"
     ]
    },
    {
     "name": "stderr",
     "output_type": "stream",
     "text": [
      "/home/mw/.local/lib/python3.10/site-packages/sklearn/feature_selection/_univariate_selection.py:112: UserWarning: Features [ 15  37  56  59  61  79 107] are constant.\n",
      "  warnings.warn(\"Features %s are constant.\" % constant_features_idx, UserWarning)\n"
     ]
    }
   ],
   "source": [
    "X_ftest_DoS = selector.fit_transform(X_DoS, Y_DoS)\n",
    "sup = selector.get_support()\n",
    "\n",
    "newcolindex_DoS = [i for i, x in enumerate(sup) if x]\n",
    "newcolname_DoS = list(colNames[i] for i in newcolindex_DoS)\n",
    "X_ftest_DoS_test = X_DoS_test[:, newcolindex_DoS]\n",
    "\n",
    "print(newcolname_DoS)\n",
    "print(X_ftest_DoS.shape)\n",
    "print(X_ftest_DoS_test.shape)"
   ]
  },
  {
   "cell_type": "markdown",
   "id": "e420ca04",
   "metadata": {},
   "source": [
    "#### Features Selected: Probe"
   ]
  },
  {
   "cell_type": "code",
   "execution_count": 37,
   "id": "934eb185",
   "metadata": {},
   "outputs": [
    {
     "name": "stdout",
     "output_type": "stream",
     "text": [
      "['logged_in', 'rerror_rate', 'same_srv_rate', 'dst_host_srv_count', 'dst_host_diff_srv_rate', 'dst_host_same_src_port_rate', 'dst_host_srv_diff_host_rate', 'difficulty_level', 'protocol_type_icmp', 'service_eco_i', 'service_private', 'flag_SF']\n",
      "(78999, 12)\n",
      "(12132, 12)\n"
     ]
    },
    {
     "name": "stderr",
     "output_type": "stream",
     "text": [
      "/home/mw/.local/lib/python3.10/site-packages/sklearn/feature_selection/_univariate_selection.py:112: UserWarning: Features [ 4 15] are constant.\n",
      "  warnings.warn(\"Features %s are constant.\" % constant_features_idx, UserWarning)\n"
     ]
    }
   ],
   "source": [
    "X_ftest_Probe = selector.fit_transform(X_Probe, Y_Probe)\n",
    "sup = selector.get_support()\n",
    "\n",
    "newcolindex_Probe = [i for i, x in enumerate(sup) if x]\n",
    "newcolname_Probe = list(colNames[i] for i in newcolindex_Probe)\n",
    "X_ftest_Probe_test = X_Probe_test[:, newcolindex_Probe]\n",
    "\n",
    "print(newcolname_Probe)\n",
    "print(X_ftest_Probe.shape)\n",
    "print(X_ftest_Probe_test.shape)"
   ]
  },
  {
   "cell_type": "markdown",
   "id": "501dbb96",
   "metadata": {},
   "source": [
    "#### Features Selected: R2L"
   ]
  },
  {
   "cell_type": "code",
   "execution_count": 38,
   "id": "b4e19d2a",
   "metadata": {},
   "outputs": [
    {
     "name": "stdout",
     "output_type": "stream",
     "text": [
      "['dst_bytes', 'hot', 'num_failed_logins', 'is_guest_login', 'dst_host_srv_count', 'dst_host_same_src_port_rate', 'dst_host_srv_diff_host_rate', 'difficulty_level', 'service_ftp', 'service_ftp_data', 'service_http', 'service_imap4']\n",
      "(68338, 12)\n",
      "(12596, 12)\n"
     ]
    },
    {
     "name": "stderr",
     "output_type": "stream",
     "text": [
      "/home/mw/.local/lib/python3.10/site-packages/sklearn/feature_selection/_univariate_selection.py:112: UserWarning: Features [  4  15  36  37  39  40  41  42  43  44  47  50  51  55  56  57  59  60\n",
      "  61  63  64  65  66  67  69  70  71  72  73  74  75  76  79  80  82  85\n",
      "  86  89  91  92  93 100 101 102 103 107] are constant.\n",
      "  warnings.warn(\"Features %s are constant.\" % constant_features_idx, UserWarning)\n"
     ]
    }
   ],
   "source": [
    "X_ftest_R2L = selector.fit_transform(X_R2L, Y_R2L)\n",
    "sup = selector.get_support()\n",
    "\n",
    "newcolindex_R2L = [i for i, x in enumerate(sup) if x]\n",
    "newcolname_R2L = list(colNames[i] for i in newcolindex_R2L)\n",
    "X_ftest_R2L_test = X_R2L_test[:,newcolindex_R2L]\n",
    "\n",
    "print(newcolname_R2L)\n",
    "print(X_ftest_R2L.shape)\n",
    "print(X_ftest_R2L_test.shape)"
   ]
  },
  {
   "cell_type": "markdown",
   "id": "006f1d2f",
   "metadata": {},
   "source": [
    "#### Features Selected: U2R"
   ]
  },
  {
   "cell_type": "code",
   "execution_count": 39,
   "id": "2f257fe2",
   "metadata": {},
   "outputs": [
    {
     "name": "stdout",
     "output_type": "stream",
     "text": [
      "['urgent', 'root_shell', 'num_file_creations', 'num_shells', 'dst_host_count', 'dst_host_srv_count', 'dst_host_same_src_port_rate', 'dst_host_srv_diff_host_rate', 'difficulty_level', 'service_ftp_data', 'service_http', 'service_telnet']\n",
      "(67395, 12)\n",
      "(9778, 12)\n"
     ]
    },
    {
     "name": "stderr",
     "output_type": "stream",
     "text": [
      "/home/mw/.local/lib/python3.10/site-packages/sklearn/feature_selection/_univariate_selection.py:112: UserWarning: Features [  4  15  36  37  39  40  41  42  43  44  47  50  51  55  56  57  59  60\n",
      "  61  63  64  65  66  67  68  69  70  71  72  73  74  75  76  79  80  82\n",
      "  85  86  89  91  92  93 100 101 102 103 107] are constant.\n",
      "  warnings.warn(\"Features %s are constant.\" % constant_features_idx, UserWarning)\n"
     ]
    }
   ],
   "source": [
    "X_ftest_U2R = selector.fit_transform(X_U2R, Y_U2R)\n",
    "sup = selector.get_support()\n",
    "\n",
    "newcolindex_U2R = [i for i, x in enumerate(sup) if x]\n",
    "newcolname_U2R = list(colNames[i] for i in newcolindex_U2R)\n",
    "X_ftest_U2R_test = X_U2R_test[:, newcolindex_U2R]\n",
    "\n",
    "print(newcolname_U2R)\n",
    "print(X_ftest_U2R.shape)\n",
    "print(X_ftest_U2R_test.shape)"
   ]
  },
  {
   "cell_type": "markdown",
   "id": "d4140d56",
   "metadata": {},
   "source": [
    "## Modelle Aufbauen"
   ]
  },
  {
   "cell_type": "markdown",
   "id": "d0f82f43",
   "metadata": {},
   "source": [
    "### Needed Functions"
   ]
  },
  {
   "cell_type": "code",
   "execution_count": 40,
   "id": "124637e4",
   "metadata": {},
   "outputs": [],
   "source": [
    "def train(model, x_data, y_data):\n",
    "    start_time = time.time()\n",
    "    model.fit(x_data, y_data)\n",
    "    end_time = time.time()\n",
    "    return end_time - start_time\n",
    "    \n",
    "def predict(model, data):\n",
    "    start_time = time.time()\n",
    "    predicted = model.predict(data)\n",
    "    end_time = time.time()\n",
    "    return (end_time-start_time, predicted)\n",
    "\n",
    "def printStats(train_time, pred_time, name, y_data, predicted):\n",
    "    print(name)\n",
    "    print(f\"Training Time:   {train_time}\")\n",
    "    print(f\"Prediction Time: {pred_time}\")\n",
    "    print(f\"Accuracy:        {accuracy_score(y_data, predicted)}\")\n",
    "    print(\"Report:\")\n",
    "    print(classification_report(Y_DoS_test, predicted))\n",
    "    \n",
    "    \n",
    "def getConfusionMatrix(y_data, predicted, name, class_names):\n",
    "    # Get and reshape confusion matrix data\n",
    "    matrix = confusion_matrix(y_data, predicted)\n",
    "    matrix = matrix.astype(\"float\") / matrix.sum(axis=1)[:, np.newaxis]\n",
    "\n",
    "    # Build the plot\n",
    "    plt.figure(figsize=(16,7))\n",
    "    sns.set(font_scale=1.4)\n",
    "    sns.heatmap(matrix, annot=True, annot_kws={\"size\":10}, cmap=plt.cm.Greens, linewidths=0.2)\n",
    "\n",
    "    tick_marks = np.arange(len(class_names))\n",
    "    tick_marks2 = tick_marks + 0.5\n",
    "    plt.xticks(tick_marks, class_names, rotation=25)\n",
    "    plt.yticks(tick_marks2, class_names, rotation=0)\n",
    "    plt.xlabel(\"Predicted label\")\n",
    "    plt.ylabel(\"True label\")\n",
    "    plt.title(f\"Confusion Matrix for {name}\")\n",
    "    plt.show()\n",
    "    "
   ]
  },
  {
   "cell_type": "markdown",
   "id": "ab661ec3",
   "metadata": {},
   "source": [
    "### Random Forest"
   ]
  },
  {
   "cell_type": "code",
   "execution_count": 41,
   "id": "e67913fc",
   "metadata": {},
   "outputs": [],
   "source": [
    "from sklearn.ensemble import RandomForestClassifier\n",
    "\n",
    "rf = RandomForestClassifier(n_estimators=500, max_depth=20)\n",
    "rf_ftest = RandomForestClassifier(n_estimators=500, max_depth=20)"
   ]
  },
  {
   "cell_type": "code",
   "execution_count": null,
   "id": "bed88a37",
   "metadata": {},
   "outputs": [],
   "source": [
    "train_timeNeeded = train(rf, X_DoS, Y_DoS)"
   ]
  },
  {
   "cell_type": "code",
   "execution_count": null,
   "id": "39636efa",
   "metadata": {},
   "outputs": [],
   "source": [
    "train_timeNeeded_ftest = train(X_ftest_DoS, Y_DoS, rf_ftest)"
   ]
  },
  {
   "cell_type": "code",
   "execution_count": null,
   "id": "4d69a4b6",
   "metadata": {},
   "outputs": [],
   "source": [
    "predict_timeNeeded_ftest, predicted = predict(rf_ftest, X_ftest_DoS_test)"
   ]
  },
  {
   "cell_type": "code",
   "execution_count": null,
   "id": "a04c1151",
   "metadata": {},
   "outputs": [],
   "source": [
    "printSmallStats(train_timeNeeded_ftest, predict_timeNeeded_ftest, \"Random Forest\", Y_DoS_test, predicted)"
   ]
  },
  {
   "cell_type": "code",
   "execution_count": null,
   "id": "8cbc16cf",
   "metadata": {},
   "outputs": [],
   "source": [
    "getConfusionMatrix(Y_DoS_test, predicted, \"Random Forest\",, Y_DoS_test.values())"
   ]
  },
  {
   "cell_type": "code",
   "execution_count": null,
   "id": "7154fdeb",
   "metadata": {},
   "outputs": [],
   "source": [
    "accuracy_score(Y_DoS_test, predicted)\n",
    "rf_ftest.score(X_ftest_Dos, Y_DoS)"
   ]
  },
  {
   "cell_type": "code",
   "execution_count": null,
   "id": "d10a7220",
   "metadata": {
    "scrolled": true
   },
   "outputs": [],
   "source": [
    "print(classification_report(Y_DoS_test, predicted))"
   ]
  },
  {
   "cell_type": "code",
   "execution_count": null,
   "id": "d6b4e92d",
   "metadata": {},
   "outputs": [],
   "source": [
    "Y_DoS_test.value_counts()"
   ]
  },
  {
   "cell_type": "code",
   "execution_count": null,
   "id": "f7349b92",
   "metadata": {},
   "outputs": [],
   "source": []
  }
 ],
 "metadata": {
  "kernelspec": {
   "display_name": "Python 3 (ipykernel)",
   "language": "python",
   "name": "python3"
  },
  "language_info": {
   "codemirror_mode": {
    "name": "ipython",
    "version": 3
   },
   "file_extension": ".py",
   "mimetype": "text/x-python",
   "name": "python",
   "nbconvert_exporter": "python",
   "pygments_lexer": "ipython3",
   "version": "3.10.4"
  }
 },
 "nbformat": 4,
 "nbformat_minor": 5
}
