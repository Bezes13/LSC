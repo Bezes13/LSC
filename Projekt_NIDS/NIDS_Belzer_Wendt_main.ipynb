{
 "cells": [
  {
   "cell_type": "markdown",
   "id": "166ae1ec",
   "metadata": {},
   "source": [
    "# Network Intrusion Detection using modern Machine Learning "
   ]
  },
  {
   "cell_type": "code",
   "execution_count": null,
   "id": "aef979b6",
   "metadata": {},
   "outputs": [],
   "source": []
  }
 ],
 "metadata": {
  "kernelspec": {
   "display_name": "Python 3 (ipykernel)",
   "language": "python",
   "name": "python3"
  },
  "language_info": {
   "codemirror_mode": {
    "name": "ipython",
    "version": 3
   },
   "file_extension": ".py",
   "mimetype": "text/x-python",
   "name": "python",
   "nbconvert_exporter": "python",
   "pygments_lexer": "ipython3",
   "version": "3.10.4"
  }
 },
 "nbformat": 4,
 "nbformat_minor": 5
}
