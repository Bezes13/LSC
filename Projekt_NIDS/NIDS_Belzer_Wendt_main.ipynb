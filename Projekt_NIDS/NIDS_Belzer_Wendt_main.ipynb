{
 "cells": [
  {
   "cell_type": "markdown",
   "id": "36a3fb92",
   "metadata": {},
   "source": [
    "# Network Intrusion Detection mit modernem Machine Learning"
   ]
  },
  {
   "cell_type": "markdown",
   "id": "c5f61953",
   "metadata": {},
   "source": [
    "# Fach: Learning & Softcomputing\n",
    "\n",
    "Geschreiben von:  \n",
    "Alexander Belzer (Matr.Nr. inf104862)  \n",
    "Maximilian Wendt (Matr.Nr. its105814)\n",
    "    \n",
    "Betreut von:  \n",
    "Prof. Dr. Ulrich Hoffmann"
   ]
  },
  {
   "cell_type": "markdown",
   "id": "c65b6cd2",
   "metadata": {},
   "source": [
    "## Inhaltsverzeichnis\n",
    "1. [Einfuehrung](#einfuehrung)\n",
    "2. [Datensatz NSL-KDD und Alternativen](#datensatz-nsl-kdd-und-alternativen)\n",
    "3. [Einbinden der benoetigten Bibiliotheken mit Versionsangabe](#einbinden-der-benoetigten-bibiliotheken-mit-versionsangabe)\n",
    "4. [Lesen und kennenlernen der Daten](#lesen-und-kennenlernen-der-daten)\n",
    "5. [Daten Aufbereitung](#daten-aufbereitung)"
   ]
  },
  {
   "cell_type": "markdown",
   "id": "5567ff2f",
   "metadata": {},
   "source": [
    "## Einfuehrung\n",
    "\n",
    "Durch die stätig wachsende Nutzung und Weiterentwicklung von IT-Systemen, werden auch Angreifer immer mehr aufmerksam auf diese Systeme. Netzwerk-Sicherheit ist ein fundamentales Konzept geworden, um wichtige Daten und System zu schützen. Zur implementierung von Netzwerk-Sicherheit werden verschiedene Technologien wie Firewalls, VPNs, Antivirus-Software und Netwrok Intrusion Detection Systeme (NIDS) genutzt. Letzteres ist eine Möglichkeit den Datenfluss einen Netzwerkes konstanst zu beobachten und [dabei potientielle sicherheitsrelevante Vorfälle zu detektieren](https://www.juniper.net/de/de/research-topics/what-is-ids-ips.html). Die Idee von IDS wurde 1980 von Jim Anderson vorgestellt. Seither wurde die IDS Technologie immer weiter entwickelt und angepasst.  \n",
    "Durch immer stätig wachsende komplexität der genuzten Netzwerke müssen auch NIDS Technologien immer besser werden. Bisherige NIDS implementierungen wurden größtenteils auf [basis von Signaturen entwickelt](https://www.researchgate.net/profile/Miguel-Correia-13/publication/338301657_Big_Data_Analytics_for_Intrusion_Detection/links/6058818f299bf173675cacbe/Big-Data-Analytics-for-Intrusion-Detection.pdf), die Angriffe durch einfaches vergleichen erkennen sollten. Signatur basierte NIDS sind [beschränkt auf bekannte Angriffstechniken](https://www.cse.wustl.edu/%7Ejain/cse571-07/ftp/ids/) und damit machtlos gegen Zero-Day exploits. Weiterhin können Signatur basierte NIDS durch die wachsende Anzahl von möglichen Angriffen [ineffizient werden](https://www.cse.wustl.edu/%7Ejain/cse571-07/ftp/ids/), da für jedes beobachtete Datenpaket alle möglichen Angriffsignaturen überprüft werden muss.  \n",
    "Um diese Umstände zu verbessen können moderne Machine Learning Modelle genutzt werden. Die Modelle werden genutzt, um auf Anomalien im Datenverkehr hinzuweisen. Durch die schnelle Entwicklung von Machine Learning setzen immer mehr [NIDS Produkte auf diese Technologie](https://www.cse.wustl.edu/%7Ejain/cse571-07/ftp/ids/#sec4).  \n",
    "In dieser Arbeit werden wir verschiedene Machine Learning Modelle trainieren und zeigen wie gut diese Modelle darin sind Anomalien zu entdecken.  \n",
    "Als Basis dieser Arbeit wurde das Paper \"[Herve Nkiama, Syed Zainudeen Mohd Said, Muhammad Saidu: A Subset Feature Elimination Mechanism for Intrusion Detection System](https://thesai.org/Downloads/Volume7No4/Paper_19-A_Subset_Feature_Elimination_Mechanism_for_Intrusion_Detection_System.pdf)\" genutzt"
   ]
  },
  {
   "cell_type": "markdown",
   "id": "fd09d371",
   "metadata": {},
   "source": [
    "## Datensatz NSL-KDD und Alternativen\n",
    "\n",
    "In diesem Kapitel stellen wir den in dieser Arbeit genutzten Datensatz vor. Außerdem präsentieren wir noch einige zusätzliche Datensätze die als alternative für andere Projekte ich betracht gezogen werden können.\n",
    "\n",
    "### NSL-KDD\n",
    "\n",
    "Das MIT Lincoln Lab entwickelte den [KDD 1999 Datensatz](http://kdd.ics.uci.edu/databases/kddcup99), der bis in das letzte Jahrzenht von Forschen genutzt wurde. Der Datensatz hält eine große Anzahl von Einträgen und Attributen, was ihn besonders nützlich für die Arbeit mit Machine Learning macht. Allerdings, weist der Datensatz [siginifikante Mängel](https://dl.acm.org/doi/10.1145/382912.382923) auf. Zu diesen Mängeln gehören eine nicht triviale Menge an Redundanten einträgen, was die Performance von Maschine Learning beeinträchtigen kann. Außerdem befinden sich doppelte Einträge innerhalb des Test Datensatzes, was zu [Voreingenommenheit bei der Detektion von Anomalien führen kann](https://thesai.org/Downloads/Volume7No4/Paper_19-A_Subset_Feature_Elimination_Mechanism_for_Intrusion_Detection_System.pdf).  \n",
    "Aus diesen Gründen wurde der [NSL-KDD Datensatz](https://www.kaggle.com/hassan06/nslkdd) entwickelt. Dieser Datensatz soll  gegenüber seinem Vörgänger folgende Verbesserungen aufweisen:"
   ]
  },
  {
   "cell_type": "markdown",
   "id": "8a38f703",
   "metadata": {},
   "source": [
    "+ Es werden keine redundanten Datensätze in die Trainingsmenge aufgenommen, so dass die Klassifikatoren nicht auf häufigere Datensätze ausgerichtet sind.\n",
    "+ In den vorgeschlagenen Testsätzen gibt es keine doppelten Datensätze; daher wird die Performanz der Modelle nicht durch die Methoden verzerrt, die bessere Erkennungsraten bei den häufigen Datensätzen haben.\n",
    "+ Die Anzahl der ausgewählten Datensätze aus jedem Schwiergkeitalevel ist umgekehrt proportional zu dem Prozentsatz der Datensätze im ursprünglichen KDD-Datensatz. Infolgedessen variieren die Klassifizierungsraten verschiedener maschineller Lernmethoden in einem größeren Bereich, was eine genaue Bewertung der verschiedenen Lerntechniken effizienter macht.\n",
    "+ Die Anzahl der Datensätze in den Trainings- und Testdatensätzen ist überschaubarer, so dass es erschwinglich ist, die Experimente mit dem gesamten Satz durchzuführen, ohne dass ein kleiner Teil zufällig ausgewählt werden muss. Infolgedessen werden die Bewertungsergebnisse verschiedener Forschungsarbeiten konsistent und vergleichbar sein.  "
   ]
  },
  {
   "cell_type": "markdown",
   "id": "9a57c405",
   "metadata": {},
   "source": [
    "Wir haben uns für diesen Datensatz entschieden, da es eine große Anzahl bestehender Arbeiten zu diesem Datensatz und seinem Vorgänger gibt."
   ]
  },
  {
   "cell_type": "markdown",
   "id": "9799d23a",
   "metadata": {},
   "source": [
    "### Alternative Datensätze\n",
    "\n",
    "Bei der Recherche zu möglchen Datensätzen sind wir auf weitere Datensätze gestoßen, die für zukünfige Arbeiten ebenfalls Potential haben. Hier eine kurze Vorstellungen dieser Datensätze:"
   ]
  },
  {
   "cell_type": "markdown",
   "id": "dfad7904",
   "metadata": {},
   "source": [
    "+ **Kyoto2006\\+**: Dieser Datensatz wurde aus den Aufzeichnungen des Netzwerkverkehrs erstellt, die durch den Einsatz von Honeypots, Darknet-Sensoren, E-Mail-Servern, Web-Crawlern und anderen Netzwerksicherheitsmaßnahmen der Universität Kyoto gewonnen wurden. Der aktuellste Datensatz umfasst die Verkehrsaufzeichnungen von 2006 bis 2015. Jeder Datensatz hat 24 statistische Merkmale, von denen 14 aus dem KDD 1999-Datensatz stammen, während die restlichen 10 zusätzliche Merkmale sind  \n",
    "+ **UNSW-NB15**: Dieser Datensatz wurde vom Australian Center für Cyber Security erstellt. Er enthält etwa zwei Millionen Datensätze mit insgesamt 49 Attributen, die mit Bro-IDS, Argus-Tools und einigen neu entwickelten Algorithmen extrahiert wurden. Dieser Datensatz enthält die folgenden Angriffsarten: Würmer, Shellcode, Aufklärungsangriffe, Port-Scans, generische Angriffe, Backdoor, DoS, Exploits und Fuzzers.  \n",
    "+ **CIC-IDS2017**: Dieser Datensatz wurde 2017 vom Canadian Institute of Cyber Security (CIC) erstellt. Er enthält die normalen Datenströme und Angriffe. Der Netzwerkverkehr wird von CICFlowMeter anhand von Zeitstempeln, Quell- und Ziel-IP-Adressen, Protokollen und Angriffen analysiert. Darüber hinaus enthält CICIDS2017 gängige Angriffsszenarien wie Brute-Force-Angriffe, Heartbleed-Angriffe, Botnets, Denial-of-Service-Angriffe (DoS), verteilte DoS-Angriffe (DDoS), Web-Angriffe und Infiltrationsangriffe."
   ]
  },
  {
   "cell_type": "markdown",
   "id": "ed4476a6",
   "metadata": {},
   "source": [
    "## Einbinden der benoetigten Bibiliotheken mit Versionsangabe"
   ]
  },
  {
   "cell_type": "code",
   "execution_count": 1,
   "id": "e7a3425f",
   "metadata": {},
   "outputs": [
    {
     "name": "stdout",
     "output_type": "stream",
     "text": [
      "General Info:       3.10.4 (main, Apr  2 2022, 09:04:19) [GCC 11.2.0]\n",
      "Pandas Version:     1.4.2\n",
      "Numpy Version:      1.21.5\n",
      "SkLearn Version:    1.1.0\n",
      "matplotlib Version: 3.5.1\n"
     ]
    }
   ],
   "source": [
    "import pandas as pd\n",
    "import numpy as np\n",
    "import sys\n",
    "import os\n",
    "import sklearn\n",
    "import matplotlib\n",
    "import time\n",
    "import matplotlib.pyplot as plt\n",
    "import seaborn as sns\n",
    "\n",
    "from time import time\n",
    "from sklearn.metrics import accuracy_score\n",
    "\n",
    "print(f\"General Info:       {sys.version}\")\n",
    "print(f\"Pandas Version:     {pd.__version__}\")\n",
    "print(f\"Numpy Version:      {np.__version__}\")\n",
    "print(f\"SkLearn Version:    {sklearn.__version__}\")\n",
    "print(f\"matplotlib Version: {matplotlib.__version__}\")"
   ]
  },
  {
   "cell_type": "markdown",
   "id": "440b4411",
   "metadata": {},
   "source": [
    "## Lesen und kennenlernen der Daten\n",
    "\n",
    "In diesem Kapitel werden die Trainingsdaten und Testdaten eingelesen. Gleichzeitig beschriften wir die Daten richtig und bekommen eine erste übersicht über die Daten. Wir lassen uns ebenfalls verschiedenste statistische Werde der Daten ausgeben.\n",
    "\n",
    "### Erstes Lesen der Daten und hinzufügen von Spaltenbezeichnungen\n",
    "\n",
    "Bevor die Daten im NSL-KDD Datensatz für verschiede ML Modelle genutzt werden können, müssen diese erstmal eingelesen werden. Hierbei werden die einzelnen Spalten auch mit den richtigen Bezeichnungen versehen."
   ]
  },
  {
   "cell_type": "code",
   "execution_count": 2,
   "id": "d89b0878",
   "metadata": {},
   "outputs": [],
   "source": [
    "# OS Pfad der Daten aufbauen\n",
    "kdd_train_set_path = os.path.join(\"nsl-kdd\", \"KDDTrain+.txt\")\n",
    "kdd_test_set_path  = os.path.join(\"nsl-kdd\", \"KDDTest+.txt\")\n",
    "\n",
    "# Array mit Spaltennamen\n",
    "col_names = [\"duration\",\"protocol_type\",\"service\",\"flag\",\"src_bytes\",\n",
    "    \"dst_bytes\",\"land\",\"wrong_fragment\",\"urgent\",\"hot\",\"num_failed_logins\",\n",
    "    \"logged_in\",\"num_compromised\",\"root_shell\",\"su_attempted\",\"num_root\",\n",
    "    \"num_file_creations\",\"num_shells\",\"num_access_files\",\"num_outbound_cmds\",\n",
    "    \"is_host_login\",\"is_guest_login\",\"count\",\"srv_count\",\"serror_rate\",\n",
    "    \"srv_serror_rate\",\"rerror_rate\",\"srv_rerror_rate\",\"same_srv_rate\",\n",
    "    \"diff_srv_rate\",\"srv_diff_host_rate\",\"dst_host_count\",\"dst_host_srv_count\",\n",
    "    \"dst_host_same_srv_rate\",\"dst_host_diff_srv_rate\",\"dst_host_same_src_port_rate\",\n",
    "    \"dst_host_srv_diff_host_rate\",\"dst_host_serror_rate\",\"dst_host_srv_serror_rate\",\n",
    "    \"dst_host_rerror_rate\",\"dst_host_srv_rerror_rate\",\"label\"]\n",
    "\n",
    "# Lesen der Daten und gleichzeitges zuordnen der Spaltennamen\n",
    "df_train = pd.read_csv(kdd_train_set_path, header=None, names = col_names)\n",
    "df_test  = pd.read_csv(kdd_test_set_path, header=None, names = col_names)"
   ]
  },
  {
   "cell_type": "markdown",
   "id": "932eb119",
   "metadata": {},
   "source": [
    "### Erste Sicht auf die Daten"
   ]
  },
  {
   "cell_type": "code",
   "execution_count": 3,
   "id": "62b9cd85",
   "metadata": {},
   "outputs": [
    {
     "data": {
      "text/html": [
       "<div>\n",
       "<style scoped>\n",
       "    .dataframe tbody tr th:only-of-type {\n",
       "        vertical-align: middle;\n",
       "    }\n",
       "\n",
       "    .dataframe tbody tr th {\n",
       "        vertical-align: top;\n",
       "    }\n",
       "\n",
       "    .dataframe thead th {\n",
       "        text-align: right;\n",
       "    }\n",
       "</style>\n",
       "<table border=\"1\" class=\"dataframe\">\n",
       "  <thead>\n",
       "    <tr style=\"text-align: right;\">\n",
       "      <th></th>\n",
       "      <th>duration</th>\n",
       "      <th>protocol_type</th>\n",
       "      <th>service</th>\n",
       "      <th>flag</th>\n",
       "      <th>src_bytes</th>\n",
       "      <th>dst_bytes</th>\n",
       "      <th>land</th>\n",
       "      <th>wrong_fragment</th>\n",
       "      <th>urgent</th>\n",
       "      <th>hot</th>\n",
       "      <th>...</th>\n",
       "      <th>dst_host_srv_count</th>\n",
       "      <th>dst_host_same_srv_rate</th>\n",
       "      <th>dst_host_diff_srv_rate</th>\n",
       "      <th>dst_host_same_src_port_rate</th>\n",
       "      <th>dst_host_srv_diff_host_rate</th>\n",
       "      <th>dst_host_serror_rate</th>\n",
       "      <th>dst_host_srv_serror_rate</th>\n",
       "      <th>dst_host_rerror_rate</th>\n",
       "      <th>dst_host_srv_rerror_rate</th>\n",
       "      <th>label</th>\n",
       "    </tr>\n",
       "  </thead>\n",
       "  <tbody>\n",
       "    <tr>\n",
       "      <th>0</th>\n",
       "      <td>0</td>\n",
       "      <td>tcp</td>\n",
       "      <td>ftp_data</td>\n",
       "      <td>SF</td>\n",
       "      <td>491</td>\n",
       "      <td>0</td>\n",
       "      <td>0</td>\n",
       "      <td>0</td>\n",
       "      <td>0</td>\n",
       "      <td>0</td>\n",
       "      <td>...</td>\n",
       "      <td>25</td>\n",
       "      <td>0.17</td>\n",
       "      <td>0.03</td>\n",
       "      <td>0.17</td>\n",
       "      <td>0.00</td>\n",
       "      <td>0.00</td>\n",
       "      <td>0.00</td>\n",
       "      <td>0.05</td>\n",
       "      <td>0.00</td>\n",
       "      <td>normal</td>\n",
       "    </tr>\n",
       "    <tr>\n",
       "      <th>1</th>\n",
       "      <td>0</td>\n",
       "      <td>udp</td>\n",
       "      <td>other</td>\n",
       "      <td>SF</td>\n",
       "      <td>146</td>\n",
       "      <td>0</td>\n",
       "      <td>0</td>\n",
       "      <td>0</td>\n",
       "      <td>0</td>\n",
       "      <td>0</td>\n",
       "      <td>...</td>\n",
       "      <td>1</td>\n",
       "      <td>0.00</td>\n",
       "      <td>0.60</td>\n",
       "      <td>0.88</td>\n",
       "      <td>0.00</td>\n",
       "      <td>0.00</td>\n",
       "      <td>0.00</td>\n",
       "      <td>0.00</td>\n",
       "      <td>0.00</td>\n",
       "      <td>normal</td>\n",
       "    </tr>\n",
       "    <tr>\n",
       "      <th>2</th>\n",
       "      <td>0</td>\n",
       "      <td>tcp</td>\n",
       "      <td>private</td>\n",
       "      <td>S0</td>\n",
       "      <td>0</td>\n",
       "      <td>0</td>\n",
       "      <td>0</td>\n",
       "      <td>0</td>\n",
       "      <td>0</td>\n",
       "      <td>0</td>\n",
       "      <td>...</td>\n",
       "      <td>26</td>\n",
       "      <td>0.10</td>\n",
       "      <td>0.05</td>\n",
       "      <td>0.00</td>\n",
       "      <td>0.00</td>\n",
       "      <td>1.00</td>\n",
       "      <td>1.00</td>\n",
       "      <td>0.00</td>\n",
       "      <td>0.00</td>\n",
       "      <td>neptune</td>\n",
       "    </tr>\n",
       "    <tr>\n",
       "      <th>3</th>\n",
       "      <td>0</td>\n",
       "      <td>tcp</td>\n",
       "      <td>http</td>\n",
       "      <td>SF</td>\n",
       "      <td>232</td>\n",
       "      <td>8153</td>\n",
       "      <td>0</td>\n",
       "      <td>0</td>\n",
       "      <td>0</td>\n",
       "      <td>0</td>\n",
       "      <td>...</td>\n",
       "      <td>255</td>\n",
       "      <td>1.00</td>\n",
       "      <td>0.00</td>\n",
       "      <td>0.03</td>\n",
       "      <td>0.04</td>\n",
       "      <td>0.03</td>\n",
       "      <td>0.01</td>\n",
       "      <td>0.00</td>\n",
       "      <td>0.01</td>\n",
       "      <td>normal</td>\n",
       "    </tr>\n",
       "    <tr>\n",
       "      <th>4</th>\n",
       "      <td>0</td>\n",
       "      <td>tcp</td>\n",
       "      <td>http</td>\n",
       "      <td>SF</td>\n",
       "      <td>199</td>\n",
       "      <td>420</td>\n",
       "      <td>0</td>\n",
       "      <td>0</td>\n",
       "      <td>0</td>\n",
       "      <td>0</td>\n",
       "      <td>...</td>\n",
       "      <td>255</td>\n",
       "      <td>1.00</td>\n",
       "      <td>0.00</td>\n",
       "      <td>0.00</td>\n",
       "      <td>0.00</td>\n",
       "      <td>0.00</td>\n",
       "      <td>0.00</td>\n",
       "      <td>0.00</td>\n",
       "      <td>0.00</td>\n",
       "      <td>normal</td>\n",
       "    </tr>\n",
       "  </tbody>\n",
       "</table>\n",
       "<p>5 rows × 42 columns</p>\n",
       "</div>"
      ],
      "text/plain": [
       "   duration protocol_type   service flag  src_bytes  dst_bytes  land  \\\n",
       "0         0           tcp  ftp_data   SF        491          0     0   \n",
       "1         0           udp     other   SF        146          0     0   \n",
       "2         0           tcp   private   S0          0          0     0   \n",
       "3         0           tcp      http   SF        232       8153     0   \n",
       "4         0           tcp      http   SF        199        420     0   \n",
       "\n",
       "   wrong_fragment  urgent  hot  ...  dst_host_srv_count  \\\n",
       "0               0       0    0  ...                  25   \n",
       "1               0       0    0  ...                   1   \n",
       "2               0       0    0  ...                  26   \n",
       "3               0       0    0  ...                 255   \n",
       "4               0       0    0  ...                 255   \n",
       "\n",
       "   dst_host_same_srv_rate  dst_host_diff_srv_rate  \\\n",
       "0                    0.17                    0.03   \n",
       "1                    0.00                    0.60   \n",
       "2                    0.10                    0.05   \n",
       "3                    1.00                    0.00   \n",
       "4                    1.00                    0.00   \n",
       "\n",
       "   dst_host_same_src_port_rate  dst_host_srv_diff_host_rate  \\\n",
       "0                         0.17                         0.00   \n",
       "1                         0.88                         0.00   \n",
       "2                         0.00                         0.00   \n",
       "3                         0.03                         0.04   \n",
       "4                         0.00                         0.00   \n",
       "\n",
       "   dst_host_serror_rate  dst_host_srv_serror_rate  dst_host_rerror_rate  \\\n",
       "0                  0.00                      0.00                  0.05   \n",
       "1                  0.00                      0.00                  0.00   \n",
       "2                  1.00                      1.00                  0.00   \n",
       "3                  0.03                      0.01                  0.00   \n",
       "4                  0.00                      0.00                  0.00   \n",
       "\n",
       "   dst_host_srv_rerror_rate    label  \n",
       "0                      0.00   normal  \n",
       "1                      0.00   normal  \n",
       "2                      0.00  neptune  \n",
       "3                      0.01   normal  \n",
       "4                      0.00   normal  \n",
       "\n",
       "[5 rows x 42 columns]"
      ]
     },
     "execution_count": 3,
     "metadata": {},
     "output_type": "execute_result"
    }
   ],
   "source": [
    "df_train.head()"
   ]
  },
  {
   "cell_type": "code",
   "execution_count": 4,
   "id": "677e6a69",
   "metadata": {},
   "outputs": [
    {
     "data": {
      "text/html": [
       "<div>\n",
       "<style scoped>\n",
       "    .dataframe tbody tr th:only-of-type {\n",
       "        vertical-align: middle;\n",
       "    }\n",
       "\n",
       "    .dataframe tbody tr th {\n",
       "        vertical-align: top;\n",
       "    }\n",
       "\n",
       "    .dataframe thead th {\n",
       "        text-align: right;\n",
       "    }\n",
       "</style>\n",
       "<table border=\"1\" class=\"dataframe\">\n",
       "  <thead>\n",
       "    <tr style=\"text-align: right;\">\n",
       "      <th></th>\n",
       "      <th>duration</th>\n",
       "      <th>protocol_type</th>\n",
       "      <th>service</th>\n",
       "      <th>flag</th>\n",
       "      <th>src_bytes</th>\n",
       "      <th>dst_bytes</th>\n",
       "      <th>land</th>\n",
       "      <th>wrong_fragment</th>\n",
       "      <th>urgent</th>\n",
       "      <th>hot</th>\n",
       "      <th>...</th>\n",
       "      <th>dst_host_srv_count</th>\n",
       "      <th>dst_host_same_srv_rate</th>\n",
       "      <th>dst_host_diff_srv_rate</th>\n",
       "      <th>dst_host_same_src_port_rate</th>\n",
       "      <th>dst_host_srv_diff_host_rate</th>\n",
       "      <th>dst_host_serror_rate</th>\n",
       "      <th>dst_host_srv_serror_rate</th>\n",
       "      <th>dst_host_rerror_rate</th>\n",
       "      <th>dst_host_srv_rerror_rate</th>\n",
       "      <th>label</th>\n",
       "    </tr>\n",
       "  </thead>\n",
       "  <tbody>\n",
       "    <tr>\n",
       "      <th>0</th>\n",
       "      <td>0</td>\n",
       "      <td>tcp</td>\n",
       "      <td>private</td>\n",
       "      <td>REJ</td>\n",
       "      <td>0</td>\n",
       "      <td>0</td>\n",
       "      <td>0</td>\n",
       "      <td>0</td>\n",
       "      <td>0</td>\n",
       "      <td>0</td>\n",
       "      <td>...</td>\n",
       "      <td>10</td>\n",
       "      <td>0.04</td>\n",
       "      <td>0.06</td>\n",
       "      <td>0.00</td>\n",
       "      <td>0.00</td>\n",
       "      <td>0.0</td>\n",
       "      <td>0.0</td>\n",
       "      <td>1.00</td>\n",
       "      <td>1.00</td>\n",
       "      <td>neptune</td>\n",
       "    </tr>\n",
       "    <tr>\n",
       "      <th>1</th>\n",
       "      <td>0</td>\n",
       "      <td>tcp</td>\n",
       "      <td>private</td>\n",
       "      <td>REJ</td>\n",
       "      <td>0</td>\n",
       "      <td>0</td>\n",
       "      <td>0</td>\n",
       "      <td>0</td>\n",
       "      <td>0</td>\n",
       "      <td>0</td>\n",
       "      <td>...</td>\n",
       "      <td>1</td>\n",
       "      <td>0.00</td>\n",
       "      <td>0.06</td>\n",
       "      <td>0.00</td>\n",
       "      <td>0.00</td>\n",
       "      <td>0.0</td>\n",
       "      <td>0.0</td>\n",
       "      <td>1.00</td>\n",
       "      <td>1.00</td>\n",
       "      <td>neptune</td>\n",
       "    </tr>\n",
       "    <tr>\n",
       "      <th>2</th>\n",
       "      <td>2</td>\n",
       "      <td>tcp</td>\n",
       "      <td>ftp_data</td>\n",
       "      <td>SF</td>\n",
       "      <td>12983</td>\n",
       "      <td>0</td>\n",
       "      <td>0</td>\n",
       "      <td>0</td>\n",
       "      <td>0</td>\n",
       "      <td>0</td>\n",
       "      <td>...</td>\n",
       "      <td>86</td>\n",
       "      <td>0.61</td>\n",
       "      <td>0.04</td>\n",
       "      <td>0.61</td>\n",
       "      <td>0.02</td>\n",
       "      <td>0.0</td>\n",
       "      <td>0.0</td>\n",
       "      <td>0.00</td>\n",
       "      <td>0.00</td>\n",
       "      <td>normal</td>\n",
       "    </tr>\n",
       "    <tr>\n",
       "      <th>3</th>\n",
       "      <td>0</td>\n",
       "      <td>icmp</td>\n",
       "      <td>eco_i</td>\n",
       "      <td>SF</td>\n",
       "      <td>20</td>\n",
       "      <td>0</td>\n",
       "      <td>0</td>\n",
       "      <td>0</td>\n",
       "      <td>0</td>\n",
       "      <td>0</td>\n",
       "      <td>...</td>\n",
       "      <td>57</td>\n",
       "      <td>1.00</td>\n",
       "      <td>0.00</td>\n",
       "      <td>1.00</td>\n",
       "      <td>0.28</td>\n",
       "      <td>0.0</td>\n",
       "      <td>0.0</td>\n",
       "      <td>0.00</td>\n",
       "      <td>0.00</td>\n",
       "      <td>saint</td>\n",
       "    </tr>\n",
       "    <tr>\n",
       "      <th>4</th>\n",
       "      <td>1</td>\n",
       "      <td>tcp</td>\n",
       "      <td>telnet</td>\n",
       "      <td>RSTO</td>\n",
       "      <td>0</td>\n",
       "      <td>15</td>\n",
       "      <td>0</td>\n",
       "      <td>0</td>\n",
       "      <td>0</td>\n",
       "      <td>0</td>\n",
       "      <td>...</td>\n",
       "      <td>86</td>\n",
       "      <td>0.31</td>\n",
       "      <td>0.17</td>\n",
       "      <td>0.03</td>\n",
       "      <td>0.02</td>\n",
       "      <td>0.0</td>\n",
       "      <td>0.0</td>\n",
       "      <td>0.83</td>\n",
       "      <td>0.71</td>\n",
       "      <td>mscan</td>\n",
       "    </tr>\n",
       "  </tbody>\n",
       "</table>\n",
       "<p>5 rows × 42 columns</p>\n",
       "</div>"
      ],
      "text/plain": [
       "   duration protocol_type   service  flag  src_bytes  dst_bytes  land  \\\n",
       "0         0           tcp   private   REJ          0          0     0   \n",
       "1         0           tcp   private   REJ          0          0     0   \n",
       "2         2           tcp  ftp_data    SF      12983          0     0   \n",
       "3         0          icmp     eco_i    SF         20          0     0   \n",
       "4         1           tcp    telnet  RSTO          0         15     0   \n",
       "\n",
       "   wrong_fragment  urgent  hot  ...  dst_host_srv_count  \\\n",
       "0               0       0    0  ...                  10   \n",
       "1               0       0    0  ...                   1   \n",
       "2               0       0    0  ...                  86   \n",
       "3               0       0    0  ...                  57   \n",
       "4               0       0    0  ...                  86   \n",
       "\n",
       "   dst_host_same_srv_rate  dst_host_diff_srv_rate  \\\n",
       "0                    0.04                    0.06   \n",
       "1                    0.00                    0.06   \n",
       "2                    0.61                    0.04   \n",
       "3                    1.00                    0.00   \n",
       "4                    0.31                    0.17   \n",
       "\n",
       "   dst_host_same_src_port_rate  dst_host_srv_diff_host_rate  \\\n",
       "0                         0.00                         0.00   \n",
       "1                         0.00                         0.00   \n",
       "2                         0.61                         0.02   \n",
       "3                         1.00                         0.28   \n",
       "4                         0.03                         0.02   \n",
       "\n",
       "   dst_host_serror_rate  dst_host_srv_serror_rate  dst_host_rerror_rate  \\\n",
       "0                   0.0                       0.0                  1.00   \n",
       "1                   0.0                       0.0                  1.00   \n",
       "2                   0.0                       0.0                  0.00   \n",
       "3                   0.0                       0.0                  0.00   \n",
       "4                   0.0                       0.0                  0.83   \n",
       "\n",
       "   dst_host_srv_rerror_rate    label  \n",
       "0                      1.00  neptune  \n",
       "1                      1.00  neptune  \n",
       "2                      0.00   normal  \n",
       "3                      0.00    saint  \n",
       "4                      0.71    mscan  \n",
       "\n",
       "[5 rows x 42 columns]"
      ]
     },
     "execution_count": 4,
     "metadata": {},
     "output_type": "execute_result"
    }
   ],
   "source": [
    "df_test.head()"
   ]
  },
  {
   "cell_type": "markdown",
   "id": "2fc3e118",
   "metadata": {},
   "source": [
    "### Dimsension der Daten"
   ]
  },
  {
   "cell_type": "code",
   "execution_count": 5,
   "id": "29ff10a8",
   "metadata": {},
   "outputs": [
    {
     "name": "stdout",
     "output_type": "stream",
     "text": [
      "Dimension der Trainings Daten (125973, 42)\n",
      "Dimension der Test Daten:     (22544, 42)\n"
     ]
    }
   ],
   "source": [
    "print(f\"Dimension der Trainings Daten {df_train.shape}\")\n",
    "print(f\"Dimension der Test Daten:     {df_test.shape}\")"
   ]
  },
  {
   "cell_type": "markdown",
   "id": "b1113ffc",
   "metadata": {},
   "source": [
    "### Anzahl an verschiedenen Angriffen"
   ]
  },
  {
   "cell_type": "code",
   "execution_count": 6,
   "id": "716847ed",
   "metadata": {},
   "outputs": [
    {
     "data": {
      "text/plain": [
       "22"
      ]
     },
     "execution_count": 6,
     "metadata": {},
     "output_type": "execute_result"
    }
   ],
   "source": [
    "df_train[df_train[\"label\"] != 'normal']['label'].nunique()"
   ]
  },
  {
   "cell_type": "markdown",
   "id": "ebacc06d",
   "metadata": {},
   "source": [
    "### Prüfen auf Null Einträge"
   ]
  },
  {
   "cell_type": "code",
   "execution_count": 7,
   "id": "f36d6087",
   "metadata": {},
   "outputs": [
    {
     "data": {
      "text/html": [
       "<div>\n",
       "<style scoped>\n",
       "    .dataframe tbody tr th:only-of-type {\n",
       "        vertical-align: middle;\n",
       "    }\n",
       "\n",
       "    .dataframe tbody tr th {\n",
       "        vertical-align: top;\n",
       "    }\n",
       "\n",
       "    .dataframe thead th {\n",
       "        text-align: right;\n",
       "    }\n",
       "</style>\n",
       "<table border=\"1\" class=\"dataframe\">\n",
       "  <thead>\n",
       "    <tr style=\"text-align: right;\">\n",
       "      <th></th>\n",
       "      <th>duration</th>\n",
       "      <th>protocol_type</th>\n",
       "      <th>service</th>\n",
       "      <th>flag</th>\n",
       "      <th>src_bytes</th>\n",
       "      <th>dst_bytes</th>\n",
       "      <th>land</th>\n",
       "      <th>wrong_fragment</th>\n",
       "      <th>urgent</th>\n",
       "      <th>hot</th>\n",
       "      <th>...</th>\n",
       "      <th>dst_host_srv_count</th>\n",
       "      <th>dst_host_same_srv_rate</th>\n",
       "      <th>dst_host_diff_srv_rate</th>\n",
       "      <th>dst_host_same_src_port_rate</th>\n",
       "      <th>dst_host_srv_diff_host_rate</th>\n",
       "      <th>dst_host_serror_rate</th>\n",
       "      <th>dst_host_srv_serror_rate</th>\n",
       "      <th>dst_host_rerror_rate</th>\n",
       "      <th>dst_host_srv_rerror_rate</th>\n",
       "      <th>label</th>\n",
       "    </tr>\n",
       "  </thead>\n",
       "  <tbody>\n",
       "  </tbody>\n",
       "</table>\n",
       "<p>0 rows × 42 columns</p>\n",
       "</div>"
      ],
      "text/plain": [
       "Empty DataFrame\n",
       "Columns: [duration, protocol_type, service, flag, src_bytes, dst_bytes, land, wrong_fragment, urgent, hot, num_failed_logins, logged_in, num_compromised, root_shell, su_attempted, num_root, num_file_creations, num_shells, num_access_files, num_outbound_cmds, is_host_login, is_guest_login, count, srv_count, serror_rate, srv_serror_rate, rerror_rate, srv_rerror_rate, same_srv_rate, diff_srv_rate, srv_diff_host_rate, dst_host_count, dst_host_srv_count, dst_host_same_srv_rate, dst_host_diff_srv_rate, dst_host_same_src_port_rate, dst_host_srv_diff_host_rate, dst_host_serror_rate, dst_host_srv_serror_rate, dst_host_rerror_rate, dst_host_srv_rerror_rate, label]\n",
       "Index: []\n",
       "\n",
       "[0 rows x 42 columns]"
      ]
     },
     "execution_count": 7,
     "metadata": {},
     "output_type": "execute_result"
    }
   ],
   "source": [
    "df_train[df_train.isna().any(axis=1)]"
   ]
  },
  {
   "cell_type": "code",
   "execution_count": 8,
   "id": "27dc2803",
   "metadata": {},
   "outputs": [
    {
     "data": {
      "text/html": [
       "<div>\n",
       "<style scoped>\n",
       "    .dataframe tbody tr th:only-of-type {\n",
       "        vertical-align: middle;\n",
       "    }\n",
       "\n",
       "    .dataframe tbody tr th {\n",
       "        vertical-align: top;\n",
       "    }\n",
       "\n",
       "    .dataframe thead th {\n",
       "        text-align: right;\n",
       "    }\n",
       "</style>\n",
       "<table border=\"1\" class=\"dataframe\">\n",
       "  <thead>\n",
       "    <tr style=\"text-align: right;\">\n",
       "      <th></th>\n",
       "      <th>duration</th>\n",
       "      <th>protocol_type</th>\n",
       "      <th>service</th>\n",
       "      <th>flag</th>\n",
       "      <th>src_bytes</th>\n",
       "      <th>dst_bytes</th>\n",
       "      <th>land</th>\n",
       "      <th>wrong_fragment</th>\n",
       "      <th>urgent</th>\n",
       "      <th>hot</th>\n",
       "      <th>...</th>\n",
       "      <th>dst_host_srv_count</th>\n",
       "      <th>dst_host_same_srv_rate</th>\n",
       "      <th>dst_host_diff_srv_rate</th>\n",
       "      <th>dst_host_same_src_port_rate</th>\n",
       "      <th>dst_host_srv_diff_host_rate</th>\n",
       "      <th>dst_host_serror_rate</th>\n",
       "      <th>dst_host_srv_serror_rate</th>\n",
       "      <th>dst_host_rerror_rate</th>\n",
       "      <th>dst_host_srv_rerror_rate</th>\n",
       "      <th>label</th>\n",
       "    </tr>\n",
       "  </thead>\n",
       "  <tbody>\n",
       "  </tbody>\n",
       "</table>\n",
       "<p>0 rows × 42 columns</p>\n",
       "</div>"
      ],
      "text/plain": [
       "Empty DataFrame\n",
       "Columns: [duration, protocol_type, service, flag, src_bytes, dst_bytes, land, wrong_fragment, urgent, hot, num_failed_logins, logged_in, num_compromised, root_shell, su_attempted, num_root, num_file_creations, num_shells, num_access_files, num_outbound_cmds, is_host_login, is_guest_login, count, srv_count, serror_rate, srv_serror_rate, rerror_rate, srv_rerror_rate, same_srv_rate, diff_srv_rate, srv_diff_host_rate, dst_host_count, dst_host_srv_count, dst_host_same_srv_rate, dst_host_diff_srv_rate, dst_host_same_src_port_rate, dst_host_srv_diff_host_rate, dst_host_serror_rate, dst_host_srv_serror_rate, dst_host_rerror_rate, dst_host_srv_rerror_rate, label]\n",
       "Index: []\n",
       "\n",
       "[0 rows x 42 columns]"
      ]
     },
     "execution_count": 8,
     "metadata": {},
     "output_type": "execute_result"
    }
   ],
   "source": [
    "df_test[df_test.isna().any(axis=1)]"
   ]
  },
  {
   "cell_type": "markdown",
   "id": "f51a8c8c",
   "metadata": {},
   "source": [
    "Keine Null Einträge vorhanden."
   ]
  },
  {
   "cell_type": "markdown",
   "id": "e4a48629",
   "metadata": {},
   "source": [
    "### Statistische Daten ueber die Labels"
   ]
  },
  {
   "cell_type": "code",
   "execution_count": 9,
   "id": "0dfbda46",
   "metadata": {},
   "outputs": [
    {
     "data": {
      "text/html": [
       "<div>\n",
       "<style scoped>\n",
       "    .dataframe tbody tr th:only-of-type {\n",
       "        vertical-align: middle;\n",
       "    }\n",
       "\n",
       "    .dataframe tbody tr th {\n",
       "        vertical-align: top;\n",
       "    }\n",
       "\n",
       "    .dataframe thead th {\n",
       "        text-align: right;\n",
       "    }\n",
       "</style>\n",
       "<table border=\"1\" class=\"dataframe\">\n",
       "  <thead>\n",
       "    <tr style=\"text-align: right;\">\n",
       "      <th></th>\n",
       "      <th>count</th>\n",
       "      <th>mean</th>\n",
       "      <th>std</th>\n",
       "      <th>min</th>\n",
       "      <th>25%</th>\n",
       "      <th>50%</th>\n",
       "      <th>75%</th>\n",
       "      <th>max</th>\n",
       "    </tr>\n",
       "  </thead>\n",
       "  <tbody>\n",
       "    <tr>\n",
       "      <th>duration</th>\n",
       "      <td>125973.0</td>\n",
       "      <td>287.144650</td>\n",
       "      <td>2.604515e+03</td>\n",
       "      <td>0.0</td>\n",
       "      <td>0.00</td>\n",
       "      <td>0.00</td>\n",
       "      <td>0.00</td>\n",
       "      <td>4.290800e+04</td>\n",
       "    </tr>\n",
       "    <tr>\n",
       "      <th>src_bytes</th>\n",
       "      <td>125973.0</td>\n",
       "      <td>45566.743000</td>\n",
       "      <td>5.870331e+06</td>\n",
       "      <td>0.0</td>\n",
       "      <td>0.00</td>\n",
       "      <td>44.00</td>\n",
       "      <td>276.00</td>\n",
       "      <td>1.379964e+09</td>\n",
       "    </tr>\n",
       "    <tr>\n",
       "      <th>dst_bytes</th>\n",
       "      <td>125973.0</td>\n",
       "      <td>19779.114421</td>\n",
       "      <td>4.021269e+06</td>\n",
       "      <td>0.0</td>\n",
       "      <td>0.00</td>\n",
       "      <td>0.00</td>\n",
       "      <td>516.00</td>\n",
       "      <td>1.309937e+09</td>\n",
       "    </tr>\n",
       "    <tr>\n",
       "      <th>land</th>\n",
       "      <td>125973.0</td>\n",
       "      <td>0.000198</td>\n",
       "      <td>1.408607e-02</td>\n",
       "      <td>0.0</td>\n",
       "      <td>0.00</td>\n",
       "      <td>0.00</td>\n",
       "      <td>0.00</td>\n",
       "      <td>1.000000e+00</td>\n",
       "    </tr>\n",
       "    <tr>\n",
       "      <th>wrong_fragment</th>\n",
       "      <td>125973.0</td>\n",
       "      <td>0.022687</td>\n",
       "      <td>2.535300e-01</td>\n",
       "      <td>0.0</td>\n",
       "      <td>0.00</td>\n",
       "      <td>0.00</td>\n",
       "      <td>0.00</td>\n",
       "      <td>3.000000e+00</td>\n",
       "    </tr>\n",
       "    <tr>\n",
       "      <th>urgent</th>\n",
       "      <td>125973.0</td>\n",
       "      <td>0.000111</td>\n",
       "      <td>1.436603e-02</td>\n",
       "      <td>0.0</td>\n",
       "      <td>0.00</td>\n",
       "      <td>0.00</td>\n",
       "      <td>0.00</td>\n",
       "      <td>3.000000e+00</td>\n",
       "    </tr>\n",
       "    <tr>\n",
       "      <th>hot</th>\n",
       "      <td>125973.0</td>\n",
       "      <td>0.204409</td>\n",
       "      <td>2.149968e+00</td>\n",
       "      <td>0.0</td>\n",
       "      <td>0.00</td>\n",
       "      <td>0.00</td>\n",
       "      <td>0.00</td>\n",
       "      <td>7.700000e+01</td>\n",
       "    </tr>\n",
       "    <tr>\n",
       "      <th>num_failed_logins</th>\n",
       "      <td>125973.0</td>\n",
       "      <td>0.001222</td>\n",
       "      <td>4.523914e-02</td>\n",
       "      <td>0.0</td>\n",
       "      <td>0.00</td>\n",
       "      <td>0.00</td>\n",
       "      <td>0.00</td>\n",
       "      <td>5.000000e+00</td>\n",
       "    </tr>\n",
       "    <tr>\n",
       "      <th>logged_in</th>\n",
       "      <td>125973.0</td>\n",
       "      <td>0.395736</td>\n",
       "      <td>4.890101e-01</td>\n",
       "      <td>0.0</td>\n",
       "      <td>0.00</td>\n",
       "      <td>0.00</td>\n",
       "      <td>1.00</td>\n",
       "      <td>1.000000e+00</td>\n",
       "    </tr>\n",
       "    <tr>\n",
       "      <th>num_compromised</th>\n",
       "      <td>125973.0</td>\n",
       "      <td>0.279250</td>\n",
       "      <td>2.394204e+01</td>\n",
       "      <td>0.0</td>\n",
       "      <td>0.00</td>\n",
       "      <td>0.00</td>\n",
       "      <td>0.00</td>\n",
       "      <td>7.479000e+03</td>\n",
       "    </tr>\n",
       "    <tr>\n",
       "      <th>root_shell</th>\n",
       "      <td>125973.0</td>\n",
       "      <td>0.001342</td>\n",
       "      <td>3.660284e-02</td>\n",
       "      <td>0.0</td>\n",
       "      <td>0.00</td>\n",
       "      <td>0.00</td>\n",
       "      <td>0.00</td>\n",
       "      <td>1.000000e+00</td>\n",
       "    </tr>\n",
       "    <tr>\n",
       "      <th>su_attempted</th>\n",
       "      <td>125973.0</td>\n",
       "      <td>0.001103</td>\n",
       "      <td>4.515438e-02</td>\n",
       "      <td>0.0</td>\n",
       "      <td>0.00</td>\n",
       "      <td>0.00</td>\n",
       "      <td>0.00</td>\n",
       "      <td>2.000000e+00</td>\n",
       "    </tr>\n",
       "    <tr>\n",
       "      <th>num_root</th>\n",
       "      <td>125973.0</td>\n",
       "      <td>0.302192</td>\n",
       "      <td>2.439962e+01</td>\n",
       "      <td>0.0</td>\n",
       "      <td>0.00</td>\n",
       "      <td>0.00</td>\n",
       "      <td>0.00</td>\n",
       "      <td>7.468000e+03</td>\n",
       "    </tr>\n",
       "    <tr>\n",
       "      <th>num_file_creations</th>\n",
       "      <td>125973.0</td>\n",
       "      <td>0.012669</td>\n",
       "      <td>4.839351e-01</td>\n",
       "      <td>0.0</td>\n",
       "      <td>0.00</td>\n",
       "      <td>0.00</td>\n",
       "      <td>0.00</td>\n",
       "      <td>4.300000e+01</td>\n",
       "    </tr>\n",
       "    <tr>\n",
       "      <th>num_shells</th>\n",
       "      <td>125973.0</td>\n",
       "      <td>0.000413</td>\n",
       "      <td>2.218113e-02</td>\n",
       "      <td>0.0</td>\n",
       "      <td>0.00</td>\n",
       "      <td>0.00</td>\n",
       "      <td>0.00</td>\n",
       "      <td>2.000000e+00</td>\n",
       "    </tr>\n",
       "    <tr>\n",
       "      <th>num_access_files</th>\n",
       "      <td>125973.0</td>\n",
       "      <td>0.004096</td>\n",
       "      <td>9.936956e-02</td>\n",
       "      <td>0.0</td>\n",
       "      <td>0.00</td>\n",
       "      <td>0.00</td>\n",
       "      <td>0.00</td>\n",
       "      <td>9.000000e+00</td>\n",
       "    </tr>\n",
       "    <tr>\n",
       "      <th>num_outbound_cmds</th>\n",
       "      <td>125973.0</td>\n",
       "      <td>0.000000</td>\n",
       "      <td>0.000000e+00</td>\n",
       "      <td>0.0</td>\n",
       "      <td>0.00</td>\n",
       "      <td>0.00</td>\n",
       "      <td>0.00</td>\n",
       "      <td>0.000000e+00</td>\n",
       "    </tr>\n",
       "    <tr>\n",
       "      <th>is_host_login</th>\n",
       "      <td>125973.0</td>\n",
       "      <td>0.000008</td>\n",
       "      <td>2.817483e-03</td>\n",
       "      <td>0.0</td>\n",
       "      <td>0.00</td>\n",
       "      <td>0.00</td>\n",
       "      <td>0.00</td>\n",
       "      <td>1.000000e+00</td>\n",
       "    </tr>\n",
       "    <tr>\n",
       "      <th>is_guest_login</th>\n",
       "      <td>125973.0</td>\n",
       "      <td>0.009423</td>\n",
       "      <td>9.661233e-02</td>\n",
       "      <td>0.0</td>\n",
       "      <td>0.00</td>\n",
       "      <td>0.00</td>\n",
       "      <td>0.00</td>\n",
       "      <td>1.000000e+00</td>\n",
       "    </tr>\n",
       "    <tr>\n",
       "      <th>count</th>\n",
       "      <td>125973.0</td>\n",
       "      <td>84.107555</td>\n",
       "      <td>1.145086e+02</td>\n",
       "      <td>0.0</td>\n",
       "      <td>2.00</td>\n",
       "      <td>14.00</td>\n",
       "      <td>143.00</td>\n",
       "      <td>5.110000e+02</td>\n",
       "    </tr>\n",
       "    <tr>\n",
       "      <th>srv_count</th>\n",
       "      <td>125973.0</td>\n",
       "      <td>27.737888</td>\n",
       "      <td>7.263584e+01</td>\n",
       "      <td>0.0</td>\n",
       "      <td>2.00</td>\n",
       "      <td>8.00</td>\n",
       "      <td>18.00</td>\n",
       "      <td>5.110000e+02</td>\n",
       "    </tr>\n",
       "    <tr>\n",
       "      <th>serror_rate</th>\n",
       "      <td>125973.0</td>\n",
       "      <td>0.284485</td>\n",
       "      <td>4.464556e-01</td>\n",
       "      <td>0.0</td>\n",
       "      <td>0.00</td>\n",
       "      <td>0.00</td>\n",
       "      <td>1.00</td>\n",
       "      <td>1.000000e+00</td>\n",
       "    </tr>\n",
       "    <tr>\n",
       "      <th>srv_serror_rate</th>\n",
       "      <td>125973.0</td>\n",
       "      <td>0.282485</td>\n",
       "      <td>4.470225e-01</td>\n",
       "      <td>0.0</td>\n",
       "      <td>0.00</td>\n",
       "      <td>0.00</td>\n",
       "      <td>1.00</td>\n",
       "      <td>1.000000e+00</td>\n",
       "    </tr>\n",
       "    <tr>\n",
       "      <th>rerror_rate</th>\n",
       "      <td>125973.0</td>\n",
       "      <td>0.119958</td>\n",
       "      <td>3.204355e-01</td>\n",
       "      <td>0.0</td>\n",
       "      <td>0.00</td>\n",
       "      <td>0.00</td>\n",
       "      <td>0.00</td>\n",
       "      <td>1.000000e+00</td>\n",
       "    </tr>\n",
       "    <tr>\n",
       "      <th>srv_rerror_rate</th>\n",
       "      <td>125973.0</td>\n",
       "      <td>0.121183</td>\n",
       "      <td>3.236472e-01</td>\n",
       "      <td>0.0</td>\n",
       "      <td>0.00</td>\n",
       "      <td>0.00</td>\n",
       "      <td>0.00</td>\n",
       "      <td>1.000000e+00</td>\n",
       "    </tr>\n",
       "    <tr>\n",
       "      <th>same_srv_rate</th>\n",
       "      <td>125973.0</td>\n",
       "      <td>0.660928</td>\n",
       "      <td>4.396229e-01</td>\n",
       "      <td>0.0</td>\n",
       "      <td>0.09</td>\n",
       "      <td>1.00</td>\n",
       "      <td>1.00</td>\n",
       "      <td>1.000000e+00</td>\n",
       "    </tr>\n",
       "    <tr>\n",
       "      <th>diff_srv_rate</th>\n",
       "      <td>125973.0</td>\n",
       "      <td>0.063053</td>\n",
       "      <td>1.803144e-01</td>\n",
       "      <td>0.0</td>\n",
       "      <td>0.00</td>\n",
       "      <td>0.00</td>\n",
       "      <td>0.06</td>\n",
       "      <td>1.000000e+00</td>\n",
       "    </tr>\n",
       "    <tr>\n",
       "      <th>srv_diff_host_rate</th>\n",
       "      <td>125973.0</td>\n",
       "      <td>0.097322</td>\n",
       "      <td>2.598305e-01</td>\n",
       "      <td>0.0</td>\n",
       "      <td>0.00</td>\n",
       "      <td>0.00</td>\n",
       "      <td>0.00</td>\n",
       "      <td>1.000000e+00</td>\n",
       "    </tr>\n",
       "    <tr>\n",
       "      <th>dst_host_count</th>\n",
       "      <td>125973.0</td>\n",
       "      <td>182.148945</td>\n",
       "      <td>9.920621e+01</td>\n",
       "      <td>0.0</td>\n",
       "      <td>82.00</td>\n",
       "      <td>255.00</td>\n",
       "      <td>255.00</td>\n",
       "      <td>2.550000e+02</td>\n",
       "    </tr>\n",
       "    <tr>\n",
       "      <th>dst_host_srv_count</th>\n",
       "      <td>125973.0</td>\n",
       "      <td>115.653005</td>\n",
       "      <td>1.107027e+02</td>\n",
       "      <td>0.0</td>\n",
       "      <td>10.00</td>\n",
       "      <td>63.00</td>\n",
       "      <td>255.00</td>\n",
       "      <td>2.550000e+02</td>\n",
       "    </tr>\n",
       "    <tr>\n",
       "      <th>dst_host_same_srv_rate</th>\n",
       "      <td>125973.0</td>\n",
       "      <td>0.521242</td>\n",
       "      <td>4.489494e-01</td>\n",
       "      <td>0.0</td>\n",
       "      <td>0.05</td>\n",
       "      <td>0.51</td>\n",
       "      <td>1.00</td>\n",
       "      <td>1.000000e+00</td>\n",
       "    </tr>\n",
       "    <tr>\n",
       "      <th>dst_host_diff_srv_rate</th>\n",
       "      <td>125973.0</td>\n",
       "      <td>0.082951</td>\n",
       "      <td>1.889218e-01</td>\n",
       "      <td>0.0</td>\n",
       "      <td>0.00</td>\n",
       "      <td>0.02</td>\n",
       "      <td>0.07</td>\n",
       "      <td>1.000000e+00</td>\n",
       "    </tr>\n",
       "    <tr>\n",
       "      <th>dst_host_same_src_port_rate</th>\n",
       "      <td>125973.0</td>\n",
       "      <td>0.148379</td>\n",
       "      <td>3.089971e-01</td>\n",
       "      <td>0.0</td>\n",
       "      <td>0.00</td>\n",
       "      <td>0.00</td>\n",
       "      <td>0.06</td>\n",
       "      <td>1.000000e+00</td>\n",
       "    </tr>\n",
       "    <tr>\n",
       "      <th>dst_host_srv_diff_host_rate</th>\n",
       "      <td>125973.0</td>\n",
       "      <td>0.032542</td>\n",
       "      <td>1.125638e-01</td>\n",
       "      <td>0.0</td>\n",
       "      <td>0.00</td>\n",
       "      <td>0.00</td>\n",
       "      <td>0.02</td>\n",
       "      <td>1.000000e+00</td>\n",
       "    </tr>\n",
       "    <tr>\n",
       "      <th>dst_host_serror_rate</th>\n",
       "      <td>125973.0</td>\n",
       "      <td>0.284452</td>\n",
       "      <td>4.447841e-01</td>\n",
       "      <td>0.0</td>\n",
       "      <td>0.00</td>\n",
       "      <td>0.00</td>\n",
       "      <td>1.00</td>\n",
       "      <td>1.000000e+00</td>\n",
       "    </tr>\n",
       "    <tr>\n",
       "      <th>dst_host_srv_serror_rate</th>\n",
       "      <td>125973.0</td>\n",
       "      <td>0.278485</td>\n",
       "      <td>4.456691e-01</td>\n",
       "      <td>0.0</td>\n",
       "      <td>0.00</td>\n",
       "      <td>0.00</td>\n",
       "      <td>1.00</td>\n",
       "      <td>1.000000e+00</td>\n",
       "    </tr>\n",
       "    <tr>\n",
       "      <th>dst_host_rerror_rate</th>\n",
       "      <td>125973.0</td>\n",
       "      <td>0.118832</td>\n",
       "      <td>3.065575e-01</td>\n",
       "      <td>0.0</td>\n",
       "      <td>0.00</td>\n",
       "      <td>0.00</td>\n",
       "      <td>0.00</td>\n",
       "      <td>1.000000e+00</td>\n",
       "    </tr>\n",
       "    <tr>\n",
       "      <th>dst_host_srv_rerror_rate</th>\n",
       "      <td>125973.0</td>\n",
       "      <td>0.120240</td>\n",
       "      <td>3.194594e-01</td>\n",
       "      <td>0.0</td>\n",
       "      <td>0.00</td>\n",
       "      <td>0.00</td>\n",
       "      <td>0.00</td>\n",
       "      <td>1.000000e+00</td>\n",
       "    </tr>\n",
       "  </tbody>\n",
       "</table>\n",
       "</div>"
      ],
      "text/plain": [
       "                                count          mean           std  min    25%  \\\n",
       "duration                     125973.0    287.144650  2.604515e+03  0.0   0.00   \n",
       "src_bytes                    125973.0  45566.743000  5.870331e+06  0.0   0.00   \n",
       "dst_bytes                    125973.0  19779.114421  4.021269e+06  0.0   0.00   \n",
       "land                         125973.0      0.000198  1.408607e-02  0.0   0.00   \n",
       "wrong_fragment               125973.0      0.022687  2.535300e-01  0.0   0.00   \n",
       "urgent                       125973.0      0.000111  1.436603e-02  0.0   0.00   \n",
       "hot                          125973.0      0.204409  2.149968e+00  0.0   0.00   \n",
       "num_failed_logins            125973.0      0.001222  4.523914e-02  0.0   0.00   \n",
       "logged_in                    125973.0      0.395736  4.890101e-01  0.0   0.00   \n",
       "num_compromised              125973.0      0.279250  2.394204e+01  0.0   0.00   \n",
       "root_shell                   125973.0      0.001342  3.660284e-02  0.0   0.00   \n",
       "su_attempted                 125973.0      0.001103  4.515438e-02  0.0   0.00   \n",
       "num_root                     125973.0      0.302192  2.439962e+01  0.0   0.00   \n",
       "num_file_creations           125973.0      0.012669  4.839351e-01  0.0   0.00   \n",
       "num_shells                   125973.0      0.000413  2.218113e-02  0.0   0.00   \n",
       "num_access_files             125973.0      0.004096  9.936956e-02  0.0   0.00   \n",
       "num_outbound_cmds            125973.0      0.000000  0.000000e+00  0.0   0.00   \n",
       "is_host_login                125973.0      0.000008  2.817483e-03  0.0   0.00   \n",
       "is_guest_login               125973.0      0.009423  9.661233e-02  0.0   0.00   \n",
       "count                        125973.0     84.107555  1.145086e+02  0.0   2.00   \n",
       "srv_count                    125973.0     27.737888  7.263584e+01  0.0   2.00   \n",
       "serror_rate                  125973.0      0.284485  4.464556e-01  0.0   0.00   \n",
       "srv_serror_rate              125973.0      0.282485  4.470225e-01  0.0   0.00   \n",
       "rerror_rate                  125973.0      0.119958  3.204355e-01  0.0   0.00   \n",
       "srv_rerror_rate              125973.0      0.121183  3.236472e-01  0.0   0.00   \n",
       "same_srv_rate                125973.0      0.660928  4.396229e-01  0.0   0.09   \n",
       "diff_srv_rate                125973.0      0.063053  1.803144e-01  0.0   0.00   \n",
       "srv_diff_host_rate           125973.0      0.097322  2.598305e-01  0.0   0.00   \n",
       "dst_host_count               125973.0    182.148945  9.920621e+01  0.0  82.00   \n",
       "dst_host_srv_count           125973.0    115.653005  1.107027e+02  0.0  10.00   \n",
       "dst_host_same_srv_rate       125973.0      0.521242  4.489494e-01  0.0   0.05   \n",
       "dst_host_diff_srv_rate       125973.0      0.082951  1.889218e-01  0.0   0.00   \n",
       "dst_host_same_src_port_rate  125973.0      0.148379  3.089971e-01  0.0   0.00   \n",
       "dst_host_srv_diff_host_rate  125973.0      0.032542  1.125638e-01  0.0   0.00   \n",
       "dst_host_serror_rate         125973.0      0.284452  4.447841e-01  0.0   0.00   \n",
       "dst_host_srv_serror_rate     125973.0      0.278485  4.456691e-01  0.0   0.00   \n",
       "dst_host_rerror_rate         125973.0      0.118832  3.065575e-01  0.0   0.00   \n",
       "dst_host_srv_rerror_rate     125973.0      0.120240  3.194594e-01  0.0   0.00   \n",
       "\n",
       "                                50%     75%           max  \n",
       "duration                       0.00    0.00  4.290800e+04  \n",
       "src_bytes                     44.00  276.00  1.379964e+09  \n",
       "dst_bytes                      0.00  516.00  1.309937e+09  \n",
       "land                           0.00    0.00  1.000000e+00  \n",
       "wrong_fragment                 0.00    0.00  3.000000e+00  \n",
       "urgent                         0.00    0.00  3.000000e+00  \n",
       "hot                            0.00    0.00  7.700000e+01  \n",
       "num_failed_logins              0.00    0.00  5.000000e+00  \n",
       "logged_in                      0.00    1.00  1.000000e+00  \n",
       "num_compromised                0.00    0.00  7.479000e+03  \n",
       "root_shell                     0.00    0.00  1.000000e+00  \n",
       "su_attempted                   0.00    0.00  2.000000e+00  \n",
       "num_root                       0.00    0.00  7.468000e+03  \n",
       "num_file_creations             0.00    0.00  4.300000e+01  \n",
       "num_shells                     0.00    0.00  2.000000e+00  \n",
       "num_access_files               0.00    0.00  9.000000e+00  \n",
       "num_outbound_cmds              0.00    0.00  0.000000e+00  \n",
       "is_host_login                  0.00    0.00  1.000000e+00  \n",
       "is_guest_login                 0.00    0.00  1.000000e+00  \n",
       "count                         14.00  143.00  5.110000e+02  \n",
       "srv_count                      8.00   18.00  5.110000e+02  \n",
       "serror_rate                    0.00    1.00  1.000000e+00  \n",
       "srv_serror_rate                0.00    1.00  1.000000e+00  \n",
       "rerror_rate                    0.00    0.00  1.000000e+00  \n",
       "srv_rerror_rate                0.00    0.00  1.000000e+00  \n",
       "same_srv_rate                  1.00    1.00  1.000000e+00  \n",
       "diff_srv_rate                  0.00    0.06  1.000000e+00  \n",
       "srv_diff_host_rate             0.00    0.00  1.000000e+00  \n",
       "dst_host_count               255.00  255.00  2.550000e+02  \n",
       "dst_host_srv_count            63.00  255.00  2.550000e+02  \n",
       "dst_host_same_srv_rate         0.51    1.00  1.000000e+00  \n",
       "dst_host_diff_srv_rate         0.02    0.07  1.000000e+00  \n",
       "dst_host_same_src_port_rate    0.00    0.06  1.000000e+00  \n",
       "dst_host_srv_diff_host_rate    0.00    0.02  1.000000e+00  \n",
       "dst_host_serror_rate           0.00    1.00  1.000000e+00  \n",
       "dst_host_srv_serror_rate       0.00    1.00  1.000000e+00  \n",
       "dst_host_rerror_rate           0.00    0.00  1.000000e+00  \n",
       "dst_host_srv_rerror_rate       0.00    0.00  1.000000e+00  "
      ]
     },
     "execution_count": 9,
     "metadata": {},
     "output_type": "execute_result"
    }
   ],
   "source": [
    "df_train.describe().transpose()"
   ]
  },
  {
   "cell_type": "code",
   "execution_count": 10,
   "id": "05dfb490",
   "metadata": {},
   "outputs": [
    {
     "data": {
      "text/html": [
       "<div>\n",
       "<style scoped>\n",
       "    .dataframe tbody tr th:only-of-type {\n",
       "        vertical-align: middle;\n",
       "    }\n",
       "\n",
       "    .dataframe tbody tr th {\n",
       "        vertical-align: top;\n",
       "    }\n",
       "\n",
       "    .dataframe thead th {\n",
       "        text-align: right;\n",
       "    }\n",
       "</style>\n",
       "<table border=\"1\" class=\"dataframe\">\n",
       "  <thead>\n",
       "    <tr style=\"text-align: right;\">\n",
       "      <th></th>\n",
       "      <th>count</th>\n",
       "      <th>mean</th>\n",
       "      <th>std</th>\n",
       "      <th>min</th>\n",
       "      <th>25%</th>\n",
       "      <th>50%</th>\n",
       "      <th>75%</th>\n",
       "      <th>max</th>\n",
       "    </tr>\n",
       "  </thead>\n",
       "  <tbody>\n",
       "    <tr>\n",
       "      <th>duration</th>\n",
       "      <td>22544.0</td>\n",
       "      <td>218.859076</td>\n",
       "      <td>1407.176612</td>\n",
       "      <td>0.0</td>\n",
       "      <td>0.00</td>\n",
       "      <td>0.00</td>\n",
       "      <td>0.0000</td>\n",
       "      <td>57715.0</td>\n",
       "    </tr>\n",
       "    <tr>\n",
       "      <th>src_bytes</th>\n",
       "      <td>22544.0</td>\n",
       "      <td>10395.450231</td>\n",
       "      <td>472786.431088</td>\n",
       "      <td>0.0</td>\n",
       "      <td>0.00</td>\n",
       "      <td>54.00</td>\n",
       "      <td>287.0000</td>\n",
       "      <td>62825648.0</td>\n",
       "    </tr>\n",
       "    <tr>\n",
       "      <th>dst_bytes</th>\n",
       "      <td>22544.0</td>\n",
       "      <td>2056.018808</td>\n",
       "      <td>21219.297609</td>\n",
       "      <td>0.0</td>\n",
       "      <td>0.00</td>\n",
       "      <td>46.00</td>\n",
       "      <td>601.0000</td>\n",
       "      <td>1345927.0</td>\n",
       "    </tr>\n",
       "    <tr>\n",
       "      <th>land</th>\n",
       "      <td>22544.0</td>\n",
       "      <td>0.000311</td>\n",
       "      <td>0.017619</td>\n",
       "      <td>0.0</td>\n",
       "      <td>0.00</td>\n",
       "      <td>0.00</td>\n",
       "      <td>0.0000</td>\n",
       "      <td>1.0</td>\n",
       "    </tr>\n",
       "    <tr>\n",
       "      <th>wrong_fragment</th>\n",
       "      <td>22544.0</td>\n",
       "      <td>0.008428</td>\n",
       "      <td>0.142599</td>\n",
       "      <td>0.0</td>\n",
       "      <td>0.00</td>\n",
       "      <td>0.00</td>\n",
       "      <td>0.0000</td>\n",
       "      <td>3.0</td>\n",
       "    </tr>\n",
       "    <tr>\n",
       "      <th>urgent</th>\n",
       "      <td>22544.0</td>\n",
       "      <td>0.000710</td>\n",
       "      <td>0.036473</td>\n",
       "      <td>0.0</td>\n",
       "      <td>0.00</td>\n",
       "      <td>0.00</td>\n",
       "      <td>0.0000</td>\n",
       "      <td>3.0</td>\n",
       "    </tr>\n",
       "    <tr>\n",
       "      <th>hot</th>\n",
       "      <td>22544.0</td>\n",
       "      <td>0.105394</td>\n",
       "      <td>0.928428</td>\n",
       "      <td>0.0</td>\n",
       "      <td>0.00</td>\n",
       "      <td>0.00</td>\n",
       "      <td>0.0000</td>\n",
       "      <td>101.0</td>\n",
       "    </tr>\n",
       "    <tr>\n",
       "      <th>num_failed_logins</th>\n",
       "      <td>22544.0</td>\n",
       "      <td>0.021647</td>\n",
       "      <td>0.150328</td>\n",
       "      <td>0.0</td>\n",
       "      <td>0.00</td>\n",
       "      <td>0.00</td>\n",
       "      <td>0.0000</td>\n",
       "      <td>4.0</td>\n",
       "    </tr>\n",
       "    <tr>\n",
       "      <th>logged_in</th>\n",
       "      <td>22544.0</td>\n",
       "      <td>0.442202</td>\n",
       "      <td>0.496659</td>\n",
       "      <td>0.0</td>\n",
       "      <td>0.00</td>\n",
       "      <td>0.00</td>\n",
       "      <td>1.0000</td>\n",
       "      <td>1.0</td>\n",
       "    </tr>\n",
       "    <tr>\n",
       "      <th>num_compromised</th>\n",
       "      <td>22544.0</td>\n",
       "      <td>0.119899</td>\n",
       "      <td>7.269597</td>\n",
       "      <td>0.0</td>\n",
       "      <td>0.00</td>\n",
       "      <td>0.00</td>\n",
       "      <td>0.0000</td>\n",
       "      <td>796.0</td>\n",
       "    </tr>\n",
       "    <tr>\n",
       "      <th>root_shell</th>\n",
       "      <td>22544.0</td>\n",
       "      <td>0.002440</td>\n",
       "      <td>0.049334</td>\n",
       "      <td>0.0</td>\n",
       "      <td>0.00</td>\n",
       "      <td>0.00</td>\n",
       "      <td>0.0000</td>\n",
       "      <td>1.0</td>\n",
       "    </tr>\n",
       "    <tr>\n",
       "      <th>su_attempted</th>\n",
       "      <td>22544.0</td>\n",
       "      <td>0.000266</td>\n",
       "      <td>0.021060</td>\n",
       "      <td>0.0</td>\n",
       "      <td>0.00</td>\n",
       "      <td>0.00</td>\n",
       "      <td>0.0000</td>\n",
       "      <td>2.0</td>\n",
       "    </tr>\n",
       "    <tr>\n",
       "      <th>num_root</th>\n",
       "      <td>22544.0</td>\n",
       "      <td>0.114665</td>\n",
       "      <td>8.041614</td>\n",
       "      <td>0.0</td>\n",
       "      <td>0.00</td>\n",
       "      <td>0.00</td>\n",
       "      <td>0.0000</td>\n",
       "      <td>878.0</td>\n",
       "    </tr>\n",
       "    <tr>\n",
       "      <th>num_file_creations</th>\n",
       "      <td>22544.0</td>\n",
       "      <td>0.008738</td>\n",
       "      <td>0.676842</td>\n",
       "      <td>0.0</td>\n",
       "      <td>0.00</td>\n",
       "      <td>0.00</td>\n",
       "      <td>0.0000</td>\n",
       "      <td>100.0</td>\n",
       "    </tr>\n",
       "    <tr>\n",
       "      <th>num_shells</th>\n",
       "      <td>22544.0</td>\n",
       "      <td>0.001153</td>\n",
       "      <td>0.048014</td>\n",
       "      <td>0.0</td>\n",
       "      <td>0.00</td>\n",
       "      <td>0.00</td>\n",
       "      <td>0.0000</td>\n",
       "      <td>5.0</td>\n",
       "    </tr>\n",
       "    <tr>\n",
       "      <th>num_access_files</th>\n",
       "      <td>22544.0</td>\n",
       "      <td>0.003549</td>\n",
       "      <td>0.067829</td>\n",
       "      <td>0.0</td>\n",
       "      <td>0.00</td>\n",
       "      <td>0.00</td>\n",
       "      <td>0.0000</td>\n",
       "      <td>4.0</td>\n",
       "    </tr>\n",
       "    <tr>\n",
       "      <th>num_outbound_cmds</th>\n",
       "      <td>22544.0</td>\n",
       "      <td>0.000000</td>\n",
       "      <td>0.000000</td>\n",
       "      <td>0.0</td>\n",
       "      <td>0.00</td>\n",
       "      <td>0.00</td>\n",
       "      <td>0.0000</td>\n",
       "      <td>0.0</td>\n",
       "    </tr>\n",
       "    <tr>\n",
       "      <th>is_host_login</th>\n",
       "      <td>22544.0</td>\n",
       "      <td>0.000488</td>\n",
       "      <td>0.022084</td>\n",
       "      <td>0.0</td>\n",
       "      <td>0.00</td>\n",
       "      <td>0.00</td>\n",
       "      <td>0.0000</td>\n",
       "      <td>1.0</td>\n",
       "    </tr>\n",
       "    <tr>\n",
       "      <th>is_guest_login</th>\n",
       "      <td>22544.0</td>\n",
       "      <td>0.028433</td>\n",
       "      <td>0.166211</td>\n",
       "      <td>0.0</td>\n",
       "      <td>0.00</td>\n",
       "      <td>0.00</td>\n",
       "      <td>0.0000</td>\n",
       "      <td>1.0</td>\n",
       "    </tr>\n",
       "    <tr>\n",
       "      <th>count</th>\n",
       "      <td>22544.0</td>\n",
       "      <td>79.028345</td>\n",
       "      <td>128.539248</td>\n",
       "      <td>0.0</td>\n",
       "      <td>1.00</td>\n",
       "      <td>8.00</td>\n",
       "      <td>123.2500</td>\n",
       "      <td>511.0</td>\n",
       "    </tr>\n",
       "    <tr>\n",
       "      <th>srv_count</th>\n",
       "      <td>22544.0</td>\n",
       "      <td>31.124379</td>\n",
       "      <td>89.062532</td>\n",
       "      <td>0.0</td>\n",
       "      <td>1.00</td>\n",
       "      <td>6.00</td>\n",
       "      <td>16.0000</td>\n",
       "      <td>511.0</td>\n",
       "    </tr>\n",
       "    <tr>\n",
       "      <th>serror_rate</th>\n",
       "      <td>22544.0</td>\n",
       "      <td>0.102924</td>\n",
       "      <td>0.295367</td>\n",
       "      <td>0.0</td>\n",
       "      <td>0.00</td>\n",
       "      <td>0.00</td>\n",
       "      <td>0.0000</td>\n",
       "      <td>1.0</td>\n",
       "    </tr>\n",
       "    <tr>\n",
       "      <th>srv_serror_rate</th>\n",
       "      <td>22544.0</td>\n",
       "      <td>0.103635</td>\n",
       "      <td>0.298332</td>\n",
       "      <td>0.0</td>\n",
       "      <td>0.00</td>\n",
       "      <td>0.00</td>\n",
       "      <td>0.0000</td>\n",
       "      <td>1.0</td>\n",
       "    </tr>\n",
       "    <tr>\n",
       "      <th>rerror_rate</th>\n",
       "      <td>22544.0</td>\n",
       "      <td>0.238463</td>\n",
       "      <td>0.416118</td>\n",
       "      <td>0.0</td>\n",
       "      <td>0.00</td>\n",
       "      <td>0.00</td>\n",
       "      <td>0.2500</td>\n",
       "      <td>1.0</td>\n",
       "    </tr>\n",
       "    <tr>\n",
       "      <th>srv_rerror_rate</th>\n",
       "      <td>22544.0</td>\n",
       "      <td>0.235179</td>\n",
       "      <td>0.416215</td>\n",
       "      <td>0.0</td>\n",
       "      <td>0.00</td>\n",
       "      <td>0.00</td>\n",
       "      <td>0.0725</td>\n",
       "      <td>1.0</td>\n",
       "    </tr>\n",
       "    <tr>\n",
       "      <th>same_srv_rate</th>\n",
       "      <td>22544.0</td>\n",
       "      <td>0.740345</td>\n",
       "      <td>0.412496</td>\n",
       "      <td>0.0</td>\n",
       "      <td>0.25</td>\n",
       "      <td>1.00</td>\n",
       "      <td>1.0000</td>\n",
       "      <td>1.0</td>\n",
       "    </tr>\n",
       "    <tr>\n",
       "      <th>diff_srv_rate</th>\n",
       "      <td>22544.0</td>\n",
       "      <td>0.094074</td>\n",
       "      <td>0.259138</td>\n",
       "      <td>0.0</td>\n",
       "      <td>0.00</td>\n",
       "      <td>0.00</td>\n",
       "      <td>0.0600</td>\n",
       "      <td>1.0</td>\n",
       "    </tr>\n",
       "    <tr>\n",
       "      <th>srv_diff_host_rate</th>\n",
       "      <td>22544.0</td>\n",
       "      <td>0.098110</td>\n",
       "      <td>0.253545</td>\n",
       "      <td>0.0</td>\n",
       "      <td>0.00</td>\n",
       "      <td>0.00</td>\n",
       "      <td>0.0000</td>\n",
       "      <td>1.0</td>\n",
       "    </tr>\n",
       "    <tr>\n",
       "      <th>dst_host_count</th>\n",
       "      <td>22544.0</td>\n",
       "      <td>193.869411</td>\n",
       "      <td>94.035663</td>\n",
       "      <td>0.0</td>\n",
       "      <td>121.00</td>\n",
       "      <td>255.00</td>\n",
       "      <td>255.0000</td>\n",
       "      <td>255.0</td>\n",
       "    </tr>\n",
       "    <tr>\n",
       "      <th>dst_host_srv_count</th>\n",
       "      <td>22544.0</td>\n",
       "      <td>140.750532</td>\n",
       "      <td>111.783972</td>\n",
       "      <td>0.0</td>\n",
       "      <td>15.00</td>\n",
       "      <td>168.00</td>\n",
       "      <td>255.0000</td>\n",
       "      <td>255.0</td>\n",
       "    </tr>\n",
       "    <tr>\n",
       "      <th>dst_host_same_srv_rate</th>\n",
       "      <td>22544.0</td>\n",
       "      <td>0.608722</td>\n",
       "      <td>0.435688</td>\n",
       "      <td>0.0</td>\n",
       "      <td>0.07</td>\n",
       "      <td>0.92</td>\n",
       "      <td>1.0000</td>\n",
       "      <td>1.0</td>\n",
       "    </tr>\n",
       "    <tr>\n",
       "      <th>dst_host_diff_srv_rate</th>\n",
       "      <td>22544.0</td>\n",
       "      <td>0.090540</td>\n",
       "      <td>0.220717</td>\n",
       "      <td>0.0</td>\n",
       "      <td>0.00</td>\n",
       "      <td>0.01</td>\n",
       "      <td>0.0600</td>\n",
       "      <td>1.0</td>\n",
       "    </tr>\n",
       "    <tr>\n",
       "      <th>dst_host_same_src_port_rate</th>\n",
       "      <td>22544.0</td>\n",
       "      <td>0.132261</td>\n",
       "      <td>0.306268</td>\n",
       "      <td>0.0</td>\n",
       "      <td>0.00</td>\n",
       "      <td>0.00</td>\n",
       "      <td>0.0300</td>\n",
       "      <td>1.0</td>\n",
       "    </tr>\n",
       "    <tr>\n",
       "      <th>dst_host_srv_diff_host_rate</th>\n",
       "      <td>22544.0</td>\n",
       "      <td>0.019638</td>\n",
       "      <td>0.085394</td>\n",
       "      <td>0.0</td>\n",
       "      <td>0.00</td>\n",
       "      <td>0.00</td>\n",
       "      <td>0.0100</td>\n",
       "      <td>1.0</td>\n",
       "    </tr>\n",
       "    <tr>\n",
       "      <th>dst_host_serror_rate</th>\n",
       "      <td>22544.0</td>\n",
       "      <td>0.097814</td>\n",
       "      <td>0.273139</td>\n",
       "      <td>0.0</td>\n",
       "      <td>0.00</td>\n",
       "      <td>0.00</td>\n",
       "      <td>0.0000</td>\n",
       "      <td>1.0</td>\n",
       "    </tr>\n",
       "    <tr>\n",
       "      <th>dst_host_srv_serror_rate</th>\n",
       "      <td>22544.0</td>\n",
       "      <td>0.099426</td>\n",
       "      <td>0.281866</td>\n",
       "      <td>0.0</td>\n",
       "      <td>0.00</td>\n",
       "      <td>0.00</td>\n",
       "      <td>0.0000</td>\n",
       "      <td>1.0</td>\n",
       "    </tr>\n",
       "    <tr>\n",
       "      <th>dst_host_rerror_rate</th>\n",
       "      <td>22544.0</td>\n",
       "      <td>0.233385</td>\n",
       "      <td>0.387229</td>\n",
       "      <td>0.0</td>\n",
       "      <td>0.00</td>\n",
       "      <td>0.00</td>\n",
       "      <td>0.3600</td>\n",
       "      <td>1.0</td>\n",
       "    </tr>\n",
       "    <tr>\n",
       "      <th>dst_host_srv_rerror_rate</th>\n",
       "      <td>22544.0</td>\n",
       "      <td>0.226683</td>\n",
       "      <td>0.400875</td>\n",
       "      <td>0.0</td>\n",
       "      <td>0.00</td>\n",
       "      <td>0.00</td>\n",
       "      <td>0.1700</td>\n",
       "      <td>1.0</td>\n",
       "    </tr>\n",
       "  </tbody>\n",
       "</table>\n",
       "</div>"
      ],
      "text/plain": [
       "                               count          mean            std  min  \\\n",
       "duration                     22544.0    218.859076    1407.176612  0.0   \n",
       "src_bytes                    22544.0  10395.450231  472786.431088  0.0   \n",
       "dst_bytes                    22544.0   2056.018808   21219.297609  0.0   \n",
       "land                         22544.0      0.000311       0.017619  0.0   \n",
       "wrong_fragment               22544.0      0.008428       0.142599  0.0   \n",
       "urgent                       22544.0      0.000710       0.036473  0.0   \n",
       "hot                          22544.0      0.105394       0.928428  0.0   \n",
       "num_failed_logins            22544.0      0.021647       0.150328  0.0   \n",
       "logged_in                    22544.0      0.442202       0.496659  0.0   \n",
       "num_compromised              22544.0      0.119899       7.269597  0.0   \n",
       "root_shell                   22544.0      0.002440       0.049334  0.0   \n",
       "su_attempted                 22544.0      0.000266       0.021060  0.0   \n",
       "num_root                     22544.0      0.114665       8.041614  0.0   \n",
       "num_file_creations           22544.0      0.008738       0.676842  0.0   \n",
       "num_shells                   22544.0      0.001153       0.048014  0.0   \n",
       "num_access_files             22544.0      0.003549       0.067829  0.0   \n",
       "num_outbound_cmds            22544.0      0.000000       0.000000  0.0   \n",
       "is_host_login                22544.0      0.000488       0.022084  0.0   \n",
       "is_guest_login               22544.0      0.028433       0.166211  0.0   \n",
       "count                        22544.0     79.028345     128.539248  0.0   \n",
       "srv_count                    22544.0     31.124379      89.062532  0.0   \n",
       "serror_rate                  22544.0      0.102924       0.295367  0.0   \n",
       "srv_serror_rate              22544.0      0.103635       0.298332  0.0   \n",
       "rerror_rate                  22544.0      0.238463       0.416118  0.0   \n",
       "srv_rerror_rate              22544.0      0.235179       0.416215  0.0   \n",
       "same_srv_rate                22544.0      0.740345       0.412496  0.0   \n",
       "diff_srv_rate                22544.0      0.094074       0.259138  0.0   \n",
       "srv_diff_host_rate           22544.0      0.098110       0.253545  0.0   \n",
       "dst_host_count               22544.0    193.869411      94.035663  0.0   \n",
       "dst_host_srv_count           22544.0    140.750532     111.783972  0.0   \n",
       "dst_host_same_srv_rate       22544.0      0.608722       0.435688  0.0   \n",
       "dst_host_diff_srv_rate       22544.0      0.090540       0.220717  0.0   \n",
       "dst_host_same_src_port_rate  22544.0      0.132261       0.306268  0.0   \n",
       "dst_host_srv_diff_host_rate  22544.0      0.019638       0.085394  0.0   \n",
       "dst_host_serror_rate         22544.0      0.097814       0.273139  0.0   \n",
       "dst_host_srv_serror_rate     22544.0      0.099426       0.281866  0.0   \n",
       "dst_host_rerror_rate         22544.0      0.233385       0.387229  0.0   \n",
       "dst_host_srv_rerror_rate     22544.0      0.226683       0.400875  0.0   \n",
       "\n",
       "                                25%     50%       75%         max  \n",
       "duration                       0.00    0.00    0.0000     57715.0  \n",
       "src_bytes                      0.00   54.00  287.0000  62825648.0  \n",
       "dst_bytes                      0.00   46.00  601.0000   1345927.0  \n",
       "land                           0.00    0.00    0.0000         1.0  \n",
       "wrong_fragment                 0.00    0.00    0.0000         3.0  \n",
       "urgent                         0.00    0.00    0.0000         3.0  \n",
       "hot                            0.00    0.00    0.0000       101.0  \n",
       "num_failed_logins              0.00    0.00    0.0000         4.0  \n",
       "logged_in                      0.00    0.00    1.0000         1.0  \n",
       "num_compromised                0.00    0.00    0.0000       796.0  \n",
       "root_shell                     0.00    0.00    0.0000         1.0  \n",
       "su_attempted                   0.00    0.00    0.0000         2.0  \n",
       "num_root                       0.00    0.00    0.0000       878.0  \n",
       "num_file_creations             0.00    0.00    0.0000       100.0  \n",
       "num_shells                     0.00    0.00    0.0000         5.0  \n",
       "num_access_files               0.00    0.00    0.0000         4.0  \n",
       "num_outbound_cmds              0.00    0.00    0.0000         0.0  \n",
       "is_host_login                  0.00    0.00    0.0000         1.0  \n",
       "is_guest_login                 0.00    0.00    0.0000         1.0  \n",
       "count                          1.00    8.00  123.2500       511.0  \n",
       "srv_count                      1.00    6.00   16.0000       511.0  \n",
       "serror_rate                    0.00    0.00    0.0000         1.0  \n",
       "srv_serror_rate                0.00    0.00    0.0000         1.0  \n",
       "rerror_rate                    0.00    0.00    0.2500         1.0  \n",
       "srv_rerror_rate                0.00    0.00    0.0725         1.0  \n",
       "same_srv_rate                  0.25    1.00    1.0000         1.0  \n",
       "diff_srv_rate                  0.00    0.00    0.0600         1.0  \n",
       "srv_diff_host_rate             0.00    0.00    0.0000         1.0  \n",
       "dst_host_count               121.00  255.00  255.0000       255.0  \n",
       "dst_host_srv_count            15.00  168.00  255.0000       255.0  \n",
       "dst_host_same_srv_rate         0.07    0.92    1.0000         1.0  \n",
       "dst_host_diff_srv_rate         0.00    0.01    0.0600         1.0  \n",
       "dst_host_same_src_port_rate    0.00    0.00    0.0300         1.0  \n",
       "dst_host_srv_diff_host_rate    0.00    0.00    0.0100         1.0  \n",
       "dst_host_serror_rate           0.00    0.00    0.0000         1.0  \n",
       "dst_host_srv_serror_rate       0.00    0.00    0.0000         1.0  \n",
       "dst_host_rerror_rate           0.00    0.00    0.3600         1.0  \n",
       "dst_host_srv_rerror_rate       0.00    0.00    0.1700         1.0  "
      ]
     },
     "execution_count": 10,
     "metadata": {},
     "output_type": "execute_result"
    }
   ],
   "source": [
    "df_test.describe().transpose()"
   ]
  },
  {
   "cell_type": "markdown",
   "id": "1043a76b",
   "metadata": {},
   "source": [
    "### Label Verteilung\n",
    "\n",
    "Hier zeigen wir welche Label im Datensatz präsent sind und wir diese Verteilt sind."
   ]
  },
  {
   "cell_type": "code",
   "execution_count": 11,
   "id": "d3a9df8b",
   "metadata": {},
   "outputs": [
    {
     "name": "stdout",
     "output_type": "stream",
     "text": [
      "normal             67343\n",
      "neptune            41214\n",
      "satan               3633\n",
      "ipsweep             3599\n",
      "portsweep           2931\n",
      "smurf               2646\n",
      "nmap                1493\n",
      "back                 956\n",
      "teardrop             892\n",
      "warezclient          890\n",
      "pod                  201\n",
      "guess_passwd          53\n",
      "buffer_overflow       30\n",
      "warezmaster           20\n",
      "land                  18\n",
      "imap                  11\n",
      "rootkit               10\n",
      "loadmodule             9\n",
      "ftp_write              8\n",
      "multihop               7\n",
      "phf                    4\n",
      "perl                   3\n",
      "spy                    2\n",
      "Name: label, dtype: int64\n"
     ]
    }
   ],
   "source": [
    "print(df_train['label'].value_counts())"
   ]
  },
  {
   "cell_type": "code",
   "execution_count": 12,
   "id": "4ea0a2e1",
   "metadata": {},
   "outputs": [
    {
     "name": "stdout",
     "output_type": "stream",
     "text": [
      "normal             9711\n",
      "neptune            4657\n",
      "guess_passwd       1231\n",
      "mscan               996\n",
      "warezmaster         944\n",
      "apache2             737\n",
      "satan               735\n",
      "processtable        685\n",
      "smurf               665\n",
      "back                359\n",
      "snmpguess           331\n",
      "saint               319\n",
      "mailbomb            293\n",
      "snmpgetattack       178\n",
      "portsweep           157\n",
      "ipsweep             141\n",
      "httptunnel          133\n",
      "nmap                 73\n",
      "pod                  41\n",
      "buffer_overflow      20\n",
      "multihop             18\n",
      "named                17\n",
      "ps                   15\n",
      "sendmail             14\n",
      "rootkit              13\n",
      "xterm                13\n",
      "teardrop             12\n",
      "xlock                 9\n",
      "land                  7\n",
      "xsnoop                4\n",
      "ftp_write             3\n",
      "worm                  2\n",
      "loadmodule            2\n",
      "perl                  2\n",
      "sqlattack             2\n",
      "udpstorm              2\n",
      "phf                   2\n",
      "imap                  1\n",
      "Name: label, dtype: int64\n"
     ]
    }
   ],
   "source": [
    "print(df_test['label'].value_counts())"
   ]
  },
  {
   "cell_type": "markdown",
   "id": "99568e25",
   "metadata": {},
   "source": [
    "### Identifieziren der Features mit Kategorie\n",
    "\n",
    "Um Methoden wie One-Hot-Encoding später anwenden zu können, müssen alle label identifiziert werden, die kategorisch sind, um diese kategorien als dummy Varaiblen einzufügen."
   ]
  },
  {
   "cell_type": "code",
   "execution_count": 13,
   "id": "10bfda44",
   "metadata": {},
   "outputs": [
    {
     "name": "stdout",
     "output_type": "stream",
     "text": [
      "Trainings Daten:\n",
      "Feature 'protocol_type' has 3 categories\n",
      "Feature 'service' has 70 categories\n",
      "Feature 'flag' has 11 categories\n",
      "Feature 'label' has 23 categories\n"
     ]
    }
   ],
   "source": [
    "print('Trainings Daten:')\n",
    "# Schleife über Spalten\n",
    "for col_name in df_train.columns:\n",
    "    # Prüfung, ob aktuelle Spalte eine Objekt ist (Kategorisches Label)\n",
    "    if df_train[col_name].dtypes == 'object':\n",
    "        # Ausgabe des Labels und Anzahl der Kategorien\n",
    "        unique_cat = len(df_train[col_name].unique())\n",
    "        print(f\"Feature '{col_name}' has {unique_cat} categories\")"
   ]
  },
  {
   "cell_type": "code",
   "execution_count": 14,
   "id": "ee3497b8",
   "metadata": {},
   "outputs": [
    {
     "name": "stdout",
     "output_type": "stream",
     "text": [
      "Test Daten:\n",
      "Feature 'protocol_type' has 3 categories\n",
      "Feature 'service' has 64 categories\n",
      "Feature 'flag' has 11 categories\n",
      "Feature 'label' has 38 categories\n"
     ]
    }
   ],
   "source": [
    "print('Test Daten:')\n",
    "# Schleife über Spalten\n",
    "for col_name in df_test.columns:\n",
    "    # Prüfung, ob aktuelle Spalte eine Objekt ist (Kategorisches Label)\n",
    "    if df_test[col_name].dtypes == 'object':\n",
    "        # Ausgabe des Labels und Anzahl der Kategorien\n",
    "        unique_cat = len(df_test[col_name].unique())\n",
    "        print(f\"Feature '{col_name}' has {unique_cat} categories\")"
   ]
  },
  {
   "cell_type": "markdown",
   "id": "440e757d",
   "metadata": {},
   "source": [
    "Hieraus ist ersichtlich, dass für die labels protocol_type, service, flag dummy Variablen erstellt werden müssen. Es ergeben sich insgesamt 3 + 70 + 11 = 84 dummy Variablen.  \n",
    "  \n",
    "Ebenfalls ersichtlich ist, dass den Test Daten 6 Kategorien aus dem Bereich service fehlen. Diese müssen durch dummy Kategorien ersetzt werden. "
   ]
  },
  {
   "cell_type": "markdown",
   "id": "8f6eb7de",
   "metadata": {},
   "source": [
    "### Grafische Darstellung der Verteilung der Kategorien"
   ]
  },
  {
   "cell_type": "code",
   "execution_count": 15,
   "id": "47724716",
   "metadata": {},
   "outputs": [
    {
     "data": {
      "image/png": "[encoded data removed]",
      "text/plain": [
       "<Figure size 432x288 with 1 Axes>"
      ]
     },
     "metadata": {
      "needs_background": "light"
     },
     "output_type": "display_data"
    }
   ],
   "source": [
    "df_train[\"protocol_type\"].value_counts().plot(kind=\"bar\")\n",
    "plt.savefig(\"artefacts/Train Set Protocal Type Verteilung\", dpi=500)"
   ]
  },
  {
   "cell_type": "code",
   "execution_count": 16,
   "id": "75587dae",
   "metadata": {},
   "outputs": [
    {
     "data": {
      "image/png": "[encoded data removed]",
      "text/plain": [
       "<Figure size 432x288 with 1 Axes>"
      ]
     },
     "metadata": {
      "needs_background": "light"
     },
     "output_type": "display_data"
    }
   ],
   "source": [
    "df_test[\"protocol_type\"].value_counts().plot(kind=\"bar\")\n",
    "plt.savefig(\"artefacts/Test Set Protocal Type Verteilung\", dpi=500)"
   ]
  },
  {
   "cell_type": "code",
   "execution_count": 17,
   "id": "e2dd4ba8",
   "metadata": {},
   "outputs": [
    {
     "data": {
      "image/png": "[encoded data removed]",
      "text/plain": [
       "<Figure size 1440x720 with 1 Axes>"
      ]
     },
     "metadata": {
      "needs_background": "light"
     },
     "output_type": "display_data"
    }
   ],
   "source": [
    "df_train[\"service\"].value_counts().plot(kind=\"bar\", figsize=(20,10))\n",
    "plt.savefig(\"artefacts/Train Set Service Verteilung\", dpi=500)"
   ]
  },
  {
   "cell_type": "code",
   "execution_count": 18,
   "id": "6f0a1a45",
   "metadata": {},
   "outputs": [
    {
     "data": {
      "image/png": "[encoded data removed]",
      "text/plain": [
       "<Figure size 1440x720 with 1 Axes>"
      ]
     },
     "metadata": {
      "needs_background": "light"
     },
     "output_type": "display_data"
    }
   ],
   "source": [
    "df_test[\"service\"].value_counts().plot(kind=\"bar\", figsize=(20,10))\n",
    "plt.savefig(\"artefacts/Test Set Service Verteilung\", dpi=500)"
   ]
  },
  {
   "cell_type": "code",
   "execution_count": 19,
   "id": "2f8bb9a4",
   "metadata": {},
   "outputs": [
    {
     "data": {
      "image/png": "[encoded data removed]",
      "text/plain": [
       "<Figure size 432x288 with 1 Axes>"
      ]
     },
     "metadata": {
      "needs_background": "light"
     },
     "output_type": "display_data"
    }
   ],
   "source": [
    "df_train[\"flag\"].value_counts().plot(kind=\"bar\")\n",
    "plt.savefig(\"artefacts/Train Set Flag Verteilung\", dpi=500)"
   ]
  },
  {
   "cell_type": "code",
   "execution_count": 20,
   "id": "c69137b0",
   "metadata": {},
   "outputs": [
    {
     "data": {
      "image/png": "[encoded data removed]",
      "text/plain": [
       "<Figure size 432x288 with 1 Axes>"
      ]
     },
     "metadata": {
      "needs_background": "light"
     },
     "output_type": "display_data"
    }
   ],
   "source": [
    "df_test[\"flag\"].value_counts().plot(kind=\"bar\")\n",
    "plt.savefig(\"artefacts/Test Set Service Verteilung\", dpi=500)"
   ]
  },
  {
   "cell_type": "markdown",
   "id": "963009a3",
   "metadata": {},
   "source": [
    "## Daten aufbereiten"
   ]
  },
  {
   "cell_type": "markdown",
   "id": "1c720e89",
   "metadata": {},
   "source": [
    "Wie im Kaptiel \"[Statistische Daten ueber die Labels](#statistische-daten-ueber-die-labels)\" zu sehen hat das Label \"num_outbound_cmds\" keine statistische relevanz und wird daher nicht zu einer höheren effizenz der Modelle beitragen. Diese Label kann entfernt werden."
   ]
  },
  {
   "cell_type": "code",
   "execution_count": 21,
   "id": "1e7590ee",
   "metadata": {},
   "outputs": [],
   "source": [
    "df_train.drop(columns=\"num_outbound_cmds\", inplace=True)\n",
    "df_test.drop(columns=\"num_outbound_cmds\", inplace=True)"
   ]
  },
  {
   "cell_type": "markdown",
   "id": "8b7d827e",
   "metadata": {},
   "source": [
    "### Korrelation der Labels mit einer Heatmap ermitteln"
   ]
  },
  {
   "cell_type": "code",
   "execution_count": 22,
   "id": "d29daa84",
   "metadata": {},
   "outputs": [
    {
     "data": {
      "image/png": "[encoded data removed]",
      "text/plain": [
       "<Figure size 1080x864 with 2 Axes>"
      ]
     },
     "metadata": {
      "needs_background": "light"
     },
     "output_type": "display_data"
    }
   ],
   "source": [
    "plt.subplots(figsize=(15, 12))\n",
    "sns.heatmap(df_train.corr())\n",
    "plt.savefig(\"artefacts/Correlation heatmap before\", dpi=500)"
   ]
  },
  {
   "cell_type": "markdown",
   "id": "4d6fa803",
   "metadata": {},
   "source": [
    "Von dieser Heatmap ist ersichtich, dass verschiedene Labels stark miteinander korrelieren. Diese Labels haben aufgrund ihrer Ähnlichkeit zu anderen Labels keinen signifikanten Einfluss auf das Ergebnis von Modellen. Im folgenden werden diese Labels gelöscht."
   ]
  },
  {
   "cell_type": "code",
   "execution_count": 23,
   "id": "a28e32a6",
   "metadata": {},
   "outputs": [],
   "source": [
    "drop_list = ['num_root', 'srv_serror_rate', 'srv_serror_rate', 'srv_rerror_rate', 'dst_host_srv_serror_rate', 'dst_host_serror_rate', 'dst_host_rerror_rate', 'dst_host_srv_rerror_rate', 'dst_host_same_srv_rate']\n",
    "df_train.drop(columns=drop_list, inplace=True)\n",
    "df_test.drop(columns=drop_list, inplace=True)"
   ]
  },
  {
   "cell_type": "code",
   "execution_count": 24,
   "id": "8dcfa1c6",
   "metadata": {},
   "outputs": [
    {
     "data": {
      "image/png": "[encoded data removed]",
      "text/plain": [
       "<Figure size 1080x864 with 2 Axes>"
      ]
     },
     "metadata": {
      "needs_background": "light"
     },
     "output_type": "display_data"
    }
   ],
   "source": [
    "plt.subplots(figsize=(15, 12))\n",
    "sns.heatmap(df_train.corr())\n",
    "plt.savefig(\"artefacts/Correlation heatmap after\", dpi=500)"
   ]
  },
  {
   "cell_type": "code",
   "execution_count": 25,
   "id": "c0bfb8f2",
   "metadata": {},
   "outputs": [
    {
     "name": "stdout",
     "output_type": "stream",
     "text": [
      "(125973, 33)\n",
      "(22544, 33)\n"
     ]
    }
   ],
   "source": [
    "print(df_train.shape)\n",
    "print(df_test.shape)"
   ]
  },
  {
   "cell_type": "markdown",
   "id": "a8527311",
   "metadata": {},
   "source": [
    "### Löschen von Daten mit zu wenig Informationen\n",
    "\n",
    "Aus der [Label Verteilung](#label-verteilung) ist zu erkennen, dass einige der Amgriffstypen kaum genuutzt werden. Diese haben ebenfalls keinen großen Einfluss auf das Ergebenis der Modelle und können gelöscht werden. Wir Löschen alle Daten Angriffstypen, die weniger als 10 mal vorkommen."
   ]
  },
  {
   "cell_type": "code",
   "execution_count": 26,
   "id": "8213f766",
   "metadata": {},
   "outputs": [],
   "source": [
    "#drop_list = ['spy', 'perl', 'phf', 'multihop', 'ftp_write', 'loadmodule']\n",
    "#df_train = df_train[df_train.label.isin(drop_list) == False]\n",
    "#df_test = df_test[df_test.label.isin(drop_list) == False]"
   ]
  },
  {
   "cell_type": "code",
   "execution_count": 27,
   "id": "dc5b12a2",
   "metadata": {},
   "outputs": [
    {
     "name": "stdout",
     "output_type": "stream",
     "text": [
      "(125973, 33)\n",
      "(22544, 33)\n"
     ]
    }
   ],
   "source": [
    "print(df_train.shape)\n",
    "print(df_test.shape)"
   ]
  },
  {
   "cell_type": "markdown",
   "id": "097cdc6f",
   "metadata": {},
   "source": [
    "## Daten Aufbereitung\n",
    "\n",
    "### Encodeden der Labels"
   ]
  },
  {
   "cell_type": "code",
   "execution_count": 28,
   "id": "379c1a1a",
   "metadata": {},
   "outputs": [],
   "source": [
    "from sklearn.preprocessing import LabelEncoder"
   ]
  },
  {
   "cell_type": "code",
   "execution_count": 29,
   "id": "9d21b277",
   "metadata": {},
   "outputs": [],
   "source": [
    "# Alle Kategorischen features als DataFrame ermitteln\n",
    "categorical_columns = ['protocol_type', 'service', 'flag']\n",
    "train_categorical_values = df_train[categorical_columns]\n",
    "test_categorical_values = df_test[categorical_columns]"
   ]
  },
  {
   "cell_type": "markdown",
   "id": "24332844",
   "metadata": {},
   "source": [
    "Neue Spaltennamen für die später encodierten Daten aufbauen."
   ]
  },
  {
   "cell_type": "code",
   "execution_count": 30,
   "id": "8ab6697c",
   "metadata": {},
   "outputs": [
    {
     "name": "stdout",
     "output_type": "stream",
     "text": [
      "['protocol_type_icmp', 'protocol_type_tcp', 'protocol_type_udp', 'service_IRC', 'service_X11', 'service_Z39_50', 'service_aol', 'service_auth', 'service_bgp', 'service_courier', 'service_csnet_ns', 'service_ctf', 'service_daytime', 'service_discard', 'service_domain', 'service_domain_u', 'service_echo', 'service_eco_i', 'service_ecr_i', 'service_efs', 'service_exec', 'service_finger', 'service_ftp', 'service_ftp_data', 'service_gopher', 'service_harvest', 'service_hostnames', 'service_http', 'service_http_2784', 'service_http_443', 'service_http_8001', 'service_imap4', 'service_iso_tsap', 'service_klogin', 'service_kshell', 'service_ldap', 'service_link', 'service_login', 'service_mtp', 'service_name', 'service_netbios_dgm', 'service_netbios_ns', 'service_netbios_ssn', 'service_netstat', 'service_nnsp', 'service_nntp', 'service_ntp_u', 'service_other', 'service_pm_dump', 'service_pop_2', 'service_pop_3', 'service_printer', 'service_private', 'service_red_i', 'service_remote_job', 'service_rje', 'service_shell', 'service_smtp', 'service_sql_net', 'service_ssh', 'service_sunrpc', 'service_supdup', 'service_systat', 'service_telnet', 'service_tftp_u', 'service_tim_i', 'service_time', 'service_urh_i', 'service_urp_i', 'service_uucp', 'service_uucp_path', 'service_vmnet', 'service_whois', 'flag_OTH', 'flag_REJ', 'flag_RSTO', 'flag_RSTOS0', 'flag_RSTR', 'flag_S0', 'flag_S1', 'flag_S2', 'flag_S3', 'flag_SF', 'flag_SH']\n"
     ]
    }
   ],
   "source": [
    "# Spaltennamne für Protokoll Typ. Prefix: protocol_type_\n",
    "unique_protocol = sorted(df_train.protocol_type.unique())\n",
    "protocol_prefix = 'protocol_type_'\n",
    "unique_protocol_with_prefix = [protocol_prefix + x for x in unique_protocol]\n",
    "\n",
    "# Spaltennamne für Service Typ. Prefix: service_\n",
    "unique_service = sorted(df_train.service.unique())\n",
    "service_prefix = 'service_'\n",
    "unique_service_with_prefix = [service_prefix + x for x in unique_service]\n",
    "\n",
    "# Spaltennamne für Flag Typ. Prefix: flag_\n",
    "unique_flag = sorted(df_train.flag.unique())\n",
    "flag_prefix = 'flag_'\n",
    "unique_flag_with_prefix = [flag_prefix + x for x in unique_flag]\n",
    "\n",
    "# Konkatenieren\n",
    "dummy_cols = unique_protocol_with_prefix + unique_service_with_prefix + unique_flag_with_prefix\n",
    "print(dummy_cols)\n",
    "\n",
    "# Das gleiche fürs Testset. Hier muss nur der Servive Typt angepasst werden.\n",
    "unique_service_test = sorted(df_test.service.unique())\n",
    "unique_service_test_with_prefix = [service_prefix + x for x in unique_service_test]\n",
    "test_dummy_cols = unique_protocol_with_prefix + unique_service_test_with_prefix + unique_flag_with_prefix"
   ]
  },
  {
   "cell_type": "markdown",
   "id": "ce15a73f",
   "metadata": {},
   "source": [
    "Encodieren der Daten."
   ]
  },
  {
   "cell_type": "code",
   "execution_count": 31,
   "id": "f804b157",
   "metadata": {},
   "outputs": [
    {
     "data": {
      "text/html": [
       "<div>\n",
       "<style scoped>\n",
       "    .dataframe tbody tr th:only-of-type {\n",
       "        vertical-align: middle;\n",
       "    }\n",
       "\n",
       "    .dataframe tbody tr th {\n",
       "        vertical-align: top;\n",
       "    }\n",
       "\n",
       "    .dataframe thead th {\n",
       "        text-align: right;\n",
       "    }\n",
       "</style>\n",
       "<table border=\"1\" class=\"dataframe\">\n",
       "  <thead>\n",
       "    <tr style=\"text-align: right;\">\n",
       "      <th></th>\n",
       "      <th>protocol_type</th>\n",
       "      <th>service</th>\n",
       "      <th>flag</th>\n",
       "    </tr>\n",
       "  </thead>\n",
       "  <tbody>\n",
       "    <tr>\n",
       "      <th>0</th>\n",
       "      <td>1</td>\n",
       "      <td>20</td>\n",
       "      <td>9</td>\n",
       "    </tr>\n",
       "    <tr>\n",
       "      <th>1</th>\n",
       "      <td>2</td>\n",
       "      <td>44</td>\n",
       "      <td>9</td>\n",
       "    </tr>\n",
       "    <tr>\n",
       "      <th>2</th>\n",
       "      <td>1</td>\n",
       "      <td>49</td>\n",
       "      <td>5</td>\n",
       "    </tr>\n",
       "    <tr>\n",
       "      <th>3</th>\n",
       "      <td>1</td>\n",
       "      <td>24</td>\n",
       "      <td>9</td>\n",
       "    </tr>\n",
       "    <tr>\n",
       "      <th>4</th>\n",
       "      <td>1</td>\n",
       "      <td>24</td>\n",
       "      <td>9</td>\n",
       "    </tr>\n",
       "  </tbody>\n",
       "</table>\n",
       "</div>"
      ],
      "text/plain": [
       "   protocol_type  service  flag\n",
       "0              1       20     9\n",
       "1              2       44     9\n",
       "2              1       49     5\n",
       "3              1       24     9\n",
       "4              1       24     9"
      ]
     },
     "execution_count": 31,
     "metadata": {},
     "output_type": "execute_result"
    }
   ],
   "source": [
    "train_categorical_values_enc = train_categorical_values.apply(LabelEncoder().fit_transform)\n",
    "test_categorical_values_enc = test_categorical_values.apply(LabelEncoder().fit_transform)\n",
    "train_categorical_values_enc.head()"
   ]
  },
  {
   "cell_type": "markdown",
   "id": "51c110ea",
   "metadata": {},
   "source": [
    "### One-Hot Encoding"
   ]
  },
  {
   "cell_type": "code",
   "execution_count": 32,
   "id": "445e9dfd",
   "metadata": {},
   "outputs": [],
   "source": [
    "# One-Hot encoder instanzieren\n",
    "from sklearn.preprocessing import OneHotEncoder\n",
    "\n",
    "oh_encoder = OneHotEncoder()"
   ]
  },
  {
   "cell_type": "code",
   "execution_count": 33,
   "id": "da2d90c2",
   "metadata": {},
   "outputs": [
    {
     "data": {
      "text/plain": [
       "(125973, 84)"
      ]
     },
     "execution_count": 33,
     "metadata": {},
     "output_type": "execute_result"
    }
   ],
   "source": [
    "# Train Set\n",
    "train_categorical_values_one_hot = oh_encoder.fit_transform(train_categorical_values_enc)\n",
    "train_categorical_data = pd.DataFrame(train_categorical_values_one_hot.toarray(), columns = dummy_cols)\n",
    "\n",
    "# Test set\n",
    "test_categorical_values_one_hot = oh_encoder.fit_transform(test_categorical_values_enc)\n",
    "test_categorical_data = pd.DataFrame(test_categorical_values_one_hot.toarray(), columns = test_dummy_cols)\n",
    "\n",
    "train_categorical_data.shape"
   ]
  },
  {
   "cell_type": "markdown",
   "id": "96c28733",
   "metadata": {},
   "source": [
    "### Die sechs fehlenden Kategorien in das Testset einfügen"
   ]
  },
  {
   "cell_type": "code",
   "execution_count": 34,
   "id": "80ec12ed",
   "metadata": {},
   "outputs": [
    {
     "name": "stdout",
     "output_type": "stream",
     "text": [
      "(125973, 84)\n",
      "(22544, 84)\n",
      "(125973, 33)\n"
     ]
    }
   ],
   "source": [
    "trainservice = df_train['service'].tolist()\n",
    "testservice = df_test['service'].tolist()\n",
    "difference = list(set(trainservice) - set(testservice))\n",
    "\n",
    "for col in [service_prefix + x for x in difference]:\n",
    "    test_categorical_data[col] = 0\n",
    "    \n",
    "print(train_categorical_data.shape)\n",
    "print(test_categorical_data.shape)\n",
    "print(df_train.shape)"
   ]
  },
  {
   "cell_type": "markdown",
   "id": "b7df6b85",
   "metadata": {},
   "source": [
    "### Die Encodeten Daten mit den ursprünglich nicht kategorischen Daten vereinen"
   ]
  },
  {
   "cell_type": "code",
   "execution_count": null,
   "id": "d8a8ce19",
   "metadata": {},
   "outputs": [],
   "source": []
  },
  {
   "cell_type": "code",
   "execution_count": 35,
   "id": "eb63b0e5",
   "metadata": {
    "scrolled": true
   },
   "outputs": [
    {
     "name": "stdout",
     "output_type": "stream",
     "text": [
      "(125973, 114)\n",
      "(22544, 114)\n",
      "(125973, 114)\n"
     ]
    }
   ],
   "source": [
    "df_train_new = df_train.join(train_categorical_data)\n",
    "df_train_new.drop(columns='flag', inplace=True)\n",
    "df_train_new.drop(columns='protocol_type',inplace=True)\n",
    "df_train_new.drop(columns='service', inplace=True)\n",
    "\n",
    "df_test_new = df_test.join(test_categorical_data)\n",
    "df_test_new.drop(columns='flag', inplace=True)\n",
    "df_test_new.drop(columns='protocol_type', inplace=True)\n",
    "df_test_new.drop(columns='service', inplace=True)\n",
    "\n",
    "print(df_train_new.shape)\n",
    "print(df_test_new.shape)\n",
    "print(df_train_new.dropna().shape)"
   ]
  },
  {
   "cell_type": "markdown",
   "id": "3eb8f3d4",
   "metadata": {},
   "source": [
    "Als letztes noch die Label selber Encodieren."
   ]
  },
  {
   "cell_type": "code",
   "execution_count": 36,
   "id": "bebe064a",
   "metadata": {},
   "outputs": [
    {
     "data": {
      "text/plain": [
       "0    0\n",
       "1    0\n",
       "2    1\n",
       "3    0\n",
       "4    0\n",
       "Name: label, dtype: int64"
      ]
     },
     "execution_count": 36,
     "metadata": {},
     "output_type": "execute_result"
    }
   ],
   "source": [
    "df_train_new['label'].replace({ 'normal' : 0, 'neptune' : 1 ,'back': 1, 'land': 1, 'pod': 1, 'smurf': 1, 'teardrop': 1,'mailbomb': 1, 'apache2': 1, 'processtable': 1, 'udpstorm': 1, 'worm': 1,\n",
    "                           'ipsweep' : 2,'nmap' : 2,'portsweep' : 2,'satan' : 2,'mscan' : 2,'saint' : 2\n",
    "                           ,'ftp_write': 3,'guess_passwd': 3,'imap': 3,'multihop': 3,'phf': 3,'spy': 3,'warezclient': 3,'warezmaster': 3,'sendmail': 3,'named': 3,'snmpgetattack': 3,'snmpguess': 3,'xlock': 3,'xsnoop': 3,'httptunnel': 3,\n",
    "                           'buffer_overflow': 4,'loadmodule': 4,'perl': 4,'rootkit': 4,'ps': 4,'sqlattack': 4,'xterm': 4}, inplace=True)\n",
    "df_test_new['label'].replace({ 'normal' : 0, 'neptune' : 1 ,'back': 1, 'land': 1, 'pod': 1, 'smurf': 1, 'teardrop': 1,'mailbomb': 1, 'apache2': 1, 'processtable': 1, 'udpstorm': 1, 'worm': 1,\n",
    "                           'ipsweep' : 2,'nmap' : 2,'portsweep' : 2,'satan' : 2,'mscan' : 2,'saint' : 2\n",
    "                           ,'ftp_write': 3,'guess_passwd': 3,'imap': 3,'multihop': 3,'phf': 3,'spy': 3,'warezclient': 3,'warezmaster': 3,'sendmail': 3,'named': 3,'snmpgetattack': 3,'snmpguess': 3,'xlock': 3,'xsnoop': 3,'httptunnel': 3,\n",
    "                           'buffer_overflow': 4,'loadmodule': 4,'perl': 4,'rootkit': 4,'ps': 4,'sqlattack': 4,'xterm': 4}, \n",
    "                             inplace=True)\n",
    "df_train_new['label'].head()"
   ]
  },
  {
   "cell_type": "markdown",
   "id": "b47815c3",
   "metadata": {},
   "source": [
    "### Daten Standartisieren und in 4 Hauptkategorien aufteilen"
   ]
  },
  {
   "cell_type": "code",
   "execution_count": 37,
   "id": "0b3c1f71",
   "metadata": {},
   "outputs": [
    {
     "name": "stdout",
     "output_type": "stream",
     "text": [
      "Train:\n",
      "Dimensions of DoS: (113270, 114)\n",
      "Dimensions of Probe: (78999, 114)\n",
      "Dimensions of R2L: (68338, 114)\n",
      "Dimensions of U2R: (67395, 114)\n",
      "Test:\n",
      "Dimensions of DoS: (22544, 114)\n",
      "Dimensions of Probe: (22544, 114)\n",
      "Dimensions of R2L: (22544, 114)\n",
      "Dimensions of U2R: (22544, 114)\n"
     ]
    }
   ],
   "source": [
    "to_drop_DoS = [2,3,4]\n",
    "to_drop_Probe = [1,3,4]\n",
    "to_drop_R2L = [1,2,4]\n",
    "to_drop_U2R = [1,2,3]\n",
    "\n",
    "# Training Set\n",
    "DoS_df = df_train_new[~df_train_new['label'].isin(to_drop_DoS)];\n",
    "Probe_df = df_train_new[~df_train_new['label'].isin(to_drop_Probe)];\n",
    "R2L_df = df_train_new[~df_train_new['label'].isin(to_drop_R2L)];\n",
    "U2R_df = df_train_new[~df_train_new['label'].isin(to_drop_U2R)];\n",
    "\n",
    "# Test Set\n",
    "DoS_df_test = df_test_new[~df_test['label'].isin(to_drop_DoS)];\n",
    "Probe_df_test = df_test_new[~df_test['label'].isin(to_drop_Probe)];\n",
    "R2L_df_test = df_test_new[~df_test['label'].isin(to_drop_R2L)];\n",
    "U2R_df_test = df_test_new[~df_test['label'].isin(to_drop_U2R)];\n",
    "print('Train:')\n",
    "print('Dimensions of DoS:' ,DoS_df.shape)\n",
    "print('Dimensions of Probe:' ,Probe_df.shape)\n",
    "print('Dimensions of R2L:' ,R2L_df.shape)\n",
    "print('Dimensions of U2R:' ,U2R_df.shape)\n",
    "print('Test:')\n",
    "print('Dimensions of DoS:' ,DoS_df_test.shape)\n",
    "print('Dimensions of Probe:' ,Probe_df_test.shape)\n",
    "print('Dimensions of R2L:' ,R2L_df_test.shape)\n",
    "print('Dimensions of U2R:' ,U2R_df_test.shape)"
   ]
  },
  {
   "cell_type": "markdown",
   "id": "131c3a8a",
   "metadata": {},
   "source": []
  },
  {
   "cell_type": "code",
   "execution_count": 38,
   "id": "4ecf44e1",
   "metadata": {},
   "outputs": [],
   "source": [
    "# Training Set\n",
    "X_DoS = DoS_df.drop(columns='label')\n",
    "Y_DoS = DoS_df.label\n",
    "\n",
    "X_Probe = Probe_df.drop(columns='label')\n",
    "Y_Probe = Probe_df.label\n",
    "\n",
    "X_R2L = R2L_df.drop(columns='label')\n",
    "Y_R2L = R2L_df.label\n",
    "\n",
    "X_U2R = U2R_df.drop(columns='label')\n",
    "Y_U2R = U2R_df.label\n",
    "\n",
    "# Test Set\n",
    "\n",
    "X_DoS_test = DoS_df_test.drop(columns='label')\n",
    "Y_DoS_test = DoS_df_test.label\n",
    "\n",
    "X_Probe_test = Probe_df_test.drop(columns='label')\n",
    "Y_Probe_test = Probe_df_test.label\n",
    "\n",
    "X_R2L_test = R2L_df_test.drop(columns='label')\n",
    "Y_R2L_test = R2L_df_test.label\n",
    "\n",
    "X_U2R_test = U2R_df_test.drop(columns='label')\n",
    "Y_U2R_test = U2R_df_test.label"
   ]
  },
  {
   "cell_type": "code",
   "execution_count": 39,
   "id": "fba17b62",
   "metadata": {},
   "outputs": [],
   "source": [
    "colNames = list(X_DoS)\n",
    "colNames_test = list(X_DoS)"
   ]
  },
  {
   "cell_type": "code",
   "execution_count": 40,
   "id": "eb9cebef",
   "metadata": {},
   "outputs": [],
   "source": [
    "from sklearn.preprocessing import MinMaxScaler\n",
    "\n",
    "scaler_dos = MinMaxScaler().fit(X_DoS)\n",
    "X_DoS = scaler_dos.transform(X_DoS)\n",
    "\n",
    "scaler_probe = MinMaxScaler().fit(X_Probe)\n",
    "X_Probe = scaler_probe.transform(X_Probe)\n",
    "\n",
    "scaler_r2l = MinMaxScaler().fit(X_R2L)\n",
    "X_R2L = scaler_r2l.transform(X_R2L)\n",
    "\n",
    "scaler_u2r = MinMaxScaler().fit(X_U2R)\n",
    "X_U2R = scaler_u2r.transform(X_U2R)\n",
    "\n",
    "# Testset\n",
    "scaler_dos_test = MinMaxScaler().fit(X_DoS_test)\n",
    "X_DoS_test = scaler_dos_test.transform(X_DoS_test)\n",
    "\n",
    "scaler_probe_test = MinMaxScaler().fit(X_Probe_test)\n",
    "X_Probe_test = scaler_probe_test.transform(X_Probe_test)\n",
    "\n",
    "scaler_r2l_test = MinMaxScaler().fit(X_R2L_test)\n",
    "X_R2L_test = scaler_r2l_test.transform(X_R2L_test)\n",
    "\n",
    "scaler_u2r_test = MinMaxScaler().fit(X_U2R_test)\n",
    "X_U2R_test = scaler_u2r_test.transform(X_U2R_test)"
   ]
  },
  {
   "cell_type": "markdown",
   "id": "0fe2c5da",
   "metadata": {},
   "source": [
    "## Feature Selection"
   ]
  },
  {
   "cell_type": "code",
   "execution_count": 41,
   "id": "8b53fe52",
   "metadata": {},
   "outputs": [],
   "source": [
    "from sklearn.feature_selection import SelectKBest\n",
    "from sklearn.feature_selection import chi2"
   ]
  },
  {
   "cell_type": "code",
   "execution_count": 42,
   "id": "d4fd058c",
   "metadata": {},
   "outputs": [],
   "source": [
    "selector = SelectKBest(score_func=chi2, k=25)"
   ]
  },
  {
   "cell_type": "code",
   "execution_count": 43,
   "id": "dc644106",
   "metadata": {},
   "outputs": [],
   "source": [
    "df_X_DoS = pd.DataFrame(X_DoS, columns=colNames)\n",
    "df_X_DoS_test = pd.DataFrame(X_DoS_test, columns=colNames)\n",
    "fit = selector.fit(X_DoS, Y_DoS)\n",
    "X_DoS = fit.transform(X_DoS)\n",
    "new_features = df_X_DoS.columns[selector.get_support(indices=True)]\n",
    "\n",
    "X_DoS = df_X_DoS[new_features]\n",
    "X_DoS_test = df_X_DoS_test[new_features]"
   ]
  },
  {
   "cell_type": "code",
   "execution_count": null,
   "id": "4171fe0b",
   "metadata": {},
   "outputs": [],
   "source": []
  },
  {
   "cell_type": "code",
   "execution_count": null,
   "id": "c50dfcd0",
   "metadata": {},
   "outputs": [],
   "source": []
  },
  {
   "cell_type": "markdown",
   "id": "d1b35cc6",
   "metadata": {},
   "source": [
    "## Decision Tree"
   ]
  },
  {
   "cell_type": "code",
   "execution_count": 44,
   "id": "479f8438",
   "metadata": {},
   "outputs": [],
   "source": [
    "from sklearn.tree import DecisionTreeClassifier"
   ]
  },
  {
   "cell_type": "code",
   "execution_count": null,
   "id": "6b419404",
   "metadata": {},
   "outputs": [],
   "source": [
    "clf1 = DecisionTreeClassifier(random_state=0)\n",
    "#clf2 = DecisionTreeClassifier(random_state=0)\n",
    "#clf3 = DecisionTreeClassifier(random_state=0)\n",
    "#clf4 = DecisionTreeClassifier(random_state=0)\n",
    "t = time()\n",
    "clf1.fit(X_DoS, Y_DoS)\n",
    "#clf2.fit(X_train_probe, Y_train_probe)\n",
    "#clf3.fit(X_train_R2L, Y_train_R2L)\n",
    "#clf4.fit(X_train_U2R, Y_train_U2R)\n",
    "tt1 = time() - t\n",
    "print(\"Classifier trained in {} seconds.\".format(round(tt1, 3)))"
   ]
  },
  {
   "cell_type": "code",
   "execution_count": null,
   "id": "bdc1e61c",
   "metadata": {},
   "outputs": [],
   "source": [
    "predDT1 = clf1.predict(X_DoS_test)"
   ]
  },
  {
   "cell_type": "code",
   "execution_count": null,
   "id": "c71a19ec",
   "metadata": {},
   "outputs": [],
   "source": [
    "accuracy_score(Y_DoS_test, predDT1)"
   ]
  },
  {
   "cell_type": "code",
   "execution_count": null,
   "id": "ccb381b0",
   "metadata": {},
   "outputs": [],
   "source": []
  },
  {
   "cell_type": "markdown",
   "id": "423c76a8",
   "metadata": {},
   "source": [
    "## Random Forest"
   ]
  },
  {
   "cell_type": "code",
   "execution_count": 45,
   "id": "46938361",
   "metadata": {},
   "outputs": [],
   "source": [
    "from sklearn.ensemble import RandomForestClassifier"
   ]
  },
  {
   "cell_type": "code",
   "execution_count": 46,
   "id": "b440f8f0",
   "metadata": {},
   "outputs": [
    {
     "name": "stdout",
     "output_type": "stream",
     "text": [
      "Classifier trained in 962.403 seconds.\n"
     ]
    }
   ],
   "source": [
    "clf1 = RandomForestClassifier(n_estimators=50)\n",
    "#clf2 = DecisionTreeClassifier(random_state=0)\n",
    "#clf3 = DecisionTreeClassifier(random_state=0)\n",
    "#clf4 = DecisionTreeClassifier(random_state=0)\n",
    "t = time()\n",
    "clf1.fit(X_DoS, Y_DoS)\n",
    "#clf2.fit(X_train_probe, Y_train_probe)\n",
    "#clf3.fit(X_train_R2L, Y_train_R2L)\n",
    "#clf4.fit(X_train_U2R, Y_train_U2R)\n",
    "tt1 = time() - t\n",
    "print(\"Classifier trained in {} seconds.\".format(round(tt1, 3)))"
   ]
  },
  {
   "cell_type": "code",
   "execution_count": 47,
   "id": "b17671b4",
   "metadata": {},
   "outputs": [],
   "source": [
    "predDT1 = clf1.predict(X_DoS_test)"
   ]
  },
  {
   "cell_type": "code",
   "execution_count": 48,
   "id": "b5cd3896",
   "metadata": {},
   "outputs": [
    {
     "data": {
      "text/plain": [
       "0.6344925479063165"
      ]
     },
     "execution_count": 48,
     "metadata": {},
     "output_type": "execute_result"
    }
   ],
   "source": [
    "accuracy_score(Y_DoS_test, predDT1)"
   ]
  },
  {
   "cell_type": "markdown",
   "id": "136111b9",
   "metadata": {},
   "source": [
    "## Naive Bayes"
   ]
  },
  {
   "cell_type": "code",
   "execution_count": 49,
   "id": "72bc26a8",
   "metadata": {},
   "outputs": [],
   "source": [
    "from sklearn.naive_bayes import BernoulliNB"
   ]
  },
  {
   "cell_type": "code",
   "execution_count": 50,
   "id": "96bb381b",
   "metadata": {},
   "outputs": [
    {
     "name": "stdout",
     "output_type": "stream",
     "text": [
      "Classifier trained in 0.092 seconds.\n"
     ]
    }
   ],
   "source": [
    "clf1 = BernoulliNB()\n",
    "t = time()\n",
    "clf1.fit(X_DoS, Y_DoS)\n",
    "#clf2.fit(X_train_probe, Y_train_probe)\n",
    "#clf3.fit(X_train_R2L, Y_train_R2L)\n",
    "#clf4.fit(X_train_U2R, Y_train_U2R)\n",
    "tt1 = time() - t\n",
    "print(\"Classifier trained in {} seconds.\".format(round(tt1, 3)))"
   ]
  },
  {
   "cell_type": "code",
   "execution_count": null,
   "id": "066967ab",
   "metadata": {},
   "outputs": [],
   "source": []
  }
 ],
 "metadata": {
  "kernelspec": {
   "display_name": "Python 3 (ipykernel)",
   "language": "python",
   "name": "python3"
  },
  "language_info": {
   "codemirror_mode": {
    "name": "ipython",
    "version": 3
   },
   "file_extension": ".py",
   "mimetype": "text/x-python",
   "name": "python",
   "nbconvert_exporter": "python",
   "pygments_lexer": "ipython3",
   "version": "3.10.4"
  }
 },
 "nbformat": 4,
 "nbformat_minor": 5
}
