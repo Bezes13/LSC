{
 "cells": [
  {
   "cell_type": "markdown",
   "id": "36a3fb92",
   "metadata": {},
   "source": [
    "# Network Intrusion Detection mit modernem Machine Learning"
   ]
  },
  {
   "cell_type": "markdown",
   "id": "98ba629c",
   "metadata": {},
   "source": [
    "# Fach: Learning & Softcomputing\n",
    "\n",
    "Geschreiben von:  \n",
    "Alexander Belzer (Matr.Nr. inf104862)  \n",
    "Maximilian Wendt (Matr.Nr. its105814)\n",
    "    \n",
    "Betreut von:  \n",
    "Prof. Dr. Ulrich Hoffmann"
   ]
  },
  {
   "cell_type": "markdown",
   "id": "f716ab8e",
   "metadata": {},
   "source": [
    "## Inhaltsverzeichnis\n",
    "1. [Einfuehrung](#einfuehrung)\n",
    "2. [Datensatz NSL-KDD und Alternativen](#datensatz-nsl-kdd-und-alternativen)\n",
    "3. [Einbinden der benoetigten Bibiliotheken mit Versionsangabe](#einbinden-der-benoetigten-bibiliotheken-mit-versionsangabe)\n",
    "4. [Lesen und kennenlernen der Daten](#lesen-und-kennenlernen-der-daten)\n",
    "5. [Daten Aufbereiten](#daten-aufbereiten)\n",
    "6. [Daten Encodieren](#daten-encodieren)\n",
    "7. [Daten in die vier Angriffskategorien aufteilen](#daten-in-die-vier-angriffskategorien-aufteilen)\n",
    "8. [Daten Standartisieren und fuer das Modelltraining vorbereiten](#daten-standartisieren-und-fuer-das-modelltraining-vorbereiten)\n",
    "9. [Model creation and Evaluation with complete Data](#model-creation-and-evaluation-with-complete-data)\n",
    "10. [Model creation and Evaluation with split Data](#model-creation-and-evaluation-with-split-data)"
   ]
  },
  {
   "cell_type": "markdown",
   "id": "54a28761",
   "metadata": {},
   "source": [
    "## Einfuehrung\n",
    "\n",
    "Durch die stätig wachsende Nutzung und Weiterentwicklung von IT-Systemen, werden auch Angreifer immer mehr aufmerksam auf diese Systeme. Netzwerk-Sicherheit ist ein fundamentales Konzept geworden, um wichtige Daten und Systeme zu schützen. Zur implementierung von Netzwerk-Sicherheit werden verschiedene Technologien wie Firewalls, VPNs, Antivirus-Software und Netwrok Intrusion Detection Systeme (NIDS) genutzt. Letzteres ist eine Möglichkeit den Datenfluss einen Netzwerkes konstanst zu beobachten und [dabei potientielle sicherheitsrelevante Vorfälle zu detektieren](https://www.juniper.net/de/de/research-topics/what-is-ids-ips.html). Die Idee von IDS wurde 1980 von Jim Anderson vorgestellt. Seither wurde die IDS Technologie immer weiter entwickelt und angepasst.  \n",
    "Durch immer stätig wachsende komplexität der genuzten Netzwerke müssen auch NIDS Technologien immer besser werden. Bisherige NIDS implementierungen wurden größtenteils auf [basis von Signaturen entwickelt](https://www.researchgate.net/profile/Miguel-Correia-13/publication/338301657_Big_Data_Analytics_for_Intrusion_Detection/links/6058818f299bf173675cacbe/Big-Data-Analytics-for-Intrusion-Detection.pdf), die Angriffe durch einfaches vergleichen erkennen sollten. Signatur basierte NIDS sind [beschränkt auf bekannte Angriffstechniken](https://www.cse.wustl.edu/%7Ejain/cse571-07/ftp/ids/) und damit machtlos gegen Zero-Day exploits. Weiterhin können Signatur basierte NIDS durch die wachsende Anzahl von möglichen Angriffen [ineffizient werden](https://www.cse.wustl.edu/%7Ejain/cse571-07/ftp/ids/), da für jedes beobachtete Datenpaket alle möglichen Angriffsignaturen überprüft werden muss.  \n",
    "Um diese Umstände zu verbessen können moderne Machine Learning Modelle genutzt werden. Die Modelle werden genutzt, um auf Anomalien im Datenverkehr hinzuweisen. Durch die schnelle Entwicklung von Machine Learning setzen immer mehr [NIDS Produkte auf diese Technologie](https://www.cse.wustl.edu/%7Ejain/cse571-07/ftp/ids/#sec4).  \n",
    "In dieser Arbeit werden wir verschiedene Machine Learning Modelle trainieren und zeigen wie gut diese Modelle darin sind Anomalien zu entdecken. Ebenfalls werden wir in der Lage sein verschiedenen ANgriffstypen zu erkennen.\n",
    "Als Basis dieser Arbeit wurde das Paper \"[Herve Nkiama, Syed Zainudeen Mohd Said, Muhammad Saidu: A Subset Feature Elimination Mechanism for Intrusion Detection System](https://thesai.org/Downloads/Volume7No4/Paper_19-A_Subset_Feature_Elimination_Mechanism_for_Intrusion_Detection_System.pdf)\" genutzt."
   ]
  },
  {
   "cell_type": "markdown",
   "id": "5f4bf443",
   "metadata": {},
   "source": [
    "## Datensatz NSL-KDD und Alternativen\n",
    "\n",
    "In diesem Kapitel stellen wir den in dieser Arbeit genutzten Datensatz vor. Außerdem präsentieren wir noch einige zusätzliche Datensätze die als alternative für andere Projekte ich betracht gezogen werden können.\n",
    "\n",
    "### NSL-KDD\n",
    "\n",
    "Das MIT Lincoln Lab entwickelte den [KDD 1999 Datensatz](http://kdd.ics.uci.edu/databases/kddcup99), der bis in das letzte Jahrzenht von Forschen genutzt wurde. Der Datensatz hält eine große Anzahl von Einträgen und Attributen, was ihn besonders nützlich für die Arbeit mit Machine Learning macht. Allerdings, weist der Datensatz [siginifikante Mängel](https://dl.acm.org/doi/10.1145/382912.382923) auf. Zu diesen Mängeln gehören eine nicht triviale Menge an Redundanten einträgen, was die Performance von Maschine Learning beeinträchtigen kann. Außerdem befinden sich doppelte Einträge innerhalb des Test Datensatzes, was zu [Voreingenommenheit bei der Detektion von Anomalien führen kann](https://thesai.org/Downloads/Volume7No4/Paper_19-A_Subset_Feature_Elimination_Mechanism_for_Intrusion_Detection_System.pdf).  \n",
    "Aus diesen Gründen wurde der [NSL-KDD Datensatz](https://www.kaggle.com/hassan06/nslkdd) entwickelt. Dieser Datensatz soll  gegenüber seinem Vörgänger folgende Verbesserungen aufweisen:"
   ]
  },
  {
   "cell_type": "markdown",
   "id": "946a85b7",
   "metadata": {},
   "source": [
    "+ Es werden keine redundanten Datensätze in die Trainingsmenge aufgenommen, so dass die Klassifikatoren nicht auf häufigere Datensätze ausgerichtet sind.\n",
    "+ In den vorgeschlagenen Testsätzen gibt es keine doppelten Datensätze; daher wird die Performanz der Modelle nicht durch die Methoden verzerrt, die bessere Erkennungsraten bei den häufigen Datensätzen haben.\n",
    "+ Die Anzahl der ausgewählten Datensätze aus jedem Schwiergkeitalevel ist umgekehrt proportional zu dem Prozentsatz der Datensätze im ursprünglichen KDD-Datensatz. Infolgedessen variieren die Klassifizierungsraten verschiedener maschineller Lernmethoden in einem größeren Bereich, was eine genaue Bewertung der verschiedenen Lerntechniken effizienter macht.\n",
    "+ Die Anzahl der Datensätze in den Trainings- und Testdatensätzen ist überschaubarer, so dass es erschwinglich ist, die Experimente mit dem gesamten Satz durchzuführen, ohne dass ein kleiner Teil zufällig ausgewählt werden muss. Infolgedessen werden die Bewertungsergebnisse verschiedener Forschungsarbeiten konsistent und vergleichbar sein.   "
   ]
  },
  {
   "cell_type": "markdown",
   "id": "c2625997",
   "metadata": {},
   "source": [
    "Eine weitere Besonderheit ist, dass die Daten dieses Datensatzen in vier Angriffstypen aufgeteilt werden können. Somit ist es möglich verschiedene Angriffstypen zu erkennen. Die vier möglichen Kategorien sind:"
   ]
  },
  {
   "cell_type": "markdown",
   "id": "168d24d4",
   "metadata": {},
   "source": [
    "+ DoS (Denial of Service)\n",
    "+ Probe (Scanns)\n",
    "+ R2L (Remote Angriffe, wie Brute Forcing)\n",
    "+ U2L (Ausnutzen lokaler schwachstellen, wie z.B. Buffer Overflows)"
   ]
  },
  {
   "cell_type": "markdown",
   "id": "0725a9a1",
   "metadata": {},
   "source": [
    "Wir haben uns für diesen Datensatz entschieden, da es eine große Anzahl bestehender Arbeiten zu diesem Datensatz und seinem Vorgänger gibt."
   ]
  },
  {
   "cell_type": "markdown",
   "id": "f6e8b3ca",
   "metadata": {},
   "source": [
    "### Alternative Datensätze\n",
    "\n",
    "Bei der Recherche zu möglchen Datensätzen sind wir auf weitere Datensätze gestoßen, die für zukünfige Arbeiten ebenfalls Potential haben. Hier eine kurze Vorstellungen dieser Datensätze:"
   ]
  },
  {
   "cell_type": "markdown",
   "id": "bc646275",
   "metadata": {},
   "source": [
    "+ **Kyoto2006\\+**: Dieser Datensatz wurde aus den Aufzeichnungen des Netzwerkverkehrs erstellt, die durch den Einsatz von Honeypots, Darknet-Sensoren, E-Mail-Servern, Web-Crawlern und anderen Netzwerksicherheitsmaßnahmen der Universität Kyoto gewonnen wurden. Der aktuellste Datensatz umfasst die Verkehrsaufzeichnungen von 2006 bis 2015. Jeder Datensatz hat 24 statistische Merkmale, von denen 14 aus dem KDD 1999-Datensatz stammen, während die restlichen 10 zusätzliche Merkmale sind  \n",
    "+ **UNSW-NB15**: Dieser Datensatz wurde vom Australian Center für Cyber Security erstellt. Er enthält etwa zwei Millionen Datensätze mit insgesamt 49 Attributen, die mit Bro-IDS, Argus-Tools und einigen neu entwickelten Algorithmen extrahiert wurden. Dieser Datensatz enthält die folgenden Angriffsarten: Würmer, Shellcode, Aufklärungsangriffe, Port-Scans, generische Angriffe, Backdoor, DoS, Exploits und Fuzzers.  \n",
    "+ **CIC-IDS2017**: Dieser Datensatz wurde 2017 vom Canadian Institute of Cyber Security (CIC) erstellt. Er enthält die normalen Datenströme und Angriffe. Der Netzwerkverkehr wird von CICFlowMeter anhand von Zeitstempeln, Quell- und Ziel-IP-Adressen, Protokollen und Angriffen analysiert. Darüber hinaus enthält CICIDS2017 gängige Angriffsszenarien wie Brute-Force-Angriffe, Heartbleed-Angriffe, Botnets, Denial-of-Service-Angriffe (DoS), verteilte DoS-Angriffe (DDoS), Web-Angriffe und Infiltrationsangriffe."
   ]
  },
  {
   "cell_type": "markdown",
   "id": "66170431",
   "metadata": {},
   "source": [
    "## Einbinden der benoetigten Bibiliotheken mit Versionsangabe"
   ]
  },
  {
   "cell_type": "code",
   "execution_count": 1,
   "id": "ad0acf7f",
   "metadata": {},
   "outputs": [
    {
     "name": "stdout",
     "output_type": "stream",
     "text": [
      "General Info:       3.9.13 (main, May 24 2022, 21:28:31) \n",
      "[Clang 13.1.6 (clang-1316.0.21.2)]\n",
      "Pandas Version:     1.4.2\n",
      "Numpy Version:      1.22.4\n",
      "SkLearn Version:    1.1.1\n",
      "matplotlib Version: 3.5.2\n"
     ]
    }
   ],
   "source": [
    "import pandas as pd\n",
    "import numpy as np\n",
    "import sys\n",
    "import os\n",
    "import sklearn\n",
    "import matplotlib\n",
    "import time\n",
    "import matplotlib.pyplot as plt\n",
    "import seaborn as sns\n",
    "\n",
    "from time import time\n",
    "from sklearn.metrics import accuracy_score\n",
    "from sklearn.tree import DecisionTreeClassifier\n",
    "from sklearn.ensemble import RandomForestClassifier\n",
    "from sklearn.naive_bayes import BernoulliNB\n",
    "from sklearn.svm import LinearSVC\n",
    "\n",
    "print(f\"General Info:       {sys.version}\")\n",
    "print(f\"Pandas Version:     {pd.__version__}\")\n",
    "print(f\"Numpy Version:      {np.__version__}\")\n",
    "print(f\"SkLearn Version:    {sklearn.__version__}\")\n",
    "print(f\"matplotlib Version: {matplotlib.__version__}\")"
   ]
  },
  {
   "cell_type": "markdown",
   "id": "c3cd70b4",
   "metadata": {},
   "source": [
    "## Lesen und kennenlernen der Daten\n",
    "\n",
    "In diesem Kapitel werden die Trainings- und Testdaten eingelesen. Gleichzeitig beschriften wir die Daten richtig und bekommen eine erste Übersicht über die Daten. Wir lassen uns ebenfalls verschiedenste statistische Werte der Daten ausgeben.\n",
    "\n",
    "### Erstes Lesen der Daten und hinzufügen von Spaltenbezeichnungen\n",
    "\n",
    "Bevor die Daten im NSL-KDD Datensatz für verschiede ML Modelle genutzt werden können, müssen diese erstmal eingelesen werden. Hierbei werden die einzelnen Spalten auch mit den richtigen Bezeichnungen versehen."
   ]
  },
  {
   "cell_type": "code",
   "execution_count": 2,
   "id": "71e2f4b9",
   "metadata": {},
   "outputs": [],
   "source": [
    "# OS Pfad der Daten aufbauen\n",
    "kdd_train_set_path = os.path.join(\"nsl-kdd\", \"KDDTrain+.txt\")\n",
    "kdd_test_set_path  = os.path.join(\"nsl-kdd\", \"KDDTest+.txt\")\n",
    "\n",
    "#train_url = 'https://raw.githubusercontent.com/merteroglu/NSL-KDD-Network-Instrusion-Detection/master/NSL_KDD_Train.csv'\n",
    "#test_url = 'https://raw.githubusercontent.com/merteroglu/NSL-KDD-Network-Instrusion-Detection/master/NSL_KDD_Test.csv'\n",
    "\n",
    "# Array mit Spaltennamen\n",
    "col_names = [\"duration\",\"protocol_type\",\"service\",\"flag\",\"src_bytes\",\n",
    "    \"dst_bytes\",\"land\",\"wrong_fragment\",\"urgent\",\"hot\",\"num_failed_logins\",\n",
    "    \"logged_in\",\"num_compromised\",\"root_shell\",\"su_attempted\",\"num_root\",\n",
    "    \"num_file_creations\",\"num_shells\",\"num_access_files\",\"num_outbound_cmds\",\n",
    "    \"is_host_login\",\"is_guest_login\",\"count\",\"srv_count\",\"serror_rate\",\n",
    "    \"srv_serror_rate\",\"rerror_rate\",\"srv_rerror_rate\",\"same_srv_rate\",\n",
    "    \"diff_srv_rate\",\"srv_diff_host_rate\",\"dst_host_count\",\"dst_host_srv_count\",\n",
    "    \"dst_host_same_srv_rate\",\"dst_host_diff_srv_rate\",\"dst_host_same_src_port_rate\",\n",
    "    \"dst_host_srv_diff_host_rate\",\"dst_host_serror_rate\",\"dst_host_srv_serror_rate\",\n",
    "    \"dst_host_rerror_rate\",\"dst_host_srv_rerror_rate\",\"label\"]\n",
    "\n",
    "# Lesen der Daten und gleichzeitges zuordnen der Spaltennamen\n",
    "\n",
    "#df_train = pd.read_csv(train_url,header=None, names = col_names)\n",
    "\n",
    "#df_test = pd.read_csv(test_url, header=None, names = col_names)\n",
    "df_train = pd.read_csv(kdd_train_set_path, header=None, names = col_names)\n",
    "df_test  = pd.read_csv(kdd_test_set_path, header=None, names = col_names)"
   ]
  },
  {
   "cell_type": "markdown",
   "id": "25212d20",
   "metadata": {},
   "source": [
    "### Erste Sicht auf die Daten"
   ]
  },
  {
   "cell_type": "code",
   "execution_count": 3,
   "id": "6b3f1b69",
   "metadata": {},
   "outputs": [
    {
     "data": {
      "text/html": [
       "<div>\n",
       "<style scoped>\n",
       "    .dataframe tbody tr th:only-of-type {\n",
       "        vertical-align: middle;\n",
       "    }\n",
       "\n",
       "    .dataframe tbody tr th {\n",
       "        vertical-align: top;\n",
       "    }\n",
       "\n",
       "    .dataframe thead th {\n",
       "        text-align: right;\n",
       "    }\n",
       "</style>\n",
       "<table border=\"1\" class=\"dataframe\">\n",
       "  <thead>\n",
       "    <tr style=\"text-align: right;\">\n",
       "      <th></th>\n",
       "      <th>duration</th>\n",
       "      <th>protocol_type</th>\n",
       "      <th>service</th>\n",
       "      <th>flag</th>\n",
       "      <th>src_bytes</th>\n",
       "      <th>dst_bytes</th>\n",
       "      <th>land</th>\n",
       "      <th>wrong_fragment</th>\n",
       "      <th>urgent</th>\n",
       "      <th>hot</th>\n",
       "      <th>...</th>\n",
       "      <th>dst_host_srv_count</th>\n",
       "      <th>dst_host_same_srv_rate</th>\n",
       "      <th>dst_host_diff_srv_rate</th>\n",
       "      <th>dst_host_same_src_port_rate</th>\n",
       "      <th>dst_host_srv_diff_host_rate</th>\n",
       "      <th>dst_host_serror_rate</th>\n",
       "      <th>dst_host_srv_serror_rate</th>\n",
       "      <th>dst_host_rerror_rate</th>\n",
       "      <th>dst_host_srv_rerror_rate</th>\n",
       "      <th>label</th>\n",
       "    </tr>\n",
       "  </thead>\n",
       "  <tbody>\n",
       "    <tr>\n",
       "      <th>0</th>\n",
       "      <td>0</td>\n",
       "      <td>tcp</td>\n",
       "      <td>ftp_data</td>\n",
       "      <td>SF</td>\n",
       "      <td>491</td>\n",
       "      <td>0</td>\n",
       "      <td>0</td>\n",
       "      <td>0</td>\n",
       "      <td>0</td>\n",
       "      <td>0</td>\n",
       "      <td>...</td>\n",
       "      <td>25</td>\n",
       "      <td>0.17</td>\n",
       "      <td>0.03</td>\n",
       "      <td>0.17</td>\n",
       "      <td>0.00</td>\n",
       "      <td>0.00</td>\n",
       "      <td>0.00</td>\n",
       "      <td>0.05</td>\n",
       "      <td>0.00</td>\n",
       "      <td>normal</td>\n",
       "    </tr>\n",
       "    <tr>\n",
       "      <th>1</th>\n",
       "      <td>0</td>\n",
       "      <td>udp</td>\n",
       "      <td>other</td>\n",
       "      <td>SF</td>\n",
       "      <td>146</td>\n",
       "      <td>0</td>\n",
       "      <td>0</td>\n",
       "      <td>0</td>\n",
       "      <td>0</td>\n",
       "      <td>0</td>\n",
       "      <td>...</td>\n",
       "      <td>1</td>\n",
       "      <td>0.00</td>\n",
       "      <td>0.60</td>\n",
       "      <td>0.88</td>\n",
       "      <td>0.00</td>\n",
       "      <td>0.00</td>\n",
       "      <td>0.00</td>\n",
       "      <td>0.00</td>\n",
       "      <td>0.00</td>\n",
       "      <td>normal</td>\n",
       "    </tr>\n",
       "    <tr>\n",
       "      <th>2</th>\n",
       "      <td>0</td>\n",
       "      <td>tcp</td>\n",
       "      <td>private</td>\n",
       "      <td>S0</td>\n",
       "      <td>0</td>\n",
       "      <td>0</td>\n",
       "      <td>0</td>\n",
       "      <td>0</td>\n",
       "      <td>0</td>\n",
       "      <td>0</td>\n",
       "      <td>...</td>\n",
       "      <td>26</td>\n",
       "      <td>0.10</td>\n",
       "      <td>0.05</td>\n",
       "      <td>0.00</td>\n",
       "      <td>0.00</td>\n",
       "      <td>1.00</td>\n",
       "      <td>1.00</td>\n",
       "      <td>0.00</td>\n",
       "      <td>0.00</td>\n",
       "      <td>neptune</td>\n",
       "    </tr>\n",
       "    <tr>\n",
       "      <th>3</th>\n",
       "      <td>0</td>\n",
       "      <td>tcp</td>\n",
       "      <td>http</td>\n",
       "      <td>SF</td>\n",
       "      <td>232</td>\n",
       "      <td>8153</td>\n",
       "      <td>0</td>\n",
       "      <td>0</td>\n",
       "      <td>0</td>\n",
       "      <td>0</td>\n",
       "      <td>...</td>\n",
       "      <td>255</td>\n",
       "      <td>1.00</td>\n",
       "      <td>0.00</td>\n",
       "      <td>0.03</td>\n",
       "      <td>0.04</td>\n",
       "      <td>0.03</td>\n",
       "      <td>0.01</td>\n",
       "      <td>0.00</td>\n",
       "      <td>0.01</td>\n",
       "      <td>normal</td>\n",
       "    </tr>\n",
       "    <tr>\n",
       "      <th>4</th>\n",
       "      <td>0</td>\n",
       "      <td>tcp</td>\n",
       "      <td>http</td>\n",
       "      <td>SF</td>\n",
       "      <td>199</td>\n",
       "      <td>420</td>\n",
       "      <td>0</td>\n",
       "      <td>0</td>\n",
       "      <td>0</td>\n",
       "      <td>0</td>\n",
       "      <td>...</td>\n",
       "      <td>255</td>\n",
       "      <td>1.00</td>\n",
       "      <td>0.00</td>\n",
       "      <td>0.00</td>\n",
       "      <td>0.00</td>\n",
       "      <td>0.00</td>\n",
       "      <td>0.00</td>\n",
       "      <td>0.00</td>\n",
       "      <td>0.00</td>\n",
       "      <td>normal</td>\n",
       "    </tr>\n",
       "  </tbody>\n",
       "</table>\n",
       "<p>5 rows × 42 columns</p>\n",
       "</div>"
      ],
      "text/plain": [
       "   duration protocol_type   service flag  src_bytes  dst_bytes  land  \\\n",
       "0         0           tcp  ftp_data   SF        491          0     0   \n",
       "1         0           udp     other   SF        146          0     0   \n",
       "2         0           tcp   private   S0          0          0     0   \n",
       "3         0           tcp      http   SF        232       8153     0   \n",
       "4         0           tcp      http   SF        199        420     0   \n",
       "\n",
       "   wrong_fragment  urgent  hot  ...  dst_host_srv_count  \\\n",
       "0               0       0    0  ...                  25   \n",
       "1               0       0    0  ...                   1   \n",
       "2               0       0    0  ...                  26   \n",
       "3               0       0    0  ...                 255   \n",
       "4               0       0    0  ...                 255   \n",
       "\n",
       "   dst_host_same_srv_rate  dst_host_diff_srv_rate  \\\n",
       "0                    0.17                    0.03   \n",
       "1                    0.00                    0.60   \n",
       "2                    0.10                    0.05   \n",
       "3                    1.00                    0.00   \n",
       "4                    1.00                    0.00   \n",
       "\n",
       "   dst_host_same_src_port_rate  dst_host_srv_diff_host_rate  \\\n",
       "0                         0.17                         0.00   \n",
       "1                         0.88                         0.00   \n",
       "2                         0.00                         0.00   \n",
       "3                         0.03                         0.04   \n",
       "4                         0.00                         0.00   \n",
       "\n",
       "   dst_host_serror_rate  dst_host_srv_serror_rate  dst_host_rerror_rate  \\\n",
       "0                  0.00                      0.00                  0.05   \n",
       "1                  0.00                      0.00                  0.00   \n",
       "2                  1.00                      1.00                  0.00   \n",
       "3                  0.03                      0.01                  0.00   \n",
       "4                  0.00                      0.00                  0.00   \n",
       "\n",
       "   dst_host_srv_rerror_rate    label  \n",
       "0                      0.00   normal  \n",
       "1                      0.00   normal  \n",
       "2                      0.00  neptune  \n",
       "3                      0.01   normal  \n",
       "4                      0.00   normal  \n",
       "\n",
       "[5 rows x 42 columns]"
      ]
     },
     "execution_count": 3,
     "metadata": {},
     "output_type": "execute_result"
    }
   ],
   "source": [
    "df_train.head()"
   ]
  },
  {
   "cell_type": "code",
   "execution_count": 4,
   "id": "80ee3076",
   "metadata": {},
   "outputs": [
    {
     "data": {
      "text/html": [
       "<div>\n",
       "<style scoped>\n",
       "    .dataframe tbody tr th:only-of-type {\n",
       "        vertical-align: middle;\n",
       "    }\n",
       "\n",
       "    .dataframe tbody tr th {\n",
       "        vertical-align: top;\n",
       "    }\n",
       "\n",
       "    .dataframe thead th {\n",
       "        text-align: right;\n",
       "    }\n",
       "</style>\n",
       "<table border=\"1\" class=\"dataframe\">\n",
       "  <thead>\n",
       "    <tr style=\"text-align: right;\">\n",
       "      <th></th>\n",
       "      <th>duration</th>\n",
       "      <th>protocol_type</th>\n",
       "      <th>service</th>\n",
       "      <th>flag</th>\n",
       "      <th>src_bytes</th>\n",
       "      <th>dst_bytes</th>\n",
       "      <th>land</th>\n",
       "      <th>wrong_fragment</th>\n",
       "      <th>urgent</th>\n",
       "      <th>hot</th>\n",
       "      <th>...</th>\n",
       "      <th>dst_host_srv_count</th>\n",
       "      <th>dst_host_same_srv_rate</th>\n",
       "      <th>dst_host_diff_srv_rate</th>\n",
       "      <th>dst_host_same_src_port_rate</th>\n",
       "      <th>dst_host_srv_diff_host_rate</th>\n",
       "      <th>dst_host_serror_rate</th>\n",
       "      <th>dst_host_srv_serror_rate</th>\n",
       "      <th>dst_host_rerror_rate</th>\n",
       "      <th>dst_host_srv_rerror_rate</th>\n",
       "      <th>label</th>\n",
       "    </tr>\n",
       "  </thead>\n",
       "  <tbody>\n",
       "    <tr>\n",
       "      <th>0</th>\n",
       "      <td>0</td>\n",
       "      <td>tcp</td>\n",
       "      <td>private</td>\n",
       "      <td>REJ</td>\n",
       "      <td>0</td>\n",
       "      <td>0</td>\n",
       "      <td>0</td>\n",
       "      <td>0</td>\n",
       "      <td>0</td>\n",
       "      <td>0</td>\n",
       "      <td>...</td>\n",
       "      <td>10</td>\n",
       "      <td>0.04</td>\n",
       "      <td>0.06</td>\n",
       "      <td>0.00</td>\n",
       "      <td>0.00</td>\n",
       "      <td>0.0</td>\n",
       "      <td>0.0</td>\n",
       "      <td>1.00</td>\n",
       "      <td>1.00</td>\n",
       "      <td>neptune</td>\n",
       "    </tr>\n",
       "    <tr>\n",
       "      <th>1</th>\n",
       "      <td>0</td>\n",
       "      <td>tcp</td>\n",
       "      <td>private</td>\n",
       "      <td>REJ</td>\n",
       "      <td>0</td>\n",
       "      <td>0</td>\n",
       "      <td>0</td>\n",
       "      <td>0</td>\n",
       "      <td>0</td>\n",
       "      <td>0</td>\n",
       "      <td>...</td>\n",
       "      <td>1</td>\n",
       "      <td>0.00</td>\n",
       "      <td>0.06</td>\n",
       "      <td>0.00</td>\n",
       "      <td>0.00</td>\n",
       "      <td>0.0</td>\n",
       "      <td>0.0</td>\n",
       "      <td>1.00</td>\n",
       "      <td>1.00</td>\n",
       "      <td>neptune</td>\n",
       "    </tr>\n",
       "    <tr>\n",
       "      <th>2</th>\n",
       "      <td>2</td>\n",
       "      <td>tcp</td>\n",
       "      <td>ftp_data</td>\n",
       "      <td>SF</td>\n",
       "      <td>12983</td>\n",
       "      <td>0</td>\n",
       "      <td>0</td>\n",
       "      <td>0</td>\n",
       "      <td>0</td>\n",
       "      <td>0</td>\n",
       "      <td>...</td>\n",
       "      <td>86</td>\n",
       "      <td>0.61</td>\n",
       "      <td>0.04</td>\n",
       "      <td>0.61</td>\n",
       "      <td>0.02</td>\n",
       "      <td>0.0</td>\n",
       "      <td>0.0</td>\n",
       "      <td>0.00</td>\n",
       "      <td>0.00</td>\n",
       "      <td>normal</td>\n",
       "    </tr>\n",
       "    <tr>\n",
       "      <th>3</th>\n",
       "      <td>0</td>\n",
       "      <td>icmp</td>\n",
       "      <td>eco_i</td>\n",
       "      <td>SF</td>\n",
       "      <td>20</td>\n",
       "      <td>0</td>\n",
       "      <td>0</td>\n",
       "      <td>0</td>\n",
       "      <td>0</td>\n",
       "      <td>0</td>\n",
       "      <td>...</td>\n",
       "      <td>57</td>\n",
       "      <td>1.00</td>\n",
       "      <td>0.00</td>\n",
       "      <td>1.00</td>\n",
       "      <td>0.28</td>\n",
       "      <td>0.0</td>\n",
       "      <td>0.0</td>\n",
       "      <td>0.00</td>\n",
       "      <td>0.00</td>\n",
       "      <td>saint</td>\n",
       "    </tr>\n",
       "    <tr>\n",
       "      <th>4</th>\n",
       "      <td>1</td>\n",
       "      <td>tcp</td>\n",
       "      <td>telnet</td>\n",
       "      <td>RSTO</td>\n",
       "      <td>0</td>\n",
       "      <td>15</td>\n",
       "      <td>0</td>\n",
       "      <td>0</td>\n",
       "      <td>0</td>\n",
       "      <td>0</td>\n",
       "      <td>...</td>\n",
       "      <td>86</td>\n",
       "      <td>0.31</td>\n",
       "      <td>0.17</td>\n",
       "      <td>0.03</td>\n",
       "      <td>0.02</td>\n",
       "      <td>0.0</td>\n",
       "      <td>0.0</td>\n",
       "      <td>0.83</td>\n",
       "      <td>0.71</td>\n",
       "      <td>mscan</td>\n",
       "    </tr>\n",
       "  </tbody>\n",
       "</table>\n",
       "<p>5 rows × 42 columns</p>\n",
       "</div>"
      ],
      "text/plain": [
       "   duration protocol_type   service  flag  src_bytes  dst_bytes  land  \\\n",
       "0         0           tcp   private   REJ          0          0     0   \n",
       "1         0           tcp   private   REJ          0          0     0   \n",
       "2         2           tcp  ftp_data    SF      12983          0     0   \n",
       "3         0          icmp     eco_i    SF         20          0     0   \n",
       "4         1           tcp    telnet  RSTO          0         15     0   \n",
       "\n",
       "   wrong_fragment  urgent  hot  ...  dst_host_srv_count  \\\n",
       "0               0       0    0  ...                  10   \n",
       "1               0       0    0  ...                   1   \n",
       "2               0       0    0  ...                  86   \n",
       "3               0       0    0  ...                  57   \n",
       "4               0       0    0  ...                  86   \n",
       "\n",
       "   dst_host_same_srv_rate  dst_host_diff_srv_rate  \\\n",
       "0                    0.04                    0.06   \n",
       "1                    0.00                    0.06   \n",
       "2                    0.61                    0.04   \n",
       "3                    1.00                    0.00   \n",
       "4                    0.31                    0.17   \n",
       "\n",
       "   dst_host_same_src_port_rate  dst_host_srv_diff_host_rate  \\\n",
       "0                         0.00                         0.00   \n",
       "1                         0.00                         0.00   \n",
       "2                         0.61                         0.02   \n",
       "3                         1.00                         0.28   \n",
       "4                         0.03                         0.02   \n",
       "\n",
       "   dst_host_serror_rate  dst_host_srv_serror_rate  dst_host_rerror_rate  \\\n",
       "0                   0.0                       0.0                  1.00   \n",
       "1                   0.0                       0.0                  1.00   \n",
       "2                   0.0                       0.0                  0.00   \n",
       "3                   0.0                       0.0                  0.00   \n",
       "4                   0.0                       0.0                  0.83   \n",
       "\n",
       "   dst_host_srv_rerror_rate    label  \n",
       "0                      1.00  neptune  \n",
       "1                      1.00  neptune  \n",
       "2                      0.00   normal  \n",
       "3                      0.00    saint  \n",
       "4                      0.71    mscan  \n",
       "\n",
       "[5 rows x 42 columns]"
      ]
     },
     "execution_count": 4,
     "metadata": {},
     "output_type": "execute_result"
    }
   ],
   "source": [
    "df_test.head()"
   ]
  },
  {
   "cell_type": "markdown",
   "id": "f8256fca",
   "metadata": {},
   "source": [
    "### Dimsension der Daten"
   ]
  },
  {
   "cell_type": "code",
   "execution_count": 5,
   "id": "5833b5d9",
   "metadata": {},
   "outputs": [
    {
     "name": "stdout",
     "output_type": "stream",
     "text": [
      "Dimension der Trainings Daten (125973, 42)\n",
      "Dimension der Test Daten:     (22544, 42)\n"
     ]
    }
   ],
   "source": [
    "print(f\"Dimension der Trainings Daten {df_train.shape}\")\n",
    "print(f\"Dimension der Test Daten:     {df_test.shape}\")"
   ]
  },
  {
   "cell_type": "markdown",
   "id": "5353ec08",
   "metadata": {},
   "source": [
    "### Anzahl an verschiedenen Angriffen"
   ]
  },
  {
   "cell_type": "code",
   "execution_count": 6,
   "id": "ed14e69e",
   "metadata": {},
   "outputs": [
    {
     "data": {
      "text/plain": [
       "22"
      ]
     },
     "execution_count": 6,
     "metadata": {},
     "output_type": "execute_result"
    }
   ],
   "source": [
    "df_train[df_train[\"label\"] != 'normal']['label'].nunique()"
   ]
  },
  {
   "cell_type": "markdown",
   "id": "b1a5a408",
   "metadata": {},
   "source": [
    "### Prüfen auf Null Einträge"
   ]
  },
  {
   "cell_type": "code",
   "execution_count": 7,
   "id": "888c99e2",
   "metadata": {},
   "outputs": [
    {
     "data": {
      "text/html": [
       "<div>\n",
       "<style scoped>\n",
       "    .dataframe tbody tr th:only-of-type {\n",
       "        vertical-align: middle;\n",
       "    }\n",
       "\n",
       "    .dataframe tbody tr th {\n",
       "        vertical-align: top;\n",
       "    }\n",
       "\n",
       "    .dataframe thead th {\n",
       "        text-align: right;\n",
       "    }\n",
       "</style>\n",
       "<table border=\"1\" class=\"dataframe\">\n",
       "  <thead>\n",
       "    <tr style=\"text-align: right;\">\n",
       "      <th></th>\n",
       "      <th>duration</th>\n",
       "      <th>protocol_type</th>\n",
       "      <th>service</th>\n",
       "      <th>flag</th>\n",
       "      <th>src_bytes</th>\n",
       "      <th>dst_bytes</th>\n",
       "      <th>land</th>\n",
       "      <th>wrong_fragment</th>\n",
       "      <th>urgent</th>\n",
       "      <th>hot</th>\n",
       "      <th>...</th>\n",
       "      <th>dst_host_srv_count</th>\n",
       "      <th>dst_host_same_srv_rate</th>\n",
       "      <th>dst_host_diff_srv_rate</th>\n",
       "      <th>dst_host_same_src_port_rate</th>\n",
       "      <th>dst_host_srv_diff_host_rate</th>\n",
       "      <th>dst_host_serror_rate</th>\n",
       "      <th>dst_host_srv_serror_rate</th>\n",
       "      <th>dst_host_rerror_rate</th>\n",
       "      <th>dst_host_srv_rerror_rate</th>\n",
       "      <th>label</th>\n",
       "    </tr>\n",
       "  </thead>\n",
       "  <tbody>\n",
       "  </tbody>\n",
       "</table>\n",
       "<p>0 rows × 42 columns</p>\n",
       "</div>"
      ],
      "text/plain": [
       "Empty DataFrame\n",
       "Columns: [duration, protocol_type, service, flag, src_bytes, dst_bytes, land, wrong_fragment, urgent, hot, num_failed_logins, logged_in, num_compromised, root_shell, su_attempted, num_root, num_file_creations, num_shells, num_access_files, num_outbound_cmds, is_host_login, is_guest_login, count, srv_count, serror_rate, srv_serror_rate, rerror_rate, srv_rerror_rate, same_srv_rate, diff_srv_rate, srv_diff_host_rate, dst_host_count, dst_host_srv_count, dst_host_same_srv_rate, dst_host_diff_srv_rate, dst_host_same_src_port_rate, dst_host_srv_diff_host_rate, dst_host_serror_rate, dst_host_srv_serror_rate, dst_host_rerror_rate, dst_host_srv_rerror_rate, label]\n",
       "Index: []\n",
       "\n",
       "[0 rows x 42 columns]"
      ]
     },
     "execution_count": 7,
     "metadata": {},
     "output_type": "execute_result"
    }
   ],
   "source": [
    "df_train[df_train.isna().any(axis=1)]"
   ]
  },
  {
   "cell_type": "code",
   "execution_count": 8,
   "id": "aa8d9652",
   "metadata": {},
   "outputs": [
    {
     "data": {
      "text/html": [
       "<div>\n",
       "<style scoped>\n",
       "    .dataframe tbody tr th:only-of-type {\n",
       "        vertical-align: middle;\n",
       "    }\n",
       "\n",
       "    .dataframe tbody tr th {\n",
       "        vertical-align: top;\n",
       "    }\n",
       "\n",
       "    .dataframe thead th {\n",
       "        text-align: right;\n",
       "    }\n",
       "</style>\n",
       "<table border=\"1\" class=\"dataframe\">\n",
       "  <thead>\n",
       "    <tr style=\"text-align: right;\">\n",
       "      <th></th>\n",
       "      <th>duration</th>\n",
       "      <th>protocol_type</th>\n",
       "      <th>service</th>\n",
       "      <th>flag</th>\n",
       "      <th>src_bytes</th>\n",
       "      <th>dst_bytes</th>\n",
       "      <th>land</th>\n",
       "      <th>wrong_fragment</th>\n",
       "      <th>urgent</th>\n",
       "      <th>hot</th>\n",
       "      <th>...</th>\n",
       "      <th>dst_host_srv_count</th>\n",
       "      <th>dst_host_same_srv_rate</th>\n",
       "      <th>dst_host_diff_srv_rate</th>\n",
       "      <th>dst_host_same_src_port_rate</th>\n",
       "      <th>dst_host_srv_diff_host_rate</th>\n",
       "      <th>dst_host_serror_rate</th>\n",
       "      <th>dst_host_srv_serror_rate</th>\n",
       "      <th>dst_host_rerror_rate</th>\n",
       "      <th>dst_host_srv_rerror_rate</th>\n",
       "      <th>label</th>\n",
       "    </tr>\n",
       "  </thead>\n",
       "  <tbody>\n",
       "  </tbody>\n",
       "</table>\n",
       "<p>0 rows × 42 columns</p>\n",
       "</div>"
      ],
      "text/plain": [
       "Empty DataFrame\n",
       "Columns: [duration, protocol_type, service, flag, src_bytes, dst_bytes, land, wrong_fragment, urgent, hot, num_failed_logins, logged_in, num_compromised, root_shell, su_attempted, num_root, num_file_creations, num_shells, num_access_files, num_outbound_cmds, is_host_login, is_guest_login, count, srv_count, serror_rate, srv_serror_rate, rerror_rate, srv_rerror_rate, same_srv_rate, diff_srv_rate, srv_diff_host_rate, dst_host_count, dst_host_srv_count, dst_host_same_srv_rate, dst_host_diff_srv_rate, dst_host_same_src_port_rate, dst_host_srv_diff_host_rate, dst_host_serror_rate, dst_host_srv_serror_rate, dst_host_rerror_rate, dst_host_srv_rerror_rate, label]\n",
       "Index: []\n",
       "\n",
       "[0 rows x 42 columns]"
      ]
     },
     "execution_count": 8,
     "metadata": {},
     "output_type": "execute_result"
    }
   ],
   "source": [
    "df_test[df_test.isna().any(axis=1)]"
   ]
  },
  {
   "cell_type": "markdown",
   "id": "0074ffba",
   "metadata": {},
   "source": [
    "Keine Null Einträge vorhanden."
   ]
  },
  {
   "cell_type": "markdown",
   "id": "a486572d",
   "metadata": {},
   "source": [
    "### Statistische Daten ueber die Labels"
   ]
  },
  {
   "cell_type": "code",
   "execution_count": 9,
   "id": "2288a7d1",
   "metadata": {},
   "outputs": [
    {
     "data": {
      "text/html": [
       "<div>\n",
       "<style scoped>\n",
       "    .dataframe tbody tr th:only-of-type {\n",
       "        vertical-align: middle;\n",
       "    }\n",
       "\n",
       "    .dataframe tbody tr th {\n",
       "        vertical-align: top;\n",
       "    }\n",
       "\n",
       "    .dataframe thead th {\n",
       "        text-align: right;\n",
       "    }\n",
       "</style>\n",
       "<table border=\"1\" class=\"dataframe\">\n",
       "  <thead>\n",
       "    <tr style=\"text-align: right;\">\n",
       "      <th></th>\n",
       "      <th>count</th>\n",
       "      <th>mean</th>\n",
       "      <th>std</th>\n",
       "      <th>min</th>\n",
       "      <th>25%</th>\n",
       "      <th>50%</th>\n",
       "      <th>75%</th>\n",
       "      <th>max</th>\n",
       "    </tr>\n",
       "  </thead>\n",
       "  <tbody>\n",
       "    <tr>\n",
       "      <th>duration</th>\n",
       "      <td>125973.0</td>\n",
       "      <td>287.144650</td>\n",
       "      <td>2.604515e+03</td>\n",
       "      <td>0.0</td>\n",
       "      <td>0.00</td>\n",
       "      <td>0.00</td>\n",
       "      <td>0.00</td>\n",
       "      <td>4.290800e+04</td>\n",
       "    </tr>\n",
       "    <tr>\n",
       "      <th>src_bytes</th>\n",
       "      <td>125973.0</td>\n",
       "      <td>45566.743000</td>\n",
       "      <td>5.870331e+06</td>\n",
       "      <td>0.0</td>\n",
       "      <td>0.00</td>\n",
       "      <td>44.00</td>\n",
       "      <td>276.00</td>\n",
       "      <td>1.379964e+09</td>\n",
       "    </tr>\n",
       "    <tr>\n",
       "      <th>dst_bytes</th>\n",
       "      <td>125973.0</td>\n",
       "      <td>19779.114421</td>\n",
       "      <td>4.021269e+06</td>\n",
       "      <td>0.0</td>\n",
       "      <td>0.00</td>\n",
       "      <td>0.00</td>\n",
       "      <td>516.00</td>\n",
       "      <td>1.309937e+09</td>\n",
       "    </tr>\n",
       "    <tr>\n",
       "      <th>land</th>\n",
       "      <td>125973.0</td>\n",
       "      <td>0.000198</td>\n",
       "      <td>1.408607e-02</td>\n",
       "      <td>0.0</td>\n",
       "      <td>0.00</td>\n",
       "      <td>0.00</td>\n",
       "      <td>0.00</td>\n",
       "      <td>1.000000e+00</td>\n",
       "    </tr>\n",
       "    <tr>\n",
       "      <th>wrong_fragment</th>\n",
       "      <td>125973.0</td>\n",
       "      <td>0.022687</td>\n",
       "      <td>2.535300e-01</td>\n",
       "      <td>0.0</td>\n",
       "      <td>0.00</td>\n",
       "      <td>0.00</td>\n",
       "      <td>0.00</td>\n",
       "      <td>3.000000e+00</td>\n",
       "    </tr>\n",
       "    <tr>\n",
       "      <th>urgent</th>\n",
       "      <td>125973.0</td>\n",
       "      <td>0.000111</td>\n",
       "      <td>1.436603e-02</td>\n",
       "      <td>0.0</td>\n",
       "      <td>0.00</td>\n",
       "      <td>0.00</td>\n",
       "      <td>0.00</td>\n",
       "      <td>3.000000e+00</td>\n",
       "    </tr>\n",
       "    <tr>\n",
       "      <th>hot</th>\n",
       "      <td>125973.0</td>\n",
       "      <td>0.204409</td>\n",
       "      <td>2.149968e+00</td>\n",
       "      <td>0.0</td>\n",
       "      <td>0.00</td>\n",
       "      <td>0.00</td>\n",
       "      <td>0.00</td>\n",
       "      <td>7.700000e+01</td>\n",
       "    </tr>\n",
       "    <tr>\n",
       "      <th>num_failed_logins</th>\n",
       "      <td>125973.0</td>\n",
       "      <td>0.001222</td>\n",
       "      <td>4.523914e-02</td>\n",
       "      <td>0.0</td>\n",
       "      <td>0.00</td>\n",
       "      <td>0.00</td>\n",
       "      <td>0.00</td>\n",
       "      <td>5.000000e+00</td>\n",
       "    </tr>\n",
       "    <tr>\n",
       "      <th>logged_in</th>\n",
       "      <td>125973.0</td>\n",
       "      <td>0.395736</td>\n",
       "      <td>4.890101e-01</td>\n",
       "      <td>0.0</td>\n",
       "      <td>0.00</td>\n",
       "      <td>0.00</td>\n",
       "      <td>1.00</td>\n",
       "      <td>1.000000e+00</td>\n",
       "    </tr>\n",
       "    <tr>\n",
       "      <th>num_compromised</th>\n",
       "      <td>125973.0</td>\n",
       "      <td>0.279250</td>\n",
       "      <td>2.394204e+01</td>\n",
       "      <td>0.0</td>\n",
       "      <td>0.00</td>\n",
       "      <td>0.00</td>\n",
       "      <td>0.00</td>\n",
       "      <td>7.479000e+03</td>\n",
       "    </tr>\n",
       "    <tr>\n",
       "      <th>root_shell</th>\n",
       "      <td>125973.0</td>\n",
       "      <td>0.001342</td>\n",
       "      <td>3.660284e-02</td>\n",
       "      <td>0.0</td>\n",
       "      <td>0.00</td>\n",
       "      <td>0.00</td>\n",
       "      <td>0.00</td>\n",
       "      <td>1.000000e+00</td>\n",
       "    </tr>\n",
       "    <tr>\n",
       "      <th>su_attempted</th>\n",
       "      <td>125973.0</td>\n",
       "      <td>0.001103</td>\n",
       "      <td>4.515438e-02</td>\n",
       "      <td>0.0</td>\n",
       "      <td>0.00</td>\n",
       "      <td>0.00</td>\n",
       "      <td>0.00</td>\n",
       "      <td>2.000000e+00</td>\n",
       "    </tr>\n",
       "    <tr>\n",
       "      <th>num_root</th>\n",
       "      <td>125973.0</td>\n",
       "      <td>0.302192</td>\n",
       "      <td>2.439962e+01</td>\n",
       "      <td>0.0</td>\n",
       "      <td>0.00</td>\n",
       "      <td>0.00</td>\n",
       "      <td>0.00</td>\n",
       "      <td>7.468000e+03</td>\n",
       "    </tr>\n",
       "    <tr>\n",
       "      <th>num_file_creations</th>\n",
       "      <td>125973.0</td>\n",
       "      <td>0.012669</td>\n",
       "      <td>4.839351e-01</td>\n",
       "      <td>0.0</td>\n",
       "      <td>0.00</td>\n",
       "      <td>0.00</td>\n",
       "      <td>0.00</td>\n",
       "      <td>4.300000e+01</td>\n",
       "    </tr>\n",
       "    <tr>\n",
       "      <th>num_shells</th>\n",
       "      <td>125973.0</td>\n",
       "      <td>0.000413</td>\n",
       "      <td>2.218113e-02</td>\n",
       "      <td>0.0</td>\n",
       "      <td>0.00</td>\n",
       "      <td>0.00</td>\n",
       "      <td>0.00</td>\n",
       "      <td>2.000000e+00</td>\n",
       "    </tr>\n",
       "    <tr>\n",
       "      <th>num_access_files</th>\n",
       "      <td>125973.0</td>\n",
       "      <td>0.004096</td>\n",
       "      <td>9.936956e-02</td>\n",
       "      <td>0.0</td>\n",
       "      <td>0.00</td>\n",
       "      <td>0.00</td>\n",
       "      <td>0.00</td>\n",
       "      <td>9.000000e+00</td>\n",
       "    </tr>\n",
       "    <tr>\n",
       "      <th>num_outbound_cmds</th>\n",
       "      <td>125973.0</td>\n",
       "      <td>0.000000</td>\n",
       "      <td>0.000000e+00</td>\n",
       "      <td>0.0</td>\n",
       "      <td>0.00</td>\n",
       "      <td>0.00</td>\n",
       "      <td>0.00</td>\n",
       "      <td>0.000000e+00</td>\n",
       "    </tr>\n",
       "    <tr>\n",
       "      <th>is_host_login</th>\n",
       "      <td>125973.0</td>\n",
       "      <td>0.000008</td>\n",
       "      <td>2.817483e-03</td>\n",
       "      <td>0.0</td>\n",
       "      <td>0.00</td>\n",
       "      <td>0.00</td>\n",
       "      <td>0.00</td>\n",
       "      <td>1.000000e+00</td>\n",
       "    </tr>\n",
       "    <tr>\n",
       "      <th>is_guest_login</th>\n",
       "      <td>125973.0</td>\n",
       "      <td>0.009423</td>\n",
       "      <td>9.661233e-02</td>\n",
       "      <td>0.0</td>\n",
       "      <td>0.00</td>\n",
       "      <td>0.00</td>\n",
       "      <td>0.00</td>\n",
       "      <td>1.000000e+00</td>\n",
       "    </tr>\n",
       "    <tr>\n",
       "      <th>count</th>\n",
       "      <td>125973.0</td>\n",
       "      <td>84.107555</td>\n",
       "      <td>1.145086e+02</td>\n",
       "      <td>0.0</td>\n",
       "      <td>2.00</td>\n",
       "      <td>14.00</td>\n",
       "      <td>143.00</td>\n",
       "      <td>5.110000e+02</td>\n",
       "    </tr>\n",
       "    <tr>\n",
       "      <th>srv_count</th>\n",
       "      <td>125973.0</td>\n",
       "      <td>27.737888</td>\n",
       "      <td>7.263584e+01</td>\n",
       "      <td>0.0</td>\n",
       "      <td>2.00</td>\n",
       "      <td>8.00</td>\n",
       "      <td>18.00</td>\n",
       "      <td>5.110000e+02</td>\n",
       "    </tr>\n",
       "    <tr>\n",
       "      <th>serror_rate</th>\n",
       "      <td>125973.0</td>\n",
       "      <td>0.284485</td>\n",
       "      <td>4.464556e-01</td>\n",
       "      <td>0.0</td>\n",
       "      <td>0.00</td>\n",
       "      <td>0.00</td>\n",
       "      <td>1.00</td>\n",
       "      <td>1.000000e+00</td>\n",
       "    </tr>\n",
       "    <tr>\n",
       "      <th>srv_serror_rate</th>\n",
       "      <td>125973.0</td>\n",
       "      <td>0.282485</td>\n",
       "      <td>4.470225e-01</td>\n",
       "      <td>0.0</td>\n",
       "      <td>0.00</td>\n",
       "      <td>0.00</td>\n",
       "      <td>1.00</td>\n",
       "      <td>1.000000e+00</td>\n",
       "    </tr>\n",
       "    <tr>\n",
       "      <th>rerror_rate</th>\n",
       "      <td>125973.0</td>\n",
       "      <td>0.119958</td>\n",
       "      <td>3.204355e-01</td>\n",
       "      <td>0.0</td>\n",
       "      <td>0.00</td>\n",
       "      <td>0.00</td>\n",
       "      <td>0.00</td>\n",
       "      <td>1.000000e+00</td>\n",
       "    </tr>\n",
       "    <tr>\n",
       "      <th>srv_rerror_rate</th>\n",
       "      <td>125973.0</td>\n",
       "      <td>0.121183</td>\n",
       "      <td>3.236472e-01</td>\n",
       "      <td>0.0</td>\n",
       "      <td>0.00</td>\n",
       "      <td>0.00</td>\n",
       "      <td>0.00</td>\n",
       "      <td>1.000000e+00</td>\n",
       "    </tr>\n",
       "    <tr>\n",
       "      <th>same_srv_rate</th>\n",
       "      <td>125973.0</td>\n",
       "      <td>0.660928</td>\n",
       "      <td>4.396229e-01</td>\n",
       "      <td>0.0</td>\n",
       "      <td>0.09</td>\n",
       "      <td>1.00</td>\n",
       "      <td>1.00</td>\n",
       "      <td>1.000000e+00</td>\n",
       "    </tr>\n",
       "    <tr>\n",
       "      <th>diff_srv_rate</th>\n",
       "      <td>125973.0</td>\n",
       "      <td>0.063053</td>\n",
       "      <td>1.803144e-01</td>\n",
       "      <td>0.0</td>\n",
       "      <td>0.00</td>\n",
       "      <td>0.00</td>\n",
       "      <td>0.06</td>\n",
       "      <td>1.000000e+00</td>\n",
       "    </tr>\n",
       "    <tr>\n",
       "      <th>srv_diff_host_rate</th>\n",
       "      <td>125973.0</td>\n",
       "      <td>0.097322</td>\n",
       "      <td>2.598305e-01</td>\n",
       "      <td>0.0</td>\n",
       "      <td>0.00</td>\n",
       "      <td>0.00</td>\n",
       "      <td>0.00</td>\n",
       "      <td>1.000000e+00</td>\n",
       "    </tr>\n",
       "    <tr>\n",
       "      <th>dst_host_count</th>\n",
       "      <td>125973.0</td>\n",
       "      <td>182.148945</td>\n",
       "      <td>9.920621e+01</td>\n",
       "      <td>0.0</td>\n",
       "      <td>82.00</td>\n",
       "      <td>255.00</td>\n",
       "      <td>255.00</td>\n",
       "      <td>2.550000e+02</td>\n",
       "    </tr>\n",
       "    <tr>\n",
       "      <th>dst_host_srv_count</th>\n",
       "      <td>125973.0</td>\n",
       "      <td>115.653005</td>\n",
       "      <td>1.107027e+02</td>\n",
       "      <td>0.0</td>\n",
       "      <td>10.00</td>\n",
       "      <td>63.00</td>\n",
       "      <td>255.00</td>\n",
       "      <td>2.550000e+02</td>\n",
       "    </tr>\n",
       "    <tr>\n",
       "      <th>dst_host_same_srv_rate</th>\n",
       "      <td>125973.0</td>\n",
       "      <td>0.521242</td>\n",
       "      <td>4.489494e-01</td>\n",
       "      <td>0.0</td>\n",
       "      <td>0.05</td>\n",
       "      <td>0.51</td>\n",
       "      <td>1.00</td>\n",
       "      <td>1.000000e+00</td>\n",
       "    </tr>\n",
       "    <tr>\n",
       "      <th>dst_host_diff_srv_rate</th>\n",
       "      <td>125973.0</td>\n",
       "      <td>0.082951</td>\n",
       "      <td>1.889218e-01</td>\n",
       "      <td>0.0</td>\n",
       "      <td>0.00</td>\n",
       "      <td>0.02</td>\n",
       "      <td>0.07</td>\n",
       "      <td>1.000000e+00</td>\n",
       "    </tr>\n",
       "    <tr>\n",
       "      <th>dst_host_same_src_port_rate</th>\n",
       "      <td>125973.0</td>\n",
       "      <td>0.148379</td>\n",
       "      <td>3.089971e-01</td>\n",
       "      <td>0.0</td>\n",
       "      <td>0.00</td>\n",
       "      <td>0.00</td>\n",
       "      <td>0.06</td>\n",
       "      <td>1.000000e+00</td>\n",
       "    </tr>\n",
       "    <tr>\n",
       "      <th>dst_host_srv_diff_host_rate</th>\n",
       "      <td>125973.0</td>\n",
       "      <td>0.032542</td>\n",
       "      <td>1.125638e-01</td>\n",
       "      <td>0.0</td>\n",
       "      <td>0.00</td>\n",
       "      <td>0.00</td>\n",
       "      <td>0.02</td>\n",
       "      <td>1.000000e+00</td>\n",
       "    </tr>\n",
       "    <tr>\n",
       "      <th>dst_host_serror_rate</th>\n",
       "      <td>125973.0</td>\n",
       "      <td>0.284452</td>\n",
       "      <td>4.447841e-01</td>\n",
       "      <td>0.0</td>\n",
       "      <td>0.00</td>\n",
       "      <td>0.00</td>\n",
       "      <td>1.00</td>\n",
       "      <td>1.000000e+00</td>\n",
       "    </tr>\n",
       "    <tr>\n",
       "      <th>dst_host_srv_serror_rate</th>\n",
       "      <td>125973.0</td>\n",
       "      <td>0.278485</td>\n",
       "      <td>4.456691e-01</td>\n",
       "      <td>0.0</td>\n",
       "      <td>0.00</td>\n",
       "      <td>0.00</td>\n",
       "      <td>1.00</td>\n",
       "      <td>1.000000e+00</td>\n",
       "    </tr>\n",
       "    <tr>\n",
       "      <th>dst_host_rerror_rate</th>\n",
       "      <td>125973.0</td>\n",
       "      <td>0.118832</td>\n",
       "      <td>3.065575e-01</td>\n",
       "      <td>0.0</td>\n",
       "      <td>0.00</td>\n",
       "      <td>0.00</td>\n",
       "      <td>0.00</td>\n",
       "      <td>1.000000e+00</td>\n",
       "    </tr>\n",
       "    <tr>\n",
       "      <th>dst_host_srv_rerror_rate</th>\n",
       "      <td>125973.0</td>\n",
       "      <td>0.120240</td>\n",
       "      <td>3.194594e-01</td>\n",
       "      <td>0.0</td>\n",
       "      <td>0.00</td>\n",
       "      <td>0.00</td>\n",
       "      <td>0.00</td>\n",
       "      <td>1.000000e+00</td>\n",
       "    </tr>\n",
       "  </tbody>\n",
       "</table>\n",
       "</div>"
      ],
      "text/plain": [
       "                                count          mean           std  min    25%  \\\n",
       "duration                     125973.0    287.144650  2.604515e+03  0.0   0.00   \n",
       "src_bytes                    125973.0  45566.743000  5.870331e+06  0.0   0.00   \n",
       "dst_bytes                    125973.0  19779.114421  4.021269e+06  0.0   0.00   \n",
       "land                         125973.0      0.000198  1.408607e-02  0.0   0.00   \n",
       "wrong_fragment               125973.0      0.022687  2.535300e-01  0.0   0.00   \n",
       "urgent                       125973.0      0.000111  1.436603e-02  0.0   0.00   \n",
       "hot                          125973.0      0.204409  2.149968e+00  0.0   0.00   \n",
       "num_failed_logins            125973.0      0.001222  4.523914e-02  0.0   0.00   \n",
       "logged_in                    125973.0      0.395736  4.890101e-01  0.0   0.00   \n",
       "num_compromised              125973.0      0.279250  2.394204e+01  0.0   0.00   \n",
       "root_shell                   125973.0      0.001342  3.660284e-02  0.0   0.00   \n",
       "su_attempted                 125973.0      0.001103  4.515438e-02  0.0   0.00   \n",
       "num_root                     125973.0      0.302192  2.439962e+01  0.0   0.00   \n",
       "num_file_creations           125973.0      0.012669  4.839351e-01  0.0   0.00   \n",
       "num_shells                   125973.0      0.000413  2.218113e-02  0.0   0.00   \n",
       "num_access_files             125973.0      0.004096  9.936956e-02  0.0   0.00   \n",
       "num_outbound_cmds            125973.0      0.000000  0.000000e+00  0.0   0.00   \n",
       "is_host_login                125973.0      0.000008  2.817483e-03  0.0   0.00   \n",
       "is_guest_login               125973.0      0.009423  9.661233e-02  0.0   0.00   \n",
       "count                        125973.0     84.107555  1.145086e+02  0.0   2.00   \n",
       "srv_count                    125973.0     27.737888  7.263584e+01  0.0   2.00   \n",
       "serror_rate                  125973.0      0.284485  4.464556e-01  0.0   0.00   \n",
       "srv_serror_rate              125973.0      0.282485  4.470225e-01  0.0   0.00   \n",
       "rerror_rate                  125973.0      0.119958  3.204355e-01  0.0   0.00   \n",
       "srv_rerror_rate              125973.0      0.121183  3.236472e-01  0.0   0.00   \n",
       "same_srv_rate                125973.0      0.660928  4.396229e-01  0.0   0.09   \n",
       "diff_srv_rate                125973.0      0.063053  1.803144e-01  0.0   0.00   \n",
       "srv_diff_host_rate           125973.0      0.097322  2.598305e-01  0.0   0.00   \n",
       "dst_host_count               125973.0    182.148945  9.920621e+01  0.0  82.00   \n",
       "dst_host_srv_count           125973.0    115.653005  1.107027e+02  0.0  10.00   \n",
       "dst_host_same_srv_rate       125973.0      0.521242  4.489494e-01  0.0   0.05   \n",
       "dst_host_diff_srv_rate       125973.0      0.082951  1.889218e-01  0.0   0.00   \n",
       "dst_host_same_src_port_rate  125973.0      0.148379  3.089971e-01  0.0   0.00   \n",
       "dst_host_srv_diff_host_rate  125973.0      0.032542  1.125638e-01  0.0   0.00   \n",
       "dst_host_serror_rate         125973.0      0.284452  4.447841e-01  0.0   0.00   \n",
       "dst_host_srv_serror_rate     125973.0      0.278485  4.456691e-01  0.0   0.00   \n",
       "dst_host_rerror_rate         125973.0      0.118832  3.065575e-01  0.0   0.00   \n",
       "dst_host_srv_rerror_rate     125973.0      0.120240  3.194594e-01  0.0   0.00   \n",
       "\n",
       "                                50%     75%           max  \n",
       "duration                       0.00    0.00  4.290800e+04  \n",
       "src_bytes                     44.00  276.00  1.379964e+09  \n",
       "dst_bytes                      0.00  516.00  1.309937e+09  \n",
       "land                           0.00    0.00  1.000000e+00  \n",
       "wrong_fragment                 0.00    0.00  3.000000e+00  \n",
       "urgent                         0.00    0.00  3.000000e+00  \n",
       "hot                            0.00    0.00  7.700000e+01  \n",
       "num_failed_logins              0.00    0.00  5.000000e+00  \n",
       "logged_in                      0.00    1.00  1.000000e+00  \n",
       "num_compromised                0.00    0.00  7.479000e+03  \n",
       "root_shell                     0.00    0.00  1.000000e+00  \n",
       "su_attempted                   0.00    0.00  2.000000e+00  \n",
       "num_root                       0.00    0.00  7.468000e+03  \n",
       "num_file_creations             0.00    0.00  4.300000e+01  \n",
       "num_shells                     0.00    0.00  2.000000e+00  \n",
       "num_access_files               0.00    0.00  9.000000e+00  \n",
       "num_outbound_cmds              0.00    0.00  0.000000e+00  \n",
       "is_host_login                  0.00    0.00  1.000000e+00  \n",
       "is_guest_login                 0.00    0.00  1.000000e+00  \n",
       "count                         14.00  143.00  5.110000e+02  \n",
       "srv_count                      8.00   18.00  5.110000e+02  \n",
       "serror_rate                    0.00    1.00  1.000000e+00  \n",
       "srv_serror_rate                0.00    1.00  1.000000e+00  \n",
       "rerror_rate                    0.00    0.00  1.000000e+00  \n",
       "srv_rerror_rate                0.00    0.00  1.000000e+00  \n",
       "same_srv_rate                  1.00    1.00  1.000000e+00  \n",
       "diff_srv_rate                  0.00    0.06  1.000000e+00  \n",
       "srv_diff_host_rate             0.00    0.00  1.000000e+00  \n",
       "dst_host_count               255.00  255.00  2.550000e+02  \n",
       "dst_host_srv_count            63.00  255.00  2.550000e+02  \n",
       "dst_host_same_srv_rate         0.51    1.00  1.000000e+00  \n",
       "dst_host_diff_srv_rate         0.02    0.07  1.000000e+00  \n",
       "dst_host_same_src_port_rate    0.00    0.06  1.000000e+00  \n",
       "dst_host_srv_diff_host_rate    0.00    0.02  1.000000e+00  \n",
       "dst_host_serror_rate           0.00    1.00  1.000000e+00  \n",
       "dst_host_srv_serror_rate       0.00    1.00  1.000000e+00  \n",
       "dst_host_rerror_rate           0.00    0.00  1.000000e+00  \n",
       "dst_host_srv_rerror_rate       0.00    0.00  1.000000e+00  "
      ]
     },
     "execution_count": 9,
     "metadata": {},
     "output_type": "execute_result"
    }
   ],
   "source": [
    "df_train.describe().transpose()"
   ]
  },
  {
   "cell_type": "code",
   "execution_count": 10,
   "id": "e08b68a7",
   "metadata": {},
   "outputs": [
    {
     "data": {
      "text/html": [
       "<div>\n",
       "<style scoped>\n",
       "    .dataframe tbody tr th:only-of-type {\n",
       "        vertical-align: middle;\n",
       "    }\n",
       "\n",
       "    .dataframe tbody tr th {\n",
       "        vertical-align: top;\n",
       "    }\n",
       "\n",
       "    .dataframe thead th {\n",
       "        text-align: right;\n",
       "    }\n",
       "</style>\n",
       "<table border=\"1\" class=\"dataframe\">\n",
       "  <thead>\n",
       "    <tr style=\"text-align: right;\">\n",
       "      <th></th>\n",
       "      <th>count</th>\n",
       "      <th>mean</th>\n",
       "      <th>std</th>\n",
       "      <th>min</th>\n",
       "      <th>25%</th>\n",
       "      <th>50%</th>\n",
       "      <th>75%</th>\n",
       "      <th>max</th>\n",
       "    </tr>\n",
       "  </thead>\n",
       "  <tbody>\n",
       "    <tr>\n",
       "      <th>duration</th>\n",
       "      <td>22544.0</td>\n",
       "      <td>218.859076</td>\n",
       "      <td>1407.176612</td>\n",
       "      <td>0.0</td>\n",
       "      <td>0.00</td>\n",
       "      <td>0.00</td>\n",
       "      <td>0.0000</td>\n",
       "      <td>57715.0</td>\n",
       "    </tr>\n",
       "    <tr>\n",
       "      <th>src_bytes</th>\n",
       "      <td>22544.0</td>\n",
       "      <td>10395.450231</td>\n",
       "      <td>472786.431088</td>\n",
       "      <td>0.0</td>\n",
       "      <td>0.00</td>\n",
       "      <td>54.00</td>\n",
       "      <td>287.0000</td>\n",
       "      <td>62825648.0</td>\n",
       "    </tr>\n",
       "    <tr>\n",
       "      <th>dst_bytes</th>\n",
       "      <td>22544.0</td>\n",
       "      <td>2056.018808</td>\n",
       "      <td>21219.297609</td>\n",
       "      <td>0.0</td>\n",
       "      <td>0.00</td>\n",
       "      <td>46.00</td>\n",
       "      <td>601.0000</td>\n",
       "      <td>1345927.0</td>\n",
       "    </tr>\n",
       "    <tr>\n",
       "      <th>land</th>\n",
       "      <td>22544.0</td>\n",
       "      <td>0.000311</td>\n",
       "      <td>0.017619</td>\n",
       "      <td>0.0</td>\n",
       "      <td>0.00</td>\n",
       "      <td>0.00</td>\n",
       "      <td>0.0000</td>\n",
       "      <td>1.0</td>\n",
       "    </tr>\n",
       "    <tr>\n",
       "      <th>wrong_fragment</th>\n",
       "      <td>22544.0</td>\n",
       "      <td>0.008428</td>\n",
       "      <td>0.142599</td>\n",
       "      <td>0.0</td>\n",
       "      <td>0.00</td>\n",
       "      <td>0.00</td>\n",
       "      <td>0.0000</td>\n",
       "      <td>3.0</td>\n",
       "    </tr>\n",
       "    <tr>\n",
       "      <th>urgent</th>\n",
       "      <td>22544.0</td>\n",
       "      <td>0.000710</td>\n",
       "      <td>0.036473</td>\n",
       "      <td>0.0</td>\n",
       "      <td>0.00</td>\n",
       "      <td>0.00</td>\n",
       "      <td>0.0000</td>\n",
       "      <td>3.0</td>\n",
       "    </tr>\n",
       "    <tr>\n",
       "      <th>hot</th>\n",
       "      <td>22544.0</td>\n",
       "      <td>0.105394</td>\n",
       "      <td>0.928428</td>\n",
       "      <td>0.0</td>\n",
       "      <td>0.00</td>\n",
       "      <td>0.00</td>\n",
       "      <td>0.0000</td>\n",
       "      <td>101.0</td>\n",
       "    </tr>\n",
       "    <tr>\n",
       "      <th>num_failed_logins</th>\n",
       "      <td>22544.0</td>\n",
       "      <td>0.021647</td>\n",
       "      <td>0.150328</td>\n",
       "      <td>0.0</td>\n",
       "      <td>0.00</td>\n",
       "      <td>0.00</td>\n",
       "      <td>0.0000</td>\n",
       "      <td>4.0</td>\n",
       "    </tr>\n",
       "    <tr>\n",
       "      <th>logged_in</th>\n",
       "      <td>22544.0</td>\n",
       "      <td>0.442202</td>\n",
       "      <td>0.496659</td>\n",
       "      <td>0.0</td>\n",
       "      <td>0.00</td>\n",
       "      <td>0.00</td>\n",
       "      <td>1.0000</td>\n",
       "      <td>1.0</td>\n",
       "    </tr>\n",
       "    <tr>\n",
       "      <th>num_compromised</th>\n",
       "      <td>22544.0</td>\n",
       "      <td>0.119899</td>\n",
       "      <td>7.269597</td>\n",
       "      <td>0.0</td>\n",
       "      <td>0.00</td>\n",
       "      <td>0.00</td>\n",
       "      <td>0.0000</td>\n",
       "      <td>796.0</td>\n",
       "    </tr>\n",
       "    <tr>\n",
       "      <th>root_shell</th>\n",
       "      <td>22544.0</td>\n",
       "      <td>0.002440</td>\n",
       "      <td>0.049334</td>\n",
       "      <td>0.0</td>\n",
       "      <td>0.00</td>\n",
       "      <td>0.00</td>\n",
       "      <td>0.0000</td>\n",
       "      <td>1.0</td>\n",
       "    </tr>\n",
       "    <tr>\n",
       "      <th>su_attempted</th>\n",
       "      <td>22544.0</td>\n",
       "      <td>0.000266</td>\n",
       "      <td>0.021060</td>\n",
       "      <td>0.0</td>\n",
       "      <td>0.00</td>\n",
       "      <td>0.00</td>\n",
       "      <td>0.0000</td>\n",
       "      <td>2.0</td>\n",
       "    </tr>\n",
       "    <tr>\n",
       "      <th>num_root</th>\n",
       "      <td>22544.0</td>\n",
       "      <td>0.114665</td>\n",
       "      <td>8.041614</td>\n",
       "      <td>0.0</td>\n",
       "      <td>0.00</td>\n",
       "      <td>0.00</td>\n",
       "      <td>0.0000</td>\n",
       "      <td>878.0</td>\n",
       "    </tr>\n",
       "    <tr>\n",
       "      <th>num_file_creations</th>\n",
       "      <td>22544.0</td>\n",
       "      <td>0.008738</td>\n",
       "      <td>0.676842</td>\n",
       "      <td>0.0</td>\n",
       "      <td>0.00</td>\n",
       "      <td>0.00</td>\n",
       "      <td>0.0000</td>\n",
       "      <td>100.0</td>\n",
       "    </tr>\n",
       "    <tr>\n",
       "      <th>num_shells</th>\n",
       "      <td>22544.0</td>\n",
       "      <td>0.001153</td>\n",
       "      <td>0.048014</td>\n",
       "      <td>0.0</td>\n",
       "      <td>0.00</td>\n",
       "      <td>0.00</td>\n",
       "      <td>0.0000</td>\n",
       "      <td>5.0</td>\n",
       "    </tr>\n",
       "    <tr>\n",
       "      <th>num_access_files</th>\n",
       "      <td>22544.0</td>\n",
       "      <td>0.003549</td>\n",
       "      <td>0.067829</td>\n",
       "      <td>0.0</td>\n",
       "      <td>0.00</td>\n",
       "      <td>0.00</td>\n",
       "      <td>0.0000</td>\n",
       "      <td>4.0</td>\n",
       "    </tr>\n",
       "    <tr>\n",
       "      <th>num_outbound_cmds</th>\n",
       "      <td>22544.0</td>\n",
       "      <td>0.000000</td>\n",
       "      <td>0.000000</td>\n",
       "      <td>0.0</td>\n",
       "      <td>0.00</td>\n",
       "      <td>0.00</td>\n",
       "      <td>0.0000</td>\n",
       "      <td>0.0</td>\n",
       "    </tr>\n",
       "    <tr>\n",
       "      <th>is_host_login</th>\n",
       "      <td>22544.0</td>\n",
       "      <td>0.000488</td>\n",
       "      <td>0.022084</td>\n",
       "      <td>0.0</td>\n",
       "      <td>0.00</td>\n",
       "      <td>0.00</td>\n",
       "      <td>0.0000</td>\n",
       "      <td>1.0</td>\n",
       "    </tr>\n",
       "    <tr>\n",
       "      <th>is_guest_login</th>\n",
       "      <td>22544.0</td>\n",
       "      <td>0.028433</td>\n",
       "      <td>0.166211</td>\n",
       "      <td>0.0</td>\n",
       "      <td>0.00</td>\n",
       "      <td>0.00</td>\n",
       "      <td>0.0000</td>\n",
       "      <td>1.0</td>\n",
       "    </tr>\n",
       "    <tr>\n",
       "      <th>count</th>\n",
       "      <td>22544.0</td>\n",
       "      <td>79.028345</td>\n",
       "      <td>128.539248</td>\n",
       "      <td>0.0</td>\n",
       "      <td>1.00</td>\n",
       "      <td>8.00</td>\n",
       "      <td>123.2500</td>\n",
       "      <td>511.0</td>\n",
       "    </tr>\n",
       "    <tr>\n",
       "      <th>srv_count</th>\n",
       "      <td>22544.0</td>\n",
       "      <td>31.124379</td>\n",
       "      <td>89.062532</td>\n",
       "      <td>0.0</td>\n",
       "      <td>1.00</td>\n",
       "      <td>6.00</td>\n",
       "      <td>16.0000</td>\n",
       "      <td>511.0</td>\n",
       "    </tr>\n",
       "    <tr>\n",
       "      <th>serror_rate</th>\n",
       "      <td>22544.0</td>\n",
       "      <td>0.102924</td>\n",
       "      <td>0.295367</td>\n",
       "      <td>0.0</td>\n",
       "      <td>0.00</td>\n",
       "      <td>0.00</td>\n",
       "      <td>0.0000</td>\n",
       "      <td>1.0</td>\n",
       "    </tr>\n",
       "    <tr>\n",
       "      <th>srv_serror_rate</th>\n",
       "      <td>22544.0</td>\n",
       "      <td>0.103635</td>\n",
       "      <td>0.298332</td>\n",
       "      <td>0.0</td>\n",
       "      <td>0.00</td>\n",
       "      <td>0.00</td>\n",
       "      <td>0.0000</td>\n",
       "      <td>1.0</td>\n",
       "    </tr>\n",
       "    <tr>\n",
       "      <th>rerror_rate</th>\n",
       "      <td>22544.0</td>\n",
       "      <td>0.238463</td>\n",
       "      <td>0.416118</td>\n",
       "      <td>0.0</td>\n",
       "      <td>0.00</td>\n",
       "      <td>0.00</td>\n",
       "      <td>0.2500</td>\n",
       "      <td>1.0</td>\n",
       "    </tr>\n",
       "    <tr>\n",
       "      <th>srv_rerror_rate</th>\n",
       "      <td>22544.0</td>\n",
       "      <td>0.235179</td>\n",
       "      <td>0.416215</td>\n",
       "      <td>0.0</td>\n",
       "      <td>0.00</td>\n",
       "      <td>0.00</td>\n",
       "      <td>0.0725</td>\n",
       "      <td>1.0</td>\n",
       "    </tr>\n",
       "    <tr>\n",
       "      <th>same_srv_rate</th>\n",
       "      <td>22544.0</td>\n",
       "      <td>0.740345</td>\n",
       "      <td>0.412496</td>\n",
       "      <td>0.0</td>\n",
       "      <td>0.25</td>\n",
       "      <td>1.00</td>\n",
       "      <td>1.0000</td>\n",
       "      <td>1.0</td>\n",
       "    </tr>\n",
       "    <tr>\n",
       "      <th>diff_srv_rate</th>\n",
       "      <td>22544.0</td>\n",
       "      <td>0.094074</td>\n",
       "      <td>0.259138</td>\n",
       "      <td>0.0</td>\n",
       "      <td>0.00</td>\n",
       "      <td>0.00</td>\n",
       "      <td>0.0600</td>\n",
       "      <td>1.0</td>\n",
       "    </tr>\n",
       "    <tr>\n",
       "      <th>srv_diff_host_rate</th>\n",
       "      <td>22544.0</td>\n",
       "      <td>0.098110</td>\n",
       "      <td>0.253545</td>\n",
       "      <td>0.0</td>\n",
       "      <td>0.00</td>\n",
       "      <td>0.00</td>\n",
       "      <td>0.0000</td>\n",
       "      <td>1.0</td>\n",
       "    </tr>\n",
       "    <tr>\n",
       "      <th>dst_host_count</th>\n",
       "      <td>22544.0</td>\n",
       "      <td>193.869411</td>\n",
       "      <td>94.035663</td>\n",
       "      <td>0.0</td>\n",
       "      <td>121.00</td>\n",
       "      <td>255.00</td>\n",
       "      <td>255.0000</td>\n",
       "      <td>255.0</td>\n",
       "    </tr>\n",
       "    <tr>\n",
       "      <th>dst_host_srv_count</th>\n",
       "      <td>22544.0</td>\n",
       "      <td>140.750532</td>\n",
       "      <td>111.783972</td>\n",
       "      <td>0.0</td>\n",
       "      <td>15.00</td>\n",
       "      <td>168.00</td>\n",
       "      <td>255.0000</td>\n",
       "      <td>255.0</td>\n",
       "    </tr>\n",
       "    <tr>\n",
       "      <th>dst_host_same_srv_rate</th>\n",
       "      <td>22544.0</td>\n",
       "      <td>0.608722</td>\n",
       "      <td>0.435688</td>\n",
       "      <td>0.0</td>\n",
       "      <td>0.07</td>\n",
       "      <td>0.92</td>\n",
       "      <td>1.0000</td>\n",
       "      <td>1.0</td>\n",
       "    </tr>\n",
       "    <tr>\n",
       "      <th>dst_host_diff_srv_rate</th>\n",
       "      <td>22544.0</td>\n",
       "      <td>0.090540</td>\n",
       "      <td>0.220717</td>\n",
       "      <td>0.0</td>\n",
       "      <td>0.00</td>\n",
       "      <td>0.01</td>\n",
       "      <td>0.0600</td>\n",
       "      <td>1.0</td>\n",
       "    </tr>\n",
       "    <tr>\n",
       "      <th>dst_host_same_src_port_rate</th>\n",
       "      <td>22544.0</td>\n",
       "      <td>0.132261</td>\n",
       "      <td>0.306268</td>\n",
       "      <td>0.0</td>\n",
       "      <td>0.00</td>\n",
       "      <td>0.00</td>\n",
       "      <td>0.0300</td>\n",
       "      <td>1.0</td>\n",
       "    </tr>\n",
       "    <tr>\n",
       "      <th>dst_host_srv_diff_host_rate</th>\n",
       "      <td>22544.0</td>\n",
       "      <td>0.019638</td>\n",
       "      <td>0.085394</td>\n",
       "      <td>0.0</td>\n",
       "      <td>0.00</td>\n",
       "      <td>0.00</td>\n",
       "      <td>0.0100</td>\n",
       "      <td>1.0</td>\n",
       "    </tr>\n",
       "    <tr>\n",
       "      <th>dst_host_serror_rate</th>\n",
       "      <td>22544.0</td>\n",
       "      <td>0.097814</td>\n",
       "      <td>0.273139</td>\n",
       "      <td>0.0</td>\n",
       "      <td>0.00</td>\n",
       "      <td>0.00</td>\n",
       "      <td>0.0000</td>\n",
       "      <td>1.0</td>\n",
       "    </tr>\n",
       "    <tr>\n",
       "      <th>dst_host_srv_serror_rate</th>\n",
       "      <td>22544.0</td>\n",
       "      <td>0.099426</td>\n",
       "      <td>0.281866</td>\n",
       "      <td>0.0</td>\n",
       "      <td>0.00</td>\n",
       "      <td>0.00</td>\n",
       "      <td>0.0000</td>\n",
       "      <td>1.0</td>\n",
       "    </tr>\n",
       "    <tr>\n",
       "      <th>dst_host_rerror_rate</th>\n",
       "      <td>22544.0</td>\n",
       "      <td>0.233385</td>\n",
       "      <td>0.387229</td>\n",
       "      <td>0.0</td>\n",
       "      <td>0.00</td>\n",
       "      <td>0.00</td>\n",
       "      <td>0.3600</td>\n",
       "      <td>1.0</td>\n",
       "    </tr>\n",
       "    <tr>\n",
       "      <th>dst_host_srv_rerror_rate</th>\n",
       "      <td>22544.0</td>\n",
       "      <td>0.226683</td>\n",
       "      <td>0.400875</td>\n",
       "      <td>0.0</td>\n",
       "      <td>0.00</td>\n",
       "      <td>0.00</td>\n",
       "      <td>0.1700</td>\n",
       "      <td>1.0</td>\n",
       "    </tr>\n",
       "  </tbody>\n",
       "</table>\n",
       "</div>"
      ],
      "text/plain": [
       "                               count          mean            std  min  \\\n",
       "duration                     22544.0    218.859076    1407.176612  0.0   \n",
       "src_bytes                    22544.0  10395.450231  472786.431088  0.0   \n",
       "dst_bytes                    22544.0   2056.018808   21219.297609  0.0   \n",
       "land                         22544.0      0.000311       0.017619  0.0   \n",
       "wrong_fragment               22544.0      0.008428       0.142599  0.0   \n",
       "urgent                       22544.0      0.000710       0.036473  0.0   \n",
       "hot                          22544.0      0.105394       0.928428  0.0   \n",
       "num_failed_logins            22544.0      0.021647       0.150328  0.0   \n",
       "logged_in                    22544.0      0.442202       0.496659  0.0   \n",
       "num_compromised              22544.0      0.119899       7.269597  0.0   \n",
       "root_shell                   22544.0      0.002440       0.049334  0.0   \n",
       "su_attempted                 22544.0      0.000266       0.021060  0.0   \n",
       "num_root                     22544.0      0.114665       8.041614  0.0   \n",
       "num_file_creations           22544.0      0.008738       0.676842  0.0   \n",
       "num_shells                   22544.0      0.001153       0.048014  0.0   \n",
       "num_access_files             22544.0      0.003549       0.067829  0.0   \n",
       "num_outbound_cmds            22544.0      0.000000       0.000000  0.0   \n",
       "is_host_login                22544.0      0.000488       0.022084  0.0   \n",
       "is_guest_login               22544.0      0.028433       0.166211  0.0   \n",
       "count                        22544.0     79.028345     128.539248  0.0   \n",
       "srv_count                    22544.0     31.124379      89.062532  0.0   \n",
       "serror_rate                  22544.0      0.102924       0.295367  0.0   \n",
       "srv_serror_rate              22544.0      0.103635       0.298332  0.0   \n",
       "rerror_rate                  22544.0      0.238463       0.416118  0.0   \n",
       "srv_rerror_rate              22544.0      0.235179       0.416215  0.0   \n",
       "same_srv_rate                22544.0      0.740345       0.412496  0.0   \n",
       "diff_srv_rate                22544.0      0.094074       0.259138  0.0   \n",
       "srv_diff_host_rate           22544.0      0.098110       0.253545  0.0   \n",
       "dst_host_count               22544.0    193.869411      94.035663  0.0   \n",
       "dst_host_srv_count           22544.0    140.750532     111.783972  0.0   \n",
       "dst_host_same_srv_rate       22544.0      0.608722       0.435688  0.0   \n",
       "dst_host_diff_srv_rate       22544.0      0.090540       0.220717  0.0   \n",
       "dst_host_same_src_port_rate  22544.0      0.132261       0.306268  0.0   \n",
       "dst_host_srv_diff_host_rate  22544.0      0.019638       0.085394  0.0   \n",
       "dst_host_serror_rate         22544.0      0.097814       0.273139  0.0   \n",
       "dst_host_srv_serror_rate     22544.0      0.099426       0.281866  0.0   \n",
       "dst_host_rerror_rate         22544.0      0.233385       0.387229  0.0   \n",
       "dst_host_srv_rerror_rate     22544.0      0.226683       0.400875  0.0   \n",
       "\n",
       "                                25%     50%       75%         max  \n",
       "duration                       0.00    0.00    0.0000     57715.0  \n",
       "src_bytes                      0.00   54.00  287.0000  62825648.0  \n",
       "dst_bytes                      0.00   46.00  601.0000   1345927.0  \n",
       "land                           0.00    0.00    0.0000         1.0  \n",
       "wrong_fragment                 0.00    0.00    0.0000         3.0  \n",
       "urgent                         0.00    0.00    0.0000         3.0  \n",
       "hot                            0.00    0.00    0.0000       101.0  \n",
       "num_failed_logins              0.00    0.00    0.0000         4.0  \n",
       "logged_in                      0.00    0.00    1.0000         1.0  \n",
       "num_compromised                0.00    0.00    0.0000       796.0  \n",
       "root_shell                     0.00    0.00    0.0000         1.0  \n",
       "su_attempted                   0.00    0.00    0.0000         2.0  \n",
       "num_root                       0.00    0.00    0.0000       878.0  \n",
       "num_file_creations             0.00    0.00    0.0000       100.0  \n",
       "num_shells                     0.00    0.00    0.0000         5.0  \n",
       "num_access_files               0.00    0.00    0.0000         4.0  \n",
       "num_outbound_cmds              0.00    0.00    0.0000         0.0  \n",
       "is_host_login                  0.00    0.00    0.0000         1.0  \n",
       "is_guest_login                 0.00    0.00    0.0000         1.0  \n",
       "count                          1.00    8.00  123.2500       511.0  \n",
       "srv_count                      1.00    6.00   16.0000       511.0  \n",
       "serror_rate                    0.00    0.00    0.0000         1.0  \n",
       "srv_serror_rate                0.00    0.00    0.0000         1.0  \n",
       "rerror_rate                    0.00    0.00    0.2500         1.0  \n",
       "srv_rerror_rate                0.00    0.00    0.0725         1.0  \n",
       "same_srv_rate                  0.25    1.00    1.0000         1.0  \n",
       "diff_srv_rate                  0.00    0.00    0.0600         1.0  \n",
       "srv_diff_host_rate             0.00    0.00    0.0000         1.0  \n",
       "dst_host_count               121.00  255.00  255.0000       255.0  \n",
       "dst_host_srv_count            15.00  168.00  255.0000       255.0  \n",
       "dst_host_same_srv_rate         0.07    0.92    1.0000         1.0  \n",
       "dst_host_diff_srv_rate         0.00    0.01    0.0600         1.0  \n",
       "dst_host_same_src_port_rate    0.00    0.00    0.0300         1.0  \n",
       "dst_host_srv_diff_host_rate    0.00    0.00    0.0100         1.0  \n",
       "dst_host_serror_rate           0.00    0.00    0.0000         1.0  \n",
       "dst_host_srv_serror_rate       0.00    0.00    0.0000         1.0  \n",
       "dst_host_rerror_rate           0.00    0.00    0.3600         1.0  \n",
       "dst_host_srv_rerror_rate       0.00    0.00    0.1700         1.0  "
      ]
     },
     "execution_count": 10,
     "metadata": {},
     "output_type": "execute_result"
    }
   ],
   "source": [
    "df_test.describe().transpose()"
   ]
  },
  {
   "cell_type": "markdown",
   "id": "a5e5ce72",
   "metadata": {},
   "source": [
    "Auffällig ist hier, dass das Feature \"num_outbound_cmd\" keinen statistischen Wert für den Datensatz hat. Dieses Feature kann also in den kommenden Kapiteln eleminiert werden."
   ]
  },
  {
   "cell_type": "markdown",
   "id": "6ca93cd1",
   "metadata": {},
   "source": [
    "### Label Verteilung\n",
    "\n",
    "Hier zeigen wir welche Label im Datensatz präsent sind und wir diese Verteilt sind."
   ]
  },
  {
   "cell_type": "code",
   "execution_count": 11,
   "id": "d75b1a86",
   "metadata": {},
   "outputs": [
    {
     "name": "stdout",
     "output_type": "stream",
     "text": [
      "normal             67343\n",
      "neptune            41214\n",
      "satan               3633\n",
      "ipsweep             3599\n",
      "portsweep           2931\n",
      "smurf               2646\n",
      "nmap                1493\n",
      "back                 956\n",
      "teardrop             892\n",
      "warezclient          890\n",
      "pod                  201\n",
      "guess_passwd          53\n",
      "buffer_overflow       30\n",
      "warezmaster           20\n",
      "land                  18\n",
      "imap                  11\n",
      "rootkit               10\n",
      "loadmodule             9\n",
      "ftp_write              8\n",
      "multihop               7\n",
      "phf                    4\n",
      "perl                   3\n",
      "spy                    2\n",
      "Name: label, dtype: int64\n"
     ]
    }
   ],
   "source": [
    "print(df_train['label'].value_counts())"
   ]
  },
  {
   "cell_type": "code",
   "execution_count": 12,
   "id": "220aaeda",
   "metadata": {},
   "outputs": [
    {
     "name": "stdout",
     "output_type": "stream",
     "text": [
      "normal             9711\n",
      "neptune            4657\n",
      "guess_passwd       1231\n",
      "mscan               996\n",
      "warezmaster         944\n",
      "apache2             737\n",
      "satan               735\n",
      "processtable        685\n",
      "smurf               665\n",
      "back                359\n",
      "snmpguess           331\n",
      "saint               319\n",
      "mailbomb            293\n",
      "snmpgetattack       178\n",
      "portsweep           157\n",
      "ipsweep             141\n",
      "httptunnel          133\n",
      "nmap                 73\n",
      "pod                  41\n",
      "buffer_overflow      20\n",
      "multihop             18\n",
      "named                17\n",
      "ps                   15\n",
      "sendmail             14\n",
      "rootkit              13\n",
      "xterm                13\n",
      "teardrop             12\n",
      "xlock                 9\n",
      "land                  7\n",
      "xsnoop                4\n",
      "ftp_write             3\n",
      "worm                  2\n",
      "loadmodule            2\n",
      "perl                  2\n",
      "sqlattack             2\n",
      "udpstorm              2\n",
      "phf                   2\n",
      "imap                  1\n",
      "Name: label, dtype: int64\n"
     ]
    }
   ],
   "source": [
    "print(df_test['label'].value_counts())"
   ]
  },
  {
   "cell_type": "markdown",
   "id": "037e79b8",
   "metadata": {},
   "source": [
    "Es fällt auf, dass die Testdaten mehr Angriffstypen haben als die Trainingsdaten. Dies kann zu schlechteren Ergebnissen der ML Modelle führen und sollte in den kommenden Kapiteln gelöst werden."
   ]
  },
  {
   "cell_type": "markdown",
   "id": "4d9c7afb",
   "metadata": {},
   "source": [
    "### Identifieziren der Features mit Kategorie\n",
    "\n",
    "Dieses Kapitel dient nur einen kleinen Übersicht über die verschiedenen Kategorischen Features."
   ]
  },
  {
   "cell_type": "code",
   "execution_count": 13,
   "id": "824c97fe",
   "metadata": {},
   "outputs": [
    {
     "name": "stdout",
     "output_type": "stream",
     "text": [
      "Trainings Daten:\n",
      "Feature 'protocol_type' has 3 categories\n",
      "Feature 'service' has 70 categories\n",
      "Feature 'flag' has 11 categories\n",
      "Feature 'label' has 23 categories\n"
     ]
    }
   ],
   "source": [
    "print('Trainings Daten:')\n",
    "# Schleife über Spalten\n",
    "for col_name in df_train.columns:\n",
    "    # Prüfung, ob aktuelle Spalte eine Objekt ist (Kategorisches Label)\n",
    "    if df_train[col_name].dtypes == 'object':\n",
    "        # Ausgabe des Labels und Anzahl der Kategorien\n",
    "        unique_cat = len(df_train[col_name].unique())\n",
    "        print(f\"Feature '{col_name}' has {unique_cat} categories\")"
   ]
  },
  {
   "cell_type": "code",
   "execution_count": 14,
   "id": "afaf94d5",
   "metadata": {},
   "outputs": [
    {
     "name": "stdout",
     "output_type": "stream",
     "text": [
      "Test Daten:\n",
      "Feature 'protocol_type' has 3 categories\n",
      "Feature 'service' has 64 categories\n",
      "Feature 'flag' has 11 categories\n",
      "Feature 'label' has 38 categories\n"
     ]
    }
   ],
   "source": [
    "print('Test Daten:')\n",
    "# Schleife über Spalten\n",
    "for col_name in df_test.columns:\n",
    "    # Prüfung, ob aktuelle Spalte eine Objekt ist (Kategorisches Label)\n",
    "    if df_test[col_name].dtypes == 'object':\n",
    "        # Ausgabe des Labels und Anzahl der Kategorien\n",
    "        unique_cat = len(df_test[col_name].unique())\n",
    "        print(f\"Feature '{col_name}' has {unique_cat} categories\")"
   ]
  },
  {
   "cell_type": "markdown",
   "id": "50237d06",
   "metadata": {},
   "source": [
    "### Grafische Darstellung der Verteilung der Kategorien\n",
    "\n",
    "Hier zeigen wir einmal, wie die einzelnen Kategorischen Features verteilt sind."
   ]
  },
  {
   "cell_type": "code",
   "execution_count": 15,
   "id": "586da550",
   "metadata": {},
   "outputs": [
    {
     "data": {
      "image/png": "[encoded data removed]",
      "text/plain": [
       "<Figure size 432x288 with 1 Axes>"
      ]
     },
     "metadata": {
      "needs_background": "light"
     },
     "output_type": "display_data"
    }
   ],
   "source": [
    "df_train[\"protocol_type\"].value_counts().plot(kind=\"bar\")\n",
    "plt.savefig(\"artefacts/Train Set Protocal Type Verteilung\", dpi=500)"
   ]
  },
  {
   "cell_type": "code",
   "execution_count": 16,
   "id": "6cc71667",
   "metadata": {},
   "outputs": [
    {
     "data": {
      "image/png": "[encoded data removed]",
      "text/plain": [
       "<Figure size 432x288 with 1 Axes>"
      ]
     },
     "metadata": {
      "needs_background": "light"
     },
     "output_type": "display_data"
    }
   ],
   "source": [
    "df_test[\"protocol_type\"].value_counts().plot(kind=\"bar\")\n",
    "plt.savefig(\"artefacts/Test Set Protocal Type Verteilung\", dpi=500)"
   ]
  },
  {
   "cell_type": "code",
   "execution_count": 17,
   "id": "7473fe88",
   "metadata": {},
   "outputs": [
    {
     "data": {
      "image/png": "[encoded data removed]",
      "text/plain": [
       "<Figure size 1440x720 with 1 Axes>"
      ]
     },
     "metadata": {
      "needs_background": "light"
     },
     "output_type": "display_data"
    }
   ],
   "source": [
    "df_train[\"service\"].value_counts().plot(kind=\"bar\", figsize=(20,10))\n",
    "plt.savefig(\"artefacts/Train Set Service Verteilung\", dpi=500)"
   ]
  },
  {
   "cell_type": "code",
   "execution_count": 18,
   "id": "7ef0fea3",
   "metadata": {},
   "outputs": [
    {
     "data": {
      "image/png": "[encoded data removed]",
      "text/plain": [
       "<Figure size 1440x720 with 1 Axes>"
      ]
     },
     "metadata": {
      "needs_background": "light"
     },
     "output_type": "display_data"
    }
   ],
   "source": [
    "df_test[\"service\"].value_counts().plot(kind=\"bar\", figsize=(20,10))\n",
    "plt.savefig(\"artefacts/Test Set Service Verteilung\", dpi=500)"
   ]
  },
  {
   "cell_type": "code",
   "execution_count": 19,
   "id": "27963b24",
   "metadata": {},
   "outputs": [
    {
     "data": {
      "image/png": "[encoded data removed]",
      "text/plain": [
       "<Figure size 432x288 with 1 Axes>"
      ]
     },
     "metadata": {
      "needs_background": "light"
     },
     "output_type": "display_data"
    }
   ],
   "source": [
    "df_train[\"flag\"].value_counts().plot(kind=\"bar\")\n",
    "plt.savefig(\"artefacts/Train Set Flag Verteilung\", dpi=500)"
   ]
  },
  {
   "cell_type": "code",
   "execution_count": 20,
   "id": "86e25d86",
   "metadata": {},
   "outputs": [
    {
     "data": {
      "image/png": "[encoded data removed]",
      "text/plain": [
       "<Figure size 432x288 with 1 Axes>"
      ]
     },
     "metadata": {
      "needs_background": "light"
     },
     "output_type": "display_data"
    }
   ],
   "source": [
    "df_test[\"flag\"].value_counts().plot(kind=\"bar\")\n",
    "plt.savefig(\"artefacts/Test Set Service Verteilung\", dpi=500)"
   ]
  },
  {
   "cell_type": "markdown",
   "id": "537ae5b9",
   "metadata": {},
   "source": [
    "## Daten aufbereiten\n",
    "\n",
    "In diesem Kapitel geht es hauptsächlich darum, die Daten so voruubereiten, dass diese nicht möglichst  wenig unnötige Features enthalten."
   ]
  },
  {
   "cell_type": "markdown",
   "id": "aaa7d69e",
   "metadata": {},
   "source": [
    "Wie im Kaptiel \"[Statistische Daten ueber die Labels](#statistische-daten-ueber-die-labels)\" zu sehen ist, hat das Feature \"num_outbound_cmds\" keine statistische relevanz und wird daher nicht zu einer höheren effizenz der Modelle beitragen. Diese Feature kann entfernt werden."
   ]
  },
  {
   "cell_type": "code",
   "execution_count": 21,
   "id": "fc37c6e9",
   "metadata": {},
   "outputs": [],
   "source": [
    "df_train.drop(columns=\"num_outbound_cmds\", inplace=True)\n",
    "df_test.drop(columns=\"num_outbound_cmds\", inplace=True)"
   ]
  },
  {
   "cell_type": "markdown",
   "id": "b3315525",
   "metadata": {},
   "source": [
    "### Korrelation der Labels mit einer Heatmap ermitteln\n",
    "\n",
    "Um zu prüfen, ob die Daten weitere Features mit wenig relevanz für die ML Modelle beinhalten, prüfen wir stark die einzelnen Features miteinander Korrelieren. Hierfür erstellen wir eine grafische Heatmap dessen \"heiße\" Felder indikatoren für starke Korrelation der jeweiligen Features sind. "
   ]
  },
  {
   "cell_type": "code",
   "execution_count": 22,
   "id": "33ad9af4",
   "metadata": {},
   "outputs": [
    {
     "data": {
      "image/png": "[encoded data removed]",
      "text/plain": [
       "<Figure size 1080x864 with 2 Axes>"
      ]
     },
     "metadata": {
      "needs_background": "light"
     },
     "output_type": "display_data"
    }
   ],
   "source": [
    "plt.subplots(figsize=(15, 12))\n",
    "sns.heatmap(df_train.corr())\n",
    "plt.savefig(\"artefacts/Correlation heatmap before\", dpi=500)"
   ]
  },
  {
   "cell_type": "markdown",
   "id": "f908503b",
   "metadata": {},
   "source": [
    "Zu sehen ist hier eine klare Diagonale, die angibt, dass Features offensichtlich mit sich selbst korrelieren. Unterhalb der Diagonale ist ersichtich, dass verschiedene Features ebanfalls stark miteinander korrelieren. Diese Features haben aufgrund ihrer Ähnlichkeit zu anderen Labels keinen signifikanten Einfluss auf das Ergebnis von Modellen. Im folgenden werden diese Features gelöscht."
   ]
  },
  {
   "cell_type": "code",
   "execution_count": 23,
   "id": "c235ed2d",
   "metadata": {},
   "outputs": [],
   "source": [
    "drop_list = ['num_root', 'srv_serror_rate', 'srv_serror_rate', 'srv_rerror_rate', 'dst_host_srv_serror_rate', 'dst_host_serror_rate', 'dst_host_rerror_rate', 'dst_host_srv_rerror_rate', 'dst_host_same_srv_rate']\n",
    "df_train.drop(columns=drop_list, inplace=True)\n",
    "df_test.drop(columns=drop_list, inplace=True)"
   ]
  },
  {
   "cell_type": "markdown",
   "id": "cc073682",
   "metadata": {},
   "source": [
    "Bei ernuerter Augabe der Heatmap ist zu sehen, dass die stark miteiander korrelierenden Features jetzt nicht mehr vorhanden sind."
   ]
  },
  {
   "cell_type": "code",
   "execution_count": 24,
   "id": "eb7ef238",
   "metadata": {},
   "outputs": [
    {
     "data": {
      "image/png": "[encoded data removed]",
      "text/plain": [
       "<Figure size 1080x864 with 2 Axes>"
      ]
     },
     "metadata": {
      "needs_background": "light"
     },
     "output_type": "display_data"
    }
   ],
   "source": [
    "plt.subplots(figsize=(15, 12))\n",
    "sns.heatmap(df_train.corr())\n",
    "plt.savefig(\"artefacts/Correlation heatmap after\", dpi=500)"
   ]
  },
  {
   "cell_type": "code",
   "execution_count": 25,
   "id": "5f7f83b2",
   "metadata": {},
   "outputs": [
    {
     "name": "stdout",
     "output_type": "stream",
     "text": [
      "(125973, 33)\n",
      "(22544, 33)\n"
     ]
    }
   ],
   "source": [
    "print(df_train.shape)\n",
    "print(df_test.shape)"
   ]
  },
  {
   "cell_type": "markdown",
   "id": "be37af7e",
   "metadata": {},
   "source": [
    "Nach dem Löschen der verschiedenen Features bleiben noch 32 (33 Spalten - Label Spalte) Features über."
   ]
  },
  {
   "cell_type": "markdown",
   "id": "aa74c582",
   "metadata": {},
   "source": [
    "### Daten ausgleichen\n",
    "\n",
    "Im Kapitel [Label Verteilung](#label-verteilung), haben wir gesehen, dass die Testdaten mehr Angriffstypen haben als die Trainingsdaten. Dies wird beim Testen der Modelle für schlechere Werte sorgen, da das Modell diese Angriffstypen nicht kennt. Dies gleichen wir hier aus in dem wir Daten aus dem Testsatz in den Trainingssatz einfügen."
   ]
  },
  {
   "cell_type": "code",
   "execution_count": 26,
   "id": "7cbecf93",
   "metadata": {},
   "outputs": [
    {
     "name": "stdout",
     "output_type": "stream",
     "text": [
      "38\n",
      "23\n",
      "['xlock', 'xsnoop', 'ps', 'sqlattack', 'mailbomb', 'httptunnel', 'sendmail', 'processtable', 'udpstorm', 'apache2', 'snmpguess', 'saint', 'xterm', 'mscan', 'worm', 'snmpgetattack', 'named']\n"
     ]
    }
   ],
   "source": [
    "test_attack=df_test['label'].unique().tolist()\n",
    "train_attack=df_train['label'].unique().tolist()\n",
    "print(len(test_attack))\n",
    "print(len(train_attack))\n",
    "l1=list(set(test_attack)-set(train_attack))\n",
    "print(l1)\n",
    "# df_test['label'] = df_test['label'].replace(\n",
    "#     l1, np.nan)\n",
    "# df_test = df_test.dropna()\n",
    "# df_test['label'].nunique()\n",
    "\n",
    "df_required=df_test[(df_test['label']=='sendmail') | (df_test['label']=='mailbomb') | (df_test['label']=='worm') | (df_test['label']=='xsnoop') | (df_test['label']=='processtable') |\n",
    "(df_test['label']=='httptunnel') | (df_test['label']=='sqlattack') | (df_test['label']=='mscan') | (df_test['label']=='udpstorm') | (df_test['label']=='xlock') |\n",
    "(df_test['label']=='apache2') | (df_test['label']=='saint') | (df_test['label']=='snmpgetattack') | (df_test['label']=='xterm') |(df_test['label']=='named') | (df_test['label']=='ps') | (df_test['label']=='snmpguess')]\n",
    "\n",
    "df_train=pd.concat([df_train,df_required],axis=0)"
   ]
  },
  {
   "cell_type": "markdown",
   "id": "4c8fa6c3",
   "metadata": {},
   "source": [
    "## Daten Encodieren\n",
    "\n",
    "Wir Encodieren die Daten zu numerischen werten, damit die ML Modelle besser mit Ihnen umgehen können. Hierfür verwenden wir den sklearn LabelEncoder. Einzig die Labels selber encodieren wir per Hand und später zu wissen welche Nummern zu welchen Labeln (Angriffstypen) gehören."
   ]
  },
  {
   "cell_type": "code",
   "execution_count": 27,
   "id": "990b0981",
   "metadata": {},
   "outputs": [],
   "source": [
    "from sklearn.preprocessing import LabelEncoder\n",
    "\n",
    "lc = LabelEncoder()"
   ]
  },
  {
   "cell_type": "code",
   "execution_count": 28,
   "id": "27c04a3f",
   "metadata": {},
   "outputs": [],
   "source": [
    "categorical_columns = ['protocol_type', 'service', 'flag']\n",
    "\n",
    "df_train['protocol_type'] = lc.fit_transform(df_train['protocol_type'])\n",
    "df_train['service'] = lc.fit_transform(df_train['service'])\n",
    "df_train['flag'] = lc.fit_transform(df_train['flag'])\n",
    "\n",
    "df_test['protocol_type'] = lc.fit_transform(df_test['protocol_type'])\n",
    "df_test['service'] = lc.fit_transform(df_test['service'])\n",
    "df_test['flag'] = lc.fit_transform(df_test['flag'])\n",
    "\n",
    "df_train['label'].replace({ 'normal' : 0, 'neptune' : 1 ,'back': 1, 'land': 1, 'pod': 1, 'smurf': 1, 'teardrop': 1,'mailbomb': 1, 'apache2': 1, 'processtable': 1, 'udpstorm': 1, 'worm': 1,\n",
    "                           'ipsweep' : 2,'nmap' : 2,'portsweep' : 2,'satan' : 2,'mscan' : 2,'saint' : 2\n",
    "                           ,'ftp_write': 3,'guess_passwd': 3,'imap': 3,'multihop': 3,'phf': 3,'spy': 3,'warezclient': 3,'warezmaster': 3,'sendmail': 3,'named': 3,'snmpgetattack': 3,'snmpguess': 3,'xlock': 3,'xsnoop': 3,'httptunnel': 3,\n",
    "                           'buffer_overflow': 4,'loadmodule': 4,'perl': 4,'rootkit': 4,'ps': 4,'sqlattack': 4,'xterm': 4},inplace=True)\n",
    "df_test['label'].replace({ 'normal' : 0, 'neptune' : 1 ,'back': 1, 'land': 1, 'pod': 1, 'smurf': 1, 'teardrop': 1,'mailbomb': 1, 'apache2': 1, 'processtable': 1, 'udpstorm': 1, 'worm': 1,\n",
    "                           'ipsweep' : 2,'nmap' : 2,'portsweep' : 2,'satan' : 2,'mscan' : 2,'saint' : 2\n",
    "                           ,'ftp_write': 3,'guess_passwd': 3,'imap': 3,'multihop': 3,'phf': 3,'spy': 3,'warezclient': 3,'warezmaster': 3,'sendmail': 3,'named': 3,'snmpgetattack': 3,'snmpguess': 3,'xlock': 3,'xsnoop': 3,'httptunnel': 3,\n",
    "                           'buffer_overflow': 4,'loadmodule': 4,'perl': 4,'rootkit': 4,'ps': 4,'sqlattack': 4,'xterm': 4},inplace=True)"
   ]
  },
  {
   "cell_type": "code",
   "execution_count": 29,
   "id": "25675ac3",
   "metadata": {},
   "outputs": [
    {
     "data": {
      "text/html": [
       "<div>\n",
       "<style scoped>\n",
       "    .dataframe tbody tr th:only-of-type {\n",
       "        vertical-align: middle;\n",
       "    }\n",
       "\n",
       "    .dataframe tbody tr th {\n",
       "        vertical-align: top;\n",
       "    }\n",
       "\n",
       "    .dataframe thead th {\n",
       "        text-align: right;\n",
       "    }\n",
       "</style>\n",
       "<table border=\"1\" class=\"dataframe\">\n",
       "  <thead>\n",
       "    <tr style=\"text-align: right;\">\n",
       "      <th></th>\n",
       "      <th>duration</th>\n",
       "      <th>protocol_type</th>\n",
       "      <th>service</th>\n",
       "      <th>flag</th>\n",
       "      <th>src_bytes</th>\n",
       "      <th>dst_bytes</th>\n",
       "      <th>land</th>\n",
       "      <th>wrong_fragment</th>\n",
       "      <th>urgent</th>\n",
       "      <th>hot</th>\n",
       "      <th>...</th>\n",
       "      <th>rerror_rate</th>\n",
       "      <th>same_srv_rate</th>\n",
       "      <th>diff_srv_rate</th>\n",
       "      <th>srv_diff_host_rate</th>\n",
       "      <th>dst_host_count</th>\n",
       "      <th>dst_host_srv_count</th>\n",
       "      <th>dst_host_diff_srv_rate</th>\n",
       "      <th>dst_host_same_src_port_rate</th>\n",
       "      <th>dst_host_srv_diff_host_rate</th>\n",
       "      <th>label</th>\n",
       "    </tr>\n",
       "  </thead>\n",
       "  <tbody>\n",
       "    <tr>\n",
       "      <th>0</th>\n",
       "      <td>0</td>\n",
       "      <td>1</td>\n",
       "      <td>20</td>\n",
       "      <td>9</td>\n",
       "      <td>491</td>\n",
       "      <td>0</td>\n",
       "      <td>0</td>\n",
       "      <td>0</td>\n",
       "      <td>0</td>\n",
       "      <td>0</td>\n",
       "      <td>...</td>\n",
       "      <td>0.0</td>\n",
       "      <td>1.00</td>\n",
       "      <td>0.00</td>\n",
       "      <td>0.00</td>\n",
       "      <td>150</td>\n",
       "      <td>25</td>\n",
       "      <td>0.03</td>\n",
       "      <td>0.17</td>\n",
       "      <td>0.00</td>\n",
       "      <td>0</td>\n",
       "    </tr>\n",
       "    <tr>\n",
       "      <th>1</th>\n",
       "      <td>0</td>\n",
       "      <td>2</td>\n",
       "      <td>44</td>\n",
       "      <td>9</td>\n",
       "      <td>146</td>\n",
       "      <td>0</td>\n",
       "      <td>0</td>\n",
       "      <td>0</td>\n",
       "      <td>0</td>\n",
       "      <td>0</td>\n",
       "      <td>...</td>\n",
       "      <td>0.0</td>\n",
       "      <td>0.08</td>\n",
       "      <td>0.15</td>\n",
       "      <td>0.00</td>\n",
       "      <td>255</td>\n",
       "      <td>1</td>\n",
       "      <td>0.60</td>\n",
       "      <td>0.88</td>\n",
       "      <td>0.00</td>\n",
       "      <td>0</td>\n",
       "    </tr>\n",
       "    <tr>\n",
       "      <th>2</th>\n",
       "      <td>0</td>\n",
       "      <td>1</td>\n",
       "      <td>49</td>\n",
       "      <td>5</td>\n",
       "      <td>0</td>\n",
       "      <td>0</td>\n",
       "      <td>0</td>\n",
       "      <td>0</td>\n",
       "      <td>0</td>\n",
       "      <td>0</td>\n",
       "      <td>...</td>\n",
       "      <td>0.0</td>\n",
       "      <td>0.05</td>\n",
       "      <td>0.07</td>\n",
       "      <td>0.00</td>\n",
       "      <td>255</td>\n",
       "      <td>26</td>\n",
       "      <td>0.05</td>\n",
       "      <td>0.00</td>\n",
       "      <td>0.00</td>\n",
       "      <td>1</td>\n",
       "    </tr>\n",
       "    <tr>\n",
       "      <th>3</th>\n",
       "      <td>0</td>\n",
       "      <td>1</td>\n",
       "      <td>24</td>\n",
       "      <td>9</td>\n",
       "      <td>232</td>\n",
       "      <td>8153</td>\n",
       "      <td>0</td>\n",
       "      <td>0</td>\n",
       "      <td>0</td>\n",
       "      <td>0</td>\n",
       "      <td>...</td>\n",
       "      <td>0.0</td>\n",
       "      <td>1.00</td>\n",
       "      <td>0.00</td>\n",
       "      <td>0.00</td>\n",
       "      <td>30</td>\n",
       "      <td>255</td>\n",
       "      <td>0.00</td>\n",
       "      <td>0.03</td>\n",
       "      <td>0.04</td>\n",
       "      <td>0</td>\n",
       "    </tr>\n",
       "    <tr>\n",
       "      <th>4</th>\n",
       "      <td>0</td>\n",
       "      <td>1</td>\n",
       "      <td>24</td>\n",
       "      <td>9</td>\n",
       "      <td>199</td>\n",
       "      <td>420</td>\n",
       "      <td>0</td>\n",
       "      <td>0</td>\n",
       "      <td>0</td>\n",
       "      <td>0</td>\n",
       "      <td>...</td>\n",
       "      <td>0.0</td>\n",
       "      <td>1.00</td>\n",
       "      <td>0.00</td>\n",
       "      <td>0.09</td>\n",
       "      <td>255</td>\n",
       "      <td>255</td>\n",
       "      <td>0.00</td>\n",
       "      <td>0.00</td>\n",
       "      <td>0.00</td>\n",
       "      <td>0</td>\n",
       "    </tr>\n",
       "  </tbody>\n",
       "</table>\n",
       "<p>5 rows × 33 columns</p>\n",
       "</div>"
      ],
      "text/plain": [
       "   duration  protocol_type  service  flag  src_bytes  dst_bytes  land  \\\n",
       "0         0              1       20     9        491          0     0   \n",
       "1         0              2       44     9        146          0     0   \n",
       "2         0              1       49     5          0          0     0   \n",
       "3         0              1       24     9        232       8153     0   \n",
       "4         0              1       24     9        199        420     0   \n",
       "\n",
       "   wrong_fragment  urgent  hot  ...  rerror_rate  same_srv_rate  \\\n",
       "0               0       0    0  ...          0.0           1.00   \n",
       "1               0       0    0  ...          0.0           0.08   \n",
       "2               0       0    0  ...          0.0           0.05   \n",
       "3               0       0    0  ...          0.0           1.00   \n",
       "4               0       0    0  ...          0.0           1.00   \n",
       "\n",
       "   diff_srv_rate  srv_diff_host_rate  dst_host_count  dst_host_srv_count  \\\n",
       "0           0.00                0.00             150                  25   \n",
       "1           0.15                0.00             255                   1   \n",
       "2           0.07                0.00             255                  26   \n",
       "3           0.00                0.00              30                 255   \n",
       "4           0.00                0.09             255                 255   \n",
       "\n",
       "   dst_host_diff_srv_rate  dst_host_same_src_port_rate  \\\n",
       "0                    0.03                         0.17   \n",
       "1                    0.60                         0.88   \n",
       "2                    0.05                         0.00   \n",
       "3                    0.00                         0.03   \n",
       "4                    0.00                         0.00   \n",
       "\n",
       "   dst_host_srv_diff_host_rate  label  \n",
       "0                         0.00      0  \n",
       "1                         0.00      0  \n",
       "2                         0.00      1  \n",
       "3                         0.04      0  \n",
       "4                         0.00      0  \n",
       "\n",
       "[5 rows x 33 columns]"
      ]
     },
     "execution_count": 29,
     "metadata": {},
     "output_type": "execute_result"
    }
   ],
   "source": [
    "df_train.head()"
   ]
  },
  {
   "cell_type": "markdown",
   "id": "b8bd699f",
   "metadata": {},
   "source": [
    "## Daten in die vier Angriffskategorien aufteilen\n",
    "\n",
    "Um zu sehen wie gut wir einzelne Angriffskategorien erkennen können teilen wir die Daten in die vier möglichen Kategorien auf. Hierfür werden alle Datensätze mit Labeln, die nicht zu der jeweiligen Angriffskategorie gehöen gelöscht."
   ]
  },
  {
   "cell_type": "code",
   "execution_count": 30,
   "id": "76e15e6d",
   "metadata": {},
   "outputs": [
    {
     "name": "stdout",
     "output_type": "stream",
     "text": [
      "Train:\n",
      "Dimensions of DoS: (114989, 33)\n",
      "Dimensions of Probe: (80314, 33)\n",
      "Dimensions of R2L: (69024, 33)\n",
      "Dimensions of U2R: (67425, 33)\n",
      "Test:\n",
      "Dimensions of DoS: (17171, 33)\n",
      "Dimensions of Probe: (12132, 33)\n",
      "Dimensions of R2L: (12596, 33)\n",
      "Dimensions of U2R: (9778, 33)\n"
     ]
    }
   ],
   "source": [
    "to_drop_DoS = [2,3,4]\n",
    "to_drop_Probe = [1,3,4]\n",
    "to_drop_R2L = [1,2,4]\n",
    "to_drop_U2R = [1,2,3]\n",
    "\n",
    "# Training Set\n",
    "DoS_df = df_train[~df_train['label'].isin(to_drop_DoS)];\n",
    "Probe_df = df_train[~df_train['label'].isin(to_drop_Probe)];\n",
    "R2L_df = df_train[~df_train['label'].isin(to_drop_R2L)];\n",
    "U2R_df = df_train[~df_train['label'].isin(to_drop_U2R)];\n",
    "\n",
    "# Test Set\n",
    "DoS_df_test = df_test[~df_test['label'].isin(to_drop_DoS)];\n",
    "Probe_df_test = df_test[~df_test['label'].isin(to_drop_Probe)];\n",
    "R2L_df_test = df_test[~df_test['label'].isin(to_drop_R2L)];\n",
    "U2R_df_test = df_test[~df_test['label'].isin(to_drop_U2R)];\n",
    "print('Train:')\n",
    "print('Dimensions of DoS:' ,DoS_df.shape)\n",
    "print('Dimensions of Probe:' ,Probe_df.shape)\n",
    "print('Dimensions of R2L:' ,R2L_df.shape)\n",
    "print('Dimensions of U2R:' ,U2R_df.shape)\n",
    "print('Test:')\n",
    "print('Dimensions of DoS:' ,DoS_df_test.shape)\n",
    "print('Dimensions of Probe:' ,Probe_df_test.shape)\n",
    "print('Dimensions of R2L:' ,R2L_df_test.shape)\n",
    "print('Dimensions of U2R:' ,U2R_df_test.shape)"
   ]
  },
  {
   "cell_type": "markdown",
   "id": "c596e438",
   "metadata": {},
   "source": [
    "## Daten Standartisieren und fuer das Modelltraining vorbereiten\n",
    "\n",
    "Hier nutzen wir einen MinMaxScaler, um unsere Daten in eine Standartisierte Form zu bringen. Weiterhin teilen wir die Daten in X und Y auf. Wobei X für alle Daten ohne Label steht und Y für die dazugehörigen Label."
   ]
  },
  {
   "cell_type": "code",
   "execution_count": 31,
   "id": "a6c175b4",
   "metadata": {},
   "outputs": [],
   "source": [
    "# Training Set\n",
    "X_train = df_train.drop(columns='label')\n",
    "Y_train = df_train.label\n",
    "\n",
    "X_DoS = DoS_df.drop(columns='label')\n",
    "Y_DoS = DoS_df.label\n",
    "\n",
    "X_Probe = Probe_df.drop(columns='label')\n",
    "Y_Probe = Probe_df.label\n",
    "\n",
    "X_R2L = R2L_df.drop(columns='label')\n",
    "Y_R2L = R2L_df.label\n",
    "\n",
    "X_U2R = U2R_df.drop(columns='label')\n",
    "Y_U2R = U2R_df.label\n",
    "\n",
    "# Test Set\n",
    "X_test = df_test.drop(columns='label')\n",
    "Y_test = df_test.label\n",
    "\n",
    "X_DoS_test = DoS_df_test.drop(columns='label')\n",
    "Y_DoS_test = DoS_df_test.label\n",
    "\n",
    "X_Probe_test = Probe_df_test.drop(columns='label')\n",
    "Y_Probe_test = Probe_df_test.label\n",
    "\n",
    "X_R2L_test = R2L_df_test.drop(columns='label')\n",
    "Y_R2L_test = R2L_df_test.label\n",
    "\n",
    "X_U2R_test = U2R_df_test.drop(columns='label')\n",
    "Y_U2R_test = U2R_df_test.label"
   ]
  },
  {
   "cell_type": "code",
   "execution_count": 32,
   "id": "c6df65f8",
   "metadata": {},
   "outputs": [],
   "source": [
    "colNames = list(X_DoS)\n",
    "colNames_test = list(X_DoS)"
   ]
  },
  {
   "cell_type": "code",
   "execution_count": 33,
   "id": "1a518661",
   "metadata": {},
   "outputs": [],
   "source": [
    "from sklearn.preprocessing import MinMaxScaler\n",
    "\n",
    "scaler = MinMaxScaler().fit(X_test)\n",
    "X_test = scaler.transform(X_test)\n",
    "\n",
    "scaler_dos = MinMaxScaler().fit(X_DoS)\n",
    "X_DoS = scaler_dos.transform(X_DoS)\n",
    "\n",
    "scaler_probe = MinMaxScaler().fit(X_Probe)\n",
    "X_Probe = scaler_probe.transform(X_Probe)\n",
    "\n",
    "scaler_r2l = MinMaxScaler().fit(X_R2L)\n",
    "X_R2L = scaler_r2l.transform(X_R2L)\n",
    "\n",
    "scaler_u2r = MinMaxScaler().fit(X_U2R)\n",
    "X_U2R = scaler_u2r.transform(X_U2R)\n",
    "\n",
    "# Testset\n",
    "scaler_t = MinMaxScaler().fit(X_train)\n",
    "X_train = scaler_t.transform(X_train)\n",
    "\n",
    "scaler_dos_test = MinMaxScaler().fit(X_DoS_test)\n",
    "X_DoS_test = scaler_dos_test.transform(X_DoS_test)\n",
    "\n",
    "scaler_probe_test = MinMaxScaler().fit(X_Probe_test)\n",
    "X_Probe_test = scaler_probe_test.transform(X_Probe_test)\n",
    "\n",
    "scaler_r2l_test = MinMaxScaler().fit(X_R2L_test)\n",
    "X_R2L_test = scaler_r2l_test.transform(X_R2L_test)\n",
    "\n",
    "scaler_u2r_test = MinMaxScaler().fit(X_U2R_test)\n",
    "X_U2R_test = scaler_u2r_test.transform(X_U2R_test)"
   ]
  },
  {
   "cell_type": "markdown",
   "id": "0d62997f",
   "metadata": {},
   "source": [
    "## Model creation and Evaluation with complete Data"
   ]
  },
  {
   "cell_type": "markdown",
   "id": "c20909cf",
   "metadata": {},
   "source": [
    "Nach der Datenaufbereitung und Standartisierung haben wir nun 32 Features mit denen wir unsere 4 verschiedenen Modelle trainieren können:"
   ]
  },
  {
   "cell_type": "markdown",
   "id": "5ffa5918",
   "metadata": {},
   "source": [
    "- Random Forest\n",
    "- Descision Tree\n",
    "- Support Vector Machine\n",
    "- Naive Bayes"
   ]
  },
  {
   "cell_type": "markdown",
   "id": "fddf3459",
   "metadata": {},
   "source": [
    "Daraufhin könenn wir die trainierten Modelle mit unseren Trainingsdaten auswerten."
   ]
  },
  {
   "cell_type": "code",
   "execution_count": 34,
   "id": "b6095ce4",
   "metadata": {},
   "outputs": [],
   "source": [
    "clf1 = DecisionTreeClassifier(random_state=0)\n",
    "clf2 = RandomForestClassifier(random_state=40,n_estimators=300,n_jobs=-1)\n",
    "clf3 = BernoulliNB()\n",
    "clf4 = LinearSVC(random_state=0)\n",
    "clf1.fit(X_train, Y_train)\n",
    "clf2.fit(X_train, Y_train)\n",
    "clf3.fit(X_train, Y_train)\n",
    "clf4.fit(X_train, Y_train)\n",
    "accDT = clf1.score(X_test, Y_test)\n",
    "accRF = clf2.score(X_test, Y_test)\n",
    "accNB = clf3.score(X_test, Y_test)\n",
    "accLR = clf4.score(X_test, Y_test)"
   ]
  },
  {
   "cell_type": "code",
   "execution_count": 35,
   "id": "223c7a04",
   "metadata": {},
   "outputs": [
    {
     "data": {
      "image/png": "[encoded data removed]",
      "text/plain": [
       "<Figure size 1080x720 with 1 Axes>"
      ]
     },
     "metadata": {
      "needs_background": "light"
     },
     "output_type": "display_data"
    }
   ],
   "source": [
    "def addlabels(x,y):\n",
    "    for i in range(len(x)):\n",
    "        plt.text(i, y[i]+2, round(y[i],2), ha = 'center')\n",
    "names=['Naive Bayes','SVM','Decision Tree','Random Forest']\n",
    "AccuracyScore=[accNB*100,accLR*100,accDT*100,accRF*100]\n",
    "plt.figure(figsize=(15,10))\n",
    "plt.bar(names,AccuracyScore,0.4,color=['#211105','#48660C','magenta','#5016B1','brown'])\n",
    "addlabels(names, AccuracyScore)\n",
    "plt.title(\"ACCURACY SCORE \")\n",
    "plt.xlabel(\"Machine Learning Algortithms\")\n",
    "plt.ylabel(\"Accuracy Score\")\n",
    "# plt.legend(names)\n",
    "plt.savefig(\"artefacts/Accuracy Complete\",dpi=500)"
   ]
  },
  {
   "cell_type": "markdown",
   "id": "39226b6d",
   "metadata": {},
   "source": [
    "Im obigen Graph lassen sich die Genauigkeiten der Vorhersagen auf den Trainingsdaten für alle Modelle auslesen. \n",
    "Random Forest macht hierbei mit knapp 87% die besten Vorhersagen. Im Anschluss haben wir das Descision Tree Model mit \n",
    "knapp 81% und das SVM Modell mit fast 78%. Am schlechtesten hat das Naive Bayes Model abgeschnitten mit nur gut 72%.\n",
    "\n",
    "Im Anschluss wollen wir sehen, ob wir mit Feature Selection, oder mit dem Ausgleich unserer unausgeglichenen Daten unsere \n",
    "Ergebnisse verbessern können."
   ]
  },
  {
   "cell_type": "markdown",
   "id": "c7d2fab8",
   "metadata": {},
   "source": [
    "### Anwenden von Smote"
   ]
  },
  {
   "cell_type": "markdown",
   "id": "c97aeebf",
   "metadata": {},
   "source": [
    "Wir man in der folgenden Grafik sehen kann, sind die Daten sehr unausgeglichen, unteranderem haben wir für die vierte Klasse an Angriffen den U2R Angriffen nur 82 Dateneinträge, im Gegensatz dazu haben wir über 67 000 normale Einträge. Aus diesem Grund probieren die Smote Methode aus, welche neue Datensätze generiert im gelichen Verhältniss, in dem sie vorher waren innerhalb der Kategorieren.\n",
    "Hierdurch lassen sich alle 4 Angriffskategorieren auf die gleiche Anzahl an Einträgen erhöhen, in unserem 67 343 Einträge pro Kategorie."
   ]
  },
  {
   "cell_type": "code",
   "execution_count": 36,
   "id": "57c5a2a0",
   "metadata": {},
   "outputs": [
    {
     "name": "stdout",
     "output_type": "stream",
     "text": [
      "Class=0, n=67343 (51.913%)\n",
      "Class=1, n=47646 (36.729%)\n",
      "Class=3, n=1681 (1.296%)\n",
      "Class=2, n=12971 (9.999%)\n",
      "Class=4, n=82 (0.063%)\n"
     ]
    },
    {
     "data": {
      "image/png": "[encoded data removed]",
      "text/plain": [
       "<Figure size 432x288 with 1 Axes>"
      ]
     },
     "metadata": {
      "needs_background": "light"
     },
     "output_type": "display_data"
    },
    {
     "data": {
      "text/plain": [
       "<Figure size 432x288 with 0 Axes>"
      ]
     },
     "metadata": {},
     "output_type": "display_data"
    }
   ],
   "source": [
    "from collections import Counter\n",
    "df_train_data=df_train.values\n",
    "X_before, y_before = df_train_data[:, :-1], df_train_data[:, -1]\n",
    "counter = Counter(y_before)\n",
    "for k,v in counter.items():\n",
    "\tper = v / len(y_before) * 100\n",
    "\tprint('Class=%d, n=%d (%.3f%%)' % (k, v, per))\n",
    "# plot the distribution\n",
    "plt.bar(counter.keys(), counter.values(),color=\"#7E0F32\")\n",
    "\n",
    "plt.show()\n",
    "plt.savefig(\"artefacts/Label distribution\",dpi=500)"
   ]
  },
  {
   "cell_type": "code",
   "execution_count": 37,
   "id": "db290475",
   "metadata": {},
   "outputs": [],
   "source": [
    "df_train_x=pd.DataFrame(X_train,columns=colNames)\n",
    "df_test_x=pd.DataFrame(X_train,columns=colNames)\n",
    "\n",
    "cols=df_train_x.columns.tolist()\n",
    "train_x=df_train_x[cols]\n",
    "train_y=Y_train"
   ]
  },
  {
   "cell_type": "code",
   "execution_count": 38,
   "id": "231f6442",
   "metadata": {},
   "outputs": [],
   "source": [
    "from imblearn.over_sampling import SMOTE\n",
    "\n",
    "df_train_data=df_train.values\n",
    "X_before, y_before = df_train_data[:, :-1], df_train_data[:, -1]\n",
    "\n",
    "label_list=train_y.tolist()\n",
    "train_x['label']=label_list\n",
    "\n",
    "data = train_x.values\n",
    "\n",
    "X, y = data[:, :-1], data[:, -1]\n",
    "\n",
    "oversample = SMOTE()\n",
    "X, y = oversample.fit_resample(X, y)\n",
    "\n",
    "df_train_X=pd.DataFrame(X,columns=cols)\n",
    "\n",
    "df_train_Y=pd.DataFrame(y)\n",
    "\n",
    "df_train_Y.rename(columns={0:\"label\"},inplace=True)\n",
    "\n",
    "X_train=df_train_X\n",
    "Y_train=df_train_Y"
   ]
  },
  {
   "cell_type": "code",
   "execution_count": 39,
   "id": "55fcb9ca",
   "metadata": {
    "scrolled": true
   },
   "outputs": [
    {
     "name": "stderr",
     "output_type": "stream",
     "text": [
      "/var/folders/dv/sj53dhnj19x7rg0lcfjy3l140000gq/T/ipykernel_36365/3699590337.py:6: DataConversionWarning: A column-vector y was passed when a 1d array was expected. Please change the shape of y to (n_samples,), for example using ravel().\n",
      "  clf2.fit(X_train, Y_train)\n",
      "/usr/local/lib/python3.9/site-packages/sklearn/utils/validation.py:1111: DataConversionWarning: A column-vector y was passed when a 1d array was expected. Please change the shape of y to (n_samples, ), for example using ravel().\n",
      "  y = column_or_1d(y, warn=True)\n",
      "/usr/local/lib/python3.9/site-packages/sklearn/utils/validation.py:1111: DataConversionWarning: A column-vector y was passed when a 1d array was expected. Please change the shape of y to (n_samples, ), for example using ravel().\n",
      "  y = column_or_1d(y, warn=True)\n",
      "/usr/local/lib/python3.9/site-packages/sklearn/base.py:450: UserWarning: X does not have valid feature names, but DecisionTreeClassifier was fitted with feature names\n",
      "  warnings.warn(\n",
      "/usr/local/lib/python3.9/site-packages/sklearn/base.py:450: UserWarning: X does not have valid feature names, but RandomForestClassifier was fitted with feature names\n",
      "  warnings.warn(\n",
      "/usr/local/lib/python3.9/site-packages/sklearn/base.py:450: UserWarning: X does not have valid feature names, but BernoulliNB was fitted with feature names\n",
      "  warnings.warn(\n",
      "/usr/local/lib/python3.9/site-packages/sklearn/base.py:450: UserWarning: X does not have valid feature names, but LinearSVC was fitted with feature names\n",
      "  warnings.warn(\n"
     ]
    }
   ],
   "source": [
    "clf1 = DecisionTreeClassifier(random_state=0)\n",
    "clf2 = RandomForestClassifier(random_state=40,n_estimators=300,n_jobs=-1)\n",
    "clf3 = BernoulliNB()\n",
    "clf4 = LinearSVC(random_state=0)\n",
    "clf1.fit(X_train, Y_train)\n",
    "clf2.fit(X_train, Y_train)\n",
    "clf3.fit(X_train, Y_train)\n",
    "clf4.fit(X_train, Y_train)\n",
    "accDT = clf1.score(X_test, Y_test)\n",
    "accRF = clf2.score(X_test, Y_test)\n",
    "accNB = clf3.score(X_test, Y_test)\n",
    "accLR = clf4.score(X_test, Y_test)"
   ]
  },
  {
   "cell_type": "code",
   "execution_count": 40,
   "id": "0efa7263",
   "metadata": {},
   "outputs": [
    {
     "data": {
      "image/png": "[encoded data removed]",
      "text/plain": [
       "<Figure size 1080x720 with 1 Axes>"
      ]
     },
     "metadata": {
      "needs_background": "light"
     },
     "output_type": "display_data"
    }
   ],
   "source": [
    "def addlabels(x,y):\n",
    "    for i in range(len(x)):\n",
    "        plt.text(i, y[i]+2, round(y[i],2), ha = 'center')\n",
    "names=['Naive Bayes','SVM','Decision Tree','Random Forest']\n",
    "AccuracyScore=[accNB*100,accLR*100,accDT*100,accRF*100]\n",
    "plt.figure(figsize=(15,10))\n",
    "plt.bar(names,AccuracyScore,0.4,color=['#211105','#48660C','magenta','#5016B1','brown'])\n",
    "addlabels(names, AccuracyScore)\n",
    "plt.title(\"ACCURACY SCORE \")\n",
    "plt.xlabel(\"Machine Learning Algortithms\")\n",
    "plt.ylabel(\"Accuracy Score\")\n",
    "# plt.legend(names)\n",
    "plt.savefig(\"artefacts/Accuracy Complete Smote\",dpi=500)"
   ]
  },
  {
   "cell_type": "markdown",
   "id": "e062751d",
   "metadata": {},
   "source": [
    "Hier sehen wir nun, dass die Genauigkeiten der Vorhersagen auf den Trainingsdaten sich verändert haben.  \n",
    "Zum einen hat sich Random Forest um etwas mehr als 1% verbessert.  \n",
    "Ebenfalls hat sich SVM um ca. 1% verbessert.  \n",
    "Naive Bayes hat sich um ganze 5% verbessert.  \n",
    "Decision Tree konnte sich hier nur trivial verbessern."
   ]
  },
  {
   "cell_type": "markdown",
   "id": "f4feba30",
   "metadata": {},
   "source": [
    "### Feature Selection"
   ]
  },
  {
   "cell_type": "markdown",
   "id": "22e75873",
   "metadata": {},
   "source": [
    "Unsere Trainingsdaten umfassen 32 Features. Mittels der Feature Selection und KBestSelection Methode, können wir uns die \n",
    "Aussagekraft der einzelnen Features ausgeben lassen und somit Entscheidungen treffen darüber welche Features relevant für das \n",
    "trainieren unserer Modell sind und welche wir auslassen können um gegebenen falls Trainingszeit zu sparen oder unsere \n",
    "Ergebnisse der Genauigkeit zu verbessern. In der Grafik unten weist die kBestSelection jedem Feature einen Wert zu, \n",
    "der dessen Aussagekraft darstellt. Anhand dieser Ergebnisse kann man schon erkennen, dass einige Features keinerlei Relevanz \n",
    "für unsere Modelle haben werdem."
   ]
  },
  {
   "cell_type": "code",
   "execution_count": 41,
   "id": "097d79dd",
   "metadata": {},
   "outputs": [
    {
     "data": {
      "image/png": "[encoded data removed]",
      "text/plain": [
       "<Figure size 720x720 with 1 Axes>"
      ]
     },
     "metadata": {
      "needs_background": "light"
     },
     "output_type": "display_data"
    }
   ],
   "source": [
    "from sklearn.feature_selection import SelectKBest\n",
    "from sklearn.feature_selection import chi2\n",
    "from sklearn.feature_selection import mutual_info_classif\n",
    "features = SelectKBest(score_func=chi2, k=X_train.shape[1])\n",
    "\n",
    "#fit features to the training dataset\n",
    "fit = features.fit(X_train, Y_train)\n",
    "# plot the score associated with each feature\n",
    "plt.figure(figsize=(10,10))\n",
    "plt.bar([i for i in range(len(features.scores_))], features.scores_,color='#0BD75C')\n",
    "plt.xticks([i for i in range(len(features.scores_))], df_train.drop(columns='label').columns)\n",
    "plt.xticks(rotation=90)\n",
    "plt.tight_layout()\n",
    "\n",
    "plt.savefig('artefacts/features', dpi=500)\n"
   ]
  },
  {
   "cell_type": "code",
   "execution_count": 42,
   "id": "8f6dcc08",
   "metadata": {},
   "outputs": [
    {
     "data": {
      "image/png": "[encoded data removed]",
      "text/plain": [
       "<Figure size 720x720 with 1 Axes>"
      ]
     },
     "metadata": {
      "needs_background": "light"
     },
     "output_type": "display_data"
    }
   ],
   "source": [
    "plt.figure(figsize=(10,10))\n",
    "feature_importances = zip(df_train.drop(columns='label').columns, features.scores_)\n",
    "feature_importances = sorted(feature_importances, key = lambda x: x[1], reverse = True)\n",
    "sorted_importances = [importance[1] for importance in feature_importances]\n",
    "sorted_features = [importance[0] for importance in feature_importances]\n",
    "\n",
    "x_values = list(range(len(feature_importances)))\n",
    "\n",
    "cumulative_importances = np.cumsum(sorted_importances)\n",
    "plt.plot(x_values, cumulative_importances,color='#A2EC0D')\n",
    "\n",
    "value99 = cumulative_importances[-1]*0.99\n",
    "\n",
    "plt.hlines(y = value99, xmin=0, xmax=len(sorted_importances), color = 'r', linestyles = 'dashed')\n",
    "plt.xticks(x_values, sorted_features, rotation = 'vertical',)\n",
    "plt.yticks([], [])\n",
    "plt.xlabel('Feature Variable', fontsize=8)\n",
    "plt.title('A Chart to Show Cumulative Feature Scores')\n",
    "\n",
    "plt.tight_layout()\n",
    "plt.savefig('artefacts/cumulative_features', dpi=500)"
   ]
  },
  {
   "cell_type": "markdown",
   "id": "5e98d91a",
   "metadata": {},
   "source": [
    "Um die Daten besser bewerten zu können, sortieren wir die Features nach ihren k Werten aus der kBestSelection. In der Grafik \n",
    "oben werden die aufkummulierten Werte dargsetellt und es lässt sich erkennen, dass nach 25 Features die 99% Marke erreicht ist.\n",
    "Und die restlichen Features nicht mehr viel zum Endergebniss beitragen. Was bedeutet wir berechnen unsere Modelle neu, indem\n",
    "wir nur die 25 besten Features betrachten, welche für den gesamten Datensatz folgende sind:"
   ]
  },
  {
   "cell_type": "code",
   "execution_count": 43,
   "id": "e72f168c",
   "metadata": {},
   "outputs": [],
   "source": [
    "selector = SelectKBest(score_func=chi2, k=25)\n",
    "\n",
    "df_X_Train = pd.DataFrame(X_train, columns=colNames)\n",
    "df_X_test = pd.DataFrame(X_test, columns=colNames)\n",
    "fit = selector.fit(X_train, Y_train)\n",
    "X_train = fit.transform(X_train)\n",
    "new_features = df_X_Train.columns[selector.get_support(indices=True)]\n",
    "\n",
    "df_train_model=df_X_Train[new_features]\n",
    "df_test_model=df_X_test[new_features]\n",
    "\n",
    "X_train=df_train_model\n",
    "X_test=df_test_model\n",
    "\n",
    "scaler = MinMaxScaler().fit(X_test)\n",
    "X_test = scaler.transform(X_test)\n",
    "scaler_t = MinMaxScaler().fit(X_train)\n",
    "X_train = scaler_t.transform(X_train)"
   ]
  },
  {
   "cell_type": "code",
   "execution_count": 44,
   "id": "fffa261e",
   "metadata": {
    "scrolled": true
   },
   "outputs": [
    {
     "data": {
      "text/plain": [
       "Index(['duration', 'protocol_type', 'service', 'flag', 'wrong_fragment',\n",
       "       'urgent', 'hot', 'logged_in', 'root_shell', 'num_file_creations',\n",
       "       'num_shells', 'is_host_login', 'is_guest_login', 'count', 'srv_count',\n",
       "       'serror_rate', 'rerror_rate', 'same_srv_rate', 'diff_srv_rate',\n",
       "       'srv_diff_host_rate', 'dst_host_count', 'dst_host_srv_count',\n",
       "       'dst_host_diff_srv_rate', 'dst_host_same_src_port_rate',\n",
       "       'dst_host_srv_diff_host_rate'],\n",
       "      dtype='object')"
      ]
     },
     "execution_count": 44,
     "metadata": {},
     "output_type": "execute_result"
    }
   ],
   "source": [
    "new_features"
   ]
  },
  {
   "cell_type": "code",
   "execution_count": 45,
   "id": "844d2366",
   "metadata": {},
   "outputs": [
    {
     "data": {
      "text/plain": [
       "(336715, 25)"
      ]
     },
     "execution_count": 45,
     "metadata": {},
     "output_type": "execute_result"
    }
   ],
   "source": [
    "X_train.shape"
   ]
  },
  {
   "cell_type": "code",
   "execution_count": 46,
   "id": "bee2e6dd",
   "metadata": {},
   "outputs": [
    {
     "name": "stderr",
     "output_type": "stream",
     "text": [
      "/var/folders/dv/sj53dhnj19x7rg0lcfjy3l140000gq/T/ipykernel_36365/3699590337.py:6: DataConversionWarning: A column-vector y was passed when a 1d array was expected. Please change the shape of y to (n_samples,), for example using ravel().\n",
      "  clf2.fit(X_train, Y_train)\n",
      "/usr/local/lib/python3.9/site-packages/sklearn/utils/validation.py:1111: DataConversionWarning: A column-vector y was passed when a 1d array was expected. Please change the shape of y to (n_samples, ), for example using ravel().\n",
      "  y = column_or_1d(y, warn=True)\n",
      "/usr/local/lib/python3.9/site-packages/sklearn/utils/validation.py:1111: DataConversionWarning: A column-vector y was passed when a 1d array was expected. Please change the shape of y to (n_samples, ), for example using ravel().\n",
      "  y = column_or_1d(y, warn=True)\n"
     ]
    }
   ],
   "source": [
    "clf1 = DecisionTreeClassifier(random_state=0)\n",
    "clf2 = RandomForestClassifier(random_state=40,n_estimators=300,n_jobs=-1)\n",
    "clf3 = BernoulliNB()\n",
    "clf4 = LinearSVC(random_state=0)\n",
    "clf1.fit(X_train, Y_train)\n",
    "clf2.fit(X_train, Y_train)\n",
    "clf3.fit(X_train, Y_train)\n",
    "clf4.fit(X_train, Y_train)\n",
    "accDT = clf1.score(X_test, Y_test)\n",
    "accRF = clf2.score(X_test, Y_test)\n",
    "accNB = clf3.score(X_test, Y_test)\n",
    "accLR = clf4.score(X_test, Y_test)"
   ]
  },
  {
   "cell_type": "code",
   "execution_count": 47,
   "id": "95936ce0",
   "metadata": {},
   "outputs": [
    {
     "data": {
      "image/png": "[encoded data removed]",
      "text/plain": [
       "<Figure size 1080x720 with 1 Axes>"
      ]
     },
     "metadata": {
      "needs_background": "light"
     },
     "output_type": "display_data"
    }
   ],
   "source": [
    "def addlabels(x,y):\n",
    "    for i in range(len(x)):\n",
    "        plt.text(i, y[i]+2, round(y[i],2), ha = 'center')\n",
    "names=['Naive Bayes','SVM','Decision Tree','Random Forest']\n",
    "AccuracyScore=[accNB*100,accLR*100,accDT*100,accRF*100]\n",
    "plt.figure(figsize=(15,10))\n",
    "plt.bar(names,AccuracyScore,0.4,color=['#211105','#48660C','magenta','#5016B1','brown'])\n",
    "addlabels(names, AccuracyScore)\n",
    "plt.title(\"ACCURACY SCORE \")\n",
    "plt.xlabel(\"Machine Learning Algortithms\")\n",
    "plt.ylabel(\"Accuracy Score\")\n",
    "# plt.legend(names)\n",
    "plt.savefig(\"artefacts/Accuracy Complete FS\",dpi=500)"
   ]
  },
  {
   "cell_type": "markdown",
   "id": "a5a48c11",
   "metadata": {},
   "source": [
    "Hier sehen wir nun, dass die Genauigkeiten der Vorhersagen auf den Trainingsdaten sich verändert haben.  \n",
    "Zum einen hat sich Random Forest um etwas mehr als 1.5% verschlechtert.  \n",
    "Ebenfalls hat sich SVM hat sich um 1% verschlechtert.  \n",
    "Naive Bayes hat sich um ganze 7% verschlechtert.  \n",
    "Decision Tree konnte sich um fast 4% verbessern."
   ]
  },
  {
   "cell_type": "markdown",
   "id": "5be574aa",
   "metadata": {},
   "source": [
    "### Fazit\n",
    "\n",
    "Mit den reinen Daten konnten wir schon relative gute Ergebnisse erzielen und diese durch anwenden der SMOTE Methode nochmal verbessern. Das Nutzen von Feature Selection hat die Ergebnisse eher verschlechtert und ist damit für diesen Datensatz nicht sinnvoll."
   ]
  },
  {
   "cell_type": "markdown",
   "id": "60019525",
   "metadata": {},
   "source": [
    "## Model creation and Evaluation with split Data\n",
    "\n",
    "Nachdem wir nun gesehen haben wie Angriffe generell erkannt werden können. Probieren wir nun auch herauszufinden aus welcher Kategorie diese Angriffe stammen und trainieren hiefür neue Modelle auf den vier Angriffskategorien. Hierbei benutzen wir ebenfalls die ML Modelarten aus dem vorherigen Kapitel."
   ]
  },
  {
   "cell_type": "markdown",
   "id": "3129a7ae",
   "metadata": {},
   "source": [
    "### Decision Tree"
   ]
  },
  {
   "cell_type": "code",
   "execution_count": 48,
   "id": "24837f4e",
   "metadata": {},
   "outputs": [
    {
     "name": "stdout",
     "output_type": "stream",
     "text": [
      "Classifier trained in 0.992 seconds.\n"
     ]
    }
   ],
   "source": [
    "clf1 = DecisionTreeClassifier(random_state=0)\n",
    "clf2 = DecisionTreeClassifier(random_state=0)\n",
    "clf3 = DecisionTreeClassifier(random_state=0)\n",
    "clf4 = DecisionTreeClassifier(random_state=0)\n",
    "t = time()\n",
    "clf1.fit(X_DoS, Y_DoS)\n",
    "clf2.fit(X_Probe, Y_Probe)\n",
    "clf3.fit(X_R2L, Y_R2L)\n",
    "clf4.fit(X_U2R, Y_U2R)\n",
    "tt1 = time() - t\n",
    "print(\"Classifier trained in {} seconds.\".format(round(tt1, 3)))"
   ]
  },
  {
   "cell_type": "code",
   "execution_count": 49,
   "id": "39bfaade",
   "metadata": {},
   "outputs": [],
   "source": [
    "predDT1 = clf1.predict(X_DoS_test)\n",
    "predDT2 = clf2.predict(X_Probe_test)\n",
    "predDT3 = clf3.predict(X_R2L_test)\n",
    "predDT4 = clf4.predict(X_U2R_test)"
   ]
  },
  {
   "cell_type": "code",
   "execution_count": 50,
   "id": "daeeced4",
   "metadata": {},
   "outputs": [
    {
     "name": "stdout",
     "output_type": "stream",
     "text": [
      "Accuracy is 0.9617.\n",
      "Accuracy is 0.9074.\n",
      "Accuracy is 0.8283.\n",
      "Accuracy is 0.9946.\n"
     ]
    }
   ],
   "source": [
    "accDT1 = accuracy_score(Y_DoS_test, predDT1)\n",
    "accDT2 = accuracy_score(Y_Probe_test, predDT2)\n",
    "accDT3 = accuracy_score(Y_R2L_test, predDT3)\n",
    "accDT4 = accuracy_score(Y_U2R_test, predDT4)\n",
    "print(\"Accuracy is {}.\".format(round(accDT1, 4)))\n",
    "print(\"Accuracy is {}.\".format(round(accDT2, 4)))\n",
    "print(\"Accuracy is {}.\".format(round(accDT3, 4)))\n",
    "print(\"Accuracy is {}.\".format(round(accDT4, 4)))"
   ]
  },
  {
   "cell_type": "markdown",
   "id": "704b9d1c",
   "metadata": {},
   "source": [
    "### Random Forest"
   ]
  },
  {
   "cell_type": "code",
   "execution_count": 51,
   "id": "bd9d51e0",
   "metadata": {},
   "outputs": [
    {
     "name": "stdout",
     "output_type": "stream",
     "text": [
      "Classifier trained in 10.556 seconds.\n"
     ]
    }
   ],
   "source": [
    "clf1 = RandomForestClassifier(n_estimators=300, random_state = 40, n_jobs =-1)\n",
    "clf1 = RandomForestClassifier(random_state=40,n_estimators=300,n_jobs=-1)\n",
    "clf2 = RandomForestClassifier(random_state=40,n_estimators=300,n_jobs=-1)\n",
    "clf3 = RandomForestClassifier(random_state=40,n_estimators=300,n_jobs=-1)\n",
    "clf4 = RandomForestClassifier(random_state=40,n_estimators=300,n_jobs=-1)\n",
    "t = time()\n",
    "clf1.fit(X_DoS, Y_DoS)\n",
    "clf2.fit(X_Probe, Y_Probe)\n",
    "clf3.fit(X_R2L, Y_R2L)\n",
    "clf4.fit(X_U2R, Y_U2R)\n",
    "tt1 = time() - t\n",
    "print(\"Classifier trained in {} seconds.\".format(round(tt1, 3)))"
   ]
  },
  {
   "cell_type": "code",
   "execution_count": 52,
   "id": "47b84086",
   "metadata": {},
   "outputs": [
    {
     "name": "stdout",
     "output_type": "stream",
     "text": [
      "Predicted in 0.298 seconds\n",
      "[1 1 0 ... 0 1 0]\n"
     ]
    }
   ],
   "source": [
    "t0 = time()\n",
    "predRF1 = clf1.predict(X_DoS_test)\n",
    "predRF2 = clf2.predict(X_Probe_test)\n",
    "predRF3 = clf3.predict(X_R2L_test)\n",
    "predRF4 = clf4.predict(X_U2R_test)\n",
    "\n",
    "tt22 = time() - t0\n",
    "print(\"Predicted in {} seconds\".format(round(tt22, 3)))\n",
    "print(predRF1)"
   ]
  },
  {
   "cell_type": "code",
   "execution_count": 53,
   "id": "283ae0b1",
   "metadata": {},
   "outputs": [
    {
     "name": "stdout",
     "output_type": "stream",
     "text": [
      "Accuracy is 0.9303.\n",
      "Accuracy is 0.9733.\n",
      "Accuracy is 0.8199.\n",
      "Accuracy is 0.9954.\n"
     ]
    }
   ],
   "source": [
    "accRF1 = accuracy_score(Y_DoS_test, predRF1)\n",
    "accRF2 = accuracy_score(Y_Probe_test, predRF2)\n",
    "accRF3 = accuracy_score(Y_R2L_test, predRF3)\n",
    "accRF4 = accuracy_score(Y_U2R_test, predRF4)\n",
    "print(\"Accuracy is {}.\".format(round(accRF1, 4)))\n",
    "print(\"Accuracy is {}.\".format(round(accRF2, 4)))\n",
    "print(\"Accuracy is {}.\".format(round(accRF3, 4)))\n",
    "print(\"Accuracy is {}.\".format(round(accRF4, 4)))"
   ]
  },
  {
   "cell_type": "markdown",
   "id": "23dd5418",
   "metadata": {},
   "source": [
    "### Naive Bayes"
   ]
  },
  {
   "cell_type": "code",
   "execution_count": 54,
   "id": "01c2edd1",
   "metadata": {},
   "outputs": [
    {
     "name": "stdout",
     "output_type": "stream",
     "text": [
      "Classifier trained in 0.147 seconds.\n"
     ]
    }
   ],
   "source": [
    "clf1 = BernoulliNB()\n",
    "clf2 = BernoulliNB()\n",
    "clf3 = BernoulliNB()\n",
    "clf4 = BernoulliNB()\n",
    "t0 = time()\n",
    "clf1.fit(X_DoS, Y_DoS)\n",
    "clf2.fit(X_Probe, Y_Probe)\n",
    "clf3.fit(X_R2L, Y_R2L)\n",
    "clf4.fit(X_U2R, Y_U2R)\n",
    "tt3 = time() - t0\n",
    "print(\"Classifier trained in {} seconds.\".format(round(tt3, 3)))"
   ]
  },
  {
   "cell_type": "code",
   "execution_count": 55,
   "id": "30256a6b",
   "metadata": {},
   "outputs": [],
   "source": [
    "predDT1 = clf1.predict(X_DoS_test)\n",
    "predDT2 = clf2.predict(X_Probe_test)\n",
    "predDT3 = clf3.predict(X_R2L_test)\n",
    "predDT4 = clf4.predict(X_U2R_test)"
   ]
  },
  {
   "cell_type": "code",
   "execution_count": 56,
   "id": "38172bb5",
   "metadata": {},
   "outputs": [
    {
     "name": "stdout",
     "output_type": "stream",
     "text": [
      "Accuracy is 0.8557.\n",
      "Accuracy is 0.938.\n",
      "Accuracy is 0.8241.\n",
      "Accuracy is 0.9965.\n"
     ]
    }
   ],
   "source": [
    "accNB1 = accuracy_score(Y_DoS_test, predDT1)\n",
    "accNB2 = accuracy_score(Y_Probe_test, predDT2)\n",
    "accNB3 = accuracy_score(Y_R2L_test, predDT3)\n",
    "accNB4 = accuracy_score(Y_U2R_test, predDT4)\n",
    "print(\"Accuracy is {}.\".format(round(accNB1, 4)))\n",
    "print(\"Accuracy is {}.\".format(round(accNB2, 4)))\n",
    "print(\"Accuracy is {}.\".format(round(accNB3, 4)))\n",
    "print(\"Accuracy is {}.\".format(round(accNB4, 4)))\n"
   ]
  },
  {
   "cell_type": "markdown",
   "id": "26d21de6",
   "metadata": {},
   "source": [
    "#### SVM"
   ]
  },
  {
   "cell_type": "code",
   "execution_count": 57,
   "id": "880c58f4",
   "metadata": {},
   "outputs": [
    {
     "name": "stdout",
     "output_type": "stream",
     "text": [
      "Classifier trained in 3.412 seconds.\n"
     ]
    }
   ],
   "source": [
    "clf1= LinearSVC(random_state=0)\n",
    "clf2= LinearSVC(random_state=0)\n",
    "clf3= LinearSVC(random_state=0)\n",
    "clf4= LinearSVC(random_state=0)\n",
    "t0 = time()\n",
    "clf1.fit(X_DoS, Y_DoS)\n",
    "clf2.fit(X_Probe, Y_Probe)\n",
    "clf3.fit(X_R2L, Y_R2L)\n",
    "clf4.fit(X_U2R, Y_U2R)\n",
    "tt5 = time() - t0\n",
    "print(\"Classifier trained in {} seconds.\".format(round(tt5, 3)))"
   ]
  },
  {
   "cell_type": "code",
   "execution_count": 58,
   "id": "97bef7fb",
   "metadata": {},
   "outputs": [],
   "source": [
    "predSVM1 = clf1.predict(X_DoS_test)\n",
    "predSVM2 = clf2.predict(X_Probe_test)\n",
    "predSVM3 = clf3.predict(X_R2L_test)\n",
    "predSVM4 = clf4.predict(X_U2R_test)"
   ]
  },
  {
   "cell_type": "code",
   "execution_count": 59,
   "id": "e7a95e9c",
   "metadata": {},
   "outputs": [
    {
     "name": "stdout",
     "output_type": "stream",
     "text": [
      "Accuracy is 0.923.\n",
      "Accuracy is 0.9646.\n",
      "Accuracy is 0.7721.\n",
      "Accuracy is 0.9957.\n"
     ]
    }
   ],
   "source": [
    "accSVM1 = accuracy_score(Y_DoS_test, predSVM1)\n",
    "accSVM2 = accuracy_score(Y_Probe_test, predSVM2)\n",
    "accSVM3 = accuracy_score(Y_R2L_test, predSVM3)\n",
    "accSVM4 = accuracy_score(Y_U2R_test, predSVM4)\n",
    "print(\"Accuracy is {}.\".format(round(accSVM1, 4)))\n",
    "print(\"Accuracy is {}.\".format(round(accSVM2, 4)))\n",
    "print(\"Accuracy is {}.\".format(round(accSVM3, 4)))\n",
    "print(\"Accuracy is {}.\".format(round(accSVM4, 4)))"
   ]
  },
  {
   "cell_type": "code",
   "execution_count": 60,
   "id": "8cf3b94e",
   "metadata": {
    "scrolled": false
   },
   "outputs": [
    {
     "data": {
      "image/png": "[encoded data removed]",
      "text/plain": [
       "<Figure size 1080x720 with 1 Axes>"
      ]
     },
     "metadata": {
      "needs_background": "light"
     },
     "output_type": "display_data"
    }
   ],
   "source": [
    "def addlabels(x,y):\n",
    "    for i in range(len(x)):\n",
    "        plt.text(i-0.4, y[i]+1, round(y[i],2), ha = 'center')\n",
    "def addlabels2(x,y):\n",
    "    for i in range(len(x)):\n",
    "        plt.text(i-0.2, y[i]+1, round(y[i],2), ha = 'center')\n",
    "def addlabels3(x,y):\n",
    "    for i in range(len(x)):\n",
    "        plt.text(i, y[i]+1, round(y[i],2), ha = 'center')\n",
    "def addlabels4(x,y):\n",
    "    for i in range(len(x)):\n",
    "        plt.text(i+0.2, y[i]+1, round(y[i],2), ha = 'center')\n",
    "\n",
    "names=['Naive Bayes','SVM','Decision Tree','Random Forest']\n",
    "AccuracyScore1=[accNB1*100,accSVM1*100,accDT1*100,accRF1*100]\n",
    "AccuracyScore2=[accNB2*100,accSVM2*100,accDT2*100,accRF2*100]\n",
    "AccuracyScore3=[accNB3*100,accSVM3*100,accDT3*100,accRF3*100]\n",
    "AccuracyScore4=[accNB4*100,accSVM4*100,accDT4*100,accRF4*100]\n",
    "plt.figure(figsize=(15,10))\n",
    "X_axis = np.arange(len(names))\n",
    "plt.bar(X_axis-0.4,AccuracyScore1,0.2,color='#853F5C')\n",
    "plt.bar(X_axis-0.2,AccuracyScore2,0.2,color='#211105')\n",
    "plt.bar(X_axis, AccuracyScore3,0.2,color='#5016B1')\n",
    "plt.bar(X_axis+0.2,AccuracyScore4,0.2,color='magenta')\n",
    "addlabels(names, AccuracyScore1)\n",
    "addlabels2(names, AccuracyScore2)\n",
    "addlabels3(names, AccuracyScore3)\n",
    "addlabels4(names, AccuracyScore4)\n",
    "plt.title(\"ACCURACY SCORE\")\n",
    "plt.xlabel(\"Machine Learning Algortithms\")\n",
    "plt.ylabel(\"Accuracy Score\")\n",
    "plt.xticks(X_axis, names)\n",
    "plt.legend(['DoS','Probe', 'R2L','U2R'])\n",
    "#plt.legend(names)\n",
    "plt.savefig(\"artefacts/Accuracy \",dpi=500)"
   ]
  },
  {
   "cell_type": "markdown",
   "id": "a960f32b",
   "metadata": {},
   "source": [
    "Wir man in der Grafik sehen kann haben sich die Genauigkeiten der einzelnen Modelle im Gegensatz zu den Modellen des Kompletten Datensatzes verbessert. Wir können hier sehen, dass es mit hohen Genauigkeitne möglich zu erkennen aus welchen Kategorien die Angriffe stammen.  \n",
    "Die Ergebnisse innerhalb der Modelle sind in sich konsistent. Wie man sehen kann sind die U2R Ergebnisse mit über 99% am besten. Folgend von den Probe Datensätzen im hohen 90% Bereich. Anchließend die DoS Datensätze mit 85-96%. Und abschließend die R2L Datensätze mit 77-82%.  \n",
    "Zu erkennen ist ein Ausreißer innerhalb der Ergebnisse. Dieser bezieht sich auf den DoS Datensatz der mit Decision Tree besser abschneidet als der Probe Datensatz.  \n",
    "Die unterschiedlichen Ergebenisse der einzelnen Datensätze lassen sich durch die Einteilung der Angriffe in die vier Angriffskategorien erklären, da eine Kategorie mit weniger Angriffstypen auh weniger unterschiedliche Daten enthält."
   ]
  },
  {
   "cell_type": "markdown",
   "id": "e3e5fa5e",
   "metadata": {},
   "source": [
    "### Anwenden von Smote\n",
    "\n",
    "Wir wenden in diesem Kapitel Smote auf jeden der vier Datensätze an."
   ]
  },
  {
   "cell_type": "code",
   "execution_count": 61,
   "id": "bcd71840",
   "metadata": {},
   "outputs": [],
   "source": [
    "def doSMOTE(X_train, X_test, Y_train, train_df):\n",
    "\n",
    "    df_train_x=pd.DataFrame(X_train,columns=colNames)\n",
    "    df_test_x=pd.DataFrame(X_test,columns=colNames)\n",
    "\n",
    "    cols=df_train_x.columns.tolist()\n",
    "    train_x=df_train_x[cols]\n",
    "    train_y=Y_train\n",
    "\n",
    "    df_train_data=train_df.values\n",
    "    X_before, y_before = df_train_data[:, :-1], df_train_data[:, -1]\n",
    "\n",
    "    label_list=train_y.tolist()\n",
    "    train_x['label']=label_list\n",
    "\n",
    "    data = train_x.values\n",
    "\n",
    "    X, y = data[:, :-1], data[:, -1]\n",
    "\n",
    "    oversample = SMOTE()\n",
    "    X, y = oversample.fit_resample(X, y)\n",
    "\n",
    "    df_train_X=pd.DataFrame(X,columns=cols)\n",
    "\n",
    "\n",
    "    df_train_Y=pd.DataFrame(y)\n",
    "\n",
    "    df_train_Y.rename(columns={0:\"label\"},inplace=True)\n",
    "\n",
    "    X_train=df_train_X\n",
    "    Y_train=df_train_Y\n",
    "\n",
    "    return X_train, Y_train"
   ]
  },
  {
   "cell_type": "code",
   "execution_count": 62,
   "id": "8af803af",
   "metadata": {},
   "outputs": [],
   "source": [
    "X_train_dos, Y_train_dos = doSMOTE(X_DoS, X_DoS_test, Y_DoS, DoS_df)\n",
    "X_train_probe, Y_train_probe = doSMOTE(X_Probe, X_Probe_test, Y_Probe, Probe_df)\n",
    "X_train_R2L, Y_train_R2L = doSMOTE(X_R2L, X_R2L_test, Y_R2L, R2L_df)\n",
    "X_train_U2R, Y_train_U2R = doSMOTE(X_U2R, X_U2R_test, Y_U2R, U2R_df)"
   ]
  },
  {
   "cell_type": "code",
   "execution_count": 63,
   "id": "35750fca",
   "metadata": {},
   "outputs": [
    {
     "name": "stderr",
     "output_type": "stream",
     "text": [
      "/usr/local/lib/python3.9/site-packages/sklearn/base.py:450: UserWarning: X does not have valid feature names, but DecisionTreeClassifier was fitted with feature names\n",
      "  warnings.warn(\n",
      "/usr/local/lib/python3.9/site-packages/sklearn/base.py:450: UserWarning: X does not have valid feature names, but DecisionTreeClassifier was fitted with feature names\n",
      "  warnings.warn(\n",
      "/usr/local/lib/python3.9/site-packages/sklearn/base.py:450: UserWarning: X does not have valid feature names, but DecisionTreeClassifier was fitted with feature names\n",
      "  warnings.warn(\n",
      "/usr/local/lib/python3.9/site-packages/sklearn/base.py:450: UserWarning: X does not have valid feature names, but DecisionTreeClassifier was fitted with feature names\n",
      "  warnings.warn(\n"
     ]
    }
   ],
   "source": [
    "clf1 = DecisionTreeClassifier(random_state=0)\n",
    "clf2 = DecisionTreeClassifier(random_state=0)\n",
    "clf3 = DecisionTreeClassifier(random_state=0)\n",
    "clf4 = DecisionTreeClassifier(random_state=0)\n",
    "t = time()\n",
    "clf1.fit(X_train_dos, Y_train_dos)\n",
    "clf2.fit(X_train_probe, Y_train_probe)\n",
    "clf3.fit(X_train_R2L, Y_train_R2L)\n",
    "clf4.fit(X_train_U2R, Y_train_U2R)\n",
    "\n",
    "accDT1 = clf1.score(X_DoS_test, Y_DoS_test)\n",
    "accDT2 = clf2.score(X_Probe_test, Y_Probe_test)\n",
    "accDT3 = clf3.score(X_R2L_test, Y_R2L_test)\n",
    "accDT4 = clf4.score(X_U2R_test, Y_U2R_test)"
   ]
  },
  {
   "cell_type": "code",
   "execution_count": 64,
   "id": "26b09497",
   "metadata": {},
   "outputs": [
    {
     "name": "stderr",
     "output_type": "stream",
     "text": [
      "/var/folders/dv/sj53dhnj19x7rg0lcfjy3l140000gq/T/ipykernel_36365/1708879206.py:6: DataConversionWarning: A column-vector y was passed when a 1d array was expected. Please change the shape of y to (n_samples,), for example using ravel().\n",
      "  clf1.fit(X_train_dos, Y_train_dos)\n",
      "/var/folders/dv/sj53dhnj19x7rg0lcfjy3l140000gq/T/ipykernel_36365/1708879206.py:7: DataConversionWarning: A column-vector y was passed when a 1d array was expected. Please change the shape of y to (n_samples,), for example using ravel().\n",
      "  clf2.fit(X_train_probe, Y_train_probe)\n",
      "/var/folders/dv/sj53dhnj19x7rg0lcfjy3l140000gq/T/ipykernel_36365/1708879206.py:8: DataConversionWarning: A column-vector y was passed when a 1d array was expected. Please change the shape of y to (n_samples,), for example using ravel().\n",
      "  clf3.fit(X_train_R2L, Y_train_R2L)\n",
      "/var/folders/dv/sj53dhnj19x7rg0lcfjy3l140000gq/T/ipykernel_36365/1708879206.py:9: DataConversionWarning: A column-vector y was passed when a 1d array was expected. Please change the shape of y to (n_samples,), for example using ravel().\n",
      "  clf4.fit(X_train_U2R, Y_train_U2R)\n",
      "/usr/local/lib/python3.9/site-packages/sklearn/base.py:450: UserWarning: X does not have valid feature names, but RandomForestClassifier was fitted with feature names\n",
      "  warnings.warn(\n",
      "/usr/local/lib/python3.9/site-packages/sklearn/base.py:450: UserWarning: X does not have valid feature names, but RandomForestClassifier was fitted with feature names\n",
      "  warnings.warn(\n",
      "/usr/local/lib/python3.9/site-packages/sklearn/base.py:450: UserWarning: X does not have valid feature names, but RandomForestClassifier was fitted with feature names\n",
      "  warnings.warn(\n",
      "/usr/local/lib/python3.9/site-packages/sklearn/base.py:450: UserWarning: X does not have valid feature names, but RandomForestClassifier was fitted with feature names\n",
      "  warnings.warn(\n"
     ]
    }
   ],
   "source": [
    "clf1 = RandomForestClassifier(n_estimators=300, random_state = 40, n_jobs =-1)\n",
    "clf1 = RandomForestClassifier(random_state=40,n_estimators=300,n_jobs=-1)\n",
    "clf2 = RandomForestClassifier(random_state=40,n_estimators=300,n_jobs=-1)\n",
    "clf3 = RandomForestClassifier(random_state=40,n_estimators=300,n_jobs=-1)\n",
    "clf4 = RandomForestClassifier(random_state=40,n_estimators=300,n_jobs=-1)\n",
    "clf1.fit(X_train_dos, Y_train_dos)\n",
    "clf2.fit(X_train_probe, Y_train_probe)\n",
    "clf3.fit(X_train_R2L, Y_train_R2L)\n",
    "clf4.fit(X_train_U2R, Y_train_U2R)\n",
    "\n",
    "accRF1 = clf1.score(X_DoS_test, Y_DoS_test)\n",
    "accRF2 = clf2.score(X_Probe_test, Y_Probe_test)\n",
    "accRF3 = clf3.score(X_R2L_test, Y_R2L_test)\n",
    "accRF4 = clf4.score(X_U2R_test, Y_U2R_test)"
   ]
  },
  {
   "cell_type": "code",
   "execution_count": 65,
   "id": "dbc1c4e0",
   "metadata": {},
   "outputs": [
    {
     "name": "stderr",
     "output_type": "stream",
     "text": [
      "/usr/local/lib/python3.9/site-packages/sklearn/utils/validation.py:1111: DataConversionWarning: A column-vector y was passed when a 1d array was expected. Please change the shape of y to (n_samples, ), for example using ravel().\n",
      "  y = column_or_1d(y, warn=True)\n",
      "/usr/local/lib/python3.9/site-packages/sklearn/utils/validation.py:1111: DataConversionWarning: A column-vector y was passed when a 1d array was expected. Please change the shape of y to (n_samples, ), for example using ravel().\n",
      "  y = column_or_1d(y, warn=True)\n",
      "/usr/local/lib/python3.9/site-packages/sklearn/utils/validation.py:1111: DataConversionWarning: A column-vector y was passed when a 1d array was expected. Please change the shape of y to (n_samples, ), for example using ravel().\n",
      "  y = column_or_1d(y, warn=True)\n",
      "/usr/local/lib/python3.9/site-packages/sklearn/utils/validation.py:1111: DataConversionWarning: A column-vector y was passed when a 1d array was expected. Please change the shape of y to (n_samples, ), for example using ravel().\n",
      "  y = column_or_1d(y, warn=True)\n",
      "/usr/local/lib/python3.9/site-packages/sklearn/base.py:450: UserWarning: X does not have valid feature names, but BernoulliNB was fitted with feature names\n",
      "  warnings.warn(\n",
      "/usr/local/lib/python3.9/site-packages/sklearn/base.py:450: UserWarning: X does not have valid feature names, but BernoulliNB was fitted with feature names\n",
      "  warnings.warn(\n",
      "/usr/local/lib/python3.9/site-packages/sklearn/base.py:450: UserWarning: X does not have valid feature names, but BernoulliNB was fitted with feature names\n",
      "  warnings.warn(\n",
      "/usr/local/lib/python3.9/site-packages/sklearn/base.py:450: UserWarning: X does not have valid feature names, but BernoulliNB was fitted with feature names\n",
      "  warnings.warn(\n"
     ]
    }
   ],
   "source": [
    "clf1 = BernoulliNB()\n",
    "clf2 = BernoulliNB()\n",
    "clf3 = BernoulliNB()\n",
    "clf4 = BernoulliNB()\n",
    "t0 = time()\n",
    "clf1.fit(X_train_dos, Y_train_dos)\n",
    "clf2.fit(X_train_probe, Y_train_probe)\n",
    "clf3.fit(X_train_R2L, Y_train_R2L)\n",
    "clf4.fit(X_train_U2R, Y_train_U2R)\n",
    "accNB1 = clf1.score(X_DoS_test, Y_DoS_test)\n",
    "accNB2 = clf2.score(X_Probe_test, Y_Probe_test)\n",
    "accNB3 = clf3.score(X_R2L_test, Y_R2L_test)\n",
    "accNB4 = clf4.score(X_U2R_test, Y_U2R_test)"
   ]
  },
  {
   "cell_type": "code",
   "execution_count": 66,
   "id": "db5bc843",
   "metadata": {},
   "outputs": [
    {
     "name": "stderr",
     "output_type": "stream",
     "text": [
      "/usr/local/lib/python3.9/site-packages/sklearn/utils/validation.py:1111: DataConversionWarning: A column-vector y was passed when a 1d array was expected. Please change the shape of y to (n_samples, ), for example using ravel().\n",
      "  y = column_or_1d(y, warn=True)\n",
      "/usr/local/lib/python3.9/site-packages/sklearn/utils/validation.py:1111: DataConversionWarning: A column-vector y was passed when a 1d array was expected. Please change the shape of y to (n_samples, ), for example using ravel().\n",
      "  y = column_or_1d(y, warn=True)\n",
      "/usr/local/lib/python3.9/site-packages/sklearn/utils/validation.py:1111: DataConversionWarning: A column-vector y was passed when a 1d array was expected. Please change the shape of y to (n_samples, ), for example using ravel().\n",
      "  y = column_or_1d(y, warn=True)\n",
      "/usr/local/lib/python3.9/site-packages/sklearn/utils/validation.py:1111: DataConversionWarning: A column-vector y was passed when a 1d array was expected. Please change the shape of y to (n_samples, ), for example using ravel().\n",
      "  y = column_or_1d(y, warn=True)\n",
      "/usr/local/lib/python3.9/site-packages/sklearn/base.py:450: UserWarning: X does not have valid feature names, but LinearSVC was fitted with feature names\n",
      "  warnings.warn(\n",
      "/usr/local/lib/python3.9/site-packages/sklearn/base.py:450: UserWarning: X does not have valid feature names, but LinearSVC was fitted with feature names\n",
      "  warnings.warn(\n",
      "/usr/local/lib/python3.9/site-packages/sklearn/base.py:450: UserWarning: X does not have valid feature names, but LinearSVC was fitted with feature names\n",
      "  warnings.warn(\n",
      "/usr/local/lib/python3.9/site-packages/sklearn/base.py:450: UserWarning: X does not have valid feature names, but LinearSVC was fitted with feature names\n",
      "  warnings.warn(\n"
     ]
    }
   ],
   "source": [
    "clf1= LinearSVC(random_state=0)\n",
    "clf2= LinearSVC(random_state=0)\n",
    "clf3= LinearSVC(random_state=0)\n",
    "clf4= LinearSVC(random_state=0)\n",
    "t0 = time()\n",
    "clf1.fit(X_train_dos, Y_train_dos)\n",
    "clf2.fit(X_train_probe, Y_train_probe)\n",
    "clf3.fit(X_train_R2L, Y_train_R2L)\n",
    "clf4.fit(X_train_U2R, Y_train_U2R)\n",
    "accSVM1 = clf1.score(X_DoS_test, Y_DoS_test)\n",
    "accSVM2 = clf2.score(X_Probe_test, Y_Probe_test)\n",
    "accSVM3 = clf3.score(X_R2L_test, Y_R2L_test)\n",
    "accSVM4 = clf4.score(X_U2R_test, Y_U2R_test)"
   ]
  },
  {
   "cell_type": "code",
   "execution_count": 67,
   "id": "552842e6",
   "metadata": {},
   "outputs": [
    {
     "data": {
      "image/png": "[encoded data removed]",
      "text/plain": [
       "<Figure size 1080x720 with 1 Axes>"
      ]
     },
     "metadata": {
      "needs_background": "light"
     },
     "output_type": "display_data"
    }
   ],
   "source": [
    "def addlabels(x,y):\n",
    "    for i in range(len(x)):\n",
    "        plt.text(i-0.4, y[i]+1, round(y[i],2), ha = 'center')\n",
    "        \n",
    "names=['Naive Bayes','SVM','Decision Tree','Random Forest']\n",
    "AccuracyScore1=[accNB1*100,accSVM1*100,accDT1*100,accRF1*100]\n",
    "AccuracyScore2=[accNB2*100,accSVM2*100,accDT2*100,accRF2*100]\n",
    "AccuracyScore3=[accNB3*100,accSVM3*100,accDT3*100,accRF3*100]\n",
    "AccuracyScore4=[accNB4*100,accSVM4*100,accDT4*100,accRF4*100]\n",
    "plt.figure(figsize=(15,10))\n",
    "X_axis = np.arange(len(names))\n",
    "plt.bar(X_axis-0.4,AccuracyScore1,0.2,color='#853F5C')\n",
    "plt.bar(X_axis-0.2,AccuracyScore2,0.2,color='#211105')\n",
    "plt.bar(X_axis, AccuracyScore3,0.2,color='#5016B1')\n",
    "plt.bar(X_axis+0.2,AccuracyScore4,0.2,color='magenta')\n",
    "addlabels(names, AccuracyScore1)\n",
    "addlabels2(names, AccuracyScore2)\n",
    "addlabels3(names, AccuracyScore3)\n",
    "addlabels4(names, AccuracyScore4)\n",
    "plt.title(\"ACCURACY SCORE\")\n",
    "plt.xlabel(\"Machine Learning Algortithms\")\n",
    "plt.ylabel(\"Accuracy Score\")\n",
    "plt.xticks(X_axis, names)\n",
    "plt.legend(['DoS','Probe', 'R2L','U2R'])\n",
    "#plt.legend(names)\n",
    "plt.savefig(\"artefacts/Accuracy \",dpi=500)"
   ]
  },
  {
   "cell_type": "markdown",
   "id": "acac8ef7",
   "metadata": {},
   "source": [
    "Durch die Anwendung der Smote Methode auf die aufgeteilten Daten, haben die Ergebnisse sich alle verändert.\n",
    "Die U2R Ergebnisse sind größenteils unverändert, dennoch wurden bei dem SVM Modell 3% eingebüßt.\n",
    "Die R2L Ergebnisse haben sich alle stark verändert, auf dem Naive Bayes Model und dem SVM Model wurden jeweils die Ergebnisse um 8% verbessert. Bei dem Random Forest Model ist noch eine kleine verbesserung erkennbar und bei Descision Tree sogar eine Verschlechterung von rund 5%.\n",
    "Auf den Probe Daten haben die Ergebnisse sich größenteils um jeweils 1-3% verschlechert und nur auf dem Descision Tree um 2% verbessert.\n",
    "Die DoS Daten haben sich alle nur leicht verändert um +-1%.\n",
    "\n",
    "Letzendlich lässt sich kein eindeutiges Fazit treffen, ob die Smote Anwendung allgemein einen postiven oder negativen Effekt auf die Ergebnisse hat."
   ]
  },
  {
   "cell_type": "code",
   "execution_count": 68,
   "id": "9a29d12f",
   "metadata": {},
   "outputs": [],
   "source": [
    "def doFS(X_train, X_test, Y_train):\n",
    "    selector = SelectKBest(score_func=chi2, k=25)\n",
    "    df_X_Train = pd.DataFrame(X_train, columns=colNames)\n",
    "    df_X_test = pd.DataFrame(X_test, columns=colNames)\n",
    "    fit = selector.fit(X_train, Y_train)\n",
    "    X_train = fit.transform(X_train)\n",
    "    new_features = df_X_Train.columns[selector.get_support(indices=True)]\n",
    "\n",
    "    df_train_model=df_X_Train[new_features]\n",
    "    df_test_model=df_X_test[new_features]\n",
    "\n",
    "    X_train=df_train_model\n",
    "    X_test=df_test_model\n",
    "\n",
    "    return X_train, X_test"
   ]
  },
  {
   "cell_type": "code",
   "execution_count": 69,
   "id": "b072d2f9",
   "metadata": {},
   "outputs": [],
   "source": [
    "X_train_dos, X_test_dos = doFS(X_DoS, X_DoS_test, Y_DoS)\n",
    "X_train_probe, X_test_probe = doFS(X_Probe, X_Probe_test, Y_Probe)\n",
    "X_train_R2L, X_test_R2L = doFS(X_R2L, X_R2L_test, Y_R2L)\n",
    "X_train_U2R, X_test_U2R = doFS(X_U2R, X_U2R_test, Y_U2R)"
   ]
  },
  {
   "cell_type": "code",
   "execution_count": 70,
   "id": "23d40bd2",
   "metadata": {},
   "outputs": [],
   "source": [
    "clf1 = DecisionTreeClassifier(random_state=0)\n",
    "clf2 = DecisionTreeClassifier(random_state=0)\n",
    "clf3 = DecisionTreeClassifier(random_state=0)\n",
    "clf4 = DecisionTreeClassifier(random_state=0)\n",
    "clf1.fit(X_train_dos, Y_DoS)\n",
    "clf2.fit(X_train_probe, Y_Probe)\n",
    "clf3.fit(X_train_R2L, Y_R2L)\n",
    "clf4.fit(X_train_U2R, Y_U2R)\n",
    "\n",
    "accDT1 = clf1.score(X_test_dos, Y_DoS_test)\n",
    "accDT2 = clf2.score(X_test_probe, Y_Probe_test)\n",
    "accDT3 = clf3.score(X_test_R2L, Y_R2L_test)\n",
    "accDT4 = clf4.score(X_test_U2R, Y_U2R_test)"
   ]
  },
  {
   "cell_type": "code",
   "execution_count": 71,
   "id": "616e7d27",
   "metadata": {},
   "outputs": [],
   "source": [
    "clf1 = RandomForestClassifier(n_estimators=300, random_state = 40, n_jobs =-1)\n",
    "clf1 = RandomForestClassifier(random_state=40,n_estimators=300,n_jobs=-1)\n",
    "clf2 = RandomForestClassifier(random_state=40,n_estimators=300,n_jobs=-1)\n",
    "clf3 = RandomForestClassifier(random_state=40,n_estimators=300,n_jobs=-1)\n",
    "clf4 = RandomForestClassifier(random_state=40,n_estimators=300,n_jobs=-1)\n",
    "clf1.fit(X_train_dos, Y_DoS)\n",
    "clf2.fit(X_train_probe, Y_Probe)\n",
    "clf3.fit(X_train_R2L, Y_R2L)\n",
    "clf4.fit(X_train_U2R, Y_U2R)\n",
    "\n",
    "accRF1 = clf1.score(X_test_dos, Y_DoS_test)\n",
    "accRF2 = clf2.score(X_test_probe, Y_Probe_test)\n",
    "accRF3 = clf3.score(X_test_R2L, Y_R2L_test)\n",
    "accRF4 = clf4.score(X_test_U2R, Y_U2R_test)"
   ]
  },
  {
   "cell_type": "code",
   "execution_count": 72,
   "id": "63e2dbbd",
   "metadata": {},
   "outputs": [],
   "source": [
    "clf1 = BernoulliNB()\n",
    "clf2 = BernoulliNB()\n",
    "clf3 = BernoulliNB()\n",
    "clf4 = BernoulliNB()\n",
    "clf1.fit(X_train_dos, Y_DoS)\n",
    "clf2.fit(X_train_probe, Y_Probe)\n",
    "clf3.fit(X_train_R2L, Y_R2L)\n",
    "clf4.fit(X_train_U2R, Y_U2R)\n",
    "accNB1 = clf1.score(X_test_dos, Y_DoS_test)\n",
    "accNB2 = clf2.score(X_test_probe, Y_Probe_test)\n",
    "accNB3 = clf3.score(X_test_R2L, Y_R2L_test)\n",
    "accRF4 = clf4.score(X_test_U2R, Y_U2R_test)"
   ]
  },
  {
   "cell_type": "code",
   "execution_count": 73,
   "id": "3145128b",
   "metadata": {},
   "outputs": [],
   "source": [
    "clf1= LinearSVC(random_state=0)\n",
    "clf2= LinearSVC(random_state=0)\n",
    "clf3= LinearSVC(random_state=0)\n",
    "clf4= LinearSVC(random_state=0)\n",
    "clf1.fit(X_train_dos, Y_DoS)\n",
    "clf2.fit(X_train_probe, Y_Probe)\n",
    "clf3.fit(X_train_R2L, Y_R2L)\n",
    "clf4.fit(X_train_U2R, Y_U2R)\n",
    "accSVM1 = clf1.score(X_test_dos, Y_DoS_test)\n",
    "accSVM2 = clf2.score(X_test_probe, Y_Probe_test)\n",
    "accSVM3 = clf3.score(X_test_R2L, Y_R2L_test)\n",
    "accSVM4 = clf4.score(X_test_U2R, Y_U2R_test)"
   ]
  },
  {
   "cell_type": "code",
   "execution_count": 74,
   "id": "dd025d60",
   "metadata": {},
   "outputs": [
    {
     "data": {
      "image/png": "[encoded data removed]",
      "text/plain": [
       "<Figure size 1080x720 with 1 Axes>"
      ]
     },
     "metadata": {
      "needs_background": "light"
     },
     "output_type": "display_data"
    }
   ],
   "source": [
    "def addlabels(x,y):\n",
    "    for i in range(len(x)):\n",
    "        plt.text(i-0.4, y[i]+1, round(y[i],2), ha = 'center')\n",
    "        \n",
    "names=['Naive Bayes','SVM','Decision Tree','Random Forest']\n",
    "AccuracyScore1=[accNB1*100,accSVM1*100,accDT1*100,accRF1*100]\n",
    "AccuracyScore2=[accNB2*100,accSVM2*100,accDT2*100,accRF2*100]\n",
    "AccuracyScore3=[accNB3*100,accSVM3*100,accDT3*100,accRF3*100]\n",
    "AccuracyScore4=[accNB4*100,accSVM4*100,accDT4*100,accRF4*100]\n",
    "plt.figure(figsize=(15,10))\n",
    "X_axis = np.arange(len(names))\n",
    "plt.bar(X_axis-0.4,AccuracyScore1,0.2,color='#853F5C')\n",
    "plt.bar(X_axis-0.2,AccuracyScore2,0.2,color='#211105')\n",
    "plt.bar(X_axis, AccuracyScore3,0.2,color='#5016B1')\n",
    "plt.bar(X_axis+0.2,AccuracyScore4,0.2,color='magenta')\n",
    "addlabels(names, AccuracyScore1)\n",
    "addlabels2(names, AccuracyScore2)\n",
    "addlabels3(names, AccuracyScore3)\n",
    "addlabels4(names, AccuracyScore4)\n",
    "plt.title(\"ACCURACY SCORE\")\n",
    "plt.xlabel(\"Machine Learning Algortithms\")\n",
    "plt.ylabel(\"Accuracy Score\")\n",
    "plt.xticks(X_axis, names)\n",
    "plt.legend(['DoS','Probe', 'R2L','U2R'])\n",
    "#plt.legend(names)\n",
    "plt.savefig(\"artefacts/Accuracy Split FS\",dpi=500)"
   ]
  },
  {
   "cell_type": "markdown",
   "id": "cc2ba3d4",
   "metadata": {},
   "source": [
    "Nach der Anwendung der Feature Selection auf die einzelnen Datensätze, lässt sich erkennen, dass die DAtensätze wieder in sich konsistent sind, ohne Ausreißer.\n",
    "Die U2R Daten haben sich nicht erkennbar verändert.\n",
    "Die R2L Daten haben sich auf Naive Bayes und SVM nicht verändert und haben sich auf Descision Tree und Random Forest um jeweils 2% verschlechert.\n",
    "Die Probe Daten sind im Ganzen auch größtenteils unverändert, beim Naive Baes Modell ist eine leichte Verbesserung um ca. 1% verbessert und beim Descion tree um knapp 2%.\n",
    "Die DoS Daten haben sich auf allen Modellen nur leicht um max. 1% verändert, jedoch auf dem Descision Tree Modell um ganze 4% verschlechtert."
   ]
  },
  {
   "cell_type": "markdown",
   "id": "ecf50640",
   "metadata": {},
   "source": [
    "## Fazit\n",
    "Zusammenfassend lässt sich sagen dass die Smote Methode jeweils auf die gesamten Ergebnisse einen größeren und positiveren Einfluss hatte als die Feature Selection. Der Smote Ansatz war besonders erfolgreich auf dem kompletten Datensatz, wo wir mehrere verschiedene Kategorien betrachten. \n",
    "Auf den aufgeteilten Datensätze haben sich die Ergebnisse hauptsächlich verschlechtert.  \n",
    "  \n",
    "Die Feature Selection war sowohl auf dem kompletten Datensatz, sowie auf den aufgeteilten Datensätzen nicht sehr erfolgreich.  \n",
    "Allgemein kann man aber gut sehen dass die Ergebnisse der Modelle der aufgeteilten Datensätze besser sind als die Ergebnisse der Modelle des kompletten Datensatzes.  \n",
    "Dies bedeuted dass die binäre Vorhersage, ob es ein bestimmter Angriff ist oder nicht, mit höherer Wahrschleichtkeit richtig geraten wird, als bei einer kategoriellen Vorhersage auf dem gesamten Datensatz."
   ]
  },
  {
   "cell_type": "code",
   "execution_count": null,
   "id": "c8c48c36",
   "metadata": {},
   "outputs": [],
   "source": []
  }
 ],
 "metadata": {
  "kernelspec": {
   "display_name": "Python 3 (ipykernel)",
   "language": "python",
   "name": "python3"
  },
  "language_info": {
   "codemirror_mode": {
    "name": "ipython",
    "version": 3
   },
   "file_extension": ".py",
   "mimetype": "text/x-python",
   "name": "python",
   "nbconvert_exporter": "python",
   "pygments_lexer": "ipython3",
   "version": "3.9.13"
  }
 },
 "nbformat": 4,
 "nbformat_minor": 5
}
